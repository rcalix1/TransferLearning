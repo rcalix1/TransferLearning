{
 "cells": [
  {
   "cell_type": "code",
   "execution_count": 1,
   "metadata": {},
   "outputs": [
    {
     "name": "stdout",
     "output_type": "stream",
     "text": [
      "[Path('/home/rcalix/.fastai/data/mnist_sample/valid'), Path('/home/rcalix/.fastai/data/mnist_sample/labels.csv'), Path('/home/rcalix/.fastai/data/mnist_sample/train')]\n"
     ]
    }
   ],
   "source": [
    "\n",
    "## MNIST\n",
    "\n",
    "from fastai.vision.all import *\n",
    "import numpy as np\n",
    "\n",
    "\n",
    "##################################\n",
    "\n",
    "## not the full MNIST. Just classes 7 and 3\n",
    "\n",
    "path = untar_data(URLs.MNIST_SAMPLE)\n",
    "\n",
    "print(   path.ls()   )\n"
   ]
  },
  {
   "cell_type": "code",
   "execution_count": 2,
   "metadata": {},
   "outputs": [
    {
     "name": "stdout",
     "output_type": "stream",
     "text": [
      "[Path('/home/rcalix/.fastai/data/mnist_sample/train/7'), Path('/home/rcalix/.fastai/data/mnist_sample/train/3')]\n"
     ]
    }
   ],
   "source": [
    "\n",
    "print(  (path/'train').ls()   )\n"
   ]
  },
  {
   "cell_type": "code",
   "execution_count": 3,
   "metadata": {},
   "outputs": [
    {
     "data": {
      "image/png": "[encoded data removed]",
      "text/plain": [
       "<PIL.PngImagePlugin.PngImageFile image mode=L size=28x28>"
      ]
     },
     "execution_count": 3,
     "metadata": {},
     "output_type": "execute_result"
    }
   ],
   "source": [
    "\n",
    "threes = (path/'train'/'3').ls().sorted()\n",
    "sevens = (path/'train'/'7').ls().sorted()\n",
    "\n",
    "##print(  threes  )\n",
    "\n",
    "im3_path = threes[1]\n",
    "\n",
    "## uses PIL\n",
    "\n",
    "im3 = Image.open(im3_path)\n",
    "\n",
    "im3 \n"
   ]
  },
  {
   "cell_type": "code",
   "execution_count": 4,
   "metadata": {},
   "outputs": [
    {
     "name": "stdout",
     "output_type": "stream",
     "text": [
      "[[  0   0   0   0   0   0]\n",
      " [  0   0   0   0   0  29]\n",
      " [  0   0   0  48 166 224]\n",
      " [  0  93 244 249 253 187]\n",
      " [  0 107 253 253 230  48]\n",
      " [  0   3  20  20  15   0]]\n"
     ]
    }
   ],
   "source": [
    "\n",
    "## LOOKING at the image as a numpy array and PyTorch tensor\n",
    "\n",
    "print(    np.array(im3)[4:10, 4:10]     )\n"
   ]
  },
  {
   "cell_type": "code",
   "execution_count": 5,
   "metadata": {},
   "outputs": [
    {
     "data": {
      "text/plain": [
       "tensor([[  0,   0,   0,   0,   0,   0],\n",
       "        [  0,   0,   0,   0,   0,  29],\n",
       "        [  0,   0,   0,  48, 166, 224],\n",
       "        [  0,  93, 244, 249, 253, 187],\n",
       "        [  0, 107, 253, 253, 230,  48],\n",
       "        [  0,   3,  20,  20,  15,   0]], dtype=torch.uint8)"
      ]
     },
     "execution_count": 5,
     "metadata": {},
     "output_type": "execute_result"
    }
   ],
   "source": [
    "\n",
    "tensor(im3)[4:10, 4:10]\n"
   ]
  },
  {
   "cell_type": "code",
   "execution_count": 6,
   "metadata": {},
   "outputs": [
    {
     "data": {
      "text/html": [
       "<style  type=\"text/css\" >\n",
       "#T_89eceee4_d680_11ee_afcd_a5c4f76325dcrow0_col0,#T_89eceee4_d680_11ee_afcd_a5c4f76325dcrow0_col1,#T_89eceee4_d680_11ee_afcd_a5c4f76325dcrow0_col2,#T_89eceee4_d680_11ee_afcd_a5c4f76325dcrow0_col3,#T_89eceee4_d680_11ee_afcd_a5c4f76325dcrow0_col4,#T_89eceee4_d680_11ee_afcd_a5c4f76325dcrow0_col5,#T_89eceee4_d680_11ee_afcd_a5c4f76325dcrow0_col6,#T_89eceee4_d680_11ee_afcd_a5c4f76325dcrow0_col7,#T_89eceee4_d680_11ee_afcd_a5c4f76325dcrow0_col8,#T_89eceee4_d680_11ee_afcd_a5c4f76325dcrow0_col9,#T_89eceee4_d680_11ee_afcd_a5c4f76325dcrow0_col10,#T_89eceee4_d680_11ee_afcd_a5c4f76325dcrow0_col11,#T_89eceee4_d680_11ee_afcd_a5c4f76325dcrow0_col12,#T_89eceee4_d680_11ee_afcd_a5c4f76325dcrow0_col13,#T_89eceee4_d680_11ee_afcd_a5c4f76325dcrow0_col14,#T_89eceee4_d680_11ee_afcd_a5c4f76325dcrow0_col15,#T_89eceee4_d680_11ee_afcd_a5c4f76325dcrow0_col16,#T_89eceee4_d680_11ee_afcd_a5c4f76325dcrow0_col17,#T_89eceee4_d680_11ee_afcd_a5c4f76325dcrow1_col0,#T_89eceee4_d680_11ee_afcd_a5c4f76325dcrow1_col1,#T_89eceee4_d680_11ee_afcd_a5c4f76325dcrow1_col2,#T_89eceee4_d680_11ee_afcd_a5c4f76325dcrow1_col3,#T_89eceee4_d680_11ee_afcd_a5c4f76325dcrow1_col4,#T_89eceee4_d680_11ee_afcd_a5c4f76325dcrow1_col15,#T_89eceee4_d680_11ee_afcd_a5c4f76325dcrow1_col16,#T_89eceee4_d680_11ee_afcd_a5c4f76325dcrow1_col17,#T_89eceee4_d680_11ee_afcd_a5c4f76325dcrow2_col0,#T_89eceee4_d680_11ee_afcd_a5c4f76325dcrow2_col1,#T_89eceee4_d680_11ee_afcd_a5c4f76325dcrow2_col2,#T_89eceee4_d680_11ee_afcd_a5c4f76325dcrow2_col15,#T_89eceee4_d680_11ee_afcd_a5c4f76325dcrow2_col16,#T_89eceee4_d680_11ee_afcd_a5c4f76325dcrow2_col17,#T_89eceee4_d680_11ee_afcd_a5c4f76325dcrow3_col0,#T_89eceee4_d680_11ee_afcd_a5c4f76325dcrow3_col15,#T_89eceee4_d680_11ee_afcd_a5c4f76325dcrow3_col16,#T_89eceee4_d680_11ee_afcd_a5c4f76325dcrow3_col17,#T_89eceee4_d680_11ee_afcd_a5c4f76325dcrow4_col0,#T_89eceee4_d680_11ee_afcd_a5c4f76325dcrow4_col6,#T_89eceee4_d680_11ee_afcd_a5c4f76325dcrow4_col7,#T_89eceee4_d680_11ee_afcd_a5c4f76325dcrow4_col8,#T_89eceee4_d680_11ee_afcd_a5c4f76325dcrow4_col9,#T_89eceee4_d680_11ee_afcd_a5c4f76325dcrow4_col10,#T_89eceee4_d680_11ee_afcd_a5c4f76325dcrow4_col15,#T_89eceee4_d680_11ee_afcd_a5c4f76325dcrow4_col16,#T_89eceee4_d680_11ee_afcd_a5c4f76325dcrow4_col17,#T_89eceee4_d680_11ee_afcd_a5c4f76325dcrow5_col0,#T_89eceee4_d680_11ee_afcd_a5c4f76325dcrow5_col5,#T_89eceee4_d680_11ee_afcd_a5c4f76325dcrow5_col6,#T_89eceee4_d680_11ee_afcd_a5c4f76325dcrow5_col7,#T_89eceee4_d680_11ee_afcd_a5c4f76325dcrow5_col8,#T_89eceee4_d680_11ee_afcd_a5c4f76325dcrow5_col9,#T_89eceee4_d680_11ee_afcd_a5c4f76325dcrow5_col15,#T_89eceee4_d680_11ee_afcd_a5c4f76325dcrow5_col16,#T_89eceee4_d680_11ee_afcd_a5c4f76325dcrow5_col17,#T_89eceee4_d680_11ee_afcd_a5c4f76325dcrow6_col0,#T_89eceee4_d680_11ee_afcd_a5c4f76325dcrow6_col1,#T_89eceee4_d680_11ee_afcd_a5c4f76325dcrow6_col2,#T_89eceee4_d680_11ee_afcd_a5c4f76325dcrow6_col3,#T_89eceee4_d680_11ee_afcd_a5c4f76325dcrow6_col4,#T_89eceee4_d680_11ee_afcd_a5c4f76325dcrow6_col5,#T_89eceee4_d680_11ee_afcd_a5c4f76325dcrow6_col6,#T_89eceee4_d680_11ee_afcd_a5c4f76325dcrow6_col7,#T_89eceee4_d680_11ee_afcd_a5c4f76325dcrow6_col8,#T_89eceee4_d680_11ee_afcd_a5c4f76325dcrow6_col9,#T_89eceee4_d680_11ee_afcd_a5c4f76325dcrow6_col14,#T_89eceee4_d680_11ee_afcd_a5c4f76325dcrow6_col15,#T_89eceee4_d680_11ee_afcd_a5c4f76325dcrow6_col16,#T_89eceee4_d680_11ee_afcd_a5c4f76325dcrow6_col17,#T_89eceee4_d680_11ee_afcd_a5c4f76325dcrow7_col0,#T_89eceee4_d680_11ee_afcd_a5c4f76325dcrow7_col1,#T_89eceee4_d680_11ee_afcd_a5c4f76325dcrow7_col2,#T_89eceee4_d680_11ee_afcd_a5c4f76325dcrow7_col3,#T_89eceee4_d680_11ee_afcd_a5c4f76325dcrow7_col4,#T_89eceee4_d680_11ee_afcd_a5c4f76325dcrow7_col5,#T_89eceee4_d680_11ee_afcd_a5c4f76325dcrow7_col6,#T_89eceee4_d680_11ee_afcd_a5c4f76325dcrow7_col13,#T_89eceee4_d680_11ee_afcd_a5c4f76325dcrow7_col14,#T_89eceee4_d680_11ee_afcd_a5c4f76325dcrow7_col15,#T_89eceee4_d680_11ee_afcd_a5c4f76325dcrow7_col16,#T_89eceee4_d680_11ee_afcd_a5c4f76325dcrow7_col17,#T_89eceee4_d680_11ee_afcd_a5c4f76325dcrow8_col0,#T_89eceee4_d680_11ee_afcd_a5c4f76325dcrow8_col1,#T_89eceee4_d680_11ee_afcd_a5c4f76325dcrow8_col2,#T_89eceee4_d680_11ee_afcd_a5c4f76325dcrow8_col3,#T_89eceee4_d680_11ee_afcd_a5c4f76325dcrow8_col4,#T_89eceee4_d680_11ee_afcd_a5c4f76325dcrow8_col13,#T_89eceee4_d680_11ee_afcd_a5c4f76325dcrow8_col14,#T_89eceee4_d680_11ee_afcd_a5c4f76325dcrow8_col15,#T_89eceee4_d680_11ee_afcd_a5c4f76325dcrow8_col16,#T_89eceee4_d680_11ee_afcd_a5c4f76325dcrow8_col17,#T_89eceee4_d680_11ee_afcd_a5c4f76325dcrow9_col0,#T_89eceee4_d680_11ee_afcd_a5c4f76325dcrow9_col1,#T_89eceee4_d680_11ee_afcd_a5c4f76325dcrow9_col2,#T_89eceee4_d680_11ee_afcd_a5c4f76325dcrow9_col3,#T_89eceee4_d680_11ee_afcd_a5c4f76325dcrow9_col4,#T_89eceee4_d680_11ee_afcd_a5c4f76325dcrow9_col16,#T_89eceee4_d680_11ee_afcd_a5c4f76325dcrow9_col17,#T_89eceee4_d680_11ee_afcd_a5c4f76325dcrow10_col0,#T_89eceee4_d680_11ee_afcd_a5c4f76325dcrow10_col1,#T_89eceee4_d680_11ee_afcd_a5c4f76325dcrow10_col2,#T_89eceee4_d680_11ee_afcd_a5c4f76325dcrow10_col3,#T_89eceee4_d680_11ee_afcd_a5c4f76325dcrow10_col4,#T_89eceee4_d680_11ee_afcd_a5c4f76325dcrow10_col5,#T_89eceee4_d680_11ee_afcd_a5c4f76325dcrow10_col6,#T_89eceee4_d680_11ee_afcd_a5c4f76325dcrow10_col17{\n",
       "            font-size:  6pt;\n",
       "            background-color:  #ffffff;\n",
       "            color:  #000000;\n",
       "        }#T_89eceee4_d680_11ee_afcd_a5c4f76325dcrow1_col5{\n",
       "            font-size:  6pt;\n",
       "            background-color:  #efefef;\n",
       "            color:  #000000;\n",
       "        }#T_89eceee4_d680_11ee_afcd_a5c4f76325dcrow1_col6,#T_89eceee4_d680_11ee_afcd_a5c4f76325dcrow1_col13{\n",
       "            font-size:  6pt;\n",
       "            background-color:  #7c7c7c;\n",
       "            color:  #000000;\n",
       "        }#T_89eceee4_d680_11ee_afcd_a5c4f76325dcrow1_col7{\n",
       "            font-size:  6pt;\n",
       "            background-color:  #4a4a4a;\n",
       "            color:  #f1f1f1;\n",
       "        }#T_89eceee4_d680_11ee_afcd_a5c4f76325dcrow1_col8,#T_89eceee4_d680_11ee_afcd_a5c4f76325dcrow1_col9,#T_89eceee4_d680_11ee_afcd_a5c4f76325dcrow1_col10,#T_89eceee4_d680_11ee_afcd_a5c4f76325dcrow2_col5,#T_89eceee4_d680_11ee_afcd_a5c4f76325dcrow2_col6,#T_89eceee4_d680_11ee_afcd_a5c4f76325dcrow2_col7,#T_89eceee4_d680_11ee_afcd_a5c4f76325dcrow2_col11,#T_89eceee4_d680_11ee_afcd_a5c4f76325dcrow2_col12,#T_89eceee4_d680_11ee_afcd_a5c4f76325dcrow2_col13,#T_89eceee4_d680_11ee_afcd_a5c4f76325dcrow3_col4,#T_89eceee4_d680_11ee_afcd_a5c4f76325dcrow3_col12,#T_89eceee4_d680_11ee_afcd_a5c4f76325dcrow3_col13,#T_89eceee4_d680_11ee_afcd_a5c4f76325dcrow4_col1,#T_89eceee4_d680_11ee_afcd_a5c4f76325dcrow4_col2,#T_89eceee4_d680_11ee_afcd_a5c4f76325dcrow4_col3,#T_89eceee4_d680_11ee_afcd_a5c4f76325dcrow4_col12,#T_89eceee4_d680_11ee_afcd_a5c4f76325dcrow4_col13,#T_89eceee4_d680_11ee_afcd_a5c4f76325dcrow5_col12,#T_89eceee4_d680_11ee_afcd_a5c4f76325dcrow6_col11,#T_89eceee4_d680_11ee_afcd_a5c4f76325dcrow9_col11,#T_89eceee4_d680_11ee_afcd_a5c4f76325dcrow10_col11,#T_89eceee4_d680_11ee_afcd_a5c4f76325dcrow10_col12,#T_89eceee4_d680_11ee_afcd_a5c4f76325dcrow10_col13,#T_89eceee4_d680_11ee_afcd_a5c4f76325dcrow10_col14,#T_89eceee4_d680_11ee_afcd_a5c4f76325dcrow10_col15,#T_89eceee4_d680_11ee_afcd_a5c4f76325dcrow10_col16{\n",
       "            font-size:  6pt;\n",
       "            background-color:  #000000;\n",
       "            color:  #f1f1f1;\n",
       "        }#T_89eceee4_d680_11ee_afcd_a5c4f76325dcrow1_col11{\n",
       "            font-size:  6pt;\n",
       "            background-color:  #606060;\n",
       "            color:  #f1f1f1;\n",
       "        }#T_89eceee4_d680_11ee_afcd_a5c4f76325dcrow1_col12{\n",
       "            font-size:  6pt;\n",
       "            background-color:  #4d4d4d;\n",
       "            color:  #f1f1f1;\n",
       "        }#T_89eceee4_d680_11ee_afcd_a5c4f76325dcrow1_col14{\n",
       "            font-size:  6pt;\n",
       "            background-color:  #bbbbbb;\n",
       "            color:  #000000;\n",
       "        }#T_89eceee4_d680_11ee_afcd_a5c4f76325dcrow2_col3{\n",
       "            font-size:  6pt;\n",
       "            background-color:  #e4e4e4;\n",
       "            color:  #000000;\n",
       "        }#T_89eceee4_d680_11ee_afcd_a5c4f76325dcrow2_col4,#T_89eceee4_d680_11ee_afcd_a5c4f76325dcrow8_col6{\n",
       "            font-size:  6pt;\n",
       "            background-color:  #6b6b6b;\n",
       "            color:  #000000;\n",
       "        }#T_89eceee4_d680_11ee_afcd_a5c4f76325dcrow2_col8,#T_89eceee4_d680_11ee_afcd_a5c4f76325dcrow2_col14,#T_89eceee4_d680_11ee_afcd_a5c4f76325dcrow3_col14{\n",
       "            font-size:  6pt;\n",
       "            background-color:  #171717;\n",
       "            color:  #f1f1f1;\n",
       "        }#T_89eceee4_d680_11ee_afcd_a5c4f76325dcrow2_col9,#T_89eceee4_d680_11ee_afcd_a5c4f76325dcrow3_col11{\n",
       "            font-size:  6pt;\n",
       "            background-color:  #4b4b4b;\n",
       "            color:  #f1f1f1;\n",
       "        }#T_89eceee4_d680_11ee_afcd_a5c4f76325dcrow2_col10,#T_89eceee4_d680_11ee_afcd_a5c4f76325dcrow7_col10,#T_89eceee4_d680_11ee_afcd_a5c4f76325dcrow8_col8,#T_89eceee4_d680_11ee_afcd_a5c4f76325dcrow8_col10,#T_89eceee4_d680_11ee_afcd_a5c4f76325dcrow9_col8,#T_89eceee4_d680_11ee_afcd_a5c4f76325dcrow9_col10{\n",
       "            font-size:  6pt;\n",
       "            background-color:  #010101;\n",
       "            color:  #f1f1f1;\n",
       "        }#T_89eceee4_d680_11ee_afcd_a5c4f76325dcrow3_col1{\n",
       "            font-size:  6pt;\n",
       "            background-color:  #272727;\n",
       "            color:  #f1f1f1;\n",
       "        }#T_89eceee4_d680_11ee_afcd_a5c4f76325dcrow3_col2{\n",
       "            font-size:  6pt;\n",
       "            background-color:  #0a0a0a;\n",
       "            color:  #f1f1f1;\n",
       "        }#T_89eceee4_d680_11ee_afcd_a5c4f76325dcrow3_col3{\n",
       "            font-size:  6pt;\n",
       "            background-color:  #050505;\n",
       "            color:  #f1f1f1;\n",
       "        }#T_89eceee4_d680_11ee_afcd_a5c4f76325dcrow3_col5{\n",
       "            font-size:  6pt;\n",
       "            background-color:  #333333;\n",
       "            color:  #f1f1f1;\n",
       "        }#T_89eceee4_d680_11ee_afcd_a5c4f76325dcrow3_col6{\n",
       "            font-size:  6pt;\n",
       "            background-color:  #e6e6e6;\n",
       "            color:  #000000;\n",
       "        }#T_89eceee4_d680_11ee_afcd_a5c4f76325dcrow3_col7,#T_89eceee4_d680_11ee_afcd_a5c4f76325dcrow3_col10{\n",
       "            font-size:  6pt;\n",
       "            background-color:  #fafafa;\n",
       "            color:  #000000;\n",
       "        }#T_89eceee4_d680_11ee_afcd_a5c4f76325dcrow3_col8{\n",
       "            font-size:  6pt;\n",
       "            background-color:  #fbfbfb;\n",
       "            color:  #000000;\n",
       "        }#T_89eceee4_d680_11ee_afcd_a5c4f76325dcrow3_col9{\n",
       "            font-size:  6pt;\n",
       "            background-color:  #fdfdfd;\n",
       "            color:  #000000;\n",
       "        }#T_89eceee4_d680_11ee_afcd_a5c4f76325dcrow4_col4{\n",
       "            font-size:  6pt;\n",
       "            background-color:  #1b1b1b;\n",
       "            color:  #f1f1f1;\n",
       "        }#T_89eceee4_d680_11ee_afcd_a5c4f76325dcrow4_col5{\n",
       "            font-size:  6pt;\n",
       "            background-color:  #e0e0e0;\n",
       "            color:  #000000;\n",
       "        }#T_89eceee4_d680_11ee_afcd_a5c4f76325dcrow4_col11{\n",
       "            font-size:  6pt;\n",
       "            background-color:  #4e4e4e;\n",
       "            color:  #f1f1f1;\n",
       "        }#T_89eceee4_d680_11ee_afcd_a5c4f76325dcrow4_col14{\n",
       "            font-size:  6pt;\n",
       "            background-color:  #767676;\n",
       "            color:  #000000;\n",
       "        }#T_89eceee4_d680_11ee_afcd_a5c4f76325dcrow5_col1{\n",
       "            font-size:  6pt;\n",
       "            background-color:  #fcfcfc;\n",
       "            color:  #000000;\n",
       "        }#T_89eceee4_d680_11ee_afcd_a5c4f76325dcrow5_col2,#T_89eceee4_d680_11ee_afcd_a5c4f76325dcrow5_col3{\n",
       "            font-size:  6pt;\n",
       "            background-color:  #f6f6f6;\n",
       "            color:  #000000;\n",
       "        }#T_89eceee4_d680_11ee_afcd_a5c4f76325dcrow5_col4,#T_89eceee4_d680_11ee_afcd_a5c4f76325dcrow7_col7{\n",
       "            font-size:  6pt;\n",
       "            background-color:  #f8f8f8;\n",
       "            color:  #000000;\n",
       "        }#T_89eceee4_d680_11ee_afcd_a5c4f76325dcrow5_col10,#T_89eceee4_d680_11ee_afcd_a5c4f76325dcrow10_col7{\n",
       "            font-size:  6pt;\n",
       "            background-color:  #e8e8e8;\n",
       "            color:  #000000;\n",
       "        }#T_89eceee4_d680_11ee_afcd_a5c4f76325dcrow5_col11{\n",
       "            font-size:  6pt;\n",
       "            background-color:  #222222;\n",
       "            color:  #f1f1f1;\n",
       "        }#T_89eceee4_d680_11ee_afcd_a5c4f76325dcrow5_col13,#T_89eceee4_d680_11ee_afcd_a5c4f76325dcrow6_col12{\n",
       "            font-size:  6pt;\n",
       "            background-color:  #090909;\n",
       "            color:  #f1f1f1;\n",
       "        }#T_89eceee4_d680_11ee_afcd_a5c4f76325dcrow5_col14{\n",
       "            font-size:  6pt;\n",
       "            background-color:  #d0d0d0;\n",
       "            color:  #000000;\n",
       "        }#T_89eceee4_d680_11ee_afcd_a5c4f76325dcrow6_col10,#T_89eceee4_d680_11ee_afcd_a5c4f76325dcrow7_col11,#T_89eceee4_d680_11ee_afcd_a5c4f76325dcrow9_col6{\n",
       "            font-size:  6pt;\n",
       "            background-color:  #060606;\n",
       "            color:  #f1f1f1;\n",
       "        }#T_89eceee4_d680_11ee_afcd_a5c4f76325dcrow6_col13{\n",
       "            font-size:  6pt;\n",
       "            background-color:  #979797;\n",
       "            color:  #000000;\n",
       "        }#T_89eceee4_d680_11ee_afcd_a5c4f76325dcrow7_col8{\n",
       "            font-size:  6pt;\n",
       "            background-color:  #b6b6b6;\n",
       "            color:  #000000;\n",
       "        }#T_89eceee4_d680_11ee_afcd_a5c4f76325dcrow7_col9{\n",
       "            font-size:  6pt;\n",
       "            background-color:  #252525;\n",
       "            color:  #f1f1f1;\n",
       "        }#T_89eceee4_d680_11ee_afcd_a5c4f76325dcrow7_col12{\n",
       "            font-size:  6pt;\n",
       "            background-color:  #999999;\n",
       "            color:  #000000;\n",
       "        }#T_89eceee4_d680_11ee_afcd_a5c4f76325dcrow8_col5{\n",
       "            font-size:  6pt;\n",
       "            background-color:  #f9f9f9;\n",
       "            color:  #000000;\n",
       "        }#T_89eceee4_d680_11ee_afcd_a5c4f76325dcrow8_col7{\n",
       "            font-size:  6pt;\n",
       "            background-color:  #101010;\n",
       "            color:  #f1f1f1;\n",
       "        }#T_89eceee4_d680_11ee_afcd_a5c4f76325dcrow8_col9,#T_89eceee4_d680_11ee_afcd_a5c4f76325dcrow9_col9{\n",
       "            font-size:  6pt;\n",
       "            background-color:  #020202;\n",
       "            color:  #f1f1f1;\n",
       "        }#T_89eceee4_d680_11ee_afcd_a5c4f76325dcrow8_col11{\n",
       "            font-size:  6pt;\n",
       "            background-color:  #545454;\n",
       "            color:  #f1f1f1;\n",
       "        }#T_89eceee4_d680_11ee_afcd_a5c4f76325dcrow8_col12{\n",
       "            font-size:  6pt;\n",
       "            background-color:  #f1f1f1;\n",
       "            color:  #000000;\n",
       "        }#T_89eceee4_d680_11ee_afcd_a5c4f76325dcrow9_col5{\n",
       "            font-size:  6pt;\n",
       "            background-color:  #f7f7f7;\n",
       "            color:  #000000;\n",
       "        }#T_89eceee4_d680_11ee_afcd_a5c4f76325dcrow9_col7{\n",
       "            font-size:  6pt;\n",
       "            background-color:  #030303;\n",
       "            color:  #f1f1f1;\n",
       "        }#T_89eceee4_d680_11ee_afcd_a5c4f76325dcrow9_col12{\n",
       "            font-size:  6pt;\n",
       "            background-color:  #181818;\n",
       "            color:  #f1f1f1;\n",
       "        }#T_89eceee4_d680_11ee_afcd_a5c4f76325dcrow9_col13{\n",
       "            font-size:  6pt;\n",
       "            background-color:  #303030;\n",
       "            color:  #f1f1f1;\n",
       "        }#T_89eceee4_d680_11ee_afcd_a5c4f76325dcrow9_col14{\n",
       "            font-size:  6pt;\n",
       "            background-color:  #a9a9a9;\n",
       "            color:  #000000;\n",
       "        }#T_89eceee4_d680_11ee_afcd_a5c4f76325dcrow9_col15{\n",
       "            font-size:  6pt;\n",
       "            background-color:  #fefefe;\n",
       "            color:  #000000;\n",
       "        }#T_89eceee4_d680_11ee_afcd_a5c4f76325dcrow10_col8,#T_89eceee4_d680_11ee_afcd_a5c4f76325dcrow10_col9{\n",
       "            font-size:  6pt;\n",
       "            background-color:  #bababa;\n",
       "            color:  #000000;\n",
       "        }#T_89eceee4_d680_11ee_afcd_a5c4f76325dcrow10_col10{\n",
       "            font-size:  6pt;\n",
       "            background-color:  #393939;\n",
       "            color:  #f1f1f1;\n",
       "        }</style><table id=\"T_89eceee4_d680_11ee_afcd_a5c4f76325dc\" ><thead>    <tr>        <th class=\"blank level0\" ></th>        <th class=\"col_heading level0 col0\" >0</th>        <th class=\"col_heading level0 col1\" >1</th>        <th class=\"col_heading level0 col2\" >2</th>        <th class=\"col_heading level0 col3\" >3</th>        <th class=\"col_heading level0 col4\" >4</th>        <th class=\"col_heading level0 col5\" >5</th>        <th class=\"col_heading level0 col6\" >6</th>        <th class=\"col_heading level0 col7\" >7</th>        <th class=\"col_heading level0 col8\" >8</th>        <th class=\"col_heading level0 col9\" >9</th>        <th class=\"col_heading level0 col10\" >10</th>        <th class=\"col_heading level0 col11\" >11</th>        <th class=\"col_heading level0 col12\" >12</th>        <th class=\"col_heading level0 col13\" >13</th>        <th class=\"col_heading level0 col14\" >14</th>        <th class=\"col_heading level0 col15\" >15</th>        <th class=\"col_heading level0 col16\" >16</th>        <th class=\"col_heading level0 col17\" >17</th>    </tr></thead><tbody>\n",
       "                <tr>\n",
       "                        <th id=\"T_89eceee4_d680_11ee_afcd_a5c4f76325dclevel0_row0\" class=\"row_heading level0 row0\" >0</th>\n",
       "                        <td id=\"T_89eceee4_d680_11ee_afcd_a5c4f76325dcrow0_col0\" class=\"data row0 col0\" >0</td>\n",
       "                        <td id=\"T_89eceee4_d680_11ee_afcd_a5c4f76325dcrow0_col1\" class=\"data row0 col1\" >0</td>\n",
       "                        <td id=\"T_89eceee4_d680_11ee_afcd_a5c4f76325dcrow0_col2\" class=\"data row0 col2\" >0</td>\n",
       "                        <td id=\"T_89eceee4_d680_11ee_afcd_a5c4f76325dcrow0_col3\" class=\"data row0 col3\" >0</td>\n",
       "                        <td id=\"T_89eceee4_d680_11ee_afcd_a5c4f76325dcrow0_col4\" class=\"data row0 col4\" >0</td>\n",
       "                        <td id=\"T_89eceee4_d680_11ee_afcd_a5c4f76325dcrow0_col5\" class=\"data row0 col5\" >0</td>\n",
       "                        <td id=\"T_89eceee4_d680_11ee_afcd_a5c4f76325dcrow0_col6\" class=\"data row0 col6\" >0</td>\n",
       "                        <td id=\"T_89eceee4_d680_11ee_afcd_a5c4f76325dcrow0_col7\" class=\"data row0 col7\" >0</td>\n",
       "                        <td id=\"T_89eceee4_d680_11ee_afcd_a5c4f76325dcrow0_col8\" class=\"data row0 col8\" >0</td>\n",
       "                        <td id=\"T_89eceee4_d680_11ee_afcd_a5c4f76325dcrow0_col9\" class=\"data row0 col9\" >0</td>\n",
       "                        <td id=\"T_89eceee4_d680_11ee_afcd_a5c4f76325dcrow0_col10\" class=\"data row0 col10\" >0</td>\n",
       "                        <td id=\"T_89eceee4_d680_11ee_afcd_a5c4f76325dcrow0_col11\" class=\"data row0 col11\" >0</td>\n",
       "                        <td id=\"T_89eceee4_d680_11ee_afcd_a5c4f76325dcrow0_col12\" class=\"data row0 col12\" >0</td>\n",
       "                        <td id=\"T_89eceee4_d680_11ee_afcd_a5c4f76325dcrow0_col13\" class=\"data row0 col13\" >0</td>\n",
       "                        <td id=\"T_89eceee4_d680_11ee_afcd_a5c4f76325dcrow0_col14\" class=\"data row0 col14\" >0</td>\n",
       "                        <td id=\"T_89eceee4_d680_11ee_afcd_a5c4f76325dcrow0_col15\" class=\"data row0 col15\" >0</td>\n",
       "                        <td id=\"T_89eceee4_d680_11ee_afcd_a5c4f76325dcrow0_col16\" class=\"data row0 col16\" >0</td>\n",
       "                        <td id=\"T_89eceee4_d680_11ee_afcd_a5c4f76325dcrow0_col17\" class=\"data row0 col17\" >0</td>\n",
       "            </tr>\n",
       "            <tr>\n",
       "                        <th id=\"T_89eceee4_d680_11ee_afcd_a5c4f76325dclevel0_row1\" class=\"row_heading level0 row1\" >1</th>\n",
       "                        <td id=\"T_89eceee4_d680_11ee_afcd_a5c4f76325dcrow1_col0\" class=\"data row1 col0\" >0</td>\n",
       "                        <td id=\"T_89eceee4_d680_11ee_afcd_a5c4f76325dcrow1_col1\" class=\"data row1 col1\" >0</td>\n",
       "                        <td id=\"T_89eceee4_d680_11ee_afcd_a5c4f76325dcrow1_col2\" class=\"data row1 col2\" >0</td>\n",
       "                        <td id=\"T_89eceee4_d680_11ee_afcd_a5c4f76325dcrow1_col3\" class=\"data row1 col3\" >0</td>\n",
       "                        <td id=\"T_89eceee4_d680_11ee_afcd_a5c4f76325dcrow1_col4\" class=\"data row1 col4\" >0</td>\n",
       "                        <td id=\"T_89eceee4_d680_11ee_afcd_a5c4f76325dcrow1_col5\" class=\"data row1 col5\" >29</td>\n",
       "                        <td id=\"T_89eceee4_d680_11ee_afcd_a5c4f76325dcrow1_col6\" class=\"data row1 col6\" >150</td>\n",
       "                        <td id=\"T_89eceee4_d680_11ee_afcd_a5c4f76325dcrow1_col7\" class=\"data row1 col7\" >195</td>\n",
       "                        <td id=\"T_89eceee4_d680_11ee_afcd_a5c4f76325dcrow1_col8\" class=\"data row1 col8\" >254</td>\n",
       "                        <td id=\"T_89eceee4_d680_11ee_afcd_a5c4f76325dcrow1_col9\" class=\"data row1 col9\" >255</td>\n",
       "                        <td id=\"T_89eceee4_d680_11ee_afcd_a5c4f76325dcrow1_col10\" class=\"data row1 col10\" >254</td>\n",
       "                        <td id=\"T_89eceee4_d680_11ee_afcd_a5c4f76325dcrow1_col11\" class=\"data row1 col11\" >176</td>\n",
       "                        <td id=\"T_89eceee4_d680_11ee_afcd_a5c4f76325dcrow1_col12\" class=\"data row1 col12\" >193</td>\n",
       "                        <td id=\"T_89eceee4_d680_11ee_afcd_a5c4f76325dcrow1_col13\" class=\"data row1 col13\" >150</td>\n",
       "                        <td id=\"T_89eceee4_d680_11ee_afcd_a5c4f76325dcrow1_col14\" class=\"data row1 col14\" >96</td>\n",
       "                        <td id=\"T_89eceee4_d680_11ee_afcd_a5c4f76325dcrow1_col15\" class=\"data row1 col15\" >0</td>\n",
       "                        <td id=\"T_89eceee4_d680_11ee_afcd_a5c4f76325dcrow1_col16\" class=\"data row1 col16\" >0</td>\n",
       "                        <td id=\"T_89eceee4_d680_11ee_afcd_a5c4f76325dcrow1_col17\" class=\"data row1 col17\" >0</td>\n",
       "            </tr>\n",
       "            <tr>\n",
       "                        <th id=\"T_89eceee4_d680_11ee_afcd_a5c4f76325dclevel0_row2\" class=\"row_heading level0 row2\" >2</th>\n",
       "                        <td id=\"T_89eceee4_d680_11ee_afcd_a5c4f76325dcrow2_col0\" class=\"data row2 col0\" >0</td>\n",
       "                        <td id=\"T_89eceee4_d680_11ee_afcd_a5c4f76325dcrow2_col1\" class=\"data row2 col1\" >0</td>\n",
       "                        <td id=\"T_89eceee4_d680_11ee_afcd_a5c4f76325dcrow2_col2\" class=\"data row2 col2\" >0</td>\n",
       "                        <td id=\"T_89eceee4_d680_11ee_afcd_a5c4f76325dcrow2_col3\" class=\"data row2 col3\" >48</td>\n",
       "                        <td id=\"T_89eceee4_d680_11ee_afcd_a5c4f76325dcrow2_col4\" class=\"data row2 col4\" >166</td>\n",
       "                        <td id=\"T_89eceee4_d680_11ee_afcd_a5c4f76325dcrow2_col5\" class=\"data row2 col5\" >224</td>\n",
       "                        <td id=\"T_89eceee4_d680_11ee_afcd_a5c4f76325dcrow2_col6\" class=\"data row2 col6\" >253</td>\n",
       "                        <td id=\"T_89eceee4_d680_11ee_afcd_a5c4f76325dcrow2_col7\" class=\"data row2 col7\" >253</td>\n",
       "                        <td id=\"T_89eceee4_d680_11ee_afcd_a5c4f76325dcrow2_col8\" class=\"data row2 col8\" >234</td>\n",
       "                        <td id=\"T_89eceee4_d680_11ee_afcd_a5c4f76325dcrow2_col9\" class=\"data row2 col9\" >196</td>\n",
       "                        <td id=\"T_89eceee4_d680_11ee_afcd_a5c4f76325dcrow2_col10\" class=\"data row2 col10\" >253</td>\n",
       "                        <td id=\"T_89eceee4_d680_11ee_afcd_a5c4f76325dcrow2_col11\" class=\"data row2 col11\" >253</td>\n",
       "                        <td id=\"T_89eceee4_d680_11ee_afcd_a5c4f76325dcrow2_col12\" class=\"data row2 col12\" >253</td>\n",
       "                        <td id=\"T_89eceee4_d680_11ee_afcd_a5c4f76325dcrow2_col13\" class=\"data row2 col13\" >253</td>\n",
       "                        <td id=\"T_89eceee4_d680_11ee_afcd_a5c4f76325dcrow2_col14\" class=\"data row2 col14\" >233</td>\n",
       "                        <td id=\"T_89eceee4_d680_11ee_afcd_a5c4f76325dcrow2_col15\" class=\"data row2 col15\" >0</td>\n",
       "                        <td id=\"T_89eceee4_d680_11ee_afcd_a5c4f76325dcrow2_col16\" class=\"data row2 col16\" >0</td>\n",
       "                        <td id=\"T_89eceee4_d680_11ee_afcd_a5c4f76325dcrow2_col17\" class=\"data row2 col17\" >0</td>\n",
       "            </tr>\n",
       "            <tr>\n",
       "                        <th id=\"T_89eceee4_d680_11ee_afcd_a5c4f76325dclevel0_row3\" class=\"row_heading level0 row3\" >3</th>\n",
       "                        <td id=\"T_89eceee4_d680_11ee_afcd_a5c4f76325dcrow3_col0\" class=\"data row3 col0\" >0</td>\n",
       "                        <td id=\"T_89eceee4_d680_11ee_afcd_a5c4f76325dcrow3_col1\" class=\"data row3 col1\" >93</td>\n",
       "                        <td id=\"T_89eceee4_d680_11ee_afcd_a5c4f76325dcrow3_col2\" class=\"data row3 col2\" >244</td>\n",
       "                        <td id=\"T_89eceee4_d680_11ee_afcd_a5c4f76325dcrow3_col3\" class=\"data row3 col3\" >249</td>\n",
       "                        <td id=\"T_89eceee4_d680_11ee_afcd_a5c4f76325dcrow3_col4\" class=\"data row3 col4\" >253</td>\n",
       "                        <td id=\"T_89eceee4_d680_11ee_afcd_a5c4f76325dcrow3_col5\" class=\"data row3 col5\" >187</td>\n",
       "                        <td id=\"T_89eceee4_d680_11ee_afcd_a5c4f76325dcrow3_col6\" class=\"data row3 col6\" >46</td>\n",
       "                        <td id=\"T_89eceee4_d680_11ee_afcd_a5c4f76325dcrow3_col7\" class=\"data row3 col7\" >10</td>\n",
       "                        <td id=\"T_89eceee4_d680_11ee_afcd_a5c4f76325dcrow3_col8\" class=\"data row3 col8\" >8</td>\n",
       "                        <td id=\"T_89eceee4_d680_11ee_afcd_a5c4f76325dcrow3_col9\" class=\"data row3 col9\" >4</td>\n",
       "                        <td id=\"T_89eceee4_d680_11ee_afcd_a5c4f76325dcrow3_col10\" class=\"data row3 col10\" >10</td>\n",
       "                        <td id=\"T_89eceee4_d680_11ee_afcd_a5c4f76325dcrow3_col11\" class=\"data row3 col11\" >194</td>\n",
       "                        <td id=\"T_89eceee4_d680_11ee_afcd_a5c4f76325dcrow3_col12\" class=\"data row3 col12\" >253</td>\n",
       "                        <td id=\"T_89eceee4_d680_11ee_afcd_a5c4f76325dcrow3_col13\" class=\"data row3 col13\" >253</td>\n",
       "                        <td id=\"T_89eceee4_d680_11ee_afcd_a5c4f76325dcrow3_col14\" class=\"data row3 col14\" >233</td>\n",
       "                        <td id=\"T_89eceee4_d680_11ee_afcd_a5c4f76325dcrow3_col15\" class=\"data row3 col15\" >0</td>\n",
       "                        <td id=\"T_89eceee4_d680_11ee_afcd_a5c4f76325dcrow3_col16\" class=\"data row3 col16\" >0</td>\n",
       "                        <td id=\"T_89eceee4_d680_11ee_afcd_a5c4f76325dcrow3_col17\" class=\"data row3 col17\" >0</td>\n",
       "            </tr>\n",
       "            <tr>\n",
       "                        <th id=\"T_89eceee4_d680_11ee_afcd_a5c4f76325dclevel0_row4\" class=\"row_heading level0 row4\" >4</th>\n",
       "                        <td id=\"T_89eceee4_d680_11ee_afcd_a5c4f76325dcrow4_col0\" class=\"data row4 col0\" >0</td>\n",
       "                        <td id=\"T_89eceee4_d680_11ee_afcd_a5c4f76325dcrow4_col1\" class=\"data row4 col1\" >107</td>\n",
       "                        <td id=\"T_89eceee4_d680_11ee_afcd_a5c4f76325dcrow4_col2\" class=\"data row4 col2\" >253</td>\n",
       "                        <td id=\"T_89eceee4_d680_11ee_afcd_a5c4f76325dcrow4_col3\" class=\"data row4 col3\" >253</td>\n",
       "                        <td id=\"T_89eceee4_d680_11ee_afcd_a5c4f76325dcrow4_col4\" class=\"data row4 col4\" >230</td>\n",
       "                        <td id=\"T_89eceee4_d680_11ee_afcd_a5c4f76325dcrow4_col5\" class=\"data row4 col5\" >48</td>\n",
       "                        <td id=\"T_89eceee4_d680_11ee_afcd_a5c4f76325dcrow4_col6\" class=\"data row4 col6\" >0</td>\n",
       "                        <td id=\"T_89eceee4_d680_11ee_afcd_a5c4f76325dcrow4_col7\" class=\"data row4 col7\" >0</td>\n",
       "                        <td id=\"T_89eceee4_d680_11ee_afcd_a5c4f76325dcrow4_col8\" class=\"data row4 col8\" >0</td>\n",
       "                        <td id=\"T_89eceee4_d680_11ee_afcd_a5c4f76325dcrow4_col9\" class=\"data row4 col9\" >0</td>\n",
       "                        <td id=\"T_89eceee4_d680_11ee_afcd_a5c4f76325dcrow4_col10\" class=\"data row4 col10\" >0</td>\n",
       "                        <td id=\"T_89eceee4_d680_11ee_afcd_a5c4f76325dcrow4_col11\" class=\"data row4 col11\" >192</td>\n",
       "                        <td id=\"T_89eceee4_d680_11ee_afcd_a5c4f76325dcrow4_col12\" class=\"data row4 col12\" >253</td>\n",
       "                        <td id=\"T_89eceee4_d680_11ee_afcd_a5c4f76325dcrow4_col13\" class=\"data row4 col13\" >253</td>\n",
       "                        <td id=\"T_89eceee4_d680_11ee_afcd_a5c4f76325dcrow4_col14\" class=\"data row4 col14\" >156</td>\n",
       "                        <td id=\"T_89eceee4_d680_11ee_afcd_a5c4f76325dcrow4_col15\" class=\"data row4 col15\" >0</td>\n",
       "                        <td id=\"T_89eceee4_d680_11ee_afcd_a5c4f76325dcrow4_col16\" class=\"data row4 col16\" >0</td>\n",
       "                        <td id=\"T_89eceee4_d680_11ee_afcd_a5c4f76325dcrow4_col17\" class=\"data row4 col17\" >0</td>\n",
       "            </tr>\n",
       "            <tr>\n",
       "                        <th id=\"T_89eceee4_d680_11ee_afcd_a5c4f76325dclevel0_row5\" class=\"row_heading level0 row5\" >5</th>\n",
       "                        <td id=\"T_89eceee4_d680_11ee_afcd_a5c4f76325dcrow5_col0\" class=\"data row5 col0\" >0</td>\n",
       "                        <td id=\"T_89eceee4_d680_11ee_afcd_a5c4f76325dcrow5_col1\" class=\"data row5 col1\" >3</td>\n",
       "                        <td id=\"T_89eceee4_d680_11ee_afcd_a5c4f76325dcrow5_col2\" class=\"data row5 col2\" >20</td>\n",
       "                        <td id=\"T_89eceee4_d680_11ee_afcd_a5c4f76325dcrow5_col3\" class=\"data row5 col3\" >20</td>\n",
       "                        <td id=\"T_89eceee4_d680_11ee_afcd_a5c4f76325dcrow5_col4\" class=\"data row5 col4\" >15</td>\n",
       "                        <td id=\"T_89eceee4_d680_11ee_afcd_a5c4f76325dcrow5_col5\" class=\"data row5 col5\" >0</td>\n",
       "                        <td id=\"T_89eceee4_d680_11ee_afcd_a5c4f76325dcrow5_col6\" class=\"data row5 col6\" >0</td>\n",
       "                        <td id=\"T_89eceee4_d680_11ee_afcd_a5c4f76325dcrow5_col7\" class=\"data row5 col7\" >0</td>\n",
       "                        <td id=\"T_89eceee4_d680_11ee_afcd_a5c4f76325dcrow5_col8\" class=\"data row5 col8\" >0</td>\n",
       "                        <td id=\"T_89eceee4_d680_11ee_afcd_a5c4f76325dcrow5_col9\" class=\"data row5 col9\" >0</td>\n",
       "                        <td id=\"T_89eceee4_d680_11ee_afcd_a5c4f76325dcrow5_col10\" class=\"data row5 col10\" >43</td>\n",
       "                        <td id=\"T_89eceee4_d680_11ee_afcd_a5c4f76325dcrow5_col11\" class=\"data row5 col11\" >224</td>\n",
       "                        <td id=\"T_89eceee4_d680_11ee_afcd_a5c4f76325dcrow5_col12\" class=\"data row5 col12\" >253</td>\n",
       "                        <td id=\"T_89eceee4_d680_11ee_afcd_a5c4f76325dcrow5_col13\" class=\"data row5 col13\" >245</td>\n",
       "                        <td id=\"T_89eceee4_d680_11ee_afcd_a5c4f76325dcrow5_col14\" class=\"data row5 col14\" >74</td>\n",
       "                        <td id=\"T_89eceee4_d680_11ee_afcd_a5c4f76325dcrow5_col15\" class=\"data row5 col15\" >0</td>\n",
       "                        <td id=\"T_89eceee4_d680_11ee_afcd_a5c4f76325dcrow5_col16\" class=\"data row5 col16\" >0</td>\n",
       "                        <td id=\"T_89eceee4_d680_11ee_afcd_a5c4f76325dcrow5_col17\" class=\"data row5 col17\" >0</td>\n",
       "            </tr>\n",
       "            <tr>\n",
       "                        <th id=\"T_89eceee4_d680_11ee_afcd_a5c4f76325dclevel0_row6\" class=\"row_heading level0 row6\" >6</th>\n",
       "                        <td id=\"T_89eceee4_d680_11ee_afcd_a5c4f76325dcrow6_col0\" class=\"data row6 col0\" >0</td>\n",
       "                        <td id=\"T_89eceee4_d680_11ee_afcd_a5c4f76325dcrow6_col1\" class=\"data row6 col1\" >0</td>\n",
       "                        <td id=\"T_89eceee4_d680_11ee_afcd_a5c4f76325dcrow6_col2\" class=\"data row6 col2\" >0</td>\n",
       "                        <td id=\"T_89eceee4_d680_11ee_afcd_a5c4f76325dcrow6_col3\" class=\"data row6 col3\" >0</td>\n",
       "                        <td id=\"T_89eceee4_d680_11ee_afcd_a5c4f76325dcrow6_col4\" class=\"data row6 col4\" >0</td>\n",
       "                        <td id=\"T_89eceee4_d680_11ee_afcd_a5c4f76325dcrow6_col5\" class=\"data row6 col5\" >0</td>\n",
       "                        <td id=\"T_89eceee4_d680_11ee_afcd_a5c4f76325dcrow6_col6\" class=\"data row6 col6\" >0</td>\n",
       "                        <td id=\"T_89eceee4_d680_11ee_afcd_a5c4f76325dcrow6_col7\" class=\"data row6 col7\" >0</td>\n",
       "                        <td id=\"T_89eceee4_d680_11ee_afcd_a5c4f76325dcrow6_col8\" class=\"data row6 col8\" >0</td>\n",
       "                        <td id=\"T_89eceee4_d680_11ee_afcd_a5c4f76325dcrow6_col9\" class=\"data row6 col9\" >0</td>\n",
       "                        <td id=\"T_89eceee4_d680_11ee_afcd_a5c4f76325dcrow6_col10\" class=\"data row6 col10\" >249</td>\n",
       "                        <td id=\"T_89eceee4_d680_11ee_afcd_a5c4f76325dcrow6_col11\" class=\"data row6 col11\" >253</td>\n",
       "                        <td id=\"T_89eceee4_d680_11ee_afcd_a5c4f76325dcrow6_col12\" class=\"data row6 col12\" >245</td>\n",
       "                        <td id=\"T_89eceee4_d680_11ee_afcd_a5c4f76325dcrow6_col13\" class=\"data row6 col13\" >126</td>\n",
       "                        <td id=\"T_89eceee4_d680_11ee_afcd_a5c4f76325dcrow6_col14\" class=\"data row6 col14\" >0</td>\n",
       "                        <td id=\"T_89eceee4_d680_11ee_afcd_a5c4f76325dcrow6_col15\" class=\"data row6 col15\" >0</td>\n",
       "                        <td id=\"T_89eceee4_d680_11ee_afcd_a5c4f76325dcrow6_col16\" class=\"data row6 col16\" >0</td>\n",
       "                        <td id=\"T_89eceee4_d680_11ee_afcd_a5c4f76325dcrow6_col17\" class=\"data row6 col17\" >0</td>\n",
       "            </tr>\n",
       "            <tr>\n",
       "                        <th id=\"T_89eceee4_d680_11ee_afcd_a5c4f76325dclevel0_row7\" class=\"row_heading level0 row7\" >7</th>\n",
       "                        <td id=\"T_89eceee4_d680_11ee_afcd_a5c4f76325dcrow7_col0\" class=\"data row7 col0\" >0</td>\n",
       "                        <td id=\"T_89eceee4_d680_11ee_afcd_a5c4f76325dcrow7_col1\" class=\"data row7 col1\" >0</td>\n",
       "                        <td id=\"T_89eceee4_d680_11ee_afcd_a5c4f76325dcrow7_col2\" class=\"data row7 col2\" >0</td>\n",
       "                        <td id=\"T_89eceee4_d680_11ee_afcd_a5c4f76325dcrow7_col3\" class=\"data row7 col3\" >0</td>\n",
       "                        <td id=\"T_89eceee4_d680_11ee_afcd_a5c4f76325dcrow7_col4\" class=\"data row7 col4\" >0</td>\n",
       "                        <td id=\"T_89eceee4_d680_11ee_afcd_a5c4f76325dcrow7_col5\" class=\"data row7 col5\" >0</td>\n",
       "                        <td id=\"T_89eceee4_d680_11ee_afcd_a5c4f76325dcrow7_col6\" class=\"data row7 col6\" >0</td>\n",
       "                        <td id=\"T_89eceee4_d680_11ee_afcd_a5c4f76325dcrow7_col7\" class=\"data row7 col7\" >14</td>\n",
       "                        <td id=\"T_89eceee4_d680_11ee_afcd_a5c4f76325dcrow7_col8\" class=\"data row7 col8\" >101</td>\n",
       "                        <td id=\"T_89eceee4_d680_11ee_afcd_a5c4f76325dcrow7_col9\" class=\"data row7 col9\" >223</td>\n",
       "                        <td id=\"T_89eceee4_d680_11ee_afcd_a5c4f76325dcrow7_col10\" class=\"data row7 col10\" >253</td>\n",
       "                        <td id=\"T_89eceee4_d680_11ee_afcd_a5c4f76325dcrow7_col11\" class=\"data row7 col11\" >248</td>\n",
       "                        <td id=\"T_89eceee4_d680_11ee_afcd_a5c4f76325dcrow7_col12\" class=\"data row7 col12\" >124</td>\n",
       "                        <td id=\"T_89eceee4_d680_11ee_afcd_a5c4f76325dcrow7_col13\" class=\"data row7 col13\" >0</td>\n",
       "                        <td id=\"T_89eceee4_d680_11ee_afcd_a5c4f76325dcrow7_col14\" class=\"data row7 col14\" >0</td>\n",
       "                        <td id=\"T_89eceee4_d680_11ee_afcd_a5c4f76325dcrow7_col15\" class=\"data row7 col15\" >0</td>\n",
       "                        <td id=\"T_89eceee4_d680_11ee_afcd_a5c4f76325dcrow7_col16\" class=\"data row7 col16\" >0</td>\n",
       "                        <td id=\"T_89eceee4_d680_11ee_afcd_a5c4f76325dcrow7_col17\" class=\"data row7 col17\" >0</td>\n",
       "            </tr>\n",
       "            <tr>\n",
       "                        <th id=\"T_89eceee4_d680_11ee_afcd_a5c4f76325dclevel0_row8\" class=\"row_heading level0 row8\" >8</th>\n",
       "                        <td id=\"T_89eceee4_d680_11ee_afcd_a5c4f76325dcrow8_col0\" class=\"data row8 col0\" >0</td>\n",
       "                        <td id=\"T_89eceee4_d680_11ee_afcd_a5c4f76325dcrow8_col1\" class=\"data row8 col1\" >0</td>\n",
       "                        <td id=\"T_89eceee4_d680_11ee_afcd_a5c4f76325dcrow8_col2\" class=\"data row8 col2\" >0</td>\n",
       "                        <td id=\"T_89eceee4_d680_11ee_afcd_a5c4f76325dcrow8_col3\" class=\"data row8 col3\" >0</td>\n",
       "                        <td id=\"T_89eceee4_d680_11ee_afcd_a5c4f76325dcrow8_col4\" class=\"data row8 col4\" >0</td>\n",
       "                        <td id=\"T_89eceee4_d680_11ee_afcd_a5c4f76325dcrow8_col5\" class=\"data row8 col5\" >11</td>\n",
       "                        <td id=\"T_89eceee4_d680_11ee_afcd_a5c4f76325dcrow8_col6\" class=\"data row8 col6\" >166</td>\n",
       "                        <td id=\"T_89eceee4_d680_11ee_afcd_a5c4f76325dcrow8_col7\" class=\"data row8 col7\" >239</td>\n",
       "                        <td id=\"T_89eceee4_d680_11ee_afcd_a5c4f76325dcrow8_col8\" class=\"data row8 col8\" >253</td>\n",
       "                        <td id=\"T_89eceee4_d680_11ee_afcd_a5c4f76325dcrow8_col9\" class=\"data row8 col9\" >253</td>\n",
       "                        <td id=\"T_89eceee4_d680_11ee_afcd_a5c4f76325dcrow8_col10\" class=\"data row8 col10\" >253</td>\n",
       "                        <td id=\"T_89eceee4_d680_11ee_afcd_a5c4f76325dcrow8_col11\" class=\"data row8 col11\" >187</td>\n",
       "                        <td id=\"T_89eceee4_d680_11ee_afcd_a5c4f76325dcrow8_col12\" class=\"data row8 col12\" >30</td>\n",
       "                        <td id=\"T_89eceee4_d680_11ee_afcd_a5c4f76325dcrow8_col13\" class=\"data row8 col13\" >0</td>\n",
       "                        <td id=\"T_89eceee4_d680_11ee_afcd_a5c4f76325dcrow8_col14\" class=\"data row8 col14\" >0</td>\n",
       "                        <td id=\"T_89eceee4_d680_11ee_afcd_a5c4f76325dcrow8_col15\" class=\"data row8 col15\" >0</td>\n",
       "                        <td id=\"T_89eceee4_d680_11ee_afcd_a5c4f76325dcrow8_col16\" class=\"data row8 col16\" >0</td>\n",
       "                        <td id=\"T_89eceee4_d680_11ee_afcd_a5c4f76325dcrow8_col17\" class=\"data row8 col17\" >0</td>\n",
       "            </tr>\n",
       "            <tr>\n",
       "                        <th id=\"T_89eceee4_d680_11ee_afcd_a5c4f76325dclevel0_row9\" class=\"row_heading level0 row9\" >9</th>\n",
       "                        <td id=\"T_89eceee4_d680_11ee_afcd_a5c4f76325dcrow9_col0\" class=\"data row9 col0\" >0</td>\n",
       "                        <td id=\"T_89eceee4_d680_11ee_afcd_a5c4f76325dcrow9_col1\" class=\"data row9 col1\" >0</td>\n",
       "                        <td id=\"T_89eceee4_d680_11ee_afcd_a5c4f76325dcrow9_col2\" class=\"data row9 col2\" >0</td>\n",
       "                        <td id=\"T_89eceee4_d680_11ee_afcd_a5c4f76325dcrow9_col3\" class=\"data row9 col3\" >0</td>\n",
       "                        <td id=\"T_89eceee4_d680_11ee_afcd_a5c4f76325dcrow9_col4\" class=\"data row9 col4\" >0</td>\n",
       "                        <td id=\"T_89eceee4_d680_11ee_afcd_a5c4f76325dcrow9_col5\" class=\"data row9 col5\" >16</td>\n",
       "                        <td id=\"T_89eceee4_d680_11ee_afcd_a5c4f76325dcrow9_col6\" class=\"data row9 col6\" >248</td>\n",
       "                        <td id=\"T_89eceee4_d680_11ee_afcd_a5c4f76325dcrow9_col7\" class=\"data row9 col7\" >250</td>\n",
       "                        <td id=\"T_89eceee4_d680_11ee_afcd_a5c4f76325dcrow9_col8\" class=\"data row9 col8\" >253</td>\n",
       "                        <td id=\"T_89eceee4_d680_11ee_afcd_a5c4f76325dcrow9_col9\" class=\"data row9 col9\" >253</td>\n",
       "                        <td id=\"T_89eceee4_d680_11ee_afcd_a5c4f76325dcrow9_col10\" class=\"data row9 col10\" >253</td>\n",
       "                        <td id=\"T_89eceee4_d680_11ee_afcd_a5c4f76325dcrow9_col11\" class=\"data row9 col11\" >253</td>\n",
       "                        <td id=\"T_89eceee4_d680_11ee_afcd_a5c4f76325dcrow9_col12\" class=\"data row9 col12\" >232</td>\n",
       "                        <td id=\"T_89eceee4_d680_11ee_afcd_a5c4f76325dcrow9_col13\" class=\"data row9 col13\" >213</td>\n",
       "                        <td id=\"T_89eceee4_d680_11ee_afcd_a5c4f76325dcrow9_col14\" class=\"data row9 col14\" >111</td>\n",
       "                        <td id=\"T_89eceee4_d680_11ee_afcd_a5c4f76325dcrow9_col15\" class=\"data row9 col15\" >2</td>\n",
       "                        <td id=\"T_89eceee4_d680_11ee_afcd_a5c4f76325dcrow9_col16\" class=\"data row9 col16\" >0</td>\n",
       "                        <td id=\"T_89eceee4_d680_11ee_afcd_a5c4f76325dcrow9_col17\" class=\"data row9 col17\" >0</td>\n",
       "            </tr>\n",
       "            <tr>\n",
       "                        <th id=\"T_89eceee4_d680_11ee_afcd_a5c4f76325dclevel0_row10\" class=\"row_heading level0 row10\" >10</th>\n",
       "                        <td id=\"T_89eceee4_d680_11ee_afcd_a5c4f76325dcrow10_col0\" class=\"data row10 col0\" >0</td>\n",
       "                        <td id=\"T_89eceee4_d680_11ee_afcd_a5c4f76325dcrow10_col1\" class=\"data row10 col1\" >0</td>\n",
       "                        <td id=\"T_89eceee4_d680_11ee_afcd_a5c4f76325dcrow10_col2\" class=\"data row10 col2\" >0</td>\n",
       "                        <td id=\"T_89eceee4_d680_11ee_afcd_a5c4f76325dcrow10_col3\" class=\"data row10 col3\" >0</td>\n",
       "                        <td id=\"T_89eceee4_d680_11ee_afcd_a5c4f76325dcrow10_col4\" class=\"data row10 col4\" >0</td>\n",
       "                        <td id=\"T_89eceee4_d680_11ee_afcd_a5c4f76325dcrow10_col5\" class=\"data row10 col5\" >0</td>\n",
       "                        <td id=\"T_89eceee4_d680_11ee_afcd_a5c4f76325dcrow10_col6\" class=\"data row10 col6\" >0</td>\n",
       "                        <td id=\"T_89eceee4_d680_11ee_afcd_a5c4f76325dcrow10_col7\" class=\"data row10 col7\" >43</td>\n",
       "                        <td id=\"T_89eceee4_d680_11ee_afcd_a5c4f76325dcrow10_col8\" class=\"data row10 col8\" >98</td>\n",
       "                        <td id=\"T_89eceee4_d680_11ee_afcd_a5c4f76325dcrow10_col9\" class=\"data row10 col9\" >98</td>\n",
       "                        <td id=\"T_89eceee4_d680_11ee_afcd_a5c4f76325dcrow10_col10\" class=\"data row10 col10\" >208</td>\n",
       "                        <td id=\"T_89eceee4_d680_11ee_afcd_a5c4f76325dcrow10_col11\" class=\"data row10 col11\" >253</td>\n",
       "                        <td id=\"T_89eceee4_d680_11ee_afcd_a5c4f76325dcrow10_col12\" class=\"data row10 col12\" >253</td>\n",
       "                        <td id=\"T_89eceee4_d680_11ee_afcd_a5c4f76325dcrow10_col13\" class=\"data row10 col13\" >253</td>\n",
       "                        <td id=\"T_89eceee4_d680_11ee_afcd_a5c4f76325dcrow10_col14\" class=\"data row10 col14\" >253</td>\n",
       "                        <td id=\"T_89eceee4_d680_11ee_afcd_a5c4f76325dcrow10_col15\" class=\"data row10 col15\" >187</td>\n",
       "                        <td id=\"T_89eceee4_d680_11ee_afcd_a5c4f76325dcrow10_col16\" class=\"data row10 col16\" >22</td>\n",
       "                        <td id=\"T_89eceee4_d680_11ee_afcd_a5c4f76325dcrow10_col17\" class=\"data row10 col17\" >0</td>\n",
       "            </tr>\n",
       "    </tbody></table>"
      ],
      "text/plain": [
       "<pandas.io.formats.style.Styler at 0x2abf758aa7c0>"
      ]
     },
     "execution_count": 6,
     "metadata": {},
     "output_type": "execute_result"
    }
   ],
   "source": [
    "\n",
    "import pandas as pd\n",
    "\n",
    "im3_t = tensor(im3)\n",
    "df = pd.DataFrame(im3_t[4:15, 4:22])\n",
    "df.style.set_properties(**{'font-size':'6pt'}).background_gradient('Greys')\n"
   ]
  },
  {
   "cell_type": "code",
   "execution_count": 7,
   "metadata": {},
   "outputs": [
    {
     "name": "stdout",
     "output_type": "stream",
     "text": [
      "6131\n",
      "6265\n"
     ]
    },
    {
     "data": {
      "text/plain": [
       "<AxesSubplot:>"
      ]
     },
     "execution_count": 7,
     "metadata": {},
     "output_type": "execute_result"
    },
    {
     "data": {
      "image/png": "[encoded data removed]",
      "text/plain": [
       "<Figure size 72x72 with 1 Axes>"
      ]
     },
     "metadata": {
      "needs_background": "light"
     },
     "output_type": "display_data"
    }
   ],
   "source": [
    "\n",
    "seven_tensors = [tensor(Image.open(o)) for o in sevens]\n",
    "three_tensors = [tensor(Image.open(o)) for o in threes]\n",
    "\n",
    "print( len(three_tensors)  )\n",
    "print( len(seven_tensors)  )\n",
    "\n",
    "show_image(three_tensors[1])\n"
   ]
  },
  {
   "cell_type": "code",
   "execution_count": 8,
   "metadata": {},
   "outputs": [
    {
     "name": "stdout",
     "output_type": "stream",
     "text": [
      "torch.Size([6131, 28, 28])\n"
     ]
    }
   ],
   "source": [
    "\n",
    "## make all images in each list into 1 cube (i.e. a tensor of d=3)\n",
    "## type float and normalized\n",
    "\n",
    "stacked_sevens = torch.stack(   seven_tensors   ).float()/255\n",
    "stacked_threes = torch.stack(   three_tensors   ).float()/255\n",
    "\n",
    "print(  stacked_threes.shape  )\n"
   ]
  },
  {
   "cell_type": "code",
   "execution_count": 9,
   "metadata": {},
   "outputs": [
    {
     "name": "stdout",
     "output_type": "stream",
     "text": [
      "3\n"
     ]
    }
   ],
   "source": [
    "\n",
    "## tensor rank (dimesionality of vector space)\n",
    "\n",
    "print(  stacked_threes.ndim   )\n"
   ]
  },
  {
   "cell_type": "code",
   "execution_count": 10,
   "metadata": {},
   "outputs": [
    {
     "data": {
      "image/png": "[encoded data removed]",
      "text/plain": [
       "<Figure size 72x72 with 1 Axes>"
      ]
     },
     "metadata": {
      "needs_background": "light"
     },
     "output_type": "display_data"
    },
    {
     "data": {
      "image/png": "[encoded data removed]",
      "text/plain": [
       "<Figure size 72x72 with 1 Axes>"
      ]
     },
     "metadata": {
      "needs_background": "light"
     },
     "output_type": "display_data"
    }
   ],
   "source": [
    "\n",
    "## Calculate the mean of all the image tensors\n",
    "## For every pixel position, this will compute the average of that pixel\n",
    "## over all images\n",
    "\n",
    "\n",
    "## insight: it is darker where all images match and blurry where images do not match\n",
    "\n",
    "mean3 = stacked_threes.mean(0)     ## 0 is on the zero axis \n",
    "show_image(mean3);\n",
    "\n",
    "mean7 = stacked_sevens.mean(0)     ## 0 is on the zero axis \n",
    "show_image(mean7);\n"
   ]
  },
  {
   "cell_type": "code",
   "execution_count": 11,
   "metadata": {},
   "outputs": [
    {
     "data": {
      "image/png": "[encoded data removed]",
      "text/plain": [
       "<Figure size 72x72 with 1 Axes>"
      ]
     },
     "metadata": {
      "needs_background": "light"
     },
     "output_type": "display_data"
    }
   ],
   "source": [
    "\n",
    "## Now we will measure the distance between one image and the mean of images for similarity \n",
    "\n",
    "## Get any image from the stack of images\n",
    "\n",
    "a_3 = stacked_threes[1]    ## slice one out\n",
    "show_image(a_3);\n"
   ]
  },
  {
   "cell_type": "code",
   "execution_count": 12,
   "metadata": {},
   "outputs": [
    {
     "name": "stdout",
     "output_type": "stream",
     "text": [
      "single 3 to mean 3\n",
      "tensor(0.1114)\n",
      "tensor(0.2021)\n"
     ]
    }
   ],
   "source": [
    "\n",
    "## calc L1-norm distance or CALC L2-norm (RMSE)\n",
    "\n",
    "dist_3_abs = (a_3 - mean3).abs().mean()\n",
    "dist_3_sqr = ((a_3 - mean3)**2).mean().sqrt()\n",
    "\n",
    "print(\"single 3 to mean 3\")\n",
    "print(dist_3_abs)\n",
    "print(dist_3_sqr)\n"
   ]
  },
  {
   "cell_type": "code",
   "execution_count": 13,
   "metadata": {},
   "outputs": [
    {
     "name": "stdout",
     "output_type": "stream",
     "text": [
      "**********************\n",
      "single 3 to mean 7\n",
      "tensor(0.1586)\n",
      "tensor(0.3021)\n"
     ]
    }
   ],
   "source": [
    "\n",
    "## not compare to the single 3 image to 7s mean\n",
    "\n",
    "dist_7_abs = (a_3 - mean7).abs().mean()\n",
    "dist_7_sqr = ((a_3 - mean7)**2).mean().sqrt()\n",
    "\n",
    "print('**********************')\n",
    "print(\"single 3 to mean 7\")\n",
    "print(dist_7_abs)\n",
    "print(dist_7_sqr)\n"
   ]
  },
  {
   "cell_type": "code",
   "execution_count": 14,
   "metadata": {},
   "outputs": [
    {
     "name": "stdout",
     "output_type": "stream",
     "text": [
      "tensor(0.1586)\n",
      "tensor(0.3021)\n"
     ]
    }
   ],
   "source": [
    "\n",
    "## L1 and L2 are in torch \n",
    "## import torch.nn.functional as torch_f\n",
    "## or\n",
    "## fastai already has its own way of calling them\n",
    "\n",
    "print(   F.l1_loss( a_3.float(), mean7)   )\n",
    "print(   F.mse_loss(a_3, mean7).sqrt()    )\n"
   ]
  },
  {
   "cell_type": "code",
   "execution_count": 15,
   "metadata": {},
   "outputs": [
    {
     "name": "stdout",
     "output_type": "stream",
     "text": [
      "[[1 2 3]\n",
      " [4 5 6]]\n",
      "tensor([[1, 2, 3],\n",
      "        [4, 5, 6]])\n"
     ]
    }
   ],
   "source": [
    "\n",
    "## Numpy Arrays and PyTorch tensors\n",
    "\n",
    "data = [[1, 2, 3], [4, 5, 6]]\n",
    "arr  = array(data)              ## fastai's way of incorporating numpy \n",
    "tns  = tensor(data)             ## fastai's way of incorporating torch\n",
    "\n",
    "print(arr)\n",
    "print(tns)\n"
   ]
  },
  {
   "cell_type": "code",
   "execution_count": 16,
   "metadata": {},
   "outputs": [
    {
     "name": "stdout",
     "output_type": "stream",
     "text": [
      "<class 'numpy.ndarray'>\n",
      "<class 'torch.Tensor'>\n"
     ]
    }
   ],
   "source": [
    "\n",
    "print( type(arr) )\n",
    "print( type(tns) )\n"
   ]
  },
  {
   "cell_type": "code",
   "execution_count": 17,
   "metadata": {},
   "outputs": [
    {
     "name": "stdout",
     "output_type": "stream",
     "text": [
      "tensor([4, 5, 6])\n",
      "tensor([2, 5])\n",
      "tensor([5, 6])\n",
      "tensor([[2, 3, 4],\n",
      "        [5, 6, 7]])\n",
      "torch.LongTensor\n",
      "tensor([[1.5000, 3.0000, 4.5000],\n",
      "        [6.0000, 7.5000, 9.0000]])\n"
     ]
    }
   ],
   "source": [
    "\n",
    "print(  tns[1]     )\n",
    "print(  tns[:, 1]  )\n",
    "print(  tns[1, 1:3])\n",
    "print(    tns+1     )\n",
    "print(    tns.type()     )\n",
    "print(    tns*1.5        )\n"
   ]
  },
  {
   "cell_type": "code",
   "execution_count": 18,
   "metadata": {},
   "outputs": [
    {
     "name": "stdout",
     "output_type": "stream",
     "text": [
      "torch.Size([1010, 28, 28])\n",
      "torch.Size([1028, 28, 28])\n"
     ]
    }
   ],
   "source": [
    "\n",
    "## validation set, create torch tensor and normalize it for 3 and 7\n",
    "\n",
    "valid_3_tens = torch.stack(   [  tensor(Image.open(o))  for o in (path/'valid'/'3').ls()]   )\n",
    "valid_3_tens = valid_3_tens.float()/255\n",
    "\n",
    "valid_7_tens = torch.stack(   [  tensor(Image.open(o))  for o in (path/'valid'/'7').ls()]   )\n",
    "valid_7_tens = valid_7_tens.float()/255\n",
    "\n",
    "print(  valid_3_tens.shape  )\n",
    "print(  valid_7_tens.shape  )\n"
   ]
  },
  {
   "cell_type": "code",
   "execution_count": 19,
   "metadata": {},
   "outputs": [
    {
     "name": "stdout",
     "output_type": "stream",
     "text": [
      "tensor(0.1114)\n"
     ]
    }
   ],
   "source": [
    "\n",
    "## function to get mean absolute error with the tensors \n",
    "## a-b  will use broadcasting when necessary \n",
    "## the (-1, -2) tells torch to calc mean only on the last 2 of the 3 axes (i.e. the 28x28 part )\n",
    "## we take the differences first, then abs, and then mean\n",
    "\n",
    "def mnist_distance(a, b):\n",
    "    return (a-b).abs().mean((-1, -2))\n",
    "\n",
    "print(    mnist_distance(a_3, mean3)    )\n"
   ]
  },
  {
   "cell_type": "code",
   "execution_count": 20,
   "metadata": {},
   "outputs": [
    {
     "name": "stdout",
     "output_type": "stream",
     "text": [
      "tensor([0.1373, 0.1098, 0.1526,  ..., 0.1403, 0.1211, 0.1761])\n",
      "torch.Size([1010])\n"
     ]
    }
   ],
   "source": [
    "\n",
    "## now to calculate a metric for overall accuracy of a batch of images from the validation set (all 1010 at once)\n",
    "\n",
    "\n",
    "## gives tensor of distances\n",
    "\n",
    "valid_3_dist = mnist_distance(valid_3_tens, mean3)    \n",
    "print(  valid_3_dist            )\n",
    "print(  valid_3_dist.shape      )\n"
   ]
  },
  {
   "cell_type": "code",
   "execution_count": 21,
   "metadata": {},
   "outputs": [
    {
     "name": "stdout",
     "output_type": "stream",
     "text": [
      "tensor(True)\n",
      "tensor(1.)\n",
      "tensor([ True,  True, False,  ...,  True,  True,  True])\n"
     ]
    }
   ],
   "source": [
    "\n",
    "def is_3(x):\n",
    "    return mnist_distance(x, mean3) < mnist_distance(x, mean7)\n",
    "\n",
    "\n",
    "print(    is_3(a_3)             )\n",
    "print(    is_3(a_3).float()     )\n",
    "\n",
    "print(    is_3(valid_3_tens)    )\n"
   ]
  },
  {
   "cell_type": "code",
   "execution_count": 23,
   "metadata": {},
   "outputs": [
    {
     "name": "stdout",
     "output_type": "stream",
     "text": [
      "tensor(0.9168)\n",
      "tensor(0.9854)\n",
      "tensor(0.9511)\n"
     ]
    }
   ],
   "source": [
    "\n",
    "## now calculate accuracy of this model\n",
    "\n",
    "accuracy_3s   =      is_3(valid_3_tens).float().mean()\n",
    "accuracy_7s   = (1 - is_3(valid_7_tens).float()).mean()\n",
    "\n",
    "\n",
    "print(   accuracy_3s       )\n",
    "print(   accuracy_7s       )\n",
    "print(   (accuracy_3s + accuracy_7s  )/2       )\n"
   ]
  },
  {
   "cell_type": "code",
   "execution_count": 26,
   "metadata": {},
   "outputs": [],
   "source": [
    "\n",
    "## !pip install fastbook\n"
   ]
  },
  {
   "cell_type": "code",
   "execution_count": 29,
   "metadata": {},
   "outputs": [],
   "source": [
    "\n",
    "## the training process and stochastic gradient descent\n",
    "## THE PREVIOUS technique does not learn weights for a model\n",
    "## so now we look at gradient descent so we can learn weights\n",
    "\n",
    "## motivating SGD with the quadratic function\n",
    "\n",
    "\n",
    "## from fastbook import *\n",
    "\n",
    "\n"
   ]
  },
  {
   "cell_type": "code",
   "execution_count": 35,
   "metadata": {},
   "outputs": [
    {
     "data": {
      "text/plain": [
       "array([-2. , -1.5, -1. , -0.5,  0. ,  0.5,  1. ,  1.5,  2. ])"
      ]
     },
     "execution_count": 35,
     "metadata": {},
     "output_type": "execute_result"
    }
   ],
   "source": [
    "\n",
    "def f(w):\n",
    "    return w**2\n",
    "\n",
    "x = np.linspace(-2.0, 2.0, num=9)\n",
    "x\n",
    "\n"
   ]
  },
  {
   "cell_type": "code",
   "execution_count": 37,
   "metadata": {},
   "outputs": [
    {
     "data": {
      "text/plain": [
       "[<matplotlib.lines.Line2D at 0x2abf7700f4f0>]"
      ]
     },
     "execution_count": 37,
     "metadata": {},
     "output_type": "execute_result"
    },
    {
     "data": {
      "image/png": "[encoded data removed]",
      "text/plain": [
       "<Figure size 432x288 with 1 Axes>"
      ]
     },
     "metadata": {
      "needs_background": "light"
     },
     "output_type": "display_data"
    }
   ],
   "source": [
    "\n",
    "plt.plot(x, f(x))\n",
    "\n",
    "## plot_function(f, 'w', 'cost determined by x**2')\n"
   ]
  },
  {
   "cell_type": "code",
   "execution_count": 38,
   "metadata": {},
   "outputs": [
    {
     "name": "stdout",
     "output_type": "stream",
     "text": [
      "notice the gradient association now of grad_fn\n",
      "tensor(9., grad_fn=<PowBackward0>)\n"
     ]
    }
   ],
   "source": [
    "\n",
    "## calculus\n",
    "## getting the derivatives (e.g. the gradients)\n",
    "## in deep learning, \"gradient\" usually means the value of a function's derivative at\n",
    "## a paticular argument value (the weight)\n",
    "## the focus is also on the variable (tensor(3.)), and not the function (e.g the cuadratic) \n",
    "## which is counter-intuitive\n",
    "\n",
    "def f(w):\n",
    "    return w**2\n",
    "\n",
    "xt = tensor(3.).requires_grad_()\n",
    "\n",
    "yt = f(xt)\n",
    "\n",
    "print(\"notice the gradient association now of grad_fn\")\n",
    "print(yt)\n"
   ]
  },
  {
   "cell_type": "code",
   "execution_count": 39,
   "metadata": {},
   "outputs": [
    {
     "name": "stdout",
     "output_type": "stream",
     "text": [
      "tensor(6.)\n"
     ]
    }
   ],
   "source": [
    "\n",
    "## now we tell pytorch to calc the gradients \n",
    "\n",
    "yt.backward()\n",
    "\n",
    "## to view the gradient\n",
    "\n",
    "print(  xt.grad    )\n",
    "\n",
    "## in math, the function is x**2\n",
    "## the derivative is   2x\n",
    "## the variable x = 3\n",
    "## the result is:   2x = 2(3) = 6\n"
   ]
  },
  {
   "cell_type": "code",
   "execution_count": 40,
   "metadata": {},
   "outputs": [
    {
     "name": "stdout",
     "output_type": "stream",
     "text": [
      "tensor([ 3.,  4., 10.], requires_grad=True)\n",
      "tensor(125., grad_fn=<SumBackward0>)\n",
      "tensor([ 6.,  8., 20.])\n"
     ]
    }
   ],
   "source": [
    "\n",
    "## now the same gradient scheme but with 3 weights instead of \n",
    "## just one, so a vector\n",
    "\n",
    "xt = tensor([3., 4., 10.]).requires_grad_()\n",
    "print(xt)\n",
    "\n",
    "def f(x):\n",
    "    return (x**2).sum()       ## sums all 3 values in vector\n",
    "\n",
    "yt = f(xt)\n",
    "print(    yt    )\n",
    "\n",
    "yt.backward()\n",
    "print(     xt.grad     )\n"
   ]
  },
  {
   "cell_type": "code",
   "execution_count": 41,
   "metadata": {},
   "outputs": [],
   "source": [
    "\n",
    "## now we use xt.grad to adjust the weights\n",
    "## w = w - (xt.grad * learning_rate)\n"
   ]
  },
  {
   "cell_type": "markdown",
   "metadata": {},
   "source": [
    "\n",
    "## Repeat\n"
   ]
  },
  {
   "cell_type": "code",
   "execution_count": 64,
   "metadata": {},
   "outputs": [
    {
     "name": "stdout",
     "output_type": "stream",
     "text": [
      "notice the gradient association now of grad_fn\n",
      "tensor(36., grad_fn=<PowBackward0>)\n"
     ]
    }
   ],
   "source": [
    "\n",
    "def loss(y_pred, y_real):\n",
    "    diff = y_pred - y_real\n",
    "    return diff**2\n",
    "\n",
    "wt = tensor(-2.5).requires_grad_()\n",
    "xt = tensor(2.)\n",
    "\n",
    "y_pred = wt * xt\n",
    "\n",
    "y_real = tensor(1.0)\n",
    "\n",
    "the_loss = loss(y_pred, y_real)\n",
    "\n",
    "print(\"notice the gradient association now of grad_fn\")\n",
    "print(the_loss)\n"
   ]
  },
  {
   "cell_type": "code",
   "execution_count": 65,
   "metadata": {},
   "outputs": [
    {
     "name": "stdout",
     "output_type": "stream",
     "text": [
      "tensor(-24.)\n"
     ]
    }
   ],
   "source": [
    "\n",
    "the_loss.backward()\n",
    "\n",
    "## to view the gradient\n",
    "\n",
    "print(  wt.grad    )\n"
   ]
  },
  {
   "cell_type": "code",
   "execution_count": 63,
   "metadata": {},
   "outputs": [
    {
     "data": {
      "text/plain": [
       "tensor(-2.5000, requires_grad=True)"
      ]
     },
     "execution_count": 63,
     "metadata": {},
     "output_type": "execute_result"
    }
   ],
   "source": [
    "\n",
    "wt\n"
   ]
  },
  {
   "cell_type": "code",
   "execution_count": 69,
   "metadata": {},
   "outputs": [],
   "source": [
    "\n",
    "w = np.linspace(-4.0, 4.0, num=9)\n"
   ]
  },
  {
   "cell_type": "code",
   "execution_count": 75,
   "metadata": {},
   "outputs": [
    {
     "name": "stdout",
     "output_type": "stream",
     "text": [
      "---------------------------\n",
      "tensor(81., grad_fn=<PowBackward0>)\n",
      "tensor(-36.)\n",
      "---------------------------\n",
      "tensor(49., grad_fn=<PowBackward0>)\n",
      "tensor(-28.)\n",
      "---------------------------\n",
      "tensor(25., grad_fn=<PowBackward0>)\n",
      "tensor(-20.)\n",
      "---------------------------\n",
      "tensor(9., grad_fn=<PowBackward0>)\n",
      "tensor(-12.)\n",
      "---------------------------\n",
      "tensor(1., grad_fn=<PowBackward0>)\n",
      "tensor(-4.)\n",
      "---------------------------\n",
      "tensor(1., grad_fn=<PowBackward0>)\n",
      "tensor(4.)\n",
      "---------------------------\n",
      "tensor(9., grad_fn=<PowBackward0>)\n",
      "tensor(12.)\n",
      "---------------------------\n",
      "tensor(25., grad_fn=<PowBackward0>)\n",
      "tensor(20.)\n",
      "---------------------------\n",
      "tensor(49., grad_fn=<PowBackward0>)\n",
      "tensor(28.)\n"
     ]
    }
   ],
   "source": [
    "\n",
    "def loss(y_pred, y_real):\n",
    "    diff = y_pred - y_real\n",
    "    return diff**2\n",
    "\n",
    "losses_list = []\n",
    "grads_list  = []\n",
    "\n",
    "for item in w:\n",
    "    \n",
    "    wt = tensor(item).requires_grad_()\n",
    "    xt = tensor(2.)\n",
    "    y_pred = wt * xt\n",
    "    y_real = tensor(1.0)\n",
    "    the_loss = loss(y_pred, y_real)\n",
    "    print(\"---------------------------\")\n",
    "    print(the_loss)\n",
    "    losses_list.append( the_loss.detach().numpy() )\n",
    "    \n",
    "    the_loss.backward()\n",
    "    print(  wt.grad    )\n",
    "    grads_list.append(    wt.grad    )\n",
    "    \n",
    "    \n",
    "\n"
   ]
  },
  {
   "cell_type": "code",
   "execution_count": 76,
   "metadata": {},
   "outputs": [
    {
     "data": {
      "text/plain": [
       "[tensor(-36.),\n",
       " tensor(-28.),\n",
       " tensor(-20.),\n",
       " tensor(-12.),\n",
       " tensor(-4.),\n",
       " tensor(4.),\n",
       " tensor(12.),\n",
       " tensor(20.),\n",
       " tensor(28.)]"
      ]
     },
     "execution_count": 76,
     "metadata": {},
     "output_type": "execute_result"
    }
   ],
   "source": [
    "\n",
    "grads_list\n"
   ]
  },
  {
   "cell_type": "code",
   "execution_count": 77,
   "metadata": {},
   "outputs": [
    {
     "data": {
      "text/plain": [
       "[array(81., dtype=float32),\n",
       " array(49., dtype=float32),\n",
       " array(25., dtype=float32),\n",
       " array(9., dtype=float32),\n",
       " array(1., dtype=float32),\n",
       " array(1., dtype=float32),\n",
       " array(9., dtype=float32),\n",
       " array(25., dtype=float32),\n",
       " array(49., dtype=float32)]"
      ]
     },
     "execution_count": 77,
     "metadata": {},
     "output_type": "execute_result"
    }
   ],
   "source": [
    "\n",
    "losses_list\n"
   ]
  },
  {
   "cell_type": "code",
   "execution_count": 78,
   "metadata": {},
   "outputs": [
    {
     "data": {
      "text/plain": [
       "<matplotlib.collections.PathCollection at 0x2abf7771b490>"
      ]
     },
     "execution_count": 78,
     "metadata": {},
     "output_type": "execute_result"
    },
    {
     "data": {
      "image/png": "[encoded data removed]",
      "text/plain": [
       "<Figure size 432x288 with 1 Axes>"
      ]
     },
     "metadata": {
      "needs_background": "light"
     },
     "output_type": "display_data"
    }
   ],
   "source": [
    "\n",
    "plt.scatter(w, losses_list)\n"
   ]
  },
  {
   "cell_type": "code",
   "execution_count": 79,
   "metadata": {},
   "outputs": [
    {
     "data": {
      "text/plain": [
       "<matplotlib.collections.PathCollection at 0x2abf77777af0>"
      ]
     },
     "execution_count": 79,
     "metadata": {},
     "output_type": "execute_result"
    },
    {
     "data": {
      "image/png": "[encoded data removed]",
      "text/plain": [
       "<Figure size 432x288 with 1 Axes>"
      ]
     },
     "metadata": {
      "needs_background": "light"
     },
     "output_type": "display_data"
    }
   ],
   "source": [
    "\n",
    "plt.scatter(w, grads_list)\n"
   ]
  },
  {
   "cell_type": "code",
   "execution_count": null,
   "metadata": {},
   "outputs": [],
   "source": []
  },
  {
   "cell_type": "code",
   "execution_count": null,
   "metadata": {},
   "outputs": [],
   "source": []
  },
  {
   "cell_type": "code",
   "execution_count": null,
   "metadata": {},
   "outputs": [],
   "source": []
  },
  {
   "cell_type": "code",
   "execution_count": null,
   "metadata": {},
   "outputs": [],
   "source": []
  },
  {
   "cell_type": "code",
   "execution_count": null,
   "metadata": {},
   "outputs": [],
   "source": []
  },
  {
   "cell_type": "code",
   "execution_count": null,
   "metadata": {},
   "outputs": [],
   "source": []
  },
  {
   "cell_type": "code",
   "execution_count": null,
   "metadata": {},
   "outputs": [],
   "source": []
  },
  {
   "cell_type": "code",
   "execution_count": null,
   "metadata": {},
   "outputs": [],
   "source": []
  },
  {
   "cell_type": "code",
   "execution_count": null,
   "metadata": {},
   "outputs": [],
   "source": []
  },
  {
   "cell_type": "code",
   "execution_count": null,
   "metadata": {},
   "outputs": [],
   "source": []
  }
 ],
 "metadata": {
  "kernelspec": {
   "display_name": "Python 3.8 (Anaconda 2020.11)",
   "language": "python",
   "name": "anaconda-2020.11-py38"
  },
  "language_info": {
   "codemirror_mode": {
    "name": "ipython",
    "version": 3
   },
   "file_extension": ".py",
   "mimetype": "text/x-python",
   "name": "python",
   "nbconvert_exporter": "python",
   "pygments_lexer": "ipython3",
   "version": "3.8.5"
  }
 },
 "nbformat": 4,
 "nbformat_minor": 4
}
