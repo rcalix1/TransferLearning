{
 "cells": [
  {
   "cell_type": "markdown",
   "id": "d3916d29",
   "metadata": {},
   "source": [
    "## Sentence Embeddings and semantic text similarity\n",
    "\n",
    "* Read chapter 5 of course book\n",
    "\n"
   ]
  },
  {
   "cell_type": "code",
   "execution_count": 55,
   "id": "4fcba0dc",
   "metadata": {},
   "outputs": [],
   "source": [
    "## >>pip install torch\n",
    "## >>pip install transformers\n",
    "## >>pip install protobuf\n",
    "## !pip install sentence-transformers\n",
    "## >>pip install dataset\n",
    "## !pip install flair"
   ]
  },
  {
   "cell_type": "code",
   "execution_count": 56,
   "id": "ce34976f",
   "metadata": {},
   "outputs": [],
   "source": [
    "\n",
    "import pandas as pd\n",
    "import torch\n",
    "import torch\n",
    "import numpy as np\n",
    "## import SentenceTransformer\n",
    "from flair.data import Sentence\n",
    "from flair.embeddings import WordEmbeddings, DocumentPoolEmbeddings\n",
    "from flair.embeddings import DocumentRNNEmbeddings\n",
    "from flair.embeddings import TransformerDocumentEmbeddings\n",
    "from flair.embeddings import SentenceTransformerDocumentEmbeddings\n",
    "from transformers import AutoModelForSequenceClassification, AutoTokenizer\n"
   ]
  },
  {
   "cell_type": "code",
   "execution_count": 57,
   "id": "6f81d758",
   "metadata": {},
   "outputs": [],
   "source": [
    "\n",
    "similar=[\n",
    "(\"A black dog walking beside a pool.\",            \"A black dog is walking along the side of a pool.\"),\n",
    "(\"A blonde woman looks for medical supplies for work in a suitcase.\t\",\n",
    "                                 \" The blond woman is searching for medical supplies in a suitcase.\"),\n",
    "  (\"A doubly decker red bus driving down the road.\",\"A red double decker bus driving down a street.\"),\n",
    "(\"There is a black dog jumping into a swimming pool.\",\"A black dog is leaping into a swimming pool.\"),\n",
    "    (\"The man used a sword to slice a plastic bottle.\",\"A man sliced a plastic bottle with a sword.\")\n",
    "]\n",
    "\n"
   ]
  },
  {
   "cell_type": "code",
   "execution_count": 58,
   "id": "96625cff",
   "metadata": {},
   "outputs": [
    {
     "name": "stdout",
     "output_type": "stream",
     "text": [
      "                                                sen1  \\\n",
      "0                 A black dog walking beside a pool.   \n",
      "1  A blonde woman looks for medical supplies for ...   \n",
      "2     A doubly decker red bus driving down the road.   \n",
      "3  There is a black dog jumping into a swimming p...   \n",
      "4    The man used a sword to slice a plastic bottle.   \n",
      "\n",
      "                                                sen2  \n",
      "0   A black dog is walking along the side of a pool.  \n",
      "1   The blond woman is searching for medical supp...  \n",
      "2     A red double decker bus driving down a street.  \n",
      "3       A black dog is leaping into a swimming pool.  \n",
      "4        A man sliced a plastic bottle with a sword.  \n"
     ]
    }
   ],
   "source": [
    "\n",
    "print(   pd.DataFrame(similar, columns=[\"sen1\", \"sen2\"])    )\n"
   ]
  },
  {
   "cell_type": "code",
   "execution_count": 59,
   "id": "8a71251e",
   "metadata": {},
   "outputs": [],
   "source": [
    "\n",
    "dissimilar= [\n",
    "(\"A little girl and boy are reading books. \", \"An older child is playing with a doll while gazing out the window.\"),\n",
    "(\"Two horses standing in a field with trees in the background.\", \"A black and white bird on a body of water with grass in the background.\"),\n",
    "(\"Two people are walking by the ocean.\" , \"Two men in fleeces and hats looking at the camera.\"),\n",
    "(\"A cat is pouncing on a trampoline.\",\"A man is slicing a tomato.\"),\n",
    "(\"A woman is riding on a horse.\",\"A man is turning over tables in anger.\")\n",
    "]\n"
   ]
  },
  {
   "cell_type": "code",
   "execution_count": 60,
   "id": "eee67f56",
   "metadata": {},
   "outputs": [
    {
     "name": "stdout",
     "output_type": "stream",
     "text": [
      "                                                sen1  \\\n",
      "0          A little girl and boy are reading books.    \n",
      "1  Two horses standing in a field with trees in t...   \n",
      "2               Two people are walking by the ocean.   \n",
      "3                 A cat is pouncing on a trampoline.   \n",
      "4                      A woman is riding on a horse.   \n",
      "\n",
      "                                                sen2  \n",
      "0  An older child is playing with a doll while ga...  \n",
      "1  A black and white bird on a body of water with...  \n",
      "2  Two men in fleeces and hats looking at the cam...  \n",
      "3                         A man is slicing a tomato.  \n",
      "4             A man is turning over tables in anger.  \n"
     ]
    }
   ],
   "source": [
    "\n",
    "print(    pd.DataFrame(dissimilar, columns=[\"sen1\", \"sen2\"])    )\n"
   ]
  },
  {
   "cell_type": "code",
   "execution_count": 61,
   "id": "0a4a152e",
   "metadata": {},
   "outputs": [],
   "source": [
    "\n",
    "def sim(s1,s2):\n",
    "  # cosine similarity function outputs in the range 0-1\n",
    "  s1=s1.embedding.unsqueeze(0)\n",
    "  s2=s2.embedding.unsqueeze(0)\n",
    "  sim = torch.cosine_similarity(s1,s2).item() \n",
    "  return np.round(sim,2)\n"
   ]
  },
  {
   "cell_type": "code",
   "execution_count": 62,
   "id": "7fef2f96",
   "metadata": {},
   "outputs": [],
   "source": [
    "\n",
    "\n",
    "def evaluate(embeddings, myPairList):\n",
    "  # it evaluates embeddings for a given list of sentence pair\n",
    "  scores=[]\n",
    "  for s1, s2 in myPairList:\n",
    "    s1,s2=Sentence(s1), Sentence(s2)\n",
    "    embeddings.embed(s1)\n",
    "    embeddings.embed(s2)\n",
    "    score=sim(s1,s2)\n",
    "    scores.append(score)\n",
    "  return scores, np.round(np.mean(scores),2)\n"
   ]
  },
  {
   "cell_type": "markdown",
   "id": "f8ab5645",
   "metadata": {},
   "source": [
    "## Average word embeddings with GloVe\n"
   ]
  },
  {
   "cell_type": "code",
   "execution_count": 63,
   "id": "48e594dd",
   "metadata": {},
   "outputs": [],
   "source": [
    "\n",
    "glove_embedding = WordEmbeddings('glove')\n",
    "glove_pool_embeddings = DocumentPoolEmbeddings([glove_embedding])\n"
   ]
  },
  {
   "cell_type": "code",
   "execution_count": 64,
   "id": "b9ca2b94",
   "metadata": {},
   "outputs": [
    {
     "name": "stdout",
     "output_type": "stream",
     "text": [
      "Glove just average embeddings\n",
      "([0.97, 0.99, 0.97, 0.99, 0.98], 0.98)\n",
      "([0.94, 0.97, 0.94, 0.92, 0.93], 0.94)\n"
     ]
    }
   ],
   "source": [
    "\n",
    "\n",
    "print(\"Glove just average embeddings\")\n",
    "print(    evaluate(glove_pool_embeddings, similar)     )\n",
    "print(    evaluate(glove_pool_embeddings, dissimilar)  )\n"
   ]
  },
  {
   "cell_type": "markdown",
   "id": "91a17884",
   "metadata": {},
   "source": [
    "\n",
    "## Considers sequence RNN based GRU\n"
   ]
  },
  {
   "cell_type": "code",
   "execution_count": 65,
   "id": "2348cb4c",
   "metadata": {},
   "outputs": [],
   "source": [
    "\n",
    "gru_embeddings = DocumentRNNEmbeddings([glove_embedding])\n"
   ]
  },
  {
   "cell_type": "code",
   "execution_count": 66,
   "id": "857755aa",
   "metadata": {},
   "outputs": [
    {
     "name": "stdout",
     "output_type": "stream",
     "text": [
      "GRU RNN embeddings\n",
      "([0.99, 1.0, 0.95, 1.0, 0.89], 0.97)\n",
      "([0.89, 1.0, 0.92, 0.81, 0.87], 0.9)\n"
     ]
    }
   ],
   "source": [
    "\n",
    "\n",
    "print(\"GRU RNN embeddings\") \n",
    "\n",
    "print(    evaluate(gru_embeddings, similar)      )\n",
    "print(    evaluate(gru_embeddings, dissimilar)   )\n"
   ]
  },
  {
   "cell_type": "markdown",
   "id": "065a2562",
   "metadata": {},
   "source": [
    "\n",
    "## The following execution instantiates a \"bert-base-uncased\" model that pools the final layer as A non-specific BERT\n",
    "\n",
    "\n",
    "* BERT non-specialized embeddings\n",
    "* notice it is not better than GloVe\n",
    "* actually a bit worse\n"
   ]
  },
  {
   "cell_type": "code",
   "execution_count": 67,
   "id": "2f76f2ba",
   "metadata": {},
   "outputs": [],
   "source": [
    "\n",
    "bert_embeddings = TransformerDocumentEmbeddings('bert-base-uncased')\n"
   ]
  },
  {
   "cell_type": "code",
   "execution_count": 68,
   "id": "b74e8585",
   "metadata": {},
   "outputs": [
    {
     "name": "stdout",
     "output_type": "stream",
     "text": [
      "([0.85, 0.9, 0.96, 0.91, 0.89], 0.9)\n",
      "([0.93, 0.94, 0.86, 0.93, 0.92], 0.92)\n"
     ]
    }
   ],
   "source": [
    "\n",
    "print(   evaluate(bert_embeddings, similar)       )\n",
    "print(   evaluate(bert_embeddings, dissimilar)    )\n"
   ]
  },
  {
   "cell_type": "markdown",
   "id": "6fcb844e",
   "metadata": {},
   "source": [
    "\n",
    "## Sentence BERT (Now a specialized BERT for this task)"
   ]
  },
  {
   "cell_type": "code",
   "execution_count": 69,
   "id": "2ecad5a2",
   "metadata": {},
   "outputs": [],
   "source": [
    "\n",
    "sbert_embeddings = SentenceTransformerDocumentEmbeddings('bert-base-nli-mean-tokens')\n"
   ]
  },
  {
   "cell_type": "code",
   "execution_count": 70,
   "id": "7f12975b",
   "metadata": {},
   "outputs": [
    {
     "name": "stdout",
     "output_type": "stream",
     "text": [
      "--------------------------------\n",
      "Notice, this one actually does what we want\n",
      "([0.98, 0.95, 0.96, 0.99, 0.98], 0.97)\n",
      "([0.48, 0.41, 0.19, -0.05, 0.0], 0.21)\n"
     ]
    }
   ],
   "source": [
    "\n",
    "print(\"--------------------------------\")\n",
    "print(  \"Notice, this one actually does what we want\"  )\n",
    "print(   evaluate(sbert_embeddings, similar)   )\n",
    "print(   evaluate(sbert_embeddings, dissimilar)   )\n"
   ]
  },
  {
   "cell_type": "markdown",
   "id": "55e2d507",
   "metadata": {},
   "source": [
    "## now we will do a harder similarity test\n",
    "\n",
    "* tricky sentences\n",
    "* contradicting sentences"
   ]
  },
  {
   "cell_type": "code",
   "execution_count": 71,
   "id": "fc128adf",
   "metadata": {},
   "outputs": [],
   "source": [
    "\n",
    "\n",
    "tricky_pairs=[\n",
    "(\"An elephant is bigger than a lion\", \"A lion is bigger than an elephant\"),\n",
    "(\"the cat sat on the mat\", \"the mat sat on the cat\")\n",
    "]\n"
   ]
  },
  {
   "cell_type": "code",
   "execution_count": 72,
   "id": "905b45ca",
   "metadata": {},
   "outputs": [
    {
     "name": "stdout",
     "output_type": "stream",
     "text": [
      "GRU here does better, because sequence matters in RNNs?\n",
      "([1.0, 1.0], 1.0)\n",
      "([0.79, 0.68], 0.74)\n",
      "([1.0, 0.98], 0.99)\n",
      "([0.93, 0.97], 0.95)\n"
     ]
    }
   ],
   "source": [
    "\n",
    "print(\"GRU here does better, because sequence matters in RNNs?\")\n",
    "\n",
    "print(    evaluate(glove_pool_embeddings, tricky_pairs)    )\n",
    "\n",
    "print(    evaluate(gru_embeddings, tricky_pairs)           )\n",
    "\n",
    "print(    evaluate(bert_embeddings, tricky_pairs)          )\n",
    "\n",
    "print(    evaluate(sbert_embeddings, tricky_pairs)         )\n",
    "\n"
   ]
  },
  {
   "cell_type": "markdown",
   "id": "66b51db1",
   "metadata": {},
   "source": [
    "\n",
    "## We need a BERT specialized for this problem of condradicting sentences\n",
    "\n",
    "* there is a model from XNLI for this task\n",
    "* there is a model to detect the semantics of 2 sentence pairs with 3 classes: neutral, contradiction, entailment\n",
    "* we use a fine tune XLM-Roberta model trained on XNLI\n"
   ]
  },
  {
   "cell_type": "code",
   "execution_count": 73,
   "id": "4e63b5a8",
   "metadata": {},
   "outputs": [
    {
     "data": {
      "text/plain": [
       "\"\\nnli_model = AutoModelForSequenceClassification.from_pretrained('joeddav/xlm-roberta-large-xnli')\\ntokenizer = AutoTokenizer.from_pretrained('joeddav/xlm-roberta-large-xnli')\\n\""
      ]
     },
     "execution_count": 73,
     "metadata": {},
     "output_type": "execute_result"
    }
   ],
   "source": [
    "\n",
    "## requires login and tooken \n",
    "## see huggingface 'joeddav/xlm-roberta-large-xnli'\n",
    "\n",
    "'''\n",
    "nli_model = AutoModelForSequenceClassification.from_pretrained('joeddav/xlm-roberta-large-xnli')\n",
    "tokenizer = AutoTokenizer.from_pretrained('joeddav/xlm-roberta-large-xnli')\n",
    "'''\n"
   ]
  },
  {
   "cell_type": "code",
   "execution_count": 74,
   "id": "0ba899d2",
   "metadata": {},
   "outputs": [
    {
     "data": {
      "text/plain": [
       "'\\n\\nfor premise, hypothesis in tricky_pairs:\\n    x = tokenizer.encode(premise, hypothesis, return_tensors=\\'pt\\', truncation_strategy=\\'only_first\\')\\n    \\n    logits = nli_model(x)[0]\\n    print(f\"Premise: {premise}\")\\n    print(f\"Hypothesis: {hypothesis}\")\\n    print(\"Top Class\")\\n    ids = np.argmax(   logits[0].detach().numpy()   )\\n    print(   nli_model.config.id2label[ids]   )\\n    print(\"full softmax scores: \")\\n    for i in range(3):\\n        print(nli_model.config.id2label[i],        \\n              logits.softmax(dim=1)[0][i].detach().numpy()\\n        )\\n    print(\"=\"*20)\\n\\n'"
      ]
     },
     "execution_count": 74,
     "metadata": {},
     "output_type": "execute_result"
    }
   ],
   "source": [
    "\n",
    "'''\n",
    "\n",
    "for premise, hypothesis in tricky_pairs:\n",
    "    x = tokenizer.encode(premise, hypothesis, return_tensors='pt', truncation_strategy='only_first')\n",
    "    \n",
    "    logits = nli_model(x)[0]\n",
    "    print(f\"Premise: {premise}\")\n",
    "    print(f\"Hypothesis: {hypothesis}\")\n",
    "    print(\"Top Class\")\n",
    "    ids = np.argmax(   logits[0].detach().numpy()   )\n",
    "    print(   nli_model.config.id2label[ids]   )\n",
    "    print(\"full softmax scores: \")\n",
    "    for i in range(3):\n",
    "        print(nli_model.config.id2label[i],        \n",
    "              logits.softmax(dim=1)[0][i].detach().numpy()\n",
    "        )\n",
    "    print(\"=\"*20)\n",
    "\n",
    "'''\n",
    "\n"
   ]
  },
  {
   "cell_type": "code",
   "execution_count": null,
   "id": "b13727cb",
   "metadata": {},
   "outputs": [],
   "source": []
  },
  {
   "cell_type": "code",
   "execution_count": null,
   "id": "814797b3",
   "metadata": {},
   "outputs": [],
   "source": []
  }
 ],
 "metadata": {
  "kernelspec": {
   "display_name": "Python 3 (ipykernel)",
   "language": "python",
   "name": "python3"
  },
  "language_info": {
   "codemirror_mode": {
    "name": "ipython",
    "version": 3
   },
   "file_extension": ".py",
   "mimetype": "text/x-python",
   "name": "python",
   "nbconvert_exporter": "python",
   "pygments_lexer": "ipython3",
   "version": "3.7.16"
  }
 },
 "nbformat": 4,
 "nbformat_minor": 5
}
