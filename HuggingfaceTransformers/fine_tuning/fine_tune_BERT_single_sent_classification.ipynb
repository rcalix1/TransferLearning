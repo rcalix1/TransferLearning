{
 "cells": [
  {
   "cell_type": "code",
   "execution_count": null,
   "id": "c78306d4",
   "metadata": {},
   "outputs": [],
   "source": []
  },
  {
   "cell_type": "code",
   "execution_count": null,
   "id": "422b2071",
   "metadata": {},
   "outputs": [],
   "source": [
    "\n",
    "import torch\n",
    "import pandas as pd\n",
    "\n",
    "from transformers import TrainingArguments, Trainer\n",
    "from torch import cuda\n",
    "from datasets import load_dataset\n",
    "from transformers import DistilBertTokenizerFast, DistilBertForSequenceClassification\n",
    "from sklearn.metrics import accuracy_score, f1_score\n",
    "from transformers import pipeline, DistilBertForSequenceClassification, DistilBertTokenizerFast\n"
   ]
  },
  {
   "cell_type": "code",
   "execution_count": 2,
   "id": "d53aac57",
   "metadata": {},
   "outputs": [],
   "source": [
    "\n",
    "device = 'cuda' if cuda.is_available() else 'cpu'\n"
   ]
  },
  {
   "cell_type": "code",
   "execution_count": 3,
   "id": "81b1507d",
   "metadata": {},
   "outputs": [
    {
     "data": {
      "application/vnd.jupyter.widget-view+json": {
       "model_id": "16f44663e8b747a6a46438c143d3210a",
       "version_major": 2,
       "version_minor": 0
      },
      "text/plain": [
       "Downloading:   0%|          | 0.00/28.0 [00:00<?, ?B/s]"
      ]
     },
     "metadata": {},
     "output_type": "display_data"
    },
    {
     "name": "stderr",
     "output_type": "stream",
     "text": [
      "C:\\Users\\user1\\anaconda3\\envs\\huggingface\\lib\\site-packages\\huggingface_hub\\file_download.py:123: UserWarning: `huggingface_hub` cache-system uses symlinks by default to efficiently store duplicated files but your machine does not support them in C:\\Users\\user1\\.cache\\huggingface\\hub. Caching files will still work but in a degraded version that might require more space on your disk. This warning can be disabled by setting the `HF_HUB_DISABLE_SYMLINKS_WARNING` environment variable. For more details, see https://huggingface.co/docs/huggingface_hub/how-to-cache#limitations.\n",
      "To support symlinks on Windows, you either need to activate Developer Mode or to run Python as an administrator. In order to see activate developer mode, see this article: https://docs.microsoft.com/en-us/windows/apps/get-started/enable-your-device-for-development\n",
      "  warnings.warn(message)\n"
     ]
    },
    {
     "data": {
      "application/vnd.jupyter.widget-view+json": {
       "model_id": "e46fba054fdf476b9ba2d4d03dc518f2",
       "version_major": 2,
       "version_minor": 0
      },
      "text/plain": [
       "Downloading:   0%|          | 0.00/232k [00:00<?, ?B/s]"
      ]
     },
     "metadata": {},
     "output_type": "display_data"
    },
    {
     "data": {
      "application/vnd.jupyter.widget-view+json": {
       "model_id": "1f8d5e2cf3874fdab6b9903673a381f5",
       "version_major": 2,
       "version_minor": 0
      },
      "text/plain": [
       "Downloading:   0%|          | 0.00/466k [00:00<?, ?B/s]"
      ]
     },
     "metadata": {},
     "output_type": "display_data"
    },
    {
     "data": {
      "application/vnd.jupyter.widget-view+json": {
       "model_id": "ed9cd047bdbc4ab7b544d9c56fd80ea1",
       "version_major": 2,
       "version_minor": 0
      },
      "text/plain": [
       "Downloading:   0%|          | 0.00/483 [00:00<?, ?B/s]"
      ]
     },
     "metadata": {},
     "output_type": "display_data"
    },
    {
     "data": {
      "application/vnd.jupyter.widget-view+json": {
       "model_id": "feb37baf31e04639baa4d492291cb60f",
       "version_major": 2,
       "version_minor": 0
      },
      "text/plain": [
       "Downloading:   0%|          | 0.00/268M [00:00<?, ?B/s]"
      ]
     },
     "metadata": {},
     "output_type": "display_data"
    },
    {
     "name": "stderr",
     "output_type": "stream",
     "text": [
      "Some weights of the model checkpoint at distilbert-base-uncased were not used when initializing DistilBertForSequenceClassification: ['vocab_transform.weight', 'vocab_layer_norm.bias', 'vocab_projector.bias', 'vocab_projector.weight', 'vocab_layer_norm.weight', 'vocab_transform.bias']\n",
      "- This IS expected if you are initializing DistilBertForSequenceClassification from the checkpoint of a model trained on another task or with another architecture (e.g. initializing a BertForSequenceClassification model from a BertForPreTraining model).\n",
      "- This IS NOT expected if you are initializing DistilBertForSequenceClassification from the checkpoint of a model that you expect to be exactly identical (initializing a BertForSequenceClassification model from a BertForSequenceClassification model).\n",
      "Some weights of DistilBertForSequenceClassification were not initialized from the model checkpoint at distilbert-base-uncased and are newly initialized: ['pre_classifier.weight', 'classifier.weight', 'pre_classifier.bias', 'classifier.bias']\n",
      "You should probably TRAIN this model on a down-stream task to be able to use it for predictions and inference.\n"
     ]
    }
   ],
   "source": [
    "\n",
    "model_path = 'distilbert-base-uncased'\n",
    "\n",
    "tokenizer = DistilBertTokenizerFast.from_pretrained( model_path  )\n",
    "\n",
    "model = DistilBertForSequenceClassification.from_pretrained(\n",
    "                     model_path, id2label={0: \"NEG\", 1: \"POS\"},\n",
    "                     label2id={\"NEG\": 0, \"POS\": 1}\n",
    ")\n"
   ]
  },
  {
   "cell_type": "code",
   "execution_count": 4,
   "id": "8e7be16a",
   "metadata": {},
   "outputs": [
    {
     "data": {
      "application/vnd.jupyter.widget-view+json": {
       "model_id": "2dd5c79b744f4968824aff84c3c31d24",
       "version_major": 2,
       "version_minor": 0
      },
      "text/plain": [
       "Downloading builder script:   0%|          | 0.00/4.31k [00:00<?, ?B/s]"
      ]
     },
     "metadata": {},
     "output_type": "display_data"
    },
    {
     "data": {
      "application/vnd.jupyter.widget-view+json": {
       "model_id": "65a3f15b85ed42698cb284c5e60684e1",
       "version_major": 2,
       "version_minor": 0
      },
      "text/plain": [
       "Downloading metadata:   0%|          | 0.00/2.17k [00:00<?, ?B/s]"
      ]
     },
     "metadata": {},
     "output_type": "display_data"
    },
    {
     "data": {
      "application/vnd.jupyter.widget-view+json": {
       "model_id": "3ff3879f5dce47e3bc8bd74bfd9da055",
       "version_major": 2,
       "version_minor": 0
      },
      "text/plain": [
       "Downloading readme:   0%|          | 0.00/7.59k [00:00<?, ?B/s]"
      ]
     },
     "metadata": {},
     "output_type": "display_data"
    },
    {
     "name": "stdout",
     "output_type": "stream",
     "text": [
      "Downloading and preparing dataset imdb/plain_text to C:/Users/user1/.cache/huggingface/datasets/imdb/plain_text/1.0.0/d613c88cf8fa3bab83b4ded3713f1f74830d1100e171db75bbddb80b3345c9c0...\n"
     ]
    },
    {
     "data": {
      "application/vnd.jupyter.widget-view+json": {
       "model_id": "77658b170f8144c7a2a609515ff64b84",
       "version_major": 2,
       "version_minor": 0
      },
      "text/plain": [
       "Downloading data:   0%|          | 0.00/84.1M [00:00<?, ?B/s]"
      ]
     },
     "metadata": {},
     "output_type": "display_data"
    },
    {
     "data": {
      "application/vnd.jupyter.widget-view+json": {
       "model_id": "",
       "version_major": 2,
       "version_minor": 0
      },
      "text/plain": [
       "Generating train split:   0%|          | 0/25000 [00:00<?, ? examples/s]"
      ]
     },
     "metadata": {},
     "output_type": "display_data"
    },
    {
     "data": {
      "application/vnd.jupyter.widget-view+json": {
       "model_id": "",
       "version_major": 2,
       "version_minor": 0
      },
      "text/plain": [
       "Generating test split:   0%|          | 0/25000 [00:00<?, ? examples/s]"
      ]
     },
     "metadata": {},
     "output_type": "display_data"
    },
    {
     "data": {
      "application/vnd.jupyter.widget-view+json": {
       "model_id": "",
       "version_major": 2,
       "version_minor": 0
      },
      "text/plain": [
       "Generating unsupervised split:   0%|          | 0/50000 [00:00<?, ? examples/s]"
      ]
     },
     "metadata": {},
     "output_type": "display_data"
    },
    {
     "name": "stdout",
     "output_type": "stream",
     "text": [
      "Dataset imdb downloaded and prepared to C:/Users/user1/.cache/huggingface/datasets/imdb/plain_text/1.0.0/d613c88cf8fa3bab83b4ded3713f1f74830d1100e171db75bbddb80b3345c9c0. Subsequent calls will reuse this data.\n"
     ]
    },
    {
     "name": "stderr",
     "output_type": "stream",
     "text": [
      "Found cached dataset imdb (C:/Users/user1/.cache/huggingface/datasets/imdb/plain_text/1.0.0/d613c88cf8fa3bab83b4ded3713f1f74830d1100e171db75bbddb80b3345c9c0)\n",
      "Found cached dataset imdb (C:/Users/user1/.cache/huggingface/datasets/imdb/plain_text/1.0.0/d613c88cf8fa3bab83b4ded3713f1f74830d1100e171db75bbddb80b3345c9c0)\n"
     ]
    },
    {
     "name": "stdout",
     "output_type": "stream",
     "text": [
      "(25000, 2)\n",
      "(12500, 2)\n",
      "(12500, 2)\n"
     ]
    }
   ],
   "source": [
    "\n",
    "imdb_train = load_dataset('imdb', split=\"train\")\n",
    "\n",
    "imdb_test = load_dataset('imdb', split=\"test[:6250]+test[-6250:]\")\n",
    "\n",
    "imdb_val = load_dataset('imdb', split='test[6250:12500]+test[-12500:-6250]')\n",
    "\n",
    "print(  imdb_train.shape  )\n",
    "print(  imdb_test.shape   )\n",
    "print(  imdb_val.shape    )\n"
   ]
  },
  {
   "cell_type": "code",
   "execution_count": 5,
   "id": "93191717",
   "metadata": {},
   "outputs": [
    {
     "data": {
      "application/vnd.jupyter.widget-view+json": {
       "model_id": "",
       "version_major": 2,
       "version_minor": 0
      },
      "text/plain": [
       "Map:   0%|          | 0/25000 [00:00<?, ? examples/s]"
      ]
     },
     "metadata": {},
     "output_type": "display_data"
    },
    {
     "data": {
      "application/vnd.jupyter.widget-view+json": {
       "model_id": "",
       "version_major": 2,
       "version_minor": 0
      },
      "text/plain": [
       "Map:   0%|          | 0/12500 [00:00<?, ? examples/s]"
      ]
     },
     "metadata": {},
     "output_type": "display_data"
    },
    {
     "data": {
      "application/vnd.jupyter.widget-view+json": {
       "model_id": "",
       "version_major": 2,
       "version_minor": 0
      },
      "text/plain": [
       "Map:   0%|          | 0/12500 [00:00<?, ? examples/s]"
      ]
     },
     "metadata": {},
     "output_type": "display_data"
    }
   ],
   "source": [
    "\n",
    "\n",
    "enc_train = imdb_train.map(lambda e: tokenizer(e['text'], padding=True, truncation=True), batched=True,\n",
    "                  batch_size=1000  )\n",
    "\n",
    "enc_test = imdb_test.map(lambda e: tokenizer(e['text'], padding=True, truncation=True), batched=True, \n",
    "                  batch_size=1000)\n",
    "\n",
    "enc_val = imdb_val.map(lambda e: tokenizer(e['text'], padding=True, truncation=True), batched=True, \n",
    "                  batch_size=1000)\n",
    "\n",
    "\n"
   ]
  },
  {
   "cell_type": "code",
   "execution_count": 6,
   "id": "ed499d8e",
   "metadata": {},
   "outputs": [
    {
     "name": "stdout",
     "output_type": "stream",
     "text": [
      "                                                    text  label  \\\n",
      "0      I rented I AM CURIOUS-YELLOW from my video sto...      0   \n",
      "1      \"I Am Curious: Yellow\" is a risible and preten...      0   \n",
      "2      If only to avoid making this type of film in t...      0   \n",
      "3      This film was probably inspired by Godard's Ma...      0   \n",
      "4      Oh, brother...after hearing about this ridicul...      0   \n",
      "...                                                  ...    ...   \n",
      "24995  A hit at the time but now better categorised a...      1   \n",
      "24996  I love this movie like no other. Another time ...      1   \n",
      "24997  This film and it's sequel Barry Mckenzie holds...      1   \n",
      "24998  'The Adventures Of Barry McKenzie' started lif...      1   \n",
      "24999  The story centers around Barry McKenzie who mu...      1   \n",
      "\n",
      "                                               input_ids  \\\n",
      "0      [101, 1045, 12524, 1045, 2572, 8025, 1011, 375...   \n",
      "1      [101, 1000, 1045, 2572, 8025, 1024, 3756, 1000...   \n",
      "2      [101, 2065, 2069, 2000, 4468, 2437, 2023, 2828...   \n",
      "3      [101, 2023, 2143, 2001, 2763, 4427, 2011, 2643...   \n",
      "4      [101, 2821, 1010, 2567, 1012, 1012, 1012, 2044...   \n",
      "...                                                  ...   \n",
      "24995  [101, 1037, 2718, 2012, 1996, 2051, 2021, 2085...   \n",
      "24996  [101, 1045, 2293, 2023, 3185, 2066, 2053, 2060...   \n",
      "24997  [101, 2023, 2143, 1998, 2009, 1005, 1055, 8297...   \n",
      "24998  [101, 1005, 1996, 7357, 1997, 6287, 18506, 100...   \n",
      "24999  [101, 1996, 2466, 6401, 2105, 6287, 18506, 204...   \n",
      "\n",
      "                                          attention_mask  \n",
      "0      [1, 1, 1, 1, 1, 1, 1, 1, 1, 1, 1, 1, 1, 1, 1, ...  \n",
      "1      [1, 1, 1, 1, 1, 1, 1, 1, 1, 1, 1, 1, 1, 1, 1, ...  \n",
      "2      [1, 1, 1, 1, 1, 1, 1, 1, 1, 1, 1, 1, 1, 1, 1, ...  \n",
      "3      [1, 1, 1, 1, 1, 1, 1, 1, 1, 1, 1, 1, 1, 1, 1, ...  \n",
      "4      [1, 1, 1, 1, 1, 1, 1, 1, 1, 1, 1, 1, 1, 1, 1, ...  \n",
      "...                                                  ...  \n",
      "24995  [1, 1, 1, 1, 1, 1, 1, 1, 1, 1, 1, 1, 1, 1, 1, ...  \n",
      "24996  [1, 1, 1, 1, 1, 1, 1, 1, 1, 1, 1, 1, 1, 1, 1, ...  \n",
      "24997  [1, 1, 1, 1, 1, 1, 1, 1, 1, 1, 1, 1, 1, 1, 1, ...  \n",
      "24998  [1, 1, 1, 1, 1, 1, 1, 1, 1, 1, 1, 1, 1, 1, 1, ...  \n",
      "24999  [1, 1, 1, 1, 1, 1, 1, 1, 1, 1, 1, 1, 1, 1, 1, ...  \n",
      "\n",
      "[25000 rows x 4 columns]\n"
     ]
    }
   ],
   "source": [
    "print(  pd.DataFrame(enc_train)   )"
   ]
  },
  {
   "cell_type": "code",
   "execution_count": 9,
   "id": "3a80ede8",
   "metadata": {},
   "outputs": [],
   "source": [
    "\n",
    "training_args = TrainingArguments(\n",
    "    # The output directory where the model predictions and checkpoints will be written\n",
    "    output_dir='./MyIMDBModel', \n",
    "    do_train=True,\n",
    "    do_eval=True,\n",
    "    #  The number of epochs, defaults to 3.0 \n",
    "    num_train_epochs=3,              \n",
    "    per_device_train_batch_size=16,  \n",
    "    per_device_eval_batch_size=16,\n",
    "    # Number of steps used for a linear warmup\n",
    "    warmup_steps=100,                \n",
    "    weight_decay=0.01,\n",
    "    logging_strategy='steps', \n",
    "    # TensorBoard log directory               \n",
    "    logging_dir='./logs',            \n",
    "    logging_steps=50,\n",
    "    # other options : no, steps\n",
    "    evaluation_strategy=\"steps\",\n",
    "    fp16 = cuda.is_available(),\n",
    "    save_strategy=\"epoch\"\n",
    "    #load_best_model_at_end=True\n",
    ")\n"
   ]
  },
  {
   "cell_type": "code",
   "execution_count": 10,
   "id": "383ecc21",
   "metadata": {},
   "outputs": [],
   "source": [
    "\n",
    "def compute_metrics(pred):\n",
    "    labels = pred.label_ids\n",
    "    preds = pred.predictions.argmax(-1)\n",
    "    f1 = f1_score(labels, preds)\n",
    "    acc = accuracy_score(labels, preds)\n",
    "    return {\n",
    "        'Accuracy': acc,\n",
    "        'f1': f1\n",
    "    }\n"
   ]
  },
  {
   "cell_type": "code",
   "execution_count": 13,
   "id": "1fde1355",
   "metadata": {},
   "outputs": [],
   "source": [
    "\n",
    "trainer = Trainer(\n",
    "    # the pre-trained model that will be fine-tuned \n",
    "    model=model,\n",
    "     # training arguments that we defined above                        \n",
    "    args=training_args,\n",
    "    # training and validation dataset                 \n",
    "    train_dataset=enc_train,         \n",
    "    eval_dataset=enc_val,            \n",
    "    compute_metrics= compute_metrics\n",
    ")\n"
   ]
  },
  {
   "cell_type": "code",
   "execution_count": 14,
   "id": "09caf328",
   "metadata": {},
   "outputs": [],
   "source": [
    "\n",
    "## results = trainer.train()\n"
   ]
  },
  {
   "cell_type": "code",
   "execution_count": 15,
   "id": "08933646",
   "metadata": {},
   "outputs": [
    {
     "name": "stderr",
     "output_type": "stream",
     "text": [
      "Saving model checkpoint to MyBestIMDBModel\n",
      "Configuration saved in MyBestIMDBModel\\config.json\n",
      "Model weights saved in MyBestIMDBModel\\pytorch_model.bin\n",
      "tokenizer config file saved in MyBestIMDBModel\\tokenizer_config.json\n",
      "Special tokens file saved in MyBestIMDBModel\\special_tokens_map.json\n"
     ]
    },
    {
     "data": {
      "text/plain": [
       "('MyBestIMDBModel\\\\tokenizer_config.json',\n",
       " 'MyBestIMDBModel\\\\special_tokens_map.json',\n",
       " 'MyBestIMDBModel\\\\vocab.txt',\n",
       " 'MyBestIMDBModel\\\\added_tokens.json',\n",
       " 'MyBestIMDBModel\\\\tokenizer.json')"
      ]
     },
     "execution_count": 15,
     "metadata": {},
     "output_type": "execute_result"
    }
   ],
   "source": [
    "\n",
    "# saving the best fine-tuned model & tokenizer\n",
    "model_save_path = \"MyBestIMDBModel\"\n",
    "trainer.save_model(model_save_path)\n",
    "tokenizer.save_pretrained(model_save_path)\n"
   ]
  },
  {
   "cell_type": "code",
   "execution_count": null,
   "id": "1f420dc9",
   "metadata": {},
   "outputs": [],
   "source": [
    "\n",
    "def get_prediction(text):\n",
    "    inputs = tokenizer(text, padding=True, truncation=True, max_length=250, return_tensors=\"pt\").to(device)\n",
    "    outputs = model(inputs[\"input_ids\"].to(device),inputs[\"attention_mask\"].to(device))\n",
    "    probs = outputs[0].softmax(1)\n",
    "    return probs, probs.argmax()\n"
   ]
  },
  {
   "cell_type": "code",
   "execution_count": null,
   "id": "7dd46369",
   "metadata": {},
   "outputs": [],
   "source": [
    "\n",
    "\n",
    "model.to(device)\n",
    "text = \"I didn't like the movie since it bored me \"\n",
    "res = get_prediction(text)[1].item()\n",
    "print(res)\n",
    "\n"
   ]
  },
  {
   "cell_type": "code",
   "execution_count": null,
   "id": "18718550",
   "metadata": {},
   "outputs": [],
   "source": [
    "\n",
    "model = DistilBertForSequenceClassification.from_pretrained(\"MyBestIMDBModel\")\n",
    "tokenizer= DistilBertTokenizerFast.from_pretrained(\"MyBestIMDBModel\")\n",
    "nlp= pipeline(\"sentiment-analysis\", model=model, tokenizer=tokenizer)\n",
    "\n"
   ]
  },
  {
   "cell_type": "code",
   "execution_count": null,
   "id": "aca52a42",
   "metadata": {},
   "outputs": [],
   "source": [
    "r1 = nlp(\"the movie was very impressive\")\n",
    "r2 = nlp(\"the script of the picture was very poor\")\n",
    "\n"
   ]
  },
  {
   "cell_type": "code",
   "execution_count": null,
   "id": "f5fd4e15",
   "metadata": {},
   "outputs": [],
   "source": [
    "print(r1)\n",
    "print(r2)"
   ]
  },
  {
   "cell_type": "code",
   "execution_count": null,
   "id": "cf266255",
   "metadata": {},
   "outputs": [],
   "source": []
  }
 ],
 "metadata": {
  "kernelspec": {
   "display_name": "Python 3 (ipykernel)",
   "language": "python",
   "name": "python3"
  },
  "language_info": {
   "codemirror_mode": {
    "name": "ipython",
    "version": 3
   },
   "file_extension": ".py",
   "mimetype": "text/x-python",
   "name": "python",
   "nbconvert_exporter": "python",
   "pygments_lexer": "ipython3",
   "version": "3.7.16"
  }
 },
 "nbformat": 4,
 "nbformat_minor": 5
}
