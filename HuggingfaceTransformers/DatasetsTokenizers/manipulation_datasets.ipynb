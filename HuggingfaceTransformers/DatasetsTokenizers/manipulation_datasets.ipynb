{
 "cells": [
  {
   "cell_type": "code",
   "execution_count": 23,
   "id": "17541692",
   "metadata": {},
   "outputs": [],
   "source": [
    "\n",
    "## !pip install datasets\n"
   ]
  },
  {
   "cell_type": "code",
   "execution_count": 24,
   "id": "46b6030b",
   "metadata": {},
   "outputs": [],
   "source": [
    "\n",
    "from datasets import load_dataset\n",
    "import pandas as pd\n",
    "import pprint\n",
    "from transformers import BertTokenizer\n"
   ]
  },
  {
   "cell_type": "code",
   "execution_count": 25,
   "id": "4aa5affd",
   "metadata": {},
   "outputs": [
    {
     "name": "stderr",
     "output_type": "stream",
     "text": [
      "Found cached dataset glue (C:/Users/user1/.cache/huggingface/datasets/glue/cola/1.0.0/dacbe3125aa31d7f70367a07a8a9e72a5a0bfeb5fc42e75c9db75b96da6053ad)\n"
     ]
    },
    {
     "data": {
      "application/vnd.jupyter.widget-view+json": {
       "model_id": "1b82d0acaebc49b9b7eea965652a8d33",
       "version_major": 2,
       "version_minor": 0
      },
      "text/plain": [
       "  0%|          | 0/3 [00:00<?, ?it/s]"
      ]
     },
     "metadata": {},
     "output_type": "display_data"
    },
    {
     "data": {
      "text/plain": [
       "DatasetDict({\n",
       "    train: Dataset({\n",
       "        features: ['sentence', 'label', 'idx'],\n",
       "        num_rows: 8551\n",
       "    })\n",
       "    validation: Dataset({\n",
       "        features: ['sentence', 'label', 'idx'],\n",
       "        num_rows: 1043\n",
       "    })\n",
       "    test: Dataset({\n",
       "        features: ['sentence', 'label', 'idx'],\n",
       "        num_rows: 1063\n",
       "    })\n",
       "})"
      ]
     },
     "execution_count": 25,
     "metadata": {},
     "output_type": "execute_result"
    }
   ],
   "source": [
    "\n",
    "cola = load_dataset('glue', 'cola')\n",
    "cola\n"
   ]
  },
  {
   "cell_type": "code",
   "execution_count": 26,
   "id": "bbedd371",
   "metadata": {},
   "outputs": [
    {
     "name": "stderr",
     "output_type": "stream",
     "text": [
      "Found cached dataset glue (C:/Users/user1/.cache/huggingface/datasets/glue/cola/1.0.0/dacbe3125aa31d7f70367a07a8a9e72a5a0bfeb5fc42e75c9db75b96da6053ad)\n"
     ]
    },
    {
     "data": {
      "text/plain": [
       "Dataset({\n",
       "    features: ['sentence', 'label', 'idx'],\n",
       "    num_rows: 8551\n",
       "})"
      ]
     },
     "execution_count": 26,
     "metadata": {},
     "output_type": "execute_result"
    }
   ],
   "source": [
    "\n",
    "cola_train = load_dataset('glue', 'cola', split='train')\n",
    "cola_train \n"
   ]
  },
  {
   "cell_type": "code",
   "execution_count": 27,
   "id": "ccdfc890",
   "metadata": {},
   "outputs": [
    {
     "name": "stderr",
     "output_type": "stream",
     "text": [
      "Found cached dataset glue (C:/Users/user1/.cache/huggingface/datasets/glue/cola/1.0.0/dacbe3125aa31d7f70367a07a8a9e72a5a0bfeb5fc42e75c9db75b96da6053ad)\n"
     ]
    },
    {
     "data": {
      "text/plain": [
       "Dataset({\n",
       "    features: ['sentence', 'label', 'idx'],\n",
       "    num_rows: 330\n",
       "})"
      ]
     },
     "execution_count": 27,
     "metadata": {},
     "output_type": "execute_result"
    }
   ],
   "source": [
    "\n",
    "\n",
    "cola_selection = load_dataset('glue', 'cola', split='train[:300]+validation[-30:]')\n",
    "cola_selection\n"
   ]
  },
  {
   "cell_type": "code",
   "execution_count": 28,
   "id": "870f4f13",
   "metadata": {},
   "outputs": [
    {
     "name": "stderr",
     "output_type": "stream",
     "text": [
      "Found cached dataset glue (C:/Users/user1/.cache/huggingface/datasets/glue/cola/1.0.0/dacbe3125aa31d7f70367a07a8a9e72a5a0bfeb5fc42e75c9db75b96da6053ad)\n"
     ]
    },
    {
     "data": {
      "text/plain": [
       "Dataset({\n",
       "    features: ['sentence', 'label', 'idx'],\n",
       "    num_rows: 4589\n",
       "})"
      ]
     },
     "execution_count": 28,
     "metadata": {},
     "output_type": "execute_result"
    }
   ],
   "source": [
    "\n",
    "## first 50% of train and last 30%of validation\n",
    "cola_selection2 = load_dataset('glue', 'cola', split='train[:50%]+validation[-30%:]')\n",
    "cola_selection2\n"
   ]
  },
  {
   "cell_type": "code",
   "execution_count": 29,
   "id": "f0bd5b1f",
   "metadata": {},
   "outputs": [
    {
     "name": "stdout",
     "output_type": "stream",
     "text": [
      "{'sentence': ['Fred watered the plants flat.', 'The professor talked us into a stupor.', 'The trolley rumbled through the tunnel.'], 'label': [1, 1, 1], 'idx': [6, 19, 44]}\n"
     ]
    }
   ],
   "source": [
    "print(   cola_selection[6, 19, 44]     )"
   ]
  },
  {
   "cell_type": "code",
   "execution_count": 30,
   "id": "ddb769f2",
   "metadata": {},
   "outputs": [
    {
     "name": "stdout",
     "output_type": "stream",
     "text": [
      "[1, 1, 1, 1, 1, 1, 1, 1, 1, 1, 1, 1, 1, 1, 1]\n"
     ]
    }
   ],
   "source": [
    "print(   cola_selection['label'][:15]   )"
   ]
  },
  {
   "cell_type": "code",
   "execution_count": 31,
   "id": "01a7878c",
   "metadata": {},
   "outputs": [
    {
     "name": "stderr",
     "output_type": "stream",
     "text": [
      "Loading cached sorted indices for dataset at C:\\Users\\user1\\.cache\\huggingface\\datasets\\glue\\cola\\1.0.0\\dacbe3125aa31d7f70367a07a8a9e72a5a0bfeb5fc42e75c9db75b96da6053ad\\cache-daf6dbba5b55cc57.arrow\n"
     ]
    },
    {
     "name": "stdout",
     "output_type": "stream",
     "text": [
      "[1, 1, 1, 1, 1, 1, 1, 1, 1, 1, 1, 1, 1, 1, 1]\n"
     ]
    }
   ],
   "source": [
    "\n",
    "\n",
    "cola_selection.sort('label')\n",
    "print(   cola_selection['label'][:15]   )"
   ]
  },
  {
   "cell_type": "code",
   "execution_count": 32,
   "id": "8dcf79a0",
   "metadata": {},
   "outputs": [
    {
     "name": "stderr",
     "output_type": "stream",
     "text": [
      "Loading cached shuffled indices for dataset at C:\\Users\\user1\\.cache\\huggingface\\datasets\\glue\\cola\\1.0.0\\dacbe3125aa31d7f70367a07a8a9e72a5a0bfeb5fc42e75c9db75b96da6053ad\\cache-834b50d745a7e9e9.arrow\n"
     ]
    },
    {
     "name": "stdout",
     "output_type": "stream",
     "text": [
      "{'sentence': ['Mary gets depressed if she listens to the Grateful Dead.', 'It was believed to be illegal by them to do that.', 'The bullets whistled past the house.'], 'label': [1, 0, 1], 'idx': [159, 1022, 46]}\n"
     ]
    }
   ],
   "source": [
    "\n",
    "print(   cola_selection.shuffle(seed=42)[2:5]    )\n"
   ]
  },
  {
   "cell_type": "code",
   "execution_count": 33,
   "id": "0bfc9efe",
   "metadata": {},
   "outputs": [
    {
     "name": "stderr",
     "output_type": "stream",
     "text": [
      "Found cached dataset glue (C:/Users/user1/.cache/huggingface/datasets/glue/cola/1.0.0/dacbe3125aa31d7f70367a07a8a9e72a5a0bfeb5fc42e75c9db75b96da6053ad)\n",
      "Loading cached processed dataset at C:\\Users\\user1\\.cache\\huggingface\\datasets\\glue\\cola\\1.0.0\\dacbe3125aa31d7f70367a07a8a9e72a5a0bfeb5fc42e75c9db75b96da6053ad\\cache-c1923a122f64ee92.arrow\n"
     ]
    },
    {
     "name": "stdout",
     "output_type": "stream",
     "text": [
      "['Jill kicked the ball from home plate to third base.', 'Fred kicked the ball under the porch.', 'Fred kicked the ball behind the tree.']\n"
     ]
    }
   ],
   "source": [
    "\n",
    "## dataset filter and map fucntion\n",
    "## filter for sentences in cola with the word \"kick\"\n",
    "\n",
    "cola_selection = load_dataset('glue', 'cola', split='train[:100%]+validation[-30%:]')\n",
    "\n",
    "result = cola_selection.filter(lambda s: \"kick\" in s['sentence'])\n",
    "\n",
    "print(     result[\"sentence\"][:3]      )\n"
   ]
  },
  {
   "cell_type": "code",
   "execution_count": 34,
   "id": "402b1a40",
   "metadata": {},
   "outputs": [
    {
     "name": "stderr",
     "output_type": "stream",
     "text": [
      "Loading cached processed dataset at C:\\Users\\user1\\.cache\\huggingface\\datasets\\glue\\cola\\1.0.0\\dacbe3125aa31d7f70367a07a8a9e72a5a0bfeb5fc42e75c9db75b96da6053ad\\cache-c6e8ccf85b4e20c4.arrow\n"
     ]
    },
    {
     "name": "stdout",
     "output_type": "stream",
     "text": [
      "sentences of a specific class\n",
      "[\"Our friends won't buy this analysis, let alone the next one we propose.\", \"One more pseudo generalization and I'm giving up.\", \"One more pseudo generalization or I'm giving up.\"]\n"
     ]
    }
   ],
   "source": [
    "## get a specific class\n",
    "\n",
    "print(\"sentences of a specific class\")\n",
    "print(   cola_selection.filter(lambda s: s['label'] == 1)[\"sentence\"][:3]      )\n"
   ]
  },
  {
   "cell_type": "code",
   "execution_count": 38,
   "id": "f0e57cc8",
   "metadata": {},
   "outputs": [
    {
     "data": {
      "application/vnd.jupyter.widget-view+json": {
       "model_id": "",
       "version_major": 2,
       "version_minor": 0
      },
      "text/plain": [
       "Map:   0%|          | 0/8864 [00:00<?, ? examples/s]"
      ]
     },
     "metadata": {},
     "output_type": "display_data"
    },
    {
     "name": "stdout",
     "output_type": "stream",
     "text": [
      "          sentence  label  idx  len\n",
      "0  Our friends wo_      1    0   71\n",
      "1  One more pseud_      1    1   49\n",
      "2  One more pseud_      1    2   48\n"
     ]
    }
   ],
   "source": [
    "\n",
    "cola_cut = cola_new.map(   lambda e: {'sentence': e['sentence'][:14]+ '_'}    )\n",
    "print(       pd.DataFrame(    cola_cut[:3]       )     )\n",
    "\n"
   ]
  },
  {
   "cell_type": "code",
   "execution_count": 39,
   "id": "29bda27e",
   "metadata": {},
   "outputs": [
    {
     "data": {
      "text/plain": [
       "'\\ndata1 = load_dataset(\\'csv\\', data_files=\\'/data/a.csv\\', delimiter=\"\\t\")\\ndata2 = load_dataset(\\'csv\\', data_files=[\\'/data/a.csv\\', \\'/data/b.csv\\', \\'/data/c.csv\\'], delimiter=\"\\t\")\\ndata3 = load_dataset(\\'csv\\', data_files={\\'train\\':[\\'/data/a.csv\\',\\'/data/b.csv\\'], \\'test\\':[\\'/data/c.csv\\']}, delimiter=\"\\t\")\\n## for json and txt\\ndata_json = load_dataset(\\'json\\', data_files=\\'a.json\\')\\ndata_text = load_dataset(\\'text\\', data_files=\\'a.txt\\')\\n'"
      ]
     },
     "execution_count": 39,
     "metadata": {},
     "output_type": "execute_result"
    }
   ],
   "source": [
    "\n",
    "'''\n",
    "data1 = load_dataset('csv', data_files='/data/a.csv', delimiter=\"\\t\")\n",
    "data2 = load_dataset('csv', data_files=['/data/a.csv', '/data/b.csv', '/data/c.csv'], delimiter=\"\\t\")\n",
    "data3 = load_dataset('csv', data_files={'train':['/data/a.csv','/data/b.csv'], 'test':['/data/c.csv']}, delimiter=\"\\t\")\n",
    "## for json and txt\n",
    "data_json = load_dataset('json', data_files='a.json')\n",
    "data_text = load_dataset('text', data_files='a.txt')\n",
    "'''\n"
   ]
  },
  {
   "cell_type": "code",
   "execution_count": 41,
   "id": "1728c5f3",
   "metadata": {},
   "outputs": [
    {
     "name": "stdout",
     "output_type": "stream",
     "text": [
      "Downloading and preparing dataset csv/default to C:/Users/user1/.cache/huggingface/datasets/csv/default-f48c5b9e8bb873ab/0.0.0/6b34fb8fcf56f7c8ba51dc895bfa2bfbe43546f190a60fcf74bb5e8afdcc2317...\n"
     ]
    },
    {
     "data": {
      "application/vnd.jupyter.widget-view+json": {
       "model_id": "cf3fb765e1e14c399c7cd2e0c3025ccd",
       "version_major": 2,
       "version_minor": 0
      },
      "text/plain": [
       "Downloading data files:   0%|          | 0/1 [00:00<?, ?it/s]"
      ]
     },
     "metadata": {},
     "output_type": "display_data"
    },
    {
     "data": {
      "application/vnd.jupyter.widget-view+json": {
       "model_id": "5f8567639d0c4b9f9b6c3d6bf0a21b3c",
       "version_major": 2,
       "version_minor": 0
      },
      "text/plain": [
       "Extracting data files:   0%|          | 0/1 [00:00<?, ?it/s]"
      ]
     },
     "metadata": {},
     "output_type": "display_data"
    },
    {
     "data": {
      "application/vnd.jupyter.widget-view+json": {
       "model_id": "",
       "version_major": 2,
       "version_minor": 0
      },
      "text/plain": [
       "Generating train split: 0 examples [00:00, ? examples/s]"
      ]
     },
     "metadata": {},
     "output_type": "display_data"
    },
    {
     "name": "stdout",
     "output_type": "stream",
     "text": [
      "Dataset csv downloaded and prepared to C:/Users/user1/.cache/huggingface/datasets/csv/default-f48c5b9e8bb873ab/0.0.0/6b34fb8fcf56f7c8ba51dc895bfa2bfbe43546f190a60fcf74bb5e8afdcc2317. Subsequent calls will reuse this data.\n"
     ]
    },
    {
     "data": {
      "application/vnd.jupyter.widget-view+json": {
       "model_id": "7f11bddc1782453cb88869bb01ea2a0a",
       "version_major": 2,
       "version_minor": 0
      },
      "text/plain": [
       "  0%|          | 0/1 [00:00<?, ?it/s]"
      ]
     },
     "metadata": {},
     "output_type": "display_data"
    },
    {
     "name": "stdout",
     "output_type": "stream",
     "text": [
      "DatasetDict({\n",
      "    train: Dataset({\n",
      "        features: ['sepal_length', 'sepal_width', 'petal_length', 'petal_width', 'species'],\n",
      "        num_rows: 150\n",
      "    })\n",
      "})\n",
      "{'sepal_length': [5.1, 4.9, 4.7], 'sepal_width': [3.5, 3.0, 3.2], 'petal_length': [1.4, 1.4, 1.3], 'petal_width': [0.2, 0.2, 0.2], 'species': ['setosa', 'setosa', 'setosa']}\n"
     ]
    }
   ],
   "source": [
    "\n",
    "\n",
    "\n",
    "\n",
    "data_iris = load_dataset('csv', data_files='iris.csv', delimiter=\",\")\n",
    "print(  data_iris   )\n",
    "print(  data_iris['train'][:3] )\n",
    "\n"
   ]
  },
  {
   "cell_type": "code",
   "execution_count": 42,
   "id": "d5e62de4",
   "metadata": {},
   "outputs": [],
   "source": [
    "\n",
    "tokenizer = BertTokenizer.from_pretrained(\"bert-base-cased\")\n"
   ]
  },
  {
   "cell_type": "code",
   "execution_count": 43,
   "id": "2e1a7529",
   "metadata": {},
   "outputs": [
    {
     "data": {
      "text/plain": [
       "['A',\n",
       " 'Titan',\n",
       " 'R',\n",
       " '##T',\n",
       " '##X',\n",
       " 'has',\n",
       " '24',\n",
       " '##GB',\n",
       " 'of',\n",
       " 'V',\n",
       " '##RA',\n",
       " '##M']"
      ]
     },
     "execution_count": 43,
     "metadata": {},
     "output_type": "execute_result"
    }
   ],
   "source": [
    "\n",
    "sequence = \"A Titan RTX has 24GB of VRAM\"\n",
    "tokenized_sequence = tokenizer.tokenize(sequence)\n",
    "tokenized_sequence\n"
   ]
  },
  {
   "cell_type": "code",
   "execution_count": 44,
   "id": "c8d864c2",
   "metadata": {},
   "outputs": [
    {
     "name": "stderr",
     "output_type": "stream",
     "text": [
      "Found cached dataset glue (C:/Users/user1/.cache/huggingface/datasets/glue/cola/1.0.0/dacbe3125aa31d7f70367a07a8a9e72a5a0bfeb5fc42e75c9db75b96da6053ad)\n"
     ]
    },
    {
     "data": {
      "application/vnd.jupyter.widget-view+json": {
       "model_id": "f99aab68c26d45cfbe7a4ce6158db0a9",
       "version_major": 2,
       "version_minor": 0
      },
      "text/plain": [
       "  0%|          | 0/3 [00:00<?, ?it/s]"
      ]
     },
     "metadata": {},
     "output_type": "display_data"
    },
    {
     "name": "stderr",
     "output_type": "stream",
     "text": [
      "Loading cached processed dataset at C:\\Users\\user1\\.cache\\huggingface\\datasets\\glue\\cola\\1.0.0\\dacbe3125aa31d7f70367a07a8a9e72a5a0bfeb5fc42e75c9db75b96da6053ad\\cache-2ace2e857780c233.arrow\n",
      "Loading cached processed dataset at C:\\Users\\user1\\.cache\\huggingface\\datasets\\glue\\cola\\1.0.0\\dacbe3125aa31d7f70367a07a8a9e72a5a0bfeb5fc42e75c9db75b96da6053ad\\cache-e8efc806c3282a7c.arrow\n",
      "Loading cached processed dataset at C:\\Users\\user1\\.cache\\huggingface\\datasets\\glue\\cola\\1.0.0\\dacbe3125aa31d7f70367a07a8a9e72a5a0bfeb5fc42e75c9db75b96da6053ad\\cache-6ba42384548cd136.arrow\n"
     ]
    }
   ],
   "source": [
    "\n",
    "\n",
    "\n",
    "cola3 = load_dataset('glue', 'cola')\n",
    "\n",
    "encoded_data = cola3.map(     lambda e:  tokenizer(   e['sentence'], padding=True, truncation=True, max_length=12), \n",
    "                                                        batched=True, batch_size=1000       )\n",
    "\n"
   ]
  },
  {
   "cell_type": "code",
   "execution_count": 45,
   "id": "27236d25",
   "metadata": {},
   "outputs": [
    {
     "name": "stdout",
     "output_type": "stream",
     "text": [
      "Dataset({\n",
      "    features: ['sentence', 'label', 'idx'],\n",
      "    num_rows: 8864\n",
      "})\n"
     ]
    }
   ],
   "source": [
    "print(   cola_selection   )\n"
   ]
  },
  {
   "cell_type": "code",
   "execution_count": 46,
   "id": "f9f0e4cf",
   "metadata": {},
   "outputs": [
    {
     "name": "stdout",
     "output_type": "stream",
     "text": [
      "DatasetDict({\n",
      "    train: Dataset({\n",
      "        features: ['sentence', 'label', 'idx', 'input_ids', 'token_type_ids', 'attention_mask'],\n",
      "        num_rows: 8551\n",
      "    })\n",
      "    validation: Dataset({\n",
      "        features: ['sentence', 'label', 'idx', 'input_ids', 'token_type_ids', 'attention_mask'],\n",
      "        num_rows: 1043\n",
      "    })\n",
      "    test: Dataset({\n",
      "        features: ['sentence', 'label', 'idx', 'input_ids', 'token_type_ids', 'attention_mask'],\n",
      "        num_rows: 1063\n",
      "    })\n",
      "})\n"
     ]
    }
   ],
   "source": [
    "print(   encoded_data     )\n",
    "\n"
   ]
  },
  {
   "cell_type": "code",
   "execution_count": 47,
   "id": "9f98fdbe",
   "metadata": {},
   "outputs": [
    {
     "name": "stdout",
     "output_type": "stream",
     "text": [
      "{'sentence': \"Which problem does the sooner you solve, the more easily you'll satisfy the folks up at corporate headquarters?\", 'label': -1, 'idx': 12, 'input_ids': [101, 5979, 2463, 1674, 1103, 10639, 1128, 9474, 117, 1103, 1167, 102], 'token_type_ids': [0, 0, 0, 0, 0, 0, 0, 0, 0, 0, 0, 0], 'attention_mask': [1, 1, 1, 1, 1, 1, 1, 1, 1, 1, 1, 1]}\n"
     ]
    }
   ],
   "source": [
    "print(   encoded_data['test'][12]    )"
   ]
  },
  {
   "cell_type": "code",
   "execution_count": null,
   "id": "130f1bd8",
   "metadata": {},
   "outputs": [],
   "source": []
  },
  {
   "cell_type": "code",
   "execution_count": null,
   "id": "265ad860",
   "metadata": {},
   "outputs": [],
   "source": []
  },
  {
   "cell_type": "code",
   "execution_count": null,
   "id": "f84ec40d",
   "metadata": {},
   "outputs": [],
   "source": []
  },
  {
   "cell_type": "code",
   "execution_count": null,
   "id": "2d7ff4e6",
   "metadata": {},
   "outputs": [],
   "source": []
  }
 ],
 "metadata": {
  "kernelspec": {
   "display_name": "Python 3 (ipykernel)",
   "language": "python",
   "name": "python3"
  },
  "language_info": {
   "codemirror_mode": {
    "name": "ipython",
    "version": 3
   },
   "file_extension": ".py",
   "mimetype": "text/x-python",
   "name": "python",
   "nbconvert_exporter": "python",
   "pygments_lexer": "ipython3",
   "version": "3.7.16"
  }
 },
 "nbformat": 4,
 "nbformat_minor": 5
}
