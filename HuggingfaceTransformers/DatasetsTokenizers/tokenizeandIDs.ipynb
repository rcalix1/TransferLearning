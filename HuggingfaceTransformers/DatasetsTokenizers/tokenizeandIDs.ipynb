{
 "cells": [
  {
   "cell_type": "markdown",
   "id": "71f741d0",
   "metadata": {},
   "source": [
    "## These tokens can then be converted into IDs which are understandable by the model\n"
   ]
  },
  {
   "cell_type": "code",
   "execution_count": 1,
   "id": "7b3c2130",
   "metadata": {},
   "outputs": [],
   "source": [
    "\n",
    "from transformers import BertTokenizer\n"
   ]
  },
  {
   "cell_type": "code",
   "execution_count": 2,
   "id": "8757c863",
   "metadata": {},
   "outputs": [],
   "source": [
    "\n",
    "tokenizer = BertTokenizer.from_pretrained(\"bert-base-cased\")\n"
   ]
  },
  {
   "cell_type": "code",
   "execution_count": 3,
   "id": "981605c9",
   "metadata": {},
   "outputs": [],
   "source": [
    "\n",
    "sequence = \"A Titan RTX has 24GB of VRAM\"\n"
   ]
  },
  {
   "cell_type": "code",
   "execution_count": 4,
   "id": "01e8617c",
   "metadata": {},
   "outputs": [
    {
     "name": "stdout",
     "output_type": "stream",
     "text": [
      "['A', 'Titan', 'R', '##T', '##X', 'has', '24', '##GB', 'of', 'V', '##RA', '##M']\n"
     ]
    }
   ],
   "source": [
    "\n",
    "tokenized_sequence = tokenizer.tokenize(sequence)\n",
    "\n",
    "print(tokenized_sequence)\n"
   ]
  },
  {
   "cell_type": "code",
   "execution_count": 5,
   "id": "776037b1",
   "metadata": {},
   "outputs": [
    {
     "data": {
      "text/plain": [
       "{'input_ids': [101, 138, 18696, 155, 1942, 3190, 1144, 1572, 13745, 1104, 159, 9664, 2107, 102], 'token_type_ids': [0, 0, 0, 0, 0, 0, 0, 0, 0, 0, 0, 0, 0, 0], 'attention_mask': [1, 1, 1, 1, 1, 1, 1, 1, 1, 1, 1, 1, 1, 1]}"
      ]
     },
     "execution_count": 5,
     "metadata": {},
     "output_type": "execute_result"
    }
   ],
   "source": [
    "\n",
    "inputs = tokenizer(sequence)\n",
    "inputs\n"
   ]
  },
  {
   "cell_type": "code",
   "execution_count": 6,
   "id": "b98291de",
   "metadata": {},
   "outputs": [
    {
     "name": "stdout",
     "output_type": "stream",
     "text": [
      "[101, 138, 18696, 155, 1942, 3190, 1144, 1572, 13745, 1104, 159, 9664, 2107, 102]\n"
     ]
    }
   ],
   "source": [
    "\n",
    "\n",
    "encoded_sequence = inputs[\"input_ids\"]\n",
    "print(encoded_sequence)\n"
   ]
  },
  {
   "cell_type": "code",
   "execution_count": 7,
   "id": "442f48e9",
   "metadata": {},
   "outputs": [
    {
     "name": "stdout",
     "output_type": "stream",
     "text": [
      "[CLS] A Titan RTX has 24GB of VRAM [SEP]\n"
     ]
    }
   ],
   "source": [
    "\n",
    "\n",
    "decoded_sequence = tokenizer.decode(encoded_sequence)\n",
    "\n",
    "print(decoded_sequence)\n"
   ]
  },
  {
   "cell_type": "code",
   "execution_count": null,
   "id": "979094e7",
   "metadata": {},
   "outputs": [],
   "source": []
  },
  {
   "cell_type": "code",
   "execution_count": null,
   "id": "6918570c",
   "metadata": {},
   "outputs": [],
   "source": []
  },
  {
   "cell_type": "code",
   "execution_count": null,
   "id": "cf8672c7",
   "metadata": {},
   "outputs": [],
   "source": []
  }
 ],
 "metadata": {
  "kernelspec": {
   "display_name": "Python 3 (ipykernel)",
   "language": "python",
   "name": "python3"
  },
  "language_info": {
   "codemirror_mode": {
    "name": "ipython",
    "version": 3
   },
   "file_extension": ".py",
   "mimetype": "text/x-python",
   "name": "python",
   "nbconvert_exporter": "python",
   "pygments_lexer": "ipython3",
   "version": "3.7.16"
  }
 },
 "nbformat": 4,
 "nbformat_minor": 5
}
