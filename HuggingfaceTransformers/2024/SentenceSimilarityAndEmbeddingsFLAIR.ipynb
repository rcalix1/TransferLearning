{
 "cells": [
  {
   "cell_type": "code",
   "execution_count": 20,
   "id": "6c91f23c",
   "metadata": {},
   "outputs": [],
   "source": [
    "\n",
    "## !pip install flair\n",
    "## !pip install sentence-transformers\n"
   ]
  },
  {
   "cell_type": "code",
   "execution_count": 22,
   "id": "8c4fb479",
   "metadata": {},
   "outputs": [],
   "source": [
    "\n",
    "import pandas as pd\n",
    "import torch\n",
    "import torch\n",
    "import numpy as np\n",
    "## import SentenceTransformer\n",
    "from flair.data import Sentence\n",
    "from flair.embeddings import WordEmbeddings, DocumentPoolEmbeddings\n",
    "from flair.embeddings import DocumentRNNEmbeddings\n",
    "from flair.embeddings import TransformerDocumentEmbeddings\n",
    "from flair.embeddings import SentenceTransformerDocumentEmbeddings\n",
    "from transformers import AutoModelForSequenceClassification, AutoTokenizer\n"
   ]
  },
  {
   "cell_type": "code",
   "execution_count": 6,
   "id": "9758ef4b",
   "metadata": {},
   "outputs": [],
   "source": [
    "\n",
    "similar=[\n",
    "(\"A black dog walking beside a pool.\",            \"A black dog is walking along the side of a pool.\"),\n",
    "(\"A blonde woman looks for medical supplies for work in a suitcase.\t\",\n",
    "                                 \" The blond woman is searching for medical supplies in a suitcase.\"),\n",
    "  (\"A doubly decker red bus driving down the road.\",\"A red double decker bus driving down a street.\"),\n",
    "(\"There is a black dog jumping into a swimming pool.\",\"A black dog is leaping into a swimming pool.\"),\n",
    "    (\"The man used a sword to slice a plastic bottle.\",\"A man sliced a plastic bottle with a sword.\")\n",
    "]\n"
   ]
  },
  {
   "cell_type": "code",
   "execution_count": 7,
   "id": "18eea593",
   "metadata": {},
   "outputs": [
    {
     "name": "stdout",
     "output_type": "stream",
     "text": [
      "                                                sen1  \\\n",
      "0                 A black dog walking beside a pool.   \n",
      "1  A blonde woman looks for medical supplies for ...   \n",
      "2     A doubly decker red bus driving down the road.   \n",
      "3  There is a black dog jumping into a swimming p...   \n",
      "4    The man used a sword to slice a plastic bottle.   \n",
      "\n",
      "                                                sen2  \n",
      "0   A black dog is walking along the side of a pool.  \n",
      "1   The blond woman is searching for medical supp...  \n",
      "2     A red double decker bus driving down a street.  \n",
      "3       A black dog is leaping into a swimming pool.  \n",
      "4        A man sliced a plastic bottle with a sword.  \n"
     ]
    }
   ],
   "source": [
    "\n",
    "print(   pd.DataFrame(similar, columns=[\"sen1\", \"sen2\"])    )\n"
   ]
  },
  {
   "cell_type": "code",
   "execution_count": 8,
   "id": "76d80d73",
   "metadata": {},
   "outputs": [],
   "source": [
    "\n",
    "\n",
    "\n",
    "dissimilar= [\n",
    "(\"A little girl and boy are reading books. \", \"An older child is playing with a doll while gazing out the window.\"),\n",
    "(\"Two horses standing in a field with trees in the background.\", \"A black and white bird on a body of water with grass in the background.\"),\n",
    "(\"Two people are walking by the ocean.\" , \"Two men in fleeces and hats looking at the camera.\"),\n",
    "(\"A cat is pouncing on a trampoline.\",\"A man is slicing a tomato.\"),\n",
    "(\"A woman is riding on a horse.\",\"A man is turning over tables in anger.\")\n",
    "]\n",
    "\n",
    "\n"
   ]
  },
  {
   "cell_type": "code",
   "execution_count": 9,
   "id": "909b22e1",
   "metadata": {},
   "outputs": [
    {
     "name": "stdout",
     "output_type": "stream",
     "text": [
      "                                                sen1  \\\n",
      "0          A little girl and boy are reading books.    \n",
      "1  Two horses standing in a field with trees in t...   \n",
      "2               Two people are walking by the ocean.   \n",
      "3                 A cat is pouncing on a trampoline.   \n",
      "4                      A woman is riding on a horse.   \n",
      "\n",
      "                                                sen2  \n",
      "0  An older child is playing with a doll while ga...  \n",
      "1  A black and white bird on a body of water with...  \n",
      "2  Two men in fleeces and hats looking at the cam...  \n",
      "3                         A man is slicing a tomato.  \n",
      "4             A man is turning over tables in anger.  \n"
     ]
    }
   ],
   "source": [
    "\n",
    "\n",
    "\n",
    "print(    pd.DataFrame(dissimilar, columns=[\"sen1\", \"sen2\"])    )\n",
    "\n",
    "\n"
   ]
  },
  {
   "cell_type": "code",
   "execution_count": 10,
   "id": "3e868348",
   "metadata": {},
   "outputs": [],
   "source": [
    "\n",
    "def sim(s1,s2):\n",
    "  # cosine similarity function outputs in the range 0-1\n",
    "  s1=s1.embedding.unsqueeze(0)\n",
    "  s2=s2.embedding.unsqueeze(0)\n",
    "  sim = torch.cosine_similarity(s1,s2).item() \n",
    "  return np.round(sim,2)\n"
   ]
  },
  {
   "cell_type": "code",
   "execution_count": 11,
   "id": "f4567ce2",
   "metadata": {},
   "outputs": [],
   "source": [
    "\n",
    "\n",
    "\n",
    "def evaluate(embeddings, myPairList):\n",
    "  # it evaluates embeddings for a given list of sentence pair\n",
    "  scores=[]\n",
    "  for s1, s2 in myPairList:\n",
    "    s1,s2=Sentence(s1), Sentence(s2)\n",
    "    embeddings.embed(s1)\n",
    "    embeddings.embed(s2)\n",
    "    score=sim(s1,s2)\n",
    "    scores.append(score)\n",
    "  return scores, np.round(np.mean(scores),2)\n",
    "\n",
    "\n"
   ]
  },
  {
   "cell_type": "code",
   "execution_count": 12,
   "id": "820df304",
   "metadata": {},
   "outputs": [],
   "source": [
    "\n",
    "glove_embedding       = WordEmbeddings('glove')\n",
    "glove_pool_embeddings = DocumentPoolEmbeddings([glove_embedding])\n"
   ]
  },
  {
   "cell_type": "code",
   "execution_count": 13,
   "id": "67cff8ee",
   "metadata": {},
   "outputs": [
    {
     "name": "stdout",
     "output_type": "stream",
     "text": [
      "Glove just average embeddings\n",
      "([0.97, 0.99, 0.97, 0.99, 0.98], 0.98)\n",
      "([0.94, 0.97, 0.94, 0.92, 0.93], 0.94)\n"
     ]
    }
   ],
   "source": [
    "\n",
    "print(\"Glove just average embeddings\")\n",
    "print(    evaluate(glove_pool_embeddings, similar)     )\n",
    "print(    evaluate(glove_pool_embeddings, dissimilar)  )\n"
   ]
  },
  {
   "cell_type": "code",
   "execution_count": 14,
   "id": "bc6c7b3d",
   "metadata": {},
   "outputs": [],
   "source": [
    "\n",
    "gru_embeddings = DocumentRNNEmbeddings([glove_embedding])\n"
   ]
  },
  {
   "cell_type": "code",
   "execution_count": 15,
   "id": "2e704f24",
   "metadata": {},
   "outputs": [
    {
     "name": "stdout",
     "output_type": "stream",
     "text": [
      "GRU RNN embeddings\n",
      "([0.99, 1.0, 0.93, 1.0, 0.92], 0.97)\n",
      "([0.88, 1.0, 0.91, 0.89, 0.85], 0.91)\n"
     ]
    }
   ],
   "source": [
    "\n",
    "\n",
    "print(\"GRU RNN embeddings\") \n",
    "\n",
    "print(    evaluate(gru_embeddings, similar)      )\n",
    "print(    evaluate(gru_embeddings, dissimilar)   )\n",
    "\n",
    "\n"
   ]
  },
  {
   "cell_type": "code",
   "execution_count": 16,
   "id": "8eddef11",
   "metadata": {},
   "outputs": [],
   "source": [
    "\n",
    "bert_embeddings = TransformerDocumentEmbeddings('bert-base-uncased')\n"
   ]
  },
  {
   "cell_type": "code",
   "execution_count": 17,
   "id": "0ac6ab37",
   "metadata": {},
   "outputs": [
    {
     "name": "stdout",
     "output_type": "stream",
     "text": [
      "([0.85, 0.9, 0.96, 0.91, 0.89], 0.9)\n",
      "([0.93, 0.94, 0.86, 0.93, 0.92], 0.92)\n"
     ]
    }
   ],
   "source": [
    "\n",
    "\n",
    "\n",
    "print(   evaluate(bert_embeddings, similar)       )\n",
    "print(   evaluate(bert_embeddings, dissimilar)    )\n",
    "\n",
    "\n"
   ]
  },
  {
   "cell_type": "code",
   "execution_count": 23,
   "id": "b0c0d0d3",
   "metadata": {},
   "outputs": [],
   "source": [
    "\n",
    "\n",
    "sbert_embeddings = SentenceTransformerDocumentEmbeddings('bert-base-nli-mean-tokens')\n",
    "\n"
   ]
  },
  {
   "cell_type": "code",
   "execution_count": 24,
   "id": "26ecfa0c",
   "metadata": {},
   "outputs": [
    {
     "name": "stdout",
     "output_type": "stream",
     "text": [
      "--------------------------------\n",
      "Notice, this one actually does what we want\n",
      "([0.98, 0.95, 0.96, 0.99, 0.98], 0.97)\n",
      "([0.48, 0.41, 0.19, -0.05, 0.0], 0.21)\n"
     ]
    }
   ],
   "source": [
    "\n",
    "print(\"--------------------------------\")\n",
    "print(  \"Notice, this one actually does what we want\"  )\n",
    "print(   evaluate(sbert_embeddings, similar)   )\n",
    "print(   evaluate(sbert_embeddings, dissimilar)   )\n"
   ]
  },
  {
   "cell_type": "code",
   "execution_count": null,
   "id": "01c3a0c2",
   "metadata": {},
   "outputs": [],
   "source": []
  },
  {
   "cell_type": "code",
   "execution_count": null,
   "id": "24f9067d",
   "metadata": {},
   "outputs": [],
   "source": []
  },
  {
   "cell_type": "code",
   "execution_count": null,
   "id": "2fa6cf07",
   "metadata": {},
   "outputs": [],
   "source": []
  },
  {
   "cell_type": "code",
   "execution_count": null,
   "id": "2cc0cabb",
   "metadata": {},
   "outputs": [],
   "source": []
  },
  {
   "cell_type": "code",
   "execution_count": null,
   "id": "55ed459c",
   "metadata": {},
   "outputs": [],
   "source": []
  },
  {
   "cell_type": "code",
   "execution_count": null,
   "id": "97013eba",
   "metadata": {},
   "outputs": [],
   "source": []
  },
  {
   "cell_type": "code",
   "execution_count": null,
   "id": "52caa606",
   "metadata": {},
   "outputs": [],
   "source": []
  }
 ],
 "metadata": {
  "kernelspec": {
   "display_name": "Python 3 (ipykernel)",
   "language": "python",
   "name": "python3"
  },
  "language_info": {
   "codemirror_mode": {
    "name": "ipython",
    "version": 3
   },
   "file_extension": ".py",
   "mimetype": "text/x-python",
   "name": "python",
   "nbconvert_exporter": "python",
   "pygments_lexer": "ipython3",
   "version": "3.7.16"
  }
 },
 "nbformat": 4,
 "nbformat_minor": 5
}
