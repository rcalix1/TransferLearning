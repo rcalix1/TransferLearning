{
 "cells": [
  {
   "cell_type": "markdown",
   "metadata": {},
   "source": [
    "\n",
    "## Resnet with 1 GPU\n"
   ]
  },
  {
   "cell_type": "code",
   "execution_count": 20,
   "metadata": {},
   "outputs": [],
   "source": [
    "\n",
    "## !pip install torchmetrics\n"
   ]
  },
  {
   "cell_type": "code",
   "execution_count": 21,
   "metadata": {},
   "outputs": [],
   "source": [
    "\n",
    "from pathlib import Path\n",
    "import torch\n",
    "import torch.nn as nn\n",
    "from torch.utils.data import Dataset, DataLoader\n",
    "from torchvision.models import resnet34\n",
    "from torchvision.transforms import transforms\n",
    "from torchvision.datasets import CIFAR10\n",
    "import torch.optim as optim\n",
    "from torch import Tensor\n",
    "from typing import Iterator, Tuple\n",
    "import torchmetrics\n",
    "\n"
   ]
  },
  {
   "cell_type": "code",
   "execution_count": 22,
   "metadata": {},
   "outputs": [],
   "source": [
    "\n",
    "def prepare_const() -> dict:\n",
    "    \"\"\"Data and model directory + Training hyperparameters\"\"\"\n",
    "    data_root      = Path(\"/scratch/scholar/rcalix/data\")\n",
    "    trained_models = Path(\"/scratch/scholar/rcalix/trained_models\")\n",
    "\n",
    "    if not data_root.exists():\n",
    "        data_root.mkdir()\n",
    "\n",
    "    if not trained_models.exists():\n",
    "        trained_models.mkdir()\n",
    "\n",
    "    const = dict(\n",
    "        data_root     =data_root,\n",
    "        trained_models=trained_models,\n",
    "        total_epochs  =15,\n",
    "        batch_size    =128,\n",
    "        lr            =0.1,  # learning rate\n",
    "        momentum      =0.9,\n",
    "        lr_step_size  =5,\n",
    "        save_every    =3,\n",
    "    )\n",
    "\n",
    "    return const\n"
   ]
  },
  {
   "cell_type": "code",
   "execution_count": 23,
   "metadata": {},
   "outputs": [],
   "source": [
    "\n",
    "def cifar_model() -> nn.Module:\n",
    "    model         = resnet34( num_classes=10 ) \n",
    "    model.conv1   = nn.Conv2d(3, 64, kernel_size=3, stride=2, padding=1, bias=False)\n",
    "    model.maxpool = nn.Identity()      ## effectively removes this maxpool layer \n",
    "    return model\n",
    "\n"
   ]
  },
  {
   "cell_type": "code",
   "execution_count": 24,
   "metadata": {},
   "outputs": [],
   "source": [
    "\n",
    "def cifar_dataset(data_root: Path) -> Tuple[Dataset, Dataset]:\n",
    "    \n",
    "    transform = transforms.Compose(\n",
    "        [\n",
    "            transforms.ToTensor(),\n",
    "            transforms.Normalize(\n",
    "                mean=(0.49139968, 0.48215827, 0.44653124),\n",
    "                std =(0.24703233, 0.24348505, 0.26158768),\n",
    "            ),\n",
    "        ]\n",
    "    )\n",
    "\n",
    "    trainset = CIFAR10(root=data_root, train=True,  transform=transform, download=True)\n",
    "    testset  = CIFAR10(root=data_root, train=False, transform=transform, download=True)\n",
    "\n",
    "    return trainset, testset\n"
   ]
  },
  {
   "cell_type": "markdown",
   "metadata": {},
   "source": [
    "\n",
    "## Single GPU test\n"
   ]
  },
  {
   "cell_type": "code",
   "execution_count": 25,
   "metadata": {},
   "outputs": [],
   "source": [
    "\n",
    "def cifar_dataloader_single(\n",
    "    trainset: Dataset, testset: Dataset, bs: int\n",
    ") -> Tuple[DataLoader, DataLoader]:\n",
    "    \n",
    "    trainloader = DataLoader(trainset, batch_size=bs, shuffle=True,  num_workers=8)\n",
    "    testloader  = DataLoader(testset,  batch_size=bs, shuffle=False, num_workers=8)\n",
    "\n",
    "    return trainloader, testloader\n"
   ]
  },
  {
   "cell_type": "code",
   "execution_count": 26,
   "metadata": {},
   "outputs": [],
   "source": [
    "\n",
    "\n",
    "class TrainerSingle:\n",
    "    \n",
    "    def __init__(\n",
    "        self,\n",
    "        gpu_id: int,\n",
    "        model: nn.Module,\n",
    "        trainloader: DataLoader,\n",
    "        testloader:  DataLoader,\n",
    "    ):\n",
    "        self.gpu_id = gpu_id\n",
    "\n",
    "        self.const = prepare_const()\n",
    "        self.model = model.to(self.gpu_id)\n",
    "        self.trainloader = trainloader\n",
    "        self.testloader  = testloader\n",
    "        self.criterion   = nn.CrossEntropyLoss()\n",
    "        self.optimizer   = optim.SGD(\n",
    "            self.model.parameters(),\n",
    "            lr=self.const[\"lr\"],\n",
    "            momentum=self.const[\"momentum\"],\n",
    "        )\n",
    "        self.lr_scheduler = optim.lr_scheduler.StepLR(\n",
    "            self.optimizer, self.const[\"lr_step_size\"]\n",
    "        )\n",
    "        self.train_acc = torchmetrics.Accuracy(\n",
    "            task=\"multiclass\", num_classes=10, average=\"micro\"\n",
    "        ).to(self.gpu_id)\n",
    "\n",
    "        self.valid_acc = torchmetrics.Accuracy(\n",
    "            task=\"multiclass\", num_classes=10, average=\"micro\"\n",
    "        ).to(self.gpu_id)\n",
    "\n",
    "    def _run_batch(self, src: Tensor, tgt: Tensor) -> float:\n",
    "        \n",
    "        self.optimizer.zero_grad()\n",
    "\n",
    "        out  = self.model(src)\n",
    "        loss = self.criterion(out, tgt)\n",
    "        loss.backward()\n",
    "        self.optimizer.step()\n",
    "\n",
    "        self.train_acc.update(out, tgt)\n",
    "        return loss.item()\n",
    "\n",
    "    def _run_epoch(self, epoch: int):\n",
    "        loss = 0.0\n",
    "        for src, tgt in self.trainloader:\n",
    "            src = src.to(self.gpu_id)\n",
    "            tgt = tgt.to(self.gpu_id)\n",
    "            loss_batch = self._run_batch(src, tgt)\n",
    "            loss += loss_batch\n",
    "        self.lr_scheduler.step()\n",
    "\n",
    "        print(\n",
    "            f\"{'-' * 90}\\n[GPU{self.gpu_id}] Epoch {epoch:2d} | Batchsize: {self.const['batch_size']} | Steps: {len(self.trainloader)} | LR: {self.optimizer.param_groups[0]['lr']:.4f} | Loss: {loss / len(self.trainloader):.4f} | Acc: {100 * self.train_acc.compute().item():.2f}%\",\n",
    "            flush=True,\n",
    "        )\n",
    "\n",
    "        self.train_acc.reset()\n",
    "\n",
    "    def _save_checkpoint(self, epoch: int):\n",
    "        ckp        = self.model.state_dict()\n",
    "        model_path = self.const[\"trained_models\"] / f\"CIFAR10_single_epoch{epoch}.pt\"\n",
    "        torch.save(ckp, model_path)\n",
    "\n",
    "    def train(self, max_epochs: int):\n",
    "        self.model.train()\n",
    "        for epoch in range(max_epochs):\n",
    "            self._run_epoch(epoch)\n",
    "            if epoch % self.const[\"save_every\"] == 0:\n",
    "                self._save_checkpoint(epoch)\n",
    "        # save last epoch\n",
    "        self._save_checkpoint(max_epochs - 1)\n",
    "\n",
    "    def test(self, final_model_path: str):\n",
    "        self.model.load_state_dict(torch.load(final_model_path))\n",
    "        self.model.eval()\n",
    "        with torch.no_grad():\n",
    "            for src, tgt in self.testloader:\n",
    "                src = src.to(self.gpu_id)\n",
    "                tgt = tgt.to(self.gpu_id)\n",
    "                out = self.model(src)\n",
    "                self.valid_acc.update(out, tgt)\n",
    "        print(\n",
    "            f\"[GPU{self.gpu_id}] Test Acc: {100 * self.valid_acc.compute().item():.4f}%\"\n",
    "        )\n",
    "\n"
   ]
  },
  {
   "cell_type": "code",
   "execution_count": 27,
   "metadata": {},
   "outputs": [],
   "source": [
    "\n",
    "def main_single(gpu_id: int, final_model_path: str):\n",
    "    const = prepare_const()\n",
    "    train_dataset, test_dataset       = cifar_dataset(const[\"data_root\"])\n",
    "    train_dataloader, test_dataloader = cifar_dataloader_single(\n",
    "        train_dataset, test_dataset, const[\"batch_size\"]\n",
    "    )\n",
    "    model = cifar_model()\n",
    "    trainer = TrainerSingle(\n",
    "        gpu_id=gpu_id,\n",
    "        model=model,\n",
    "        trainloader=train_dataloader,\n",
    "        testloader=test_dataloader,\n",
    "    )\n",
    "    trainer.train(const[\"total_epochs\"])\n",
    "    trainer.test(final_model_path)\n",
    "\n",
    "\n"
   ]
  },
  {
   "cell_type": "code",
   "execution_count": 28,
   "metadata": {},
   "outputs": [
    {
     "name": "stdout",
     "output_type": "stream",
     "text": [
      "Files already downloaded and verified\n",
      "Files already downloaded and verified\n",
      "------------------------------------------------------------------------------------------\n",
      "[GPU0] Epoch  0 | Batchsize: 128 | Steps: 391 | LR: 0.1000 | Loss: 2.1259 | Acc: 25.03%\n",
      "------------------------------------------------------------------------------------------\n",
      "[GPU0] Epoch  1 | Batchsize: 128 | Steps: 391 | LR: 0.1000 | Loss: 1.4503 | Acc: 46.31%\n",
      "------------------------------------------------------------------------------------------\n",
      "[GPU0] Epoch  2 | Batchsize: 128 | Steps: 391 | LR: 0.1000 | Loss: 1.1877 | Acc: 57.09%\n",
      "------------------------------------------------------------------------------------------\n",
      "[GPU0] Epoch  3 | Batchsize: 128 | Steps: 391 | LR: 0.1000 | Loss: 0.9733 | Acc: 65.20%\n",
      "------------------------------------------------------------------------------------------\n",
      "[GPU0] Epoch  4 | Batchsize: 128 | Steps: 391 | LR: 0.0100 | Loss: 0.8134 | Acc: 71.02%\n",
      "------------------------------------------------------------------------------------------\n",
      "[GPU0] Epoch  5 | Batchsize: 128 | Steps: 391 | LR: 0.0100 | Loss: 0.5376 | Acc: 81.16%\n",
      "------------------------------------------------------------------------------------------\n",
      "[GPU0] Epoch  6 | Batchsize: 128 | Steps: 391 | LR: 0.0100 | Loss: 0.4507 | Acc: 84.36%\n",
      "------------------------------------------------------------------------------------------\n",
      "[GPU0] Epoch  7 | Batchsize: 128 | Steps: 391 | LR: 0.0100 | Loss: 0.3810 | Acc: 86.70%\n",
      "------------------------------------------------------------------------------------------\n",
      "[GPU0] Epoch  8 | Batchsize: 128 | Steps: 391 | LR: 0.0100 | Loss: 0.3116 | Acc: 89.30%\n",
      "------------------------------------------------------------------------------------------\n",
      "[GPU0] Epoch  9 | Batchsize: 128 | Steps: 391 | LR: 0.0010 | Loss: 0.2315 | Acc: 92.14%\n",
      "------------------------------------------------------------------------------------------\n",
      "[GPU0] Epoch 10 | Batchsize: 128 | Steps: 391 | LR: 0.0010 | Loss: 0.1307 | Acc: 96.28%\n",
      "------------------------------------------------------------------------------------------\n",
      "[GPU0] Epoch 11 | Batchsize: 128 | Steps: 391 | LR: 0.0010 | Loss: 0.1064 | Acc: 97.18%\n",
      "------------------------------------------------------------------------------------------\n",
      "[GPU0] Epoch 12 | Batchsize: 128 | Steps: 391 | LR: 0.0010 | Loss: 0.0921 | Acc: 97.63%\n",
      "------------------------------------------------------------------------------------------\n",
      "[GPU0] Epoch 13 | Batchsize: 128 | Steps: 391 | LR: 0.0010 | Loss: 0.0824 | Acc: 97.86%\n",
      "------------------------------------------------------------------------------------------\n",
      "[GPU0] Epoch 14 | Batchsize: 128 | Steps: 391 | LR: 0.0001 | Loss: 0.0722 | Acc: 98.23%\n",
      "[GPU0] Test Acc: 74.8500%\n"
     ]
    }
   ],
   "source": [
    "\n",
    "if __name__ == \"__main__\":\n",
    "    gpu_id = 0\n",
    "    final_model_path =  Path(\"/scratch/scholar/rcalix/trained_models/CIFAR10_single_epoch14.pt\")\n",
    "    main_single(gpu_id, final_model_path)\n"
   ]
  },
  {
   "cell_type": "code",
   "execution_count": null,
   "metadata": {},
   "outputs": [],
   "source": []
  },
  {
   "cell_type": "code",
   "execution_count": null,
   "metadata": {},
   "outputs": [],
   "source": []
  },
  {
   "cell_type": "code",
   "execution_count": null,
   "metadata": {},
   "outputs": [],
   "source": []
  },
  {
   "cell_type": "code",
   "execution_count": null,
   "metadata": {},
   "outputs": [],
   "source": []
  },
  {
   "cell_type": "code",
   "execution_count": null,
   "metadata": {},
   "outputs": [],
   "source": []
  },
  {
   "cell_type": "code",
   "execution_count": null,
   "metadata": {},
   "outputs": [],
   "source": []
  },
  {
   "cell_type": "code",
   "execution_count": null,
   "metadata": {},
   "outputs": [],
   "source": []
  },
  {
   "cell_type": "code",
   "execution_count": null,
   "metadata": {},
   "outputs": [],
   "source": []
  },
  {
   "cell_type": "code",
   "execution_count": null,
   "metadata": {},
   "outputs": [],
   "source": []
  },
  {
   "cell_type": "code",
   "execution_count": null,
   "metadata": {},
   "outputs": [],
   "source": []
  },
  {
   "cell_type": "code",
   "execution_count": null,
   "metadata": {},
   "outputs": [],
   "source": []
  },
  {
   "cell_type": "code",
   "execution_count": null,
   "metadata": {},
   "outputs": [],
   "source": []
  },
  {
   "cell_type": "code",
   "execution_count": null,
   "metadata": {},
   "outputs": [],
   "source": []
  }
 ],
 "metadata": {
  "kernelspec": {
   "display_name": "Python 3.8 (Anaconda 2020.11)",
   "language": "python",
   "name": "anaconda-2020.11-py38"
  },
  "language_info": {
   "codemirror_mode": {
    "name": "ipython",
    "version": 3
   },
   "file_extension": ".py",
   "mimetype": "text/x-python",
   "name": "python",
   "nbconvert_exporter": "python",
   "pygments_lexer": "ipython3",
   "version": "3.8.5"
  }
 },
 "nbformat": 4,
 "nbformat_minor": 4
}
