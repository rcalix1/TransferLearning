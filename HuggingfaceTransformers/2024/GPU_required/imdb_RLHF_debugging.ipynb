{
 "cells": [
  {
   "cell_type": "code",
   "execution_count": 1,
   "metadata": {},
   "outputs": [],
   "source": [
    "\n",
    "## Python >= 3.8  \n"
   ]
  },
  {
   "cell_type": "code",
   "execution_count": 2,
   "metadata": {},
   "outputs": [],
   "source": [
    "\n",
    "## !pip install transformers\n",
    "## !pip install wandb\n",
    "## !pip install trl\n",
    "## !pip install pandas\n",
    "## !pip install datasets\n",
    "## !pip install accelerate\n",
    "## !pip install tyro\n",
    "## !pip install nltk -U\n"
   ]
  },
  {
   "cell_type": "code",
   "execution_count": 3,
   "metadata": {},
   "outputs": [],
   "source": [
    "\n",
    "import torch\n",
    "from tqdm import tqdm\n",
    "import pandas as pd\n",
    "import wandb\n",
    "import os\n",
    "\n",
    "tqdm.pandas()\n",
    "\n",
    "from transformers import pipeline, AutoTokenizer\n",
    "from datasets import load_dataset\n",
    "\n",
    "from trl import PPOTrainer, PPOConfig, AutoModelForCausalLMWithValueHead\n",
    "from trl.core import LengthSampler\n"
   ]
  },
  {
   "cell_type": "code",
   "execution_count": 4,
   "metadata": {},
   "outputs": [],
   "source": [
    "\n",
    "config = PPOConfig(\n",
    "    model_name    = \"lvwerra/gpt2-imdb\",\n",
    "    learning_rate = 1.41e-5,\n",
    "    ## log_with      = \"wandb\",\n",
    ")\n",
    "\n",
    "sent_kwargs = {\n",
    "         \"return_all_scores\": True, \n",
    "         \"function_to_apply\": \"none\", \n",
    "         \"batch_size\": 16\n",
    "}\n"
   ]
  },
  {
   "cell_type": "code",
   "execution_count": 5,
   "metadata": {},
   "outputs": [
    {
     "name": "stderr",
     "output_type": "stream",
     "text": [
      "Failed to detect the name of this notebook, you can set it manually with the WANDB_NOTEBOOK_NAME environment variable to enable code saving.\n"
     ]
    }
   ],
   "source": [
    "\n",
    "## wandb.init()\n",
    "\n",
    "wandb.init(mode=\"disabled\") \n",
    "os.environ['WANDB_DISABLED'] = 'true'\n"
   ]
  },
  {
   "cell_type": "markdown",
   "metadata": {},
   "source": [
    "\n",
    "## Load IMDB dataset\n",
    "\n",
    "The IMDB dataset contains 50k movie review annotated with \"positive\"/\"negative\" feedback indicating the sentiment. We load the IMDB dataset into a DataFrame and filter for comments that are at least 200 characters. Then we tokenize each text and cut it to random size with the LengthSampler.\n"
   ]
  },
  {
   "cell_type": "markdown",
   "metadata": {},
   "source": [
    "\n",
    "## Visualize details of dataset\n"
   ]
  },
  {
   "cell_type": "code",
   "execution_count": 6,
   "metadata": {},
   "outputs": [],
   "source": [
    "\n",
    "dataset_name=\"imdb\"\n"
   ]
  },
  {
   "cell_type": "code",
   "execution_count": 7,
   "metadata": {},
   "outputs": [],
   "source": [
    "\n",
    "ds = load_dataset(dataset_name, split=\"train\")\n"
   ]
  },
  {
   "cell_type": "code",
   "execution_count": 8,
   "metadata": {},
   "outputs": [
    {
     "data": {
      "text/plain": [
       "Dataset({\n",
       "    features: ['text', 'label'],\n",
       "    num_rows: 25000\n",
       "})"
      ]
     },
     "execution_count": 8,
     "metadata": {},
     "output_type": "execute_result"
    }
   ],
   "source": [
    "\n",
    "ds\n"
   ]
  },
  {
   "cell_type": "code",
   "execution_count": 9,
   "metadata": {},
   "outputs": [
    {
     "data": {
      "text/plain": [
       "{'text': [\"This film is just plain horrible. John Ritter doing pratt falls, 75% of the actors delivering their lines as if they were reading them from cue cards, poor editing, horrible sound mixing (dialogue is tough to pick up in places over the background noise), and a plot that really goes nowhere. I didn't think I'd ever say this, but Dorothy Stratten is not the worst actress in this film. There are at least 3 others that suck more. Patti Hansen delivers her lines with the passion of Ben Stein. I started to wonder if she wasn't dead inside. Even Bogdanovich's kids are awful (the oldest one is definitely reading her lines from a cue card). This movie is seriously horrible. There's a reason Bogdanovich couldn't get another project until 4 years later. Please don't watch it. If you see it in your television listings, cancel your cable. If a friend suggests it to you, reconsider your friendship. If your spouse wants to watch it, you're better off finding another soulmate. I'd rather gouge my eyes out with lawn darts than sit through this piece of garbage again. If I could sum this film up in one word, that word would be: Suckotrocity\",\n",
       "  \"My interest in Dorothy Stratten caused me to purchase this video. Although it had great actors/actresses, there were just too many subplots going on to retain interest. Plus it just wasn't that interesting. Dialogue was stiff and confusing and the story just flipped around too much to be believable. I was pretty disappointed in what I believe was one of Audrey Hepburn's last movies. I'll always love John Ritter best in slapstick. He was just too pathetic here.\",\n",
       "  \"I have this film out of the library right now and I haven't finished watching it. It is so bad I am in disbelief. Audrey Hepburn had totally lost her talent by then, although she'd pretty much finished with it in 'Robin and Marian.' This is the worst thing about this appallingly stupid film. It's really only of interest because it was her last feature film and because of the Dorothy Stratten appearance just prior to her homicide.<br /><br />There is nothing but idiocy between Gazzara and his cronies. Little signals and little bows and nods to real screwball comedy of which this is the faintest, palest shadow.<br /><br />Who could believe that there are even some of the same Manhattan environs that Hepburn inhabited so magically and even mythically in 'Breakfast at Tiffany's' twenty years earlier? The soundtrack of old Sinatra songs and the Gershwin song from which the title is taken is too loud and obvious--you sure don't have to wait for the credits to find out that something was subtly woven into the cine-musique of the picture to know when the songs blasted out at you.<br /><br />'Reverting to type' means going back up as well as going back down, I guess. In this case, Audrey Hepburn's chic European lady is all you see of someone who was formerly occasionally an actress and always a star. Here she has even lost her talent as a star. If someone whose talent was continuing to grow in the period, like Ann-Margret, had played the role, there would have been some life in it, even given the unbelievably bad material and Mongoloid-level situations.<br /><br />Hepburn was a great person, of course, greater than most movie stars ever dreamed of being, and she was once one of the most charming and beautiful of film actors. After this dreadful performance, she went on to make an atrocious TV movie with Robert Wagner called 'Love Among Thieves.' In 'They all Laughed' it is as though she were still playing an ingenue in her 50's. Even much vainer and obviously less intelligent actresses who insisted upon doing this like Lana Turner were infinitely more effective than is Hepburn. Turner took acting seriously even when she was bad. Hepburn doesn't take it seriously at all, couldn't be bothered with it; even her hair and clothes look tacky. Her last really good work was in 'Two for the Road,' perhaps her most perfect, if possibly not her best in many ways.<br /><br />And that girl who plays the country singer is just sickening. John Ritter is horrible, there is simply nothing to recommend this film except to see Dorothy Stratten, who was truly pretty. Otherwise, critic David Thomson's oft-used phrase 'losing his/her talent' never has made more sense.<br /><br />Ben Gazarra had lost all sex appeal by then, and so we have 2 films with Gazarra and Hepburn--who could ask for anything less? Sandra Dee's last, pitiful film 'Lost,' from 2 years later, a low-budget nothing, had more to it than this. At least Ms. Dee spoke in her own voice; by 1981, Audrey Hepburn's accent just sounded silly; she'd go on to do the PBS 'Gardens of the World with Audrey Hepburn' and there her somewhat irritating accent works as she walks through English gardens with aristocrats or waxes effusively about 'what I like most is when flowers go back to nature!' as in naturalized daffodils, but in an actual fictional movie, she just sounds ridiculous.<br /><br />To think that 'Breakfast at Tiffany's' was such a profound sort of light poetic thing with Audrey Hepburn one of the most beautiful women in the world--she was surely one of the most beautiful screen presences in 'My Fair Lady', matching Garbo in several things and Delphine Seyrig in 'Last Year at Marienbad.' And then this! And her final brief role as the angel 'Hap' in the Spielberg film 'Always' was just more of the lady stuff--corny, witless and stifling.<br /><br />I went to her memorial service at the Fifth Avenue Presbyterian Church, a beautiful service which included a boys' choir singing the Shaker hymn 'Simple Gifts.' The only thing not listed in the program was the sudden playing of Hepburn's singing 'Moon River' on the fire escape in 'Breakfast at Tiffany's,' and this brought much emotion and some real tears out in the congregation.<br /><br />A great lady who was once a fine actress (as in 'The Nun's Story') and one of the greatest and most beautiful of film stars in many movies of the 50's and 60's who became a truly bad one--that's not all that common. And perhaps it is only a great human being who, in making such things as film performances trivial, nevertheless has the largeness of mind to want to have the flaws pointed out mercilessly--which all of her late film work contained in abundance. Most of the talk about Hepburn's miscasting is about 'My Fair Lady.' But the one that should have had the original actress in it was 'Wait Until Dark,' which had starred Lee Remick on Broadway. Never as celebrated as Hepburn, she was a better actress in many ways (Hepburn was completely incapable of playing anything really sordid), although Hepburn was at least adequate enough in that part. After that, all of her acting went downhill.\"],\n",
       " 'label': [0, 0, 0]}"
      ]
     },
     "execution_count": 9,
     "metadata": {},
     "output_type": "execute_result"
    }
   ],
   "source": [
    "\n",
    "ds[15:18]\n"
   ]
  },
  {
   "cell_type": "code",
   "execution_count": 10,
   "metadata": {},
   "outputs": [],
   "source": [
    "\n",
    "from datasets import ClassLabel\n",
    "import random\n",
    "import pandas as pd\n",
    "from IPython.display import display, HTML\n"
   ]
  },
  {
   "cell_type": "code",
   "execution_count": 11,
   "metadata": {},
   "outputs": [],
   "source": [
    "\n",
    "def show_random_elements(dataset, num_examples=20):\n",
    "    assert num_examples <= len(dataset), \"Can't pick more elements than there are in the dataset.\"\n",
    "    \n",
    "    picks = []\n",
    "    \n",
    "    for _ in range( num_examples ):\n",
    "        \n",
    "        pick = random.randint(0, len(dataset)-1)\n",
    "        while pick in picks:\n",
    "            pick = random.randint(0, len(dataset)-1)\n",
    "        picks.append(pick)\n",
    "    \n",
    "    df = pd.DataFrame( dataset[picks] )        ## indexing 10 picks \n",
    "    \n",
    "    print(df)\n",
    "    print(dataset.features.items())\n",
    "    \n",
    "    for column, typ in dataset.features.items():\n",
    "        print(column)\n",
    "        print(typ)\n",
    "        print(ClassLabel)\n",
    "        ## The isinstance() function returns True if the specified object \n",
    "        ## is of the specified type, otherwise False\n",
    "        if isinstance(typ, ClassLabel):\n",
    "            print(\"Hello\")\n",
    "            df[column] = df[column].transform(lambda i: typ.names[i])\n",
    "            ## print(typ.names[i])\n",
    "            \n",
    "    display(HTML(df.to_html()))\n"
   ]
  },
  {
   "cell_type": "code",
   "execution_count": 12,
   "metadata": {},
   "outputs": [
    {
     "name": "stdout",
     "output_type": "stream",
     "text": [
      "                                                 text  label\n",
      "0   Superhero movies pretty much always suck, and ...      0\n",
      "1   Please! Do not waste any money on this movie. ...      0\n",
      "2   I gave it a 10, since everyone else seemed to ...      1\n",
      "3   I found this to be a surprisingly light-handed...      1\n",
      "4   Fot the most part, this movie feels like a \"ma...      0\n",
      "5   The film picks up after last years remake with...      0\n",
      "6   Back to the roots with \"like it is in heaven\" ...      1\n",
      "7   A confused mess from start to finish. Like the...      0\n",
      "8   This movie has an all star cast, John Candy, R...      1\n",
      "9   in one of Neil Simon's best plays. Creaky, cra...      1\n",
      "10  There have been some funny movies about spirit...      0\n",
      "11  Before watching this film I had very low expec...      0\n",
      "12  After seeing the trailer for Evening, you will...      1\n",
      "13  Believe it or not, \"The Woodchipper Massacre\" ...      0\n",
      "14  What an insult to Olivia D'Abo who plays the f...      0\n",
      "15  Every child experiences trauma growing up and ...      1\n",
      "16  I guess I was attracted to this film both beca...      0\n",
      "17  Buford's Beach Bunnies gives B-grade T&A films...      0\n",
      "18  Cruel Intentions 2 is bloody awful, I mean ube...      0\n",
      "19  This story had a different angle that intrigue...      0\n",
      "dict_items([('text', Value(dtype='string', id=None)), ('label', ClassLabel(names=['neg', 'pos'], id=None))])\n",
      "text\n",
      "Value(dtype='string', id=None)\n",
      "<class 'datasets.features.features.ClassLabel'>\n",
      "label\n",
      "ClassLabel(names=['neg', 'pos'], id=None)\n",
      "<class 'datasets.features.features.ClassLabel'>\n",
      "Hello\n"
     ]
    },
    {
     "data": {
      "text/html": [
       "<table border=\"1\" class=\"dataframe\">\n",
       "  <thead>\n",
       "    <tr style=\"text-align: right;\">\n",
       "      <th></th>\n",
       "      <th>text</th>\n",
       "      <th>label</th>\n",
       "    </tr>\n",
       "  </thead>\n",
       "  <tbody>\n",
       "    <tr>\n",
       "      <th>0</th>\n",
       "      <td>Superhero movies pretty much always suck, and this is no exception. Its only redeeming quality is the fact the movie COULD have been even worse. I would put 'Batman &amp; Robin' and 'Steel' above this movie, so yes it is that bad...&lt;br /&gt;&lt;br /&gt;If your looking for a black superhero, check out 'Blankman' its not a \"serious\" superhero movie but at least its entertaining.</td>\n",
       "      <td>neg</td>\n",
       "    </tr>\n",
       "    <tr>\n",
       "      <th>1</th>\n",
       "      <td>Please! Do not waste any money on this movie. It really is nothing more than a boring German Blair Witch ripoff made by some high school kids. I couldn't finish watching it, and usually I like watching all kinds of B-movies. How on earth could they find a distributor for it?!!! Funny however: Check out Wikipedia for \"dark area\". The guy who wrote the entry must be completely out of his mind. Maybe he got loads of money from the producers. Money that should have been spend on actors, camera and editing. Even that wouldn't have helped, since there is absolutely no interesting idea behind this film. Unfortunately \"dark area\" has already gotten too much attention. Please, director, producer and author of this movie, STOP making movies like that...you are not doing yourself a favor. The world would be a better place without this film.</td>\n",
       "      <td>neg</td>\n",
       "    </tr>\n",
       "    <tr>\n",
       "      <th>2</th>\n",
       "      <td>I gave it a 10, since everyone else seemed to like it and it would have been churlish not to. The reason I'm troubling you is to add a personal observation on Castle's work.&lt;br /&gt;&lt;br /&gt;I've seen \"Homicidal\" and \"The Tingler\" (the version with the clever colour sequence where everything except the blood is in black and white) a few times and \"The House On Haunted Hill\" many times.&lt;br /&gt;&lt;br /&gt;Even I am not old enough to have seen them when Castle was up to his showman tricks, thus I can appreciate them for their own merit. And while most pass him off as second-rate, schlocky, hammy, etc., I believe they do him a disservice.&lt;br /&gt;&lt;br /&gt;The end sequence of \"Homicidal\" is GENUINELY shocking and works today - and the premise of \"The Tingler\" while silly, was highly original.&lt;br /&gt;&lt;br /&gt;But \"The House On Haunted Hill\" was a TRIUMPH. Having used that Frank Lloyd Wright house as its exterior, the great Vincent Price and a solid cast, plus a good score and production values - when I first saw it at a packed late-night showing in the late Sixties, it produced an audience reaction I'd not seen before and have not seen since.&lt;br /&gt;&lt;br /&gt;It was the bit where the heroine is alone in the basement (if you've not seen the film, stop reading NOW) and we are waiting to hear the hero on the other side of the wall.&lt;br /&gt;&lt;br /&gt;With NO telegraphing of what is coming, the camera slowly pulls back, forcing the AUDIENCE to switch their gaze to... I'm saying no more (my \"spoiler\" declaration above only covers THIS movie).&lt;br /&gt;&lt;br /&gt;The point is, I believe this ploy was DELIBERATE - not accidental - and when it happened, the WHOLE AUDIENCE SCREAMED (including most of the men!) It took the audience about TEN MINUTES to calm down.&lt;br /&gt;&lt;br /&gt;Now THAT is superior film-making. A flamboyant showman he might have been, but \"House\" and the other two films I've mentioned were GOOD MOVIES. Castle may not have been a Hitchcock, but he was no Ed Wood, either.&lt;br /&gt;&lt;br /&gt;It's easy to concentrate on someone's quirks and forget to examine their TALENT. So I hope this documentary acknowledged that. I look forward to seeing it.</td>\n",
       "      <td>pos</td>\n",
       "    </tr>\n",
       "    <tr>\n",
       "      <th>3</th>\n",
       "      <td>I found this to be a surprisingly light-handed touch at a 1950's culture-clash movie. John Wayne would hardly be one's first choice as a cultural attache, being about as diplomatic with his good intentions as a bull-run in Harrods. But this time he was left to play a part that was far more passive than his usual bluff persona, and he accomplished his task with style. The Duke was a guy who really could act well. His facial expressions and body language could be extremely subtle.&lt;br /&gt;&lt;br /&gt;Despite his considerable presence both as an actor and in terms of screen time, he failed to dominate this movie. Many of his good intentions came a cropper. He had authority over nobody, and the intermittent narrative was provided by the titular geisha to whom he was the barbarian.&lt;br /&gt;&lt;br /&gt;The story of American attempts to curry favour with an isolationist Japan was one of political intrigue rather than swashbuckling or hell-for-leather battles. I cannot comment on the accuracy of its research but the strangeness of the Oriental culture to western sensibilities was demonstrated well. There was a great deal of minutely-choreographed ceremony entailing what looked to this observer like authentic costume and props. The set pieces were complex and detailed. A lot of money and thought had been applied to it.&lt;br /&gt;&lt;br /&gt;The fractured romance between Wayne and his geisha added a little extra element, and stopped the movie becoming just a political or flag-waving effort. Script was good without being too wordy. There was a great deal of Japanese dialogue, but the lengthy periods of translation didn't interfere with the narrative. It was nice to see plenty of genuine orientals on the set. Whether or not they were Japanese, I couldn't say. But anyway they looked the part. At least the leads were not played by cross-dressing Caucasians, unlike other efforts such as 'Blood Alley' (yes, I know they were Chinese) 'The Inn Of The Sixth Happiness' or even 'The King And I'.&lt;br /&gt;&lt;br /&gt;Frankly, I enjoyed this more than any of those other movies. The script was better for a start. I never liked the songs in 'The King And I', and wasn't impressed by the heavy-laden anti-communist subtext of 'Blood Alley'. I confess to never having seen this work before and found it compared very favourably to many of The Duke's more popular outings.&lt;br /&gt;&lt;br /&gt;Recommended.</td>\n",
       "      <td>pos</td>\n",
       "    </tr>\n",
       "    <tr>\n",
       "      <th>4</th>\n",
       "      <td>Fot the most part, this movie feels like a \"made-for-TV\" effort. The direction is ham-fisted, the acting (with the exception of Fred Gwynne) is overwrought and soapy. Denise Crosby, particularly, delivers her lines like she's cold reading them off a cue card. Only one thing makes this film worth watching, and that is once Gage comes back from the \"Semetary.\" There is something disturbing about watching a small child murder someone, and this movie might be more than some can handle just for that reason. It is absolutely bone-chilling. This film only does one thing right, but it knocks that one thing right out of the park. Worth seeing just for the last 10 minutes or so.</td>\n",
       "      <td>neg</td>\n",
       "    </tr>\n",
       "    <tr>\n",
       "      <th>5</th>\n",
       "      <td>The film picks up after last years remake with the military setting up electronic surveillance equipment in the desert where the attacks in the first film happened. The crew is killed not long before a group of soldiers on a training exercise show up to find no one around. You can fill in the rest.&lt;br /&gt;&lt;br /&gt;This is a paycheck picture all around. There seems to be no passion in anyone's performances, nor in anyone behind the camera. This is a movie that was made for the money and nothing else. On some level this should have worked, it could have been a more horrific Southern Comfort (where National Guardsmen run afoul of some people in the swamps), but instead its not much of anything. In large part you can blame the script, written unbelievably in part by Wes Craven, which hits the same old targets again and again. Add to the mess the fact that the direction is dull and the set up of sequences is so lack luster as to remove any inherent tension in any scene.&lt;br /&gt;&lt;br /&gt;Its not bad as such, but badly made and dull. Let me put my feelings into context: The reason I saw this film was because a local multiplex screwed up and ran this film instead of the kids flick the Last Mimzy and I wanted to see what caused the out cry(I mean the films have so much in common-he says sarcastically). I'm convinced that this film will only scare those who like the last Mimzy.</td>\n",
       "      <td>neg</td>\n",
       "    </tr>\n",
       "    <tr>\n",
       "      <th>6</th>\n",
       "      <td>Back to the roots with \"like it is in heaven\" - what are the real values of life? These Swedes carve out a message that appeals to every heart. We've seen it twice now in a cinema packed to the last seat: love pure and joy within the music of a choir that's simple, yet full of power once everyone finds his or her inner tone. &lt;br /&gt;&lt;br /&gt;From the glitter of fame to the school of of his youth, now empty and ready to be adapted as his new home after collapsing on stage, Daniel wants to start listening and is drawn into the lives of the simple, warm and rough people of the North.&lt;br /&gt;&lt;br /&gt;He wins the hearts with music and gains the capacity to love and be loved unconditionally.&lt;br /&gt;&lt;br /&gt;Don't go see it if you've been normed to Hollywood. This stuff contains no extras, just your laughter, your compassion, your tears!</td>\n",
       "      <td>pos</td>\n",
       "    </tr>\n",
       "    <tr>\n",
       "      <th>7</th>\n",
       "      <td>A confused mess from start to finish. Like they used to say about the Beatles'songs, there was a secret message if you played the LP backward. If one had the patience to watch this films scenes from finish to start, you'd come away with the same degree of disappointment.&lt;br /&gt;&lt;br /&gt;Apart from all of this psychedelic hodge podge of flashbacks and false starts, the clearest characters were the movie backers, out for revenge if the movie didn't get sorted. There was nothing to like about these two either. Overacting, shouting and threats were delivered in comic book fashion. I think one dimensional was an overstatement.&lt;br /&gt;&lt;br /&gt;Okay, so maybe the artsy types are rolling their eyes reveling in the fact that unlike them, we plebeians just didn't get it. Well I'm afraid there was nothing to get. And the two cardinal sins of any bad movie carried from start to finish. A non-existent and pathetic story line if you want to call it that, and by far the worst, not a single character you cared about in the least.</td>\n",
       "      <td>neg</td>\n",
       "    </tr>\n",
       "    <tr>\n",
       "      <th>8</th>\n",
       "      <td>This movie has an all star cast, John Candy, Richard Lewis, Ornella Mutti, Cybill Shepard, and Jim Belushi to name a few, run amuck in Monte Carlo, as well as some other beautiful European locations, and is very funny. The trouble that everyone gets in when they lie to protect themselves is great, and I highly recommend that you see this movie, it is well worth it! John Candy is in top form in Once Upon A Crime, as is everyone else! If you and your family are looking for a great family film, this is your ticket. Everyone gives stellar performances, great acting, great comedy, and great timing, which is rare in movies these days. Great plot, great mystery, (which I love anyways) and overall, well worth the money you spend on it. So get the kids, grab some popcorn, juice, or tea, or sodas, and enjoy the show!!!!</td>\n",
       "      <td>pos</td>\n",
       "    </tr>\n",
       "    <tr>\n",
       "      <th>9</th>\n",
       "      <td>in one of Neil Simon's best plays. Creaky, cranky ex-Vaudeville stars played by Walter Matthau and George Burns are teaming up for a TV comedy special. The problem is they haven't even SEEN each other in over a decade. Full of zippy one liners and inside showbiz jokes, this story flies along with a steady stream of humor. Good work also by Richard Benjamin as the harried nephew, Rosetta LeNoire as the nurse, and Howard Hesseman as the TV commercial director. Steve Allen and Phyllis Diller appear as themselves. Trivia note: The opening montage contains footage from Hollywood Revue of 1929 and shows Marie Dressler, Bessie Love, Polly Moran, Cliff Edwards, Charles King, Gus Edwards, and the singing Brox Sisters.</td>\n",
       "      <td>pos</td>\n",
       "    </tr>\n",
       "    <tr>\n",
       "      <th>10</th>\n",
       "      <td>There have been some funny movies about spirits to come out of Hollywood. Cary Grant was an angel in \"The Bishop's Wife\" (1947). Of course the best were the Topper movies in the late '30s-early '40s. And, more recently, Warren Beatty's \"Heaven Can Wait\" (1978), which was a remake of 1941's \"Here Comes Mr. Jordan.\" These were well-written, funny, entertaining comedies, all of which centered around supernatural creatures like ghosts and angels.&lt;br /&gt;&lt;br /&gt;Now comes writer-director Jeff Lowell, making his feature film debut with a story of an unlikable, bitchy young woman, Kate (Eva Longoria Parker), who gets killed on her wedding day and then comes back to harass the fledgling spiritualist, Ashley (Lake Bell) who is falling for Kate's fiancé, Henry (Paul Rudd). One thing that is clear at the outset: Longoria Parker is no Constance Bennett (Marion Kerby in the first two \"Topper\" films), who is the standard against whom all female ghosts are measured.&lt;br /&gt;&lt;br /&gt;There is a line right at the beginning when Henry's sister, Chloe (Lindsay Sloane) tells Henry, \"You don't smile.\" That aptly described my situation throughout this film.&lt;br /&gt;&lt;br /&gt;The main problem with the film is that the script just isn't very funny. But it's made worse by Longoria Parker's presence that just rubbed me the wrong way every time she appeared on the screen. Just to start out with, compounding her lack of comedic talent, she is covered with so much pancake makeup, who knows what she really looks like? Kate gets killed while setting up for her wedding by a falling frozen statue. She's so unreasonable that the angel who instructs her about what her afterlife is about walks out on her (well, she actually just fades out), so Kate finds herself back on earth as a ghost without knowing what her mission is.&lt;br /&gt;&lt;br /&gt;Chloe wants Henry to snap out of the funk into which he has naturally descended after Kate's death (from what I saw of Kate, he should have felt a wonderful relief), so she introduces him to Ashley, who really doesn't know what she's doing as a spiritualist (she is also a cateress to make ends meet), to see if she can get Henry back in touch with Kate. There's a lot of meshugaas that goes on.&lt;br /&gt;&lt;br /&gt;The vacuity of the film is epitomized by a \"B\" story revolving around Ashley's assistant, Dan (Jason Biggs). This is thrown in near the end, but the way Ashley handles it indicates that she's as much of a boob as Kate. Since Dan is apparently attracted to both of these severely flawed women, he deserves whatever he gets.&lt;br /&gt;&lt;br /&gt;Eventually Kate appears to Ashley and the fun should begin. It doesn't, and more's the pity because in other hands this could have been pretty funny. As it is, Norman Z. McLeod, Constance Bennett, Roland Young, Alan Mowbray, and Co. must be turning over in their graves to see this is what their brilliance in the first two \"Topper\" films has wrought.</td>\n",
       "      <td>neg</td>\n",
       "    </tr>\n",
       "    <tr>\n",
       "      <th>11</th>\n",
       "      <td>Before watching this film I had very low expectations and went to just see the cars. Eventually I even regretted going for that reason. Plot is almost non-existent. Character development is non-existent. So many clichés and so much jaw-dropping cheesiness existed in the movie that I could only stare and wonder how it was even released. If not for the exotics, I wouldn't have even rated this movie a 1. An attempt at a coherent story line is destroyed by the sheer absurdity of this elite racing cult and the laughable characters that make up its members. In fact, the movie's plot is so predictable and simple-minded that an average child could foretell the majority of the storyline. Bad acting, bad plot, bad jokes, bad movie.&lt;br /&gt;&lt;br /&gt;Don't see it. Play Gran Turismo HD instead and it'll satiate your thirst for fast sexy cars without leaving a bad aftertaste.</td>\n",
       "      <td>neg</td>\n",
       "    </tr>\n",
       "    <tr>\n",
       "      <th>12</th>\n",
       "      <td>After seeing the trailer for Evening, you will probably first think about how great the cast is involved, (I mean they even got Rocky Horror's own Brad, Barry Bostwick, to show the world he is still acting), and the next second about how they just showed us the entire movie. While not entirely true, the film is pretty much summarized nicely in the trailer, and that isn't necessarily a bad thing. This is a story about a dying woman who is remembering a time very long ago when she met the love of her lifethe one that got away. Her daughters hear her reminiscing about people they have never heard of and the story of what happened when she and Harris killed Buddy soon plays out. No matter what happens, though, the film is not about these people and what they do, good or bad. It is a vehicle to show that there are no mistakes in life. What may be regret could in fact be the one instance in your life that needed to occur in order for the good times that follow to ever happen.&lt;br /&gt;&lt;br /&gt;The story itself is nicely told and very obviously adapted from literature. Our filmmakers here decide to tell the story by intercutting between the present (Ann on her deathbed), dreamstate (Ann hallucinating by combining the present with the past in her mind), and the past (Ann meeting Harris at her best friend's wedding). There are a few times where the cuts are a tad abrupt, and the progression of the past is so good that you may find the present stuff a bit longwinded and boring, but overall it is handled better than at first thought. It's not as though Ann's life now is uninteresting, it just has less to do with the plot then it does with the morals being learned. While I grant that the parallels to the past help alleviate the problems for Ann's children currently, I was still a bit too enraptured in the wedding to care as much as I maybe should have. There are some nice moments, though, for instance, the crash that awakens Ann from slumber being mirrored later on, and the cryptic dreams which bridge both worlds together.&lt;br /&gt;&lt;br /&gt;It is the acting that makes the flashbacks so enthralling and fluid. These performances are completely riveting to the point where you get a bit angry when our time period has changed and we must wait to find out what happens next. No matter how annoying I find Claire Danes' angry/sad/crying face that exists in every role she plays, the girl is good at what she does. I find myself warming to her talents more and more lately and this one just furthers that thawing. Patrick Wilson is always great in whatever I've seen him in. You must give him credit for picking some really fantastic roles and never doing much more than one film a year. From Angels in America to last year's Little Children, the guy will soon blow up, but hopefully he will stay true to the craft and not cash-in. Heck even Mamie Gummer is good as the younger version of her real life mother Meryl Streep, (who surprisingly is in the film very little). She is still rough around the edges, but she was wonderful at expressing the emotional turmoil her character goes through on her wedding day. The real revelation, though, is Hugh Dancy. I feel I've seen him in many things, but in fact it seems only in King Arthur. Dancy literally steals every scene he is in and the way in which his role of Buddy is devastated by love/alcohol/life is etched in his facial expressions throughout. Without his performance, the flashback sequences could have fallen into the somewhat forgettable category as the rest of the film and made the experience as a whole much worse.&lt;br /&gt;&lt;br /&gt;While not wholly original in the ways of what the writers are after, Evening does bring intelligence and craft to the table. You may be able to fault the length and amount of cut scenes to tie everything together, but you can't argue that the acting isn't worth sticking around for. Maybe a film version of the wedding alone could have been something to see, however, when it is all put together, there may also be something coming out of it that couldn't have been achieved without all the other story threads. Either way, the payoff is worth the ride for the most part and each plane of reality finishes with its own subtle beauty and lives up to what had come before it.</td>\n",
       "      <td>pos</td>\n",
       "    </tr>\n",
       "    <tr>\n",
       "      <th>13</th>\n",
       "      <td>Believe it or not, \"The Woodchipper Massacre\" gave me full-blown gonorrhea! That's right, I've got a rainbow of discharge spewing from me just because a group of kids went playing around with a camcorder and somehow made a deal with the Devil and got distribution. It's beyond my comprehension how anyone with moderate intelligence could tolerate this pant-load of a film. The only reason I managed to sit through the whole thing (not without several suicide attempts along the way) was because, well first off, I was delirious with boredom, and second - I guess I wanted to further explore this newly discovered type of hate I was experiencing... This movie is a 'shot-on-video' \"horror/comedy\" about three siblings who are left for the weekend in the care of their bitchy elderly aunt. The youngest kid ends up stabbing the old lady accidentally with his Rambo-replica hunting knife. They then get to dismembering auntie with various tools (apparently she didn't have a single drop of blood in her body!) and heave her into their dad's rented wood chipper... Her convict son then stops by looking for his mom and the kids end up grinding that jackass too... I don't recall ever seeing a cast of annoying actors that actually caused me nausea. Seriously, that one blond chick's voice had me wincing in pain constantly. ALL of the actors were downright atrocious - literally just screaming their phony sounding dialog and cracking jokes that must've been written by a chimp that just didn't care! Now, I can usually appreciate independent efforts, but only from those who can realize that people other than their relatives might be watching this! I don't need to see a 3 minute shot of a car pulling out of a drive-way and a torturous, painfully long lawn grooming montage with some ridiculous, fluttery music playing over it. Plus, why the hell does the box of this movie have a bloody piano on it?! There WAS a piano in ONE scene and no one is killed near it! I'm through with reminiscing about this movie. Unless you like insufferable crap, I would advise anyone with half a brain to avoid this trash.</td>\n",
       "      <td>neg</td>\n",
       "    </tr>\n",
       "    <tr>\n",
       "      <th>14</th>\n",
       "      <td>What an insult to Olivia D'Abo who plays the film's heroine, Robin, to have Keanu Reeves appear so large on the box art of the film (and at least on recent reissues, to have only Reeves appear on the box), considering that she was the star. I realize that it is his name that will ultimately sell this long-forgotten After School Special, but at least give the woman some credit. &lt;br /&gt;&lt;br /&gt;Despite that, this has to be one of the worst teen sports-themed films that I have ever seen, and it strives very hard to add not only every teen and sports movie cliché from the class warfare between the feuding gymnasts to the teen romance. And, in striving to somehow deliver itself as an amateur alternative of Flashdance (with the music in one of the warehouse dance scenes is even quite close to Michael Sembello's notable 'Maniac' which was made famous by Flashdance, or was it the other way around?). It includes similar dance sequences and worse yet, even the 80s dance and sports traditions of corny dance-offs between the heroine and her antagonist(s), the one who doubts her successes and abilities on the team. We saw this in Trashin' (a vert ramp joust) and Rad (BMX dancing at the prom, although it wasn't much for competition, but rather for fun) for example. In fact, this movie is chock full of unrealistic corniness, such as the somewhat homo-erotic rolling in the clothes at the Salvation Army with Robin and her friend from the team.&lt;br /&gt;&lt;br /&gt;Nonetheless, the film is about a young girl who comes from a rather poor background. To top it off in a massive need to squeeze from audiences as much sympathy as possible, she lives with her ailing mother, her obnoxious sister, and her careless (and slightly abusive) stepfather. Needless to say, homelife is not so appealing. Add to the mix, a talent for gymnastics, but several obstacles to joining the team (including the nuisance of her arrogant, snobby teammates, and a coach who also eventually doubts her abilities to compete well). And, of course, we can't forget that she's got eyes for one of the pretty boy preppies who is dating one of the obnoxious teammates, nor that she doesn't have a steady boyfriend (although Keanu as Tommy later enters the picture). Could this kid be any more pathetic? And it seems that one mess after another comes along to embarrass herself in her painfully long, redundant, and clichéd quest to prove her worth to everyone.&lt;br /&gt;&lt;br /&gt;But, even the major moments of cheesiness which comprise most of the film, are hardly worth mentioning considering that the biggest distraction to this film is the horrible acting and dialog. (I like how the gym coach suddenly appears at the diner in the middle of the dance-off to scold the teammates). It makes episodes of 'Amazing Stories' look like Shakespeare.&lt;br /&gt;&lt;br /&gt;I imagine anyone able to locate this film and watch it these days is probably drawn to it mostly because of the nostalgic factor. For that you might be satisfied, but it is also an incredibly forced drama. So, Caveat Emptour.</td>\n",
       "      <td>neg</td>\n",
       "    </tr>\n",
       "    <tr>\n",
       "      <th>15</th>\n",
       "      <td>Every child experiences trauma growing up and every child's active imagination has gotten the best of them, but for Jake (Anthony De Marco  of the forthcoming Clint Eastwood film CHANGELING - who resembles Henry Thomas circa 1982) the combination may prove deadly. &lt;br /&gt;&lt;br /&gt;A lonely six year old whose imagination kicks into high gear when he is crestfallen to learn his quarrelling parents Peter (Sean Bridgers, late of \"DEADWOOD\") and Jules (Brooke Bloom, \"CBS: Miami\") suddenly decide to divorce, leaving him to his own devices and unleashing a new tenant  a zombie in his closet.&lt;br /&gt;&lt;br /&gt;Jake actually gets this seed planted while playing with neighborhood friend Dillon (Matthew Josten) who provides him with a print out off the internet of FAQ re: zombies. Jake is so convinced that one is out to get him  and his family  he begins to hatch a plan of action to protect them before it's too late.&lt;br /&gt;&lt;br /&gt;Indie newcomer Shelli Ryan  who wrote and directed  blends domestic drama with underlings of horror but the former (smartly) outweighs the latter, with a decent story buoyed by fine acting(De Marco is the rare breed of child actor where he is a CHILD and not 'acting' - all his nuances are very evident of the awkward, shy, introverted child that many can relate too (I certainly can). Bridgers makes his cheating husband empathetic in the realization he really loves his son while Bloom has the more difficult job of building sympathy as the somewhat lackadaisical mother who is quick to emotions over rationality  it doesn't help when Dillon's mother Ruth (Monette Magrath, who resembles Laura Dern) is constantly feeding her implied information driving a wedge between Jake and his dad. Magrath also has a tough task to make her manipulative character relatively likable but she proves to in a revealing scene that I won't go into detail but shows why she is the way she is (and more importantly how she has also affected her own child).&lt;br /&gt;&lt;br /&gt;The fillmmaker's subjective camera is also well employed (many angles shown form Jake's POV at waist-level or somewhat skewed; i.e. the upside down shot of Peter carrying his son in the same position while having some fun in the backyard), and the editing is relatively flawless. &lt;br /&gt;&lt;br /&gt;Ryan based the screenplay on personal experiences growing up and also witnessing first hand account of a friend going through the same situation and how the affects of adult relationships can be harmful if inflicting their fears, anger and stress onto their children. Here the film is very successful in getting its theme across.&lt;br /&gt;&lt;br /&gt;However the horror underpinnings are a little disjointed to say the least but the homage to George A. Romero's zombie films are shown lovingly by Ryan (Jake's mom is asleep in front of the TV as NIGHT OF THE LIVING DEAD unspools, causing his own belief of the undead to be in their home). The metaphor of a monster acting as surrogate to domestic abuse may be a bit heavy-handed but again, the child's fear of a thing under his bed is universal.</td>\n",
       "      <td>pos</td>\n",
       "    </tr>\n",
       "    <tr>\n",
       "      <th>16</th>\n",
       "      <td>I guess I was attracted to this film both because of the sound of the story and the leading actor, so I gave it a chance, from director Gregor Jordan (Buffalo Soldiers). Basically Ned Kelly (Heath Ledger) is set up by the police, especially Superintendent Francis Hare (Geoffrey Rush), he is forced to go on the run forming a gang and go against them to clear his own and his family's names. That's really all I can say about the story, as I wasn't paying the fullest attention to be honest. Also starring Orlando Bloom as Joseph Byrne, Naomi Watts as Julia Cook, Laurence Kinlan as Dan Kelly, Philip Barantini as Steve Hart, Joel Edgerton as Aaron Sherritt, Kiri Paramore as Constable Fitzpatrick, Kerry Condon as Kate Kelly, Emily Browning as Grace Kelly and Rachel Griffiths as Susan Scott. Ledger makes a pretty good performance, for what it's worth, and the film does have it's eye-catching moments, particularly with a gun battle towards the end, but I can't say I enjoyed it as I didn't look at it all. Okay!</td>\n",
       "      <td>neg</td>\n",
       "    </tr>\n",
       "    <tr>\n",
       "      <th>17</th>\n",
       "      <td>Buford's Beach Bunnies gives B-grade T&amp;A films a bad name. As a fan of the genre, I was appalled to find little attempt being made to exploit the young actresses talents. I refer specifically to the distinct lack of nudity and simulated sex scenes. What are the next generation of sad teenage boys watching this on late night TV supposed to think?</td>\n",
       "      <td>neg</td>\n",
       "    </tr>\n",
       "    <tr>\n",
       "      <th>18</th>\n",
       "      <td>Cruel Intentions 2 is bloody awful, I mean uber-bad. Words can not explain how bad it is, but I'll give it a go anyway.&lt;br /&gt;&lt;br /&gt;The plot of Cruel Intentions 2 is very similar to the first film. Sebastian (Robin Dunne), is kicked out of a private school and is forced to move to New York. There he decides to make a fresh start and just a life a normal life and settle down. Unfortunately he has to deal with his step-sister Kathryn (Amy Adams) wants to drag him down. Sebastain starts to fall in love Danielle (Sarah Thompson), the innocent daughter of the Headmaster of the school. Kathryn wants Sebastain to just sleep around with the whole school which had been describe as a 'whore-house'. Kathryn also wants to get revenge with Cherie (Keri Lynn Pratt), who humiliated her during the school assembly. Kathryn wanted to make the freshman into the biggest slut in the school, a similar sub-plot to the first film.&lt;br /&gt;&lt;br /&gt;Cruel Intentions 2 is basically a cancelled TV-show, which was turned into a prequel. There are so many problems with the film. It is poorly written, unfunny, and badly acted. Luckily for Amy Adams that the show never took off because now she is a fairly big actress. Whilst Cruel Intentions had a sense of realism and can been seen to be set in the real world, Cruel Intentions 2 is set in sitcom land and as described on amazon.co.uk 'a randy version of Saved by the Bell'. There were some dark themes involving sex and drug use in the first film, but in Cruel Intentions 2 tried to make it funny and some of the ideas in the film shouldn't be, such as Kathryn having an affair with a teacher. Other ideas also don't work such as the secret society where all the popular kids meet to discuss the downfall of other students. The film also had a major problem of sexualised 15/16-years-old. I know that teenagers do have sex, sometimes a lot, but when done on film or television, is treated very seriously. One famous sense was when Daneille encourages Cherie (who is around 14/15 in the film) to simulate sex on the back of a horse to the point where she has a orgasm. The idea of turning a girl around 14/15 into a slut is just very wrong with me, and shouldn't be made into a subject of comedy. The jokes in the film fall flat, whether if it's a verbal gag like 'she goes all moist when she sees you' to a visual gag where Sebastian pushes Kathryn face first into mud.&lt;br /&gt;&lt;br /&gt;There is a lot wrong with this film, which I don't have time to go into, but I say it should be avoid. Just watch Cruel Intentions, whilst not a classic, still is a decent film and treats the subject matter well.&lt;br /&gt;&lt;br /&gt;This film is just a pervert's wet dream, having school-kids having lots of sex with each other.</td>\n",
       "      <td>neg</td>\n",
       "    </tr>\n",
       "    <tr>\n",
       "      <th>19</th>\n",
       "      <td>This story had a different angle that intrigued me, enough to buy a previously-viewed VHS sight-unseen. That was a mistake.&lt;br /&gt;&lt;br /&gt;In what could have been a very nice story - about badly crippled people at a hospital, and their various personalities - turned quickly into a very profane soap opera with unlikeable characters.&lt;br /&gt;&lt;br /&gt;We have \"Bloss\" (William Forsythe) the stereotype racist white person, who says the f-word every other sentence and is so despicable they didn't give him a first name in the movie. He's a lot of fun to be around. Then, there is \"Raymond Hill\" (Wesley Snipes), a fast-talking womanizer. Snipes must have liked those fast-talking \"hip\" arrogant roles because he played in a number of them, like in \"White Men Can't Jump.\" Then there is sweet Helen Hunt playing \"Anna\" that wonderful caring, loving person who is having an adulterous affair with the leading character in the film, \"Joel Garcia\" (Eric Stoltz).&lt;br /&gt;&lt;br /&gt;Yup, this is heartwarming, feel-good type stuff. It just makes my heart melt watching these nice folks. But, if you are one of those who loves sleazy characters portrayed by sleazy people in this sleazy film.....you might really like this! Add in a dose of Hollywood political correctness and there you go! What more could anyone want?</td>\n",
       "      <td>neg</td>\n",
       "    </tr>\n",
       "  </tbody>\n",
       "</table>"
      ],
      "text/plain": [
       "<IPython.core.display.HTML object>"
      ]
     },
     "metadata": {},
     "output_type": "display_data"
    }
   ],
   "source": [
    "\n",
    "show_random_elements(ds)\n"
   ]
  },
  {
   "cell_type": "code",
   "execution_count": 13,
   "metadata": {},
   "outputs": [],
   "source": [
    "\n",
    "ds = ds.rename_columns({\"text\": \"review\"})\n",
    "ds = ds.filter(lambda x: len(x[\"review\"]) > 200, batched=False)\n"
   ]
  },
  {
   "cell_type": "code",
   "execution_count": 14,
   "metadata": {},
   "outputs": [
    {
     "data": {
      "text/plain": [
       "Dataset({\n",
       "    features: ['review', 'label'],\n",
       "    num_rows: 24895\n",
       "})"
      ]
     },
     "execution_count": 14,
     "metadata": {},
     "output_type": "execute_result"
    }
   ],
   "source": [
    "\n",
    "ds\n"
   ]
  },
  {
   "cell_type": "code",
   "execution_count": 15,
   "metadata": {},
   "outputs": [],
   "source": [
    "\n",
    "tokenizer           = AutoTokenizer.from_pretrained(config.model_name)\n",
    "tokenizer.pad_token = tokenizer.eos_token\n"
   ]
  },
  {
   "cell_type": "code",
   "execution_count": 16,
   "metadata": {},
   "outputs": [
    {
     "data": {
      "text/plain": [
       "Dataset({\n",
       "    features: ['review', 'label', 'input_ids', 'query'],\n",
       "    num_rows: 24895\n",
       "})"
      ]
     },
     "execution_count": 16,
     "metadata": {},
     "output_type": "execute_result"
    }
   ],
   "source": [
    "\n",
    "def tokenize( sample ):\n",
    "    sample[\"input_ids\"] = tokenizer.encode( sample[\"review\"]    )[: 20]\n",
    "    sample[\"query\"]     = tokenizer.decode( sample[\"input_ids\"] )\n",
    "    return sample\n",
    "\n",
    "\n",
    "ds = ds.map(tokenize, batched=False)\n",
    "ds\n"
   ]
  },
  {
   "cell_type": "code",
   "execution_count": 17,
   "metadata": {},
   "outputs": [
    {
     "data": {
      "text/plain": [
       "{'review': [\"This film is just plain horrible. John Ritter doing pratt falls, 75% of the actors delivering their lines as if they were reading them from cue cards, poor editing, horrible sound mixing (dialogue is tough to pick up in places over the background noise), and a plot that really goes nowhere. I didn't think I'd ever say this, but Dorothy Stratten is not the worst actress in this film. There are at least 3 others that suck more. Patti Hansen delivers her lines with the passion of Ben Stein. I started to wonder if she wasn't dead inside. Even Bogdanovich's kids are awful (the oldest one is definitely reading her lines from a cue card). This movie is seriously horrible. There's a reason Bogdanovich couldn't get another project until 4 years later. Please don't watch it. If you see it in your television listings, cancel your cable. If a friend suggests it to you, reconsider your friendship. If your spouse wants to watch it, you're better off finding another soulmate. I'd rather gouge my eyes out with lawn darts than sit through this piece of garbage again. If I could sum this film up in one word, that word would be: Suckotrocity\",\n",
       "  \"My interest in Dorothy Stratten caused me to purchase this video. Although it had great actors/actresses, there were just too many subplots going on to retain interest. Plus it just wasn't that interesting. Dialogue was stiff and confusing and the story just flipped around too much to be believable. I was pretty disappointed in what I believe was one of Audrey Hepburn's last movies. I'll always love John Ritter best in slapstick. He was just too pathetic here.\",\n",
       "  \"I have this film out of the library right now and I haven't finished watching it. It is so bad I am in disbelief. Audrey Hepburn had totally lost her talent by then, although she'd pretty much finished with it in 'Robin and Marian.' This is the worst thing about this appallingly stupid film. It's really only of interest because it was her last feature film and because of the Dorothy Stratten appearance just prior to her homicide.<br /><br />There is nothing but idiocy between Gazzara and his cronies. Little signals and little bows and nods to real screwball comedy of which this is the faintest, palest shadow.<br /><br />Who could believe that there are even some of the same Manhattan environs that Hepburn inhabited so magically and even mythically in 'Breakfast at Tiffany's' twenty years earlier? The soundtrack of old Sinatra songs and the Gershwin song from which the title is taken is too loud and obvious--you sure don't have to wait for the credits to find out that something was subtly woven into the cine-musique of the picture to know when the songs blasted out at you.<br /><br />'Reverting to type' means going back up as well as going back down, I guess. In this case, Audrey Hepburn's chic European lady is all you see of someone who was formerly occasionally an actress and always a star. Here she has even lost her talent as a star. If someone whose talent was continuing to grow in the period, like Ann-Margret, had played the role, there would have been some life in it, even given the unbelievably bad material and Mongoloid-level situations.<br /><br />Hepburn was a great person, of course, greater than most movie stars ever dreamed of being, and she was once one of the most charming and beautiful of film actors. After this dreadful performance, she went on to make an atrocious TV movie with Robert Wagner called 'Love Among Thieves.' In 'They all Laughed' it is as though she were still playing an ingenue in her 50's. Even much vainer and obviously less intelligent actresses who insisted upon doing this like Lana Turner were infinitely more effective than is Hepburn. Turner took acting seriously even when she was bad. Hepburn doesn't take it seriously at all, couldn't be bothered with it; even her hair and clothes look tacky. Her last really good work was in 'Two for the Road,' perhaps her most perfect, if possibly not her best in many ways.<br /><br />And that girl who plays the country singer is just sickening. John Ritter is horrible, there is simply nothing to recommend this film except to see Dorothy Stratten, who was truly pretty. Otherwise, critic David Thomson's oft-used phrase 'losing his/her talent' never has made more sense.<br /><br />Ben Gazarra had lost all sex appeal by then, and so we have 2 films with Gazarra and Hepburn--who could ask for anything less? Sandra Dee's last, pitiful film 'Lost,' from 2 years later, a low-budget nothing, had more to it than this. At least Ms. Dee spoke in her own voice; by 1981, Audrey Hepburn's accent just sounded silly; she'd go on to do the PBS 'Gardens of the World with Audrey Hepburn' and there her somewhat irritating accent works as she walks through English gardens with aristocrats or waxes effusively about 'what I like most is when flowers go back to nature!' as in naturalized daffodils, but in an actual fictional movie, she just sounds ridiculous.<br /><br />To think that 'Breakfast at Tiffany's' was such a profound sort of light poetic thing with Audrey Hepburn one of the most beautiful women in the world--she was surely one of the most beautiful screen presences in 'My Fair Lady', matching Garbo in several things and Delphine Seyrig in 'Last Year at Marienbad.' And then this! And her final brief role as the angel 'Hap' in the Spielberg film 'Always' was just more of the lady stuff--corny, witless and stifling.<br /><br />I went to her memorial service at the Fifth Avenue Presbyterian Church, a beautiful service which included a boys' choir singing the Shaker hymn 'Simple Gifts.' The only thing not listed in the program was the sudden playing of Hepburn's singing 'Moon River' on the fire escape in 'Breakfast at Tiffany's,' and this brought much emotion and some real tears out in the congregation.<br /><br />A great lady who was once a fine actress (as in 'The Nun's Story') and one of the greatest and most beautiful of film stars in many movies of the 50's and 60's who became a truly bad one--that's not all that common. And perhaps it is only a great human being who, in making such things as film performances trivial, nevertheless has the largeness of mind to want to have the flaws pointed out mercilessly--which all of her late film work contained in abundance. Most of the talk about Hepburn's miscasting is about 'My Fair Lady.' But the one that should have had the original actress in it was 'Wait Until Dark,' which had starred Lee Remick on Broadway. Never as celebrated as Hepburn, she was a better actress in many ways (Hepburn was completely incapable of playing anything really sordid), although Hepburn was at least adequate enough in that part. After that, all of her acting went downhill.\"],\n",
       " 'label': [0, 0, 0],\n",
       " 'input_ids': [[1212,\n",
       "   2646,\n",
       "   318,\n",
       "   655,\n",
       "   8631,\n",
       "   12361,\n",
       "   13,\n",
       "   1757,\n",
       "   371,\n",
       "   1967,\n",
       "   1804,\n",
       "   778,\n",
       "   1078,\n",
       "   8953,\n",
       "   11,\n",
       "   5441,\n",
       "   4,\n",
       "   286,\n",
       "   262,\n",
       "   10544],\n",
       "  [3666,\n",
       "   1393,\n",
       "   287,\n",
       "   40349,\n",
       "   4285,\n",
       "   41769,\n",
       "   4073,\n",
       "   502,\n",
       "   284,\n",
       "   5001,\n",
       "   428,\n",
       "   2008,\n",
       "   13,\n",
       "   4900,\n",
       "   340,\n",
       "   550,\n",
       "   1049,\n",
       "   10544,\n",
       "   14,\n",
       "   529],\n",
       "  [40,\n",
       "   423,\n",
       "   428,\n",
       "   2646,\n",
       "   503,\n",
       "   286,\n",
       "   262,\n",
       "   5888,\n",
       "   826,\n",
       "   783,\n",
       "   290,\n",
       "   314,\n",
       "   4398,\n",
       "   470,\n",
       "   5201,\n",
       "   4964,\n",
       "   340,\n",
       "   13,\n",
       "   632,\n",
       "   318]],\n",
       " 'query': ['This film is just plain horrible. John Ritter doing pratt falls, 75% of the actors',\n",
       "  'My interest in Dorothy Stratten caused me to purchase this video. Although it had great actors/act',\n",
       "  \"I have this film out of the library right now and I haven't finished watching it. It is\"]}"
      ]
     },
     "execution_count": 17,
     "metadata": {},
     "output_type": "execute_result"
    }
   ],
   "source": [
    "\n",
    "ds[15:18]\n"
   ]
  },
  {
   "cell_type": "markdown",
   "metadata": {},
   "source": [
    "\n",
    "## My own data\n"
   ]
  },
  {
   "cell_type": "code",
   "execution_count": 18,
   "metadata": {},
   "outputs": [],
   "source": [
    "\n",
    "my_own_datasets = load_dataset(\"text\", data_files={ \"train\": \"/home/rcalix/Desktop/rc_train.txt\", \"validation\": \"/home/rcalix/Desktop/rc_validation.txt\"} )\n"
   ]
  },
  {
   "cell_type": "code",
   "execution_count": 19,
   "metadata": {},
   "outputs": [
    {
     "data": {
      "text/plain": [
       "DatasetDict({\n",
       "    train: Dataset({\n",
       "        features: ['text'],\n",
       "        num_rows: 4\n",
       "    })\n",
       "    validation: Dataset({\n",
       "        features: ['text'],\n",
       "        num_rows: 4\n",
       "    })\n",
       "})"
      ]
     },
     "execution_count": 19,
     "metadata": {},
     "output_type": "execute_result"
    }
   ],
   "source": [
    "\n",
    "my_own_datasets\n"
   ]
  },
  {
   "cell_type": "markdown",
   "metadata": {},
   "source": [
    "\n",
    "\n",
    "    \n",
    "## Now this for actual RLHF  \n",
    "\n"
   ]
  },
  {
   "cell_type": "code",
   "execution_count": 20,
   "metadata": {},
   "outputs": [],
   "source": [
    "\n",
    "def build_dataset(\n",
    "         config, \n",
    "         dataset_name=\"imdb\", \n",
    "         input_min_text_length=2, \n",
    "         input_max_text_length=8\n",
    "):\n",
    "    \"\"\"\n",
    "    Build dataset for training. This builds the dataset from `load_dataset`, one should\n",
    "    customize this function to train the model on its own dataset.\n",
    "\n",
    "    Args:\n",
    "        dataset_name (`str`):\n",
    "            The name of the dataset to be loaded.\n",
    "\n",
    "    Returns:\n",
    "        dataloader (`torch.utils.data.DataLoader`):\n",
    "            The dataloader for the dataset.\n",
    "    \"\"\"\n",
    "    tokenizer           = AutoTokenizer.from_pretrained(config.model_name)\n",
    "    tokenizer.pad_token = tokenizer.eos_token\n",
    "    \n",
    "    # load imdb with datasets\n",
    "    \n",
    "    ds = load_dataset(dataset_name, split=\"train\")\n",
    "    \n",
    "    ds = ds.rename_columns({\"text\": \"review\"})\n",
    "    ds = ds.filter(lambda x: len(x[\"review\"]) > 200, batched=False)\n",
    "\n",
    "    input_size = LengthSampler(input_min_text_length, input_max_text_length)\n",
    "\n",
    "    def tokenize(sample):\n",
    "        sample[\"input_ids\"] = tokenizer.encode( sample[\"review\"]    )[: input_size()]\n",
    "        sample[\"query\"]     = tokenizer.decode( sample[\"input_ids\"] )\n",
    "        return sample\n",
    "\n",
    "    ds = ds.map(tokenize, batched=False)\n",
    "    ds.set_format(type=\"torch\")\n",
    "    return ds\n"
   ]
  },
  {
   "cell_type": "code",
   "execution_count": 21,
   "metadata": {},
   "outputs": [],
   "source": [
    "\n",
    "dataset = build_dataset(config)\n"
   ]
  },
  {
   "cell_type": "code",
   "execution_count": 22,
   "metadata": {},
   "outputs": [],
   "source": [
    "\n",
    "def collator(data):\n",
    "    return dict((key, [d[key] for d in data]) for key in data[0])\n",
    "    "
   ]
  },
  {
   "cell_type": "markdown",
   "metadata": {},
   "source": [
    "\n",
    "## Load pre-trained GPT2 language models\n",
    "We load the GPT2 model with a value head and the tokenizer. We load the model twice; the first model is optimized while the second model serves as a reference to calculate the KL-divergence from the starting point. This serves as an additional reward signal in the PPO training to make sure the optimized model does not deviate too much from the original language model.\n"
   ]
  },
  {
   "cell_type": "code",
   "execution_count": 23,
   "metadata": {},
   "outputs": [],
   "source": [
    "\n",
    "model     = AutoModelForCausalLMWithValueHead.from_pretrained(config.model_name)\n",
    "ref_model = AutoModelForCausalLMWithValueHead.from_pretrained(config.model_name)\n",
    "\n",
    "tokenizer = AutoTokenizer.from_pretrained(config.model_name)\n",
    "\n",
    "tokenizer.pad_token = tokenizer.eos_token\n"
   ]
  },
  {
   "cell_type": "code",
   "execution_count": 24,
   "metadata": {},
   "outputs": [
    {
     "name": "stderr",
     "output_type": "stream",
     "text": [
      "Detected kernel version 3.10.0, which is below the recommended minimum of 5.5.0; this can cause the process to hang. It is recommended to upgrade the kernel to the minimum version or higher.\n"
     ]
    }
   ],
   "source": [
    "\n",
    "ppo_trainer = PPOTrainer(\n",
    "                 config, \n",
    "                 model, \n",
    "                 ref_model, \n",
    "                 tokenizer, \n",
    "                 dataset=dataset, \n",
    "                 data_collator=collator\n",
    ")\n"
   ]
  },
  {
   "cell_type": "markdown",
   "metadata": {},
   "source": [
    "\n",
    "## Load BERT classifier (Reward Function)\n",
    "\n",
    "We load a BERT classifier fine-tuned on the IMDB dataset.\n"
   ]
  },
  {
   "cell_type": "code",
   "execution_count": 25,
   "metadata": {},
   "outputs": [
    {
     "data": {
      "text/plain": [
       "device(type='cuda')"
      ]
     },
     "execution_count": 25,
     "metadata": {},
     "output_type": "execute_result"
    }
   ],
   "source": [
    "\n",
    "device = ppo_trainer.accelerator.device\n",
    "device\n"
   ]
  },
  {
   "cell_type": "code",
   "execution_count": 26,
   "metadata": {},
   "outputs": [
    {
     "data": {
      "text/plain": [
       "0"
      ]
     },
     "execution_count": 26,
     "metadata": {},
     "output_type": "execute_result"
    }
   ],
   "source": [
    "\n",
    "if ppo_trainer.accelerator.num_processes == 1:\n",
    "    device = 0 if torch.cuda.is_available() else \"cpu\"  # to avoid a `pipeline` bug\n",
    "\n",
    "device"
   ]
  },
  {
   "cell_type": "code",
   "execution_count": 27,
   "metadata": {},
   "outputs": [],
   "source": [
    "\n",
    "sentiment_pipe = pipeline(\"sentiment-analysis\", model=\"lvwerra/distilbert-imdb\", device=device)\n"
   ]
  },
  {
   "cell_type": "markdown",
   "metadata": {},
   "source": [
    "\n",
    "The model outputs are the logits for the negative and positive class. We will use the logits for positive class as a reward signal for the language model.\n"
   ]
  },
  {
   "cell_type": "code",
   "execution_count": 28,
   "metadata": {},
   "outputs": [
    {
     "name": "stderr",
     "output_type": "stream",
     "text": [
      "/home/rcalix/.local/lib/python3.8/site-packages/transformers/pipelines/text_classification.py:105: UserWarning: `return_all_scores` is now deprecated,  if want a similar functionality use `top_k=None` instead of `return_all_scores=True` or `top_k=1` instead of `return_all_scores=False`.\n",
      "  warnings.warn(\n"
     ]
    },
    {
     "data": {
      "text/plain": [
       "[[{'label': 'NEGATIVE', 'score': 2.3350484371185303},\n",
       "  {'label': 'POSITIVE', 'score': -2.726576328277588}]]"
      ]
     },
     "execution_count": 28,
     "metadata": {},
     "output_type": "execute_result"
    }
   ],
   "source": [
    "\n",
    "text = \"this movie was really bad!!\"\n",
    "\n",
    "sentiment_pipe(text, **sent_kwargs)\n"
   ]
  },
  {
   "cell_type": "code",
   "execution_count": 29,
   "metadata": {},
   "outputs": [
    {
     "data": {
      "text/plain": [
       "[[{'label': 'NEGATIVE', 'score': -2.294790267944336},\n",
       "  {'label': 'POSITIVE', 'score': 2.557040214538574}]]"
      ]
     },
     "execution_count": 29,
     "metadata": {},
     "output_type": "execute_result"
    }
   ],
   "source": [
    "\n",
    "text = \"this movie was really good!!\"\n",
    "sentiment_pipe(text, **sent_kwargs)\n"
   ]
  },
  {
   "cell_type": "markdown",
   "metadata": {},
   "source": [
    "\n",
    "\n",
    "## Generation settings\n",
    "\n",
    "For the response generation we just use sampling and make sure top-k and nucleus sampling are turned off as well as a minimal length.\n"
   ]
  },
  {
   "cell_type": "code",
   "execution_count": 30,
   "metadata": {},
   "outputs": [],
   "source": [
    "\n",
    "gen_kwargs = {\n",
    "         \"min_length\":   -1, \n",
    "         \"top_k\":       0.0, \n",
    "         \"top_p\":       1.0, \n",
    "         \"do_sample\":  True, \n",
    "         \"pad_token_id\": tokenizer.eos_token_id\n",
    "}\n"
   ]
  },
  {
   "cell_type": "markdown",
   "metadata": {},
   "source": [
    "\n",
    "## Optimize model\n",
    "\n",
    "### Training loop\n",
    "\n",
    "The training loop consists of the following main steps:\n",
    "\n",
    "* Get the query and responses from the policy network (GPT-2)\n",
    "* Get sentiments for query/responses from BERT\n",
    "* Optimize policy with PPO using the (query, response, reward) triplet\n"
   ]
  },
  {
   "cell_type": "code",
   "execution_count": 31,
   "metadata": {},
   "outputs": [],
   "source": [
    "\n",
    "output_min_length     = 4\n",
    "output_max_length     = 16\n",
    "output_length_sampler = LengthSampler(output_min_length, output_max_length)\n"
   ]
  },
  {
   "cell_type": "code",
   "execution_count": 32,
   "metadata": {},
   "outputs": [],
   "source": [
    "\n",
    "generation_kwargs = {\n",
    "    \"min_length\":     -1,\n",
    "    \"top_k\":         0.0,\n",
    "    \"top_p\":         1.0,\n",
    "    \"do_sample\":    True,\n",
    "    \"pad_token_id\": tokenizer.eos_token_id,\n",
    "}\n"
   ]
  },
  {
   "cell_type": "code",
   "execution_count": 33,
   "metadata": {},
   "outputs": [
    {
     "data": {
      "text/plain": [
       "20000"
      ]
     },
     "execution_count": 33,
     "metadata": {},
     "output_type": "execute_result"
    }
   ],
   "source": [
    "\n",
    "## ppo_trainer.config.steps = 100    ## 20,000\n",
    "ppo_trainer.config.steps\n"
   ]
  },
  {
   "cell_type": "code",
   "execution_count": 34,
   "metadata": {},
   "outputs": [
    {
     "name": "stderr",
     "output_type": "stream",
     "text": [
      "1it [00:00, 20.20it/s]"
     ]
    },
    {
     "name": "stdout",
     "output_type": "stream",
     "text": [
      "[tensor([19197,   645,  3241,   284,   262,  3651,  2157], device='cuda:0'), tensor([1212, 3807], device='cuda:0'), tensor([  34, 1501,  418, 2899], device='cuda:0'), tensor([  40, 1183,  307, 5508], device='cuda:0'), tensor([  40, 3505, 4379, 1552], device='cuda:0'), tensor([ 1212,   318,   262,   749, 14851], device='cuda:0'), tensor([6090,  691,  307], device='cuda:0'), tensor([41389,   417, 45622,   290,  1115], device='cuda:0'), tensor([  40, 2993,  340], device='cuda:0'), tensor([  40, 8288, 9827], device='cuda:0'), tensor([   39, 50107,   318,   407,   691,   262], device='cuda:0'), tensor([   40,  4398,   470,  1865,  1100, 20642], device='cuda:0'), tensor([26886, 39452,   258,   283,   357], device='cuda:0'), tensor([  40,  550,  284, 1577,  428], device='cuda:0'), tensor([ 3673,   530,   286,  3873, 13951,   338,  1266], device='cuda:0'), tensor([8241,  404,   72], device='cuda:0'), tensor([ 40, 760, 340, 338], device='cuda:0'), tensor([  818,  5751,  2750,  2185,    11, 23092,   290], device='cuda:0'), tensor([ 818, 2160,   11,  625], device='cuda:0'), tensor([  40, 1101], device='cuda:0'), tensor([1639,  655, 1392], device='cuda:0'), tensor([4053, 1312, 2492,  470, 1654,  644,  262], device='cuda:0'), tensor([1212, 3660, 2646,  645,  343,  351,  663], device='cuda:0'), tensor([  40,  460,  470, 1037], device='cuda:0'), tensor([2949,  837,   40], device='cuda:0'), tensor([  40,  423, 7342], device='cuda:0'), tensor([1212, 3807,  318], device='cuda:0'), tensor([2215,  314], device='cuda:0'), tensor([4863,  262, 3726,  286,  262,  905], device='cuda:0'), tensor([23615,  8771,   329, 14023,  6918,  1909,  1283], device='cuda:0'), tensor([12295,  1719,  1775,   428], device='cuda:0'), tensor([12502,    13, 22329,    13, 31922,  1072], device='cuda:0'), tensor([ 1212,  3807, 12073,   257,  1271], device='cuda:0'), tensor([  464,  7683, 22025,   519], device='cuda:0'), tensor([2061,  926,  373,  351,  262, 2128,   30], device='cuda:0'), tensor([8205,  893,  290], device='cuda:0'), tensor([ 40, 836, 470], device='cuda:0'), tensor([1722,  257, 1263, 4336,  286], device='cuda:0'), tensor([5962,  286,  477], device='cuda:0'), tensor([1212,  373], device='cuda:0'), tensor([11633, 45518], device='cuda:0'), tensor([45037,   734,   812,   878,   314], device='cuda:0'), tensor([   40, 24241,   319,   428,  2168], device='cuda:0'), tensor([  40,  423,  284,  923, 2282,  340], device='cuda:0'), tensor([11380,    11,   314, 36114,   428,   572], device='cuda:0'), tensor([    1,  2964,    87, 18853,     1,  4952], device='cuda:0'), tensor([39532,   550], device='cuda:0'), tensor([39687,  9866,    11], device='cuda:0'), tensor([1212, 3807,  691, 1392,  257], device='cuda:0'), tensor([ 1212,   318,   257, 16840,    11], device='cuda:0'), tensor([1639, 3505,  262], device='cuda:0'), tensor([ 3886,   617,  3772, 21083], device='cuda:0'), tensor([1026,  318, 1690,  691,  706], device='cuda:0'), tensor([ 464, 1388, 3840], device='cuda:0'), tensor([  464,  1266,  2580,  3055,  1222, 46892], device='cuda:0'), tensor([3666, 3956,  318,  287, 1842,  351,  428], device='cuda:0'), tensor([23921,  1201,  4379,   428], device='cuda:0'), tensor([10418,   286, 21071,   468,   867], device='cuda:0'), tensor([   40,  1101,   257,  2138, 22382,  1048], device='cuda:0'), tensor([  40, 4398,  470], device='cuda:0'), tensor([  40,  423,  587, 3555,  262, 8088,  329], device='cuda:0'), tensor([ 818,  968, 1971,   11], device='cuda:0'), tensor([1532,  262, 6638, 2947, 4452, 1683], device='cuda:0'), tensor([    1, 25354,   319,   262], device='cuda:0'), tensor([1212,  318,  530,  845], device='cuda:0'), tensor([12510, 22025,   519,   274,   532,  8192], device='cuda:0'), tensor([ 1212,  2646,   318, 29956], device='cuda:0'), tensor([3666, 3656,  290,  314,  655, 5201], device='cuda:0'), tensor([39182,   422, 22695,  7979,  2763, 10831,    11], device='cuda:0'), tensor([5124,  319, 3764,  373, 3024,   13,  314], device='cuda:0'), tensor([27404,   656,   428], device='cuda:0'), tensor([1212,  318, 4753], device='cuda:0'), tensor([1858,  318,  257, 1738, 1521, 9180], device='cuda:0'), tensor([5195, 1422,  470], device='cuda:0'), tensor([30571, 36960,    11,  3805,   663, 18606], device='cuda:0'), tensor([   35, 10196, 33609, 32762,  5788], device='cuda:0'), tensor([22245, 14886,   318], device='cuda:0'), tensor([   40,  3505,   618,  3336, 44428,  1677,  5870], device='cuda:0'), tensor([5962,  572,   11, 2687], device='cuda:0'), tensor([23792,  4379,   428,  2646,  1752], device='cuda:0'), tensor([  40,  550,  717, 7342,  428, 1811], device='cuda:0'), tensor([  40,  527,  544,  318, 3621], device='cuda:0'), tensor([1212,  318,  530,  286,  262], device='cuda:0'), tensor([   32,  4988,    11,  4988, 19958,  5398], device='cuda:0'), tensor([7975, 8394,  318, 2495,  922, 3807,    0], device='cuda:0'), tensor([1212,  373,  257, 2495, 7709, 3807], device='cuda:0'), tensor([2215, 4634,  503], device='cuda:0'), tensor([  40, 1807,  428, 3807,  750,  257], device='cuda:0'), tensor([1212,  373, 8082,   11, 3616], device='cuda:0'), tensor([15354,   345,   765,   284,  4341,  3016], device='cuda:0'), tensor([ 3198,   286,   262,  5228, 28750], device='cuda:0'), tensor([  40, 1422,  470,  892], device='cuda:0'), tensor([1212, 3807], device='cuda:0'), tensor([ 39, 624], device='cuda:0'), tensor([5812,  582,   11], device='cuda:0'), tensor([31080,  6155,  1088], device='cuda:0'), tensor([   40,   373,  1341, 27428], device='cuda:0'), tensor([   46,  1860,  1017, 31218,  3807,   422], device='cuda:0'), tensor([5779,  986, 1169, 3807], device='cuda:0'), tensor([1212, 3807], device='cuda:0'), tensor([464, 691], device='cuda:0'), tensor([34784,   262,   717, 21813,  2646,   314], device='cuda:0'), tensor([1135,  477, 2993], device='cuda:0'), tensor([14698,  1775, 44079], device='cuda:0'), tensor([ 1722,   281, 32450], device='cuda:0'), tensor([5756,  502, 1560,  345], device='cuda:0'), tensor([36635,   329,  4172,   351], device='cuda:0'), tensor([ 4653, 23826,   466], device='cuda:0'), tensor([14698,   407,  1100,   262], device='cuda:0'), tensor([28292,  1001,   363,   282], device='cuda:0'), tensor([ 464, 2646], device='cuda:0'), tensor([   6, 2061,  314, 4525, 7994], device='cuda:0'), tensor([  40, 1816,  656,  428, 3807,  706], device='cuda:0'), tensor([3673,  262, 1266,  286], device='cuda:0'), tensor([1212, 2646], device='cuda:0'), tensor([1212,  714,  423,  587], device='cuda:0'), tensor([ 464, 5664,  262], device='cuda:0'), tensor([   40, 26399,   428,  2646,   284,   766,   644], device='cuda:0'), tensor([7003, 1165], device='cuda:0'), tensor([5756,  502], device='cuda:0'), tensor([  38,  392, 5303,   11], device='cuda:0'), tensor([45713, 32002,   357, 15724,     8,  1279], device='cuda:0'), tensor([ 505,  286,  262, 1266], device='cuda:0'), tensor([6398,  278,  373, 4939], device='cuda:0'), tensor([19457,    11,   262,  2106], device='cuda:0'), tensor([  40,  717, 2497,  428, 3807], device='cuda:0'), tensor([1212,  318, 5543,  530,  286,  262, 1266], device='cuda:0'), tensor([  40, 1842,  428, 3807], device='cuda:0')]\n",
      "128\n",
      "[tensor([1212,  318,  257, 2646,  326,  373,  845], device='cuda:0'), tensor([1212,  318,  407,  262, 2008,  299,  459], device='cuda:0'), tensor([1212, 3807], device='cuda:0'), tensor([1026,  468,  691], device='cuda:0'), tensor([  464,  6550,  7079,   318,  1365,  2402, 14580], device='cuda:0'), tensor([  464, 15774, 10211,   290, 42858,  3930], device='cuda:0'), tensor([17121,  1559,   338, 18702,   318], device='cuda:0'), tensor([  40,  373, 7428,  284,  360, 1565], device='cuda:0'), tensor([1268, 4303, 9782, 1581,  402, 2885], device='cuda:0'), tensor([19457,    11], device='cuda:0'), tensor([  40, 8359,  428, 3807,  257, 1256], device='cuda:0'), tensor([ 3629,  4070, 17766,   829,     0,   632], device='cuda:0'), tensor([  40, 9159,  314,  550], device='cuda:0'), tensor([  32, 5278, 4476,  430], device='cuda:0'), tensor([ 2061,   373, 22198,  9033,   487,   557, 15516], device='cuda:0'), tensor([1722, 2582,  355,  314, 2540,  284], device='cuda:0'), tensor([1212, 2646,  318, 8941], device='cuda:0'), tensor([28974,  2635,   318,   287,   616], device='cuda:0'), tensor([15496,    11], device='cuda:0'), tensor([ 464,  691, 1738,  314, 2993], device='cuda:0'), tensor([ 1212,  1244,   307,   262, 27335,  1672,   286], device='cuda:0'), tensor([20459,  8631,   284,   766,  1521,   262, 14429], device='cuda:0'), tensor([ 1212,   318,   281, 17774,   366, 23569,     1], device='cuda:0'), tensor([31305,   257,  8667,  1790], device='cuda:0'), tensor([1212,  905,  481, 6758], device='cuda:0'), tensor([4366, 5293,  523], device='cuda:0'), tensor([1722,  314, 3151,  262,  366, 1891], device='cuda:0'), tensor([ 818,  257, 1474, 2003,   11], device='cuda:0'), tensor([1026, 2331,  588, 9599,  460], device='cuda:0'), tensor([  464,  2646,   286, 36137,   544,   743,   307], device='cuda:0'), tensor([10970, 39947,  1268], device='cuda:0'), tensor([14291,   257], device='cuda:0'), tensor([5962, 1243,  717,   11,  314], device='cuda:0'), tensor([ 464, 3807,  743,  307, 1049,   13], device='cuda:0'), tensor([ 16,  14, 940, 290, 326, 338], device='cuda:0'), tensor([ 6581, 33472,   373,   281, 11660,  2168,    11], device='cuda:0'), tensor([ 818,  281, 2720], device='cuda:0'), tensor([ 40, 460, 470], device='cuda:0'), tensor([10915,  5278], device='cuda:0'), tensor([   40,  1043,   428,   319,   262, 18316], device='cuda:0'), tensor([  72,  716,  257, 1263, 4336,  286], device='cuda:0'), tensor([19457,    11,   339,  2627,  8902, 30690], device='cuda:0'), tensor([  40, 1101, 7926,  284], device='cuda:0'), tensor([   35,  1809, 14488,  3549,   373], device='cuda:0'), tensor([2215,  734], device='cuda:0'), tensor([1212, 3807, 8072, 7365,  661], device='cuda:0'), tensor([   1,   32, 4988], device='cuda:0'), tensor([ 2025, 19827,   306, 10758,  2646,   356], device='cuda:0'), tensor([1212,  318, 1865, 1194, 2089, 3807], device='cuda:0'), tensor([7282,  287,  262, 4317], device='cuda:0'), tensor([  40, 1816], device='cuda:0'), tensor([  40, 7685,  691], device='cuda:0'), tensor([  40,  423,  284,  910,  314, 2407, 8359], device='cuda:0'), tensor([  40, 2497], device='cuda:0'), tensor([    1, 28541], device='cuda:0'), tensor([38248, 40559,  6656,  5245,  1326,  8404], device='cuda:0'), tensor([ 464, 3002,  319], device='cuda:0'), tensor([3844,   11,  314, 1101], device='cuda:0'), tensor([44898,   923,    11,  4735,  3504,    11], device='cuda:0'), tensor([10915,   314,  1549], device='cuda:0'), tensor([17133,  4221,   318,   257,  1276,   766], device='cuda:0'), tensor([31895,  2174,    11,   475,  1100,   319,   393], device='cuda:0'), tensor([4834, 8907,  278,   11], device='cuda:0'), tensor([   40, 24241,  4291,   428,  3807,   618], device='cuda:0'), tensor([  40, 4724], device='cuda:0'), tensor([ 818, 2031,   11,  340,  338, 1900], device='cuda:0'), tensor([23615,   366,    79,  2913,    12,  1525,    12], device='cuda:0'), tensor([3673, 2279,  318,  531,  287], device='cuda:0'), tensor([1722,  257, 2968], device='cuda:0'), tensor([  40,  717, 4978], device='cuda:0'), tensor([45037,   655,   878], device='cuda:0'), tensor([ 40, 423, 655], device='cuda:0'), tensor([ 3260,  6078,   262, 33953,   329,   607,  2854], device='cuda:0'), tensor([  72, 7342], device='cuda:0'), tensor([ 40, 373, 379], device='cuda:0'), tensor([2061,  561, 3022,  618], device='cuda:0'), tensor([30638,   374], device='cuda:0'), tensor([2025, 2811, 3195, 3807], device='cuda:0'), tensor([  40, 1053,  655, 7342, 8299], device='cuda:0'), tensor([1212,  318], device='cuda:0'), tensor([  464, 20576,   710], device='cuda:0'), tensor([ 40, 655], device='cuda:0'), tensor([  40, 1101], device='cuda:0'), tensor([1212, 3999, 3807,  925], device='cuda:0'), tensor([  32, 1049, 3663,  329], device='cuda:0'), tensor([ 3666,  2460,   290,   314, 26399,   428], device='cuda:0'), tensor([  40, 3521], device='cuda:0'), tensor([ 818,  262,  614, 4793,   11], device='cuda:0'), tensor([1961,   35], device='cuda:0'), tensor([21077,   428,   530], device='cuda:0'), tensor([1890,  883,  508,  892,  286], device='cuda:0'), tensor([5779,   11,  810,  284], device='cuda:0'), tensor([ 40, 373, 546, 767, 618], device='cuda:0'), tensor([ 464, 4925], device='cuda:0'), tensor([ 1212,   318,   257,  4988, 11004,  3704,   286], device='cuda:0'), tensor([ 464, 3807], device='cuda:0'), tensor([   32, 16162, 11246,  1310,  1787,  2127,  5329], device='cuda:0'), tensor([  36, 3705, 4146, 1340,   11,  257,   13], device='cuda:0'), tensor([  40, 1101,  523, 9675,  314], device='cuda:0'), tensor([14214, 20859], device='cuda:0'), tensor([ 464, 1738,  262], device='cuda:0'), tensor([38025,  4176,   318,   281,  3489], device='cuda:0'), tensor([1532,  612,  373,  617, 7650,  287], device='cuda:0'), tensor([1350, 3243,  262, 1109, 7165,  661], device='cuda:0'), tensor([7149, 2618,  508,  468, 1683], device='cuda:0'), tensor([16371,    11], device='cuda:0'), tensor([  40, 6151,  428], device='cuda:0'), tensor([ 1212,  3807, 14516,   502], device='cuda:0'), tensor([ 1212,  8235,  3807,   373,   262,   717, 16711], device='cuda:0'), tensor([2025, 6275, 2854,  416,  978], device='cuda:0'), tensor([13898,    11], device='cuda:0'), tensor([23921,  2982,   286,   257], device='cuda:0'), tensor([5779,   11,  644], device='cuda:0'), tensor([11380,   532], device='cuda:0'), tensor([   40,   550, 30508,   262,  3807], device='cuda:0'), tensor([   53, 27933, 31280,    13, 23274], device='cuda:0'), tensor([ 464,  691, 2456], device='cuda:0'), tensor([1212, 2646], device='cuda:0'), tensor([ 464, 2646,  318, 1912,  319,  257], device='cuda:0'), tensor([14698,  5615,   287, 10553,   616], device='cuda:0'), tensor([7594,  465, 2961, 2646,   11], device='cuda:0'), tensor([1858,  338,  691,  530, 1517], device='cuda:0'), tensor([7248,  287, 2520, 5478], device='cuda:0'), tensor([5962,  572], device='cuda:0'), tensor([   40,   898, 20993, 17466], device='cuda:0'), tensor([  464, 28619,   262, 10512,    11,   262], device='cuda:0'), tensor([1212, 2646,   11, 2904], device='cuda:0'), tensor([1174,   47, 4733, 1338, 9437,  364], device='cuda:0')]\n",
      "128\n"
     ]
    },
    {
     "name": "stderr",
     "output_type": "stream",
     "text": [
      "\n"
     ]
    }
   ],
   "source": [
    "\n",
    "for epoch, batch in tqdm(enumerate(ppo_trainer.dataloader)):\n",
    "    query_tensors = batch[\"input_ids\"]\n",
    "    \n",
    "    print(query_tensors)\n",
    "    print(len(query_tensors))\n",
    "    if epoch == 1:\n",
    "        break\n"
   ]
  },
  {
   "cell_type": "code",
   "execution_count": 35,
   "metadata": {},
   "outputs": [
    {
     "name": "stderr",
     "output_type": "stream",
     "text": [
      "\r",
      "0it [00:00, ?it/s]"
     ]
    },
    {
     "name": "stdout",
     "output_type": "stream",
     "text": [
      "0\n",
      "{'label': [tensor(0, device='cuda:0'), tensor(1, device='cuda:0'), tensor(1, device='cuda:0'), tensor(0, device='cuda:0'), tensor(0, device='cuda:0'), tensor(0, device='cuda:0'), tensor(1, device='cuda:0'), tensor(0, device='cuda:0'), tensor(1, device='cuda:0'), tensor(1, device='cuda:0'), tensor(1, device='cuda:0'), tensor(0, device='cuda:0'), tensor(0, device='cuda:0'), tensor(0, device='cuda:0'), tensor(0, device='cuda:0'), tensor(0, device='cuda:0'), tensor(0, device='cuda:0'), tensor(1, device='cuda:0'), tensor(1, device='cuda:0'), tensor(0, device='cuda:0'), tensor(1, device='cuda:0'), tensor(1, device='cuda:0'), tensor(0, device='cuda:0'), tensor(1, device='cuda:0'), tensor(0, device='cuda:0'), tensor(0, device='cuda:0'), tensor(0, device='cuda:0'), tensor(0, device='cuda:0'), tensor(0, device='cuda:0'), tensor(0, device='cuda:0'), tensor(0, device='cuda:0'), tensor(1, device='cuda:0'), tensor(0, device='cuda:0'), tensor(0, device='cuda:0'), tensor(1, device='cuda:0'), tensor(1, device='cuda:0'), tensor(0, device='cuda:0'), tensor(1, device='cuda:0'), tensor(0, device='cuda:0'), tensor(0, device='cuda:0'), tensor(1, device='cuda:0'), tensor(1, device='cuda:0'), tensor(0, device='cuda:0'), tensor(1, device='cuda:0'), tensor(1, device='cuda:0'), tensor(0, device='cuda:0'), tensor(0, device='cuda:0'), tensor(0, device='cuda:0'), tensor(1, device='cuda:0'), tensor(0, device='cuda:0'), tensor(0, device='cuda:0'), tensor(0, device='cuda:0'), tensor(1, device='cuda:0'), tensor(0, device='cuda:0'), tensor(1, device='cuda:0'), tensor(0, device='cuda:0'), tensor(0, device='cuda:0'), tensor(1, device='cuda:0'), tensor(0, device='cuda:0'), tensor(1, device='cuda:0'), tensor(1, device='cuda:0'), tensor(0, device='cuda:0'), tensor(0, device='cuda:0'), tensor(0, device='cuda:0'), tensor(1, device='cuda:0'), tensor(1, device='cuda:0'), tensor(1, device='cuda:0'), tensor(0, device='cuda:0'), tensor(0, device='cuda:0'), tensor(0, device='cuda:0'), tensor(0, device='cuda:0'), tensor(0, device='cuda:0'), tensor(1, device='cuda:0'), tensor(1, device='cuda:0'), tensor(0, device='cuda:0'), tensor(1, device='cuda:0'), tensor(0, device='cuda:0'), tensor(0, device='cuda:0'), tensor(0, device='cuda:0'), tensor(1, device='cuda:0'), tensor(1, device='cuda:0'), tensor(1, device='cuda:0'), tensor(1, device='cuda:0'), tensor(0, device='cuda:0'), tensor(0, device='cuda:0'), tensor(0, device='cuda:0'), tensor(0, device='cuda:0'), tensor(0, device='cuda:0'), tensor(0, device='cuda:0'), tensor(1, device='cuda:0'), tensor(1, device='cuda:0'), tensor(0, device='cuda:0'), tensor(0, device='cuda:0'), tensor(0, device='cuda:0'), tensor(1, device='cuda:0'), tensor(0, device='cuda:0'), tensor(1, device='cuda:0'), tensor(1, device='cuda:0'), tensor(0, device='cuda:0'), tensor(1, device='cuda:0'), tensor(0, device='cuda:0'), tensor(1, device='cuda:0'), tensor(1, device='cuda:0'), tensor(0, device='cuda:0'), tensor(1, device='cuda:0'), tensor(1, device='cuda:0'), tensor(1, device='cuda:0'), tensor(1, device='cuda:0'), tensor(1, device='cuda:0'), tensor(1, device='cuda:0'), tensor(1, device='cuda:0'), tensor(1, device='cuda:0'), tensor(0, device='cuda:0'), tensor(0, device='cuda:0'), tensor(1, device='cuda:0'), tensor(0, device='cuda:0'), tensor(1, device='cuda:0'), tensor(0, device='cuda:0'), tensor(0, device='cuda:0'), tensor(1, device='cuda:0'), tensor(1, device='cuda:0'), tensor(0, device='cuda:0'), tensor(0, device='cuda:0'), tensor(1, device='cuda:0'), tensor(1, device='cuda:0'), tensor(0, device='cuda:0'), tensor(1, device='cuda:0'), tensor(0, device='cuda:0')], 'input_ids': [tensor([ 1858,   389, 22051,   287,   428,  2646], device='cuda:0'), tensor([8585,  734, 3470, 1866,  286,  257], device='cuda:0'), tensor([ 818,  262, 3095], device='cuda:0'), tensor([  40, 2236,  407, 7030,  616], device='cuda:0'), tensor([1212,  905,  318,  257, 2818], device='cuda:0'), tensor([   40, 18548,  6901,   703,  7818,   428], device='cuda:0'), tensor([40630,  2084,    11,   314,  1043,   257,   366], device='cuda:0'), tensor([  40,  716,  407, 1654,  508,  318], device='cuda:0'), tensor([2514, 2089], device='cuda:0'), tensor([1212, 3807], device='cuda:0'), tensor([22253,  1717,   494], device='cuda:0'), tensor([   40,  1842,   262, 33016,   286], device='cuda:0'), tensor([ 1212, 40870,  3918], device='cuda:0'), tensor([  40,  691, 7342,  428], device='cuda:0'), tensor([5308, 7574,   25], device='cuda:0'), tensor([  40,  423,  257, 4203,  326, 1583], device='cuda:0'), tensor([29688,   836,   470,  5602,   393], device='cuda:0'), tensor([  40, 1392,  257,  922, 6487], device='cuda:0'), tensor([2215,  616, 1478,   12, 1941], device='cuda:0'), tensor([ 818, 6273], device='cuda:0'), tensor([  40, 1842,  428,  905,  355,  340], device='cuda:0'), tensor([1212,  318,  281, 6275,   11, 3049], device='cuda:0'), tensor([   32,  2646,   588, 23181, 16156,   290], device='cuda:0'), tensor([  32,  845, 1913, 3807], device='cuda:0'), tensor([ 505,  286,  262, 5290, 7328], device='cuda:0'), tensor([5962,  286], device='cuda:0'), tensor([26554,   428,  3807,   550,   502, 35820,    13], device='cuda:0'), tensor([   40,  2497,   428,   287,   262, 13766,   618], device='cuda:0'), tensor([ 6090,  9599,   466,   922, 36378,  7328, 13769], device='cuda:0'), tensor([6104, 4785], device='cuda:0'), tensor([  40,  635, 2497,  428], device='cuda:0'), tensor([   40, 17666,   760,  1521,   661,   892], device='cuda:0'), tensor([1026,  338], device='cuda:0'), tensor([ 464, 3807,  318,  281, 3131,   12, 6511], device='cuda:0'), tensor([3260,  345,  766], device='cuda:0'), tensor([   1,   39, 1324,  268,  301,  590,    1], device='cuda:0'), tensor([1026,  338, 2408,  284,  760,  810,  428], device='cuda:0'), tensor([6610, 9623, 2646,  422,  257, 1499,   11], device='cuda:0'), tensor([32476,    11,   257], device='cuda:0'), tensor([ 1212,  1244,   307, 24479,    11,   475], device='cuda:0'), tensor([   35,   388,  1044, 13692], device='cuda:0'), tensor([  40, 2497,  428], device='cuda:0'), tensor([1212, 3807, 1595], device='cuda:0'), tensor([  40, 2993,  314,  373, 1016,  284], device='cuda:0'), tensor([1026,  468,  691], device='cuda:0'), tensor([1212,  318,  257], device='cuda:0'), tensor([    1,  9171, 37670,  5958,     1], device='cuda:0'), tensor([8117,  373,  617, 3872,  284,  428], device='cuda:0'), tensor([  56, 1666], device='cuda:0'), tensor([5703,  780, 2130,  318,  739,  262], device='cuda:0'), tensor([2725,  415, 8597], device='cuda:0'), tensor([   40,  1043,   428,  3807, 14262,    11,   937], device='cuda:0'), tensor([ 1212,   318,   257,  1790,    11, 14897], device='cuda:0'), tensor([ 1, 32], device='cuda:0'), tensor([  27, 1671], device='cuda:0'), tensor([22017,   340,   338, 25304,  1201,   428,  3807], device='cuda:0'), tensor([    1, 17821,     1,  1621,   286], device='cuda:0'), tensor([15322,   412,  1279], device='cuda:0'), tensor([29318,  5613], device='cuda:0'), tensor([  32, 2407,  922], device='cuda:0'), tensor([  40,  892,  262, 3741,  286,  262], device='cuda:0'), tensor([  40, 4236,  351, 2279,  661,  531,  319], device='cuda:0'), tensor([    1, 30847, 33989,     1,  7599, 30940,  5033], device='cuda:0'), tensor([ 1212,  4112, 13913,   318,  1912], device='cuda:0'), tensor([  464,  3126, 18265,    82], device='cuda:0'), tensor([1212, 2646,  373], device='cuda:0'), tensor([   1,  464, 4599, 3668,    1,  318], device='cuda:0'), tensor([ 5211,   407,   307, 16011,    11], device='cuda:0'), tensor([ 40, 423, 284], device='cuda:0'), tensor([ 1212,  3807,   373,   262,  4405, 11318,   285], device='cuda:0'), tensor([  986, 25587,   484,   821,  1111,  2495], device='cuda:0'), tensor([1212,  318], device='cuda:0'), tensor([  40, 1464, 2883,  428, 3807,  618], device='cuda:0'), tensor([10995,    11,   262, 37942,   286,   257,  2829], device='cuda:0'), tensor([5779,   11, 1312], device='cuda:0'), tensor([17121, 12958], device='cuda:0'), tensor([1212, 3807,  318,  257, 2472], device='cuda:0'), tensor([5962,  286,  477,   11,  428, 3807, 2125], device='cuda:0'), tensor([  40,  373, 7428,  284], device='cuda:0'), tensor([1532,  345,  588, 7110], device='cuda:0'), tensor([  986, 26698, 11225], device='cuda:0'), tensor([13615,  1675,   383,   513], device='cuda:0'), tensor([ 8248, 12338], device='cuda:0'), tensor([ 464, 5544], device='cuda:0'), tensor([   40,   423,  1464,  8288, 26309,  5741,   338], device='cuda:0'), tensor([  40, 1053], device='cuda:0'), tensor([1026,  338,  407,  588,  314], device='cuda:0'), tensor([1212, 3807,  857,  407, 1107, 7719], device='cuda:0'), tensor([  818, 15275,   286, 46499,   670,   416,   262], device='cuda:0'), tensor([10943,  5603, 20913,  6226, 49713], device='cuda:0'), tensor([3118, 5589], device='cuda:0'), tensor([5756,  502, 1560,  345], device='cuda:0'), tensor([  40,  655,  750,  407, 2883,  428, 2646], device='cuda:0'), tensor([1212, 3807], device='cuda:0'), tensor([2061, 1838], device='cuda:0'), tensor([6104,  611,  428, 2646,  373, 7910,  257], device='cuda:0'), tensor([3987,  470, 6004], device='cuda:0'), tensor([1212,  318], device='cuda:0'), tensor([  464, 43786,   318,   546,   986,   880,    11], device='cuda:0'), tensor([  40,  550,  645, 2126,  644,  428], device='cuda:0'), tensor([1026,  338,  257, 2089,   11,  845, 2089], device='cuda:0'), tensor([  40, 2497,  428], device='cuda:0'), tensor([   47,  9798, 14266], device='cuda:0'), tensor([ 2601, 13416,   284,  3950], device='cuda:0'), tensor([  818,  4068,  1466,   389, 12244,   422, 11969], device='cuda:0'), tensor([  464, 39078,   396,   373], device='cuda:0'), tensor([    1, 25255, 20836,     1,   318,   257,   649], device='cuda:0'), tensor([6610,  287,  262], device='cuda:0'), tensor([1212, 3807,  318, 2192,  329], device='cuda:0'), tensor([  40, 1043,  705, 7575, 1629,  383, 5849], device='cuda:0'), tensor([39750,   318], device='cuda:0'), tensor([45648,   644,   284], device='cuda:0'), tensor([4366, 6918], device='cuda:0'), tensor([3666, 1793], device='cuda:0'), tensor([5779,   11,  314, 1183], device='cuda:0'), tensor([1212, 2331,  588,  734], device='cuda:0'), tensor([ 270,  338,  257,  845, 3621], device='cuda:0'), tensor([4366,  661,  423,  925], device='cuda:0'), tensor([22017,    11,   257,  3807,   546, 19170], device='cuda:0'), tensor([3152,  262, 2650,  286, 5613, 6612], device='cuda:0'), tensor([1212, 3807], device='cuda:0'), tensor([2043,  373,  645, 2565,  290,  340,  373], device='cuda:0'), tensor([14573, 21657,   318], device='cuda:0'), tensor([1858,  338,  645,  835,  284, 7239,  705], device='cuda:0'), tensor([1532,  287,  262, 4101,  338,  345], device='cuda:0'), tensor([2215,  314,  467], device='cuda:0'), tensor([5962,  286,  477,  314,  761,  284], device='cuda:0'), tensor([2437,  466,  314, 2221], device='cuda:0')], 'query': ['There are laughs in this film', 'About two hundred members of a', 'In the mid', 'I shall not waste my', 'This show is a perfect', 'I cant describe how terrible this', 'Years ago, I found a \"', 'I am not sure who is', 'To bad', 'This movie', 'Little Edie', 'I love the depiction of', 'This Lifetime style', 'I only watched this', 'Meaning:', 'I have a feeling that Dr', \"please don't rent or\", 'I got a good laugh', 'When my 14-year', 'In contrast', 'I love this show as it', 'This is an excellent, fast', 'A film like Amazing Grace and', 'A very strong movie', 'one of the worst films', 'First of', 'Boy this movie had me fooled.', 'I saw this in the theater when', 'Can anybody do good CGI films besides', 'Even worse', 'I also saw this', 'I dont know why people think', \"It's\", 'The movie is an extra-long', 'After you see', '\"Happenstance\"', \"It's difficult to know where this\", 'Another fantastic film from a country,', 'Henry, a', 'This might be unbelievable, but', 'Dumland focuses', 'I saw this', 'This movie doesn', 'I knew I was going to', 'It has only', 'This is a', '\"Metamorphosis\"', 'there was some truth to this', 'Yows', 'Just because someone is under the', 'Phantasm', 'I found this movie boring, mon', 'This is a short, crude', '\"A', '<br', \"Wow it's ironic since this movie\", '\"True\" story of', 'Rated E <', 'Meet Peter', 'A quite good', 'I think the majority of the', 'I agree with everything people said on', '\"Fred Claus\" somehow avoids becoming', 'This absolute trash is based', 'The 60´s', 'This film was', '\"The Good Earth\" is', 'Do not be mistaken,', 'I have to', 'This movie was the beatliest m', \"...cause they're both pretty\", 'This is', 'I always enjoy this movie when', 'Yeah, the archetype of a simple', 'Well, i', 'William Wy', 'This movie is a total', 'First of all, this movie isn', 'I was drawn to', 'If you like plot', '... Hawk Heaven', 'Return To The 3', 'Star Trek', 'The fourth', \"I have always liked Spike Lee's\", \"I've\", \"It's not like I\", 'This movie does not really promote', 'In spite of sterling work by the', 'CONTAINS SPOIL', 'Uncomp', 'Let me tell you', 'I just did not enjoy this film', 'This movie', 'What makes', 'Even if this film was allegedly a', \"Don't listen\", 'This is', 'The Minion is about... well,', 'I had no idea what this', \"It's a bad, very bad\", 'I saw this', 'Pierce Bros', 'Closer to reality', 'In Iran women are prohibited from attending', 'The Dentist was', '\"Atlantis\" is a new', 'Another in the', 'This movie is probably for', \"I found 'Time At The Top\", 'Film is', 'Knowing what to', 'Some movies', 'My God', \"Well, I'll\", 'This seems like two', \"it's a very nice\", 'Some people have made', 'Wow, a movie about NYC', 'With the release of Peter Jackson', 'This movie', 'IT was no sense and it was', 'Blue monkey is', \"There's no way to confront '\", \"If in the 90's you\", 'When I go', 'First of all I need to', 'How do I begin']}\n",
      "*********************\n",
      "*********************\n",
      "*********************\n",
      "*********************\n"
     ]
    },
    {
     "name": "stderr",
     "output_type": "stream",
     "text": [
      "\r",
      "1it [00:07,  7.83s/it]"
     ]
    },
    {
     "name": "stdout",
     "output_type": "stream",
     "text": [
      "{'label': [tensor(0, device='cuda:0'), tensor(1, device='cuda:0'), tensor(1, device='cuda:0'), tensor(0, device='cuda:0'), tensor(0, device='cuda:0'), tensor(0, device='cuda:0'), tensor(1, device='cuda:0'), tensor(0, device='cuda:0'), tensor(1, device='cuda:0'), tensor(1, device='cuda:0'), tensor(1, device='cuda:0'), tensor(0, device='cuda:0'), tensor(0, device='cuda:0'), tensor(0, device='cuda:0'), tensor(0, device='cuda:0'), tensor(0, device='cuda:0'), tensor(0, device='cuda:0'), tensor(1, device='cuda:0'), tensor(1, device='cuda:0'), tensor(0, device='cuda:0'), tensor(1, device='cuda:0'), tensor(1, device='cuda:0'), tensor(0, device='cuda:0'), tensor(1, device='cuda:0'), tensor(0, device='cuda:0'), tensor(0, device='cuda:0'), tensor(0, device='cuda:0'), tensor(0, device='cuda:0'), tensor(0, device='cuda:0'), tensor(0, device='cuda:0'), tensor(0, device='cuda:0'), tensor(1, device='cuda:0'), tensor(0, device='cuda:0'), tensor(0, device='cuda:0'), tensor(1, device='cuda:0'), tensor(1, device='cuda:0'), tensor(0, device='cuda:0'), tensor(1, device='cuda:0'), tensor(0, device='cuda:0'), tensor(0, device='cuda:0'), tensor(1, device='cuda:0'), tensor(1, device='cuda:0'), tensor(0, device='cuda:0'), tensor(1, device='cuda:0'), tensor(1, device='cuda:0'), tensor(0, device='cuda:0'), tensor(0, device='cuda:0'), tensor(0, device='cuda:0'), tensor(1, device='cuda:0'), tensor(0, device='cuda:0'), tensor(0, device='cuda:0'), tensor(0, device='cuda:0'), tensor(1, device='cuda:0'), tensor(0, device='cuda:0'), tensor(1, device='cuda:0'), tensor(0, device='cuda:0'), tensor(0, device='cuda:0'), tensor(1, device='cuda:0'), tensor(0, device='cuda:0'), tensor(1, device='cuda:0'), tensor(1, device='cuda:0'), tensor(0, device='cuda:0'), tensor(0, device='cuda:0'), tensor(0, device='cuda:0'), tensor(1, device='cuda:0'), tensor(1, device='cuda:0'), tensor(1, device='cuda:0'), tensor(0, device='cuda:0'), tensor(0, device='cuda:0'), tensor(0, device='cuda:0'), tensor(0, device='cuda:0'), tensor(0, device='cuda:0'), tensor(1, device='cuda:0'), tensor(1, device='cuda:0'), tensor(0, device='cuda:0'), tensor(1, device='cuda:0'), tensor(0, device='cuda:0'), tensor(0, device='cuda:0'), tensor(0, device='cuda:0'), tensor(1, device='cuda:0'), tensor(1, device='cuda:0'), tensor(1, device='cuda:0'), tensor(1, device='cuda:0'), tensor(0, device='cuda:0'), tensor(0, device='cuda:0'), tensor(0, device='cuda:0'), tensor(0, device='cuda:0'), tensor(0, device='cuda:0'), tensor(0, device='cuda:0'), tensor(1, device='cuda:0'), tensor(1, device='cuda:0'), tensor(0, device='cuda:0'), tensor(0, device='cuda:0'), tensor(0, device='cuda:0'), tensor(1, device='cuda:0'), tensor(0, device='cuda:0'), tensor(1, device='cuda:0'), tensor(1, device='cuda:0'), tensor(0, device='cuda:0'), tensor(1, device='cuda:0'), tensor(0, device='cuda:0'), tensor(1, device='cuda:0'), tensor(1, device='cuda:0'), tensor(0, device='cuda:0'), tensor(1, device='cuda:0'), tensor(1, device='cuda:0'), tensor(1, device='cuda:0'), tensor(1, device='cuda:0'), tensor(1, device='cuda:0'), tensor(1, device='cuda:0'), tensor(1, device='cuda:0'), tensor(1, device='cuda:0'), tensor(0, device='cuda:0'), tensor(0, device='cuda:0'), tensor(1, device='cuda:0'), tensor(0, device='cuda:0'), tensor(1, device='cuda:0'), tensor(0, device='cuda:0'), tensor(0, device='cuda:0'), tensor(1, device='cuda:0'), tensor(1, device='cuda:0'), tensor(0, device='cuda:0'), tensor(0, device='cuda:0'), tensor(1, device='cuda:0'), tensor(1, device='cuda:0'), tensor(0, device='cuda:0'), tensor(1, device='cuda:0'), tensor(0, device='cuda:0')], 'input_ids': [tensor([ 1858,   389, 22051,   287,   428,  2646], device='cuda:0'), tensor([8585,  734, 3470, 1866,  286,  257], device='cuda:0'), tensor([ 818,  262, 3095], device='cuda:0'), tensor([  40, 2236,  407, 7030,  616], device='cuda:0'), tensor([1212,  905,  318,  257, 2818], device='cuda:0'), tensor([   40, 18548,  6901,   703,  7818,   428], device='cuda:0'), tensor([40630,  2084,    11,   314,  1043,   257,   366], device='cuda:0'), tensor([  40,  716,  407, 1654,  508,  318], device='cuda:0'), tensor([2514, 2089], device='cuda:0'), tensor([1212, 3807], device='cuda:0'), tensor([22253,  1717,   494], device='cuda:0'), tensor([   40,  1842,   262, 33016,   286], device='cuda:0'), tensor([ 1212, 40870,  3918], device='cuda:0'), tensor([  40,  691, 7342,  428], device='cuda:0'), tensor([5308, 7574,   25], device='cuda:0'), tensor([  40,  423,  257, 4203,  326, 1583], device='cuda:0'), tensor([29688,   836,   470,  5602,   393], device='cuda:0'), tensor([  40, 1392,  257,  922, 6487], device='cuda:0'), tensor([2215,  616, 1478,   12, 1941], device='cuda:0'), tensor([ 818, 6273], device='cuda:0'), tensor([  40, 1842,  428,  905,  355,  340], device='cuda:0'), tensor([1212,  318,  281, 6275,   11, 3049], device='cuda:0'), tensor([   32,  2646,   588, 23181, 16156,   290], device='cuda:0'), tensor([  32,  845, 1913, 3807], device='cuda:0'), tensor([ 505,  286,  262, 5290, 7328], device='cuda:0'), tensor([5962,  286], device='cuda:0'), tensor([26554,   428,  3807,   550,   502, 35820,    13], device='cuda:0'), tensor([   40,  2497,   428,   287,   262, 13766,   618], device='cuda:0'), tensor([ 6090,  9599,   466,   922, 36378,  7328, 13769], device='cuda:0'), tensor([6104, 4785], device='cuda:0'), tensor([  40,  635, 2497,  428], device='cuda:0'), tensor([   40, 17666,   760,  1521,   661,   892], device='cuda:0'), tensor([1026,  338], device='cuda:0'), tensor([ 464, 3807,  318,  281, 3131,   12, 6511], device='cuda:0'), tensor([3260,  345,  766], device='cuda:0'), tensor([   1,   39, 1324,  268,  301,  590,    1], device='cuda:0'), tensor([1026,  338, 2408,  284,  760,  810,  428], device='cuda:0'), tensor([6610, 9623, 2646,  422,  257, 1499,   11], device='cuda:0'), tensor([32476,    11,   257], device='cuda:0'), tensor([ 1212,  1244,   307, 24479,    11,   475], device='cuda:0'), tensor([   35,   388,  1044, 13692], device='cuda:0'), tensor([  40, 2497,  428], device='cuda:0'), tensor([1212, 3807, 1595], device='cuda:0'), tensor([  40, 2993,  314,  373, 1016,  284], device='cuda:0'), tensor([1026,  468,  691], device='cuda:0'), tensor([1212,  318,  257], device='cuda:0'), tensor([    1,  9171, 37670,  5958,     1], device='cuda:0'), tensor([8117,  373,  617, 3872,  284,  428], device='cuda:0'), tensor([  56, 1666], device='cuda:0'), tensor([5703,  780, 2130,  318,  739,  262], device='cuda:0'), tensor([2725,  415, 8597], device='cuda:0'), tensor([   40,  1043,   428,  3807, 14262,    11,   937], device='cuda:0'), tensor([ 1212,   318,   257,  1790,    11, 14897], device='cuda:0'), tensor([ 1, 32], device='cuda:0'), tensor([  27, 1671], device='cuda:0'), tensor([22017,   340,   338, 25304,  1201,   428,  3807], device='cuda:0'), tensor([    1, 17821,     1,  1621,   286], device='cuda:0'), tensor([15322,   412,  1279], device='cuda:0'), tensor([29318,  5613], device='cuda:0'), tensor([  32, 2407,  922], device='cuda:0'), tensor([  40,  892,  262, 3741,  286,  262], device='cuda:0'), tensor([  40, 4236,  351, 2279,  661,  531,  319], device='cuda:0'), tensor([    1, 30847, 33989,     1,  7599, 30940,  5033], device='cuda:0'), tensor([ 1212,  4112, 13913,   318,  1912], device='cuda:0'), tensor([  464,  3126, 18265,    82], device='cuda:0'), tensor([1212, 2646,  373], device='cuda:0'), tensor([   1,  464, 4599, 3668,    1,  318], device='cuda:0'), tensor([ 5211,   407,   307, 16011,    11], device='cuda:0'), tensor([ 40, 423, 284], device='cuda:0'), tensor([ 1212,  3807,   373,   262,  4405, 11318,   285], device='cuda:0'), tensor([  986, 25587,   484,   821,  1111,  2495], device='cuda:0'), tensor([1212,  318], device='cuda:0'), tensor([  40, 1464, 2883,  428, 3807,  618], device='cuda:0'), tensor([10995,    11,   262, 37942,   286,   257,  2829], device='cuda:0'), tensor([5779,   11, 1312], device='cuda:0'), tensor([17121, 12958], device='cuda:0'), tensor([1212, 3807,  318,  257, 2472], device='cuda:0'), tensor([5962,  286,  477,   11,  428, 3807, 2125], device='cuda:0'), tensor([  40,  373, 7428,  284], device='cuda:0'), tensor([1532,  345,  588, 7110], device='cuda:0'), tensor([  986, 26698, 11225], device='cuda:0'), tensor([13615,  1675,   383,   513], device='cuda:0'), tensor([ 8248, 12338], device='cuda:0'), tensor([ 464, 5544], device='cuda:0'), tensor([   40,   423,  1464,  8288, 26309,  5741,   338], device='cuda:0'), tensor([  40, 1053], device='cuda:0'), tensor([1026,  338,  407,  588,  314], device='cuda:0'), tensor([1212, 3807,  857,  407, 1107, 7719], device='cuda:0'), tensor([  818, 15275,   286, 46499,   670,   416,   262], device='cuda:0'), tensor([10943,  5603, 20913,  6226, 49713], device='cuda:0'), tensor([3118, 5589], device='cuda:0'), tensor([5756,  502, 1560,  345], device='cuda:0'), tensor([  40,  655,  750,  407, 2883,  428, 2646], device='cuda:0'), tensor([1212, 3807], device='cuda:0'), tensor([2061, 1838], device='cuda:0'), tensor([6104,  611,  428, 2646,  373, 7910,  257], device='cuda:0'), tensor([3987,  470, 6004], device='cuda:0'), tensor([1212,  318], device='cuda:0'), tensor([  464, 43786,   318,   546,   986,   880,    11], device='cuda:0'), tensor([  40,  550,  645, 2126,  644,  428], device='cuda:0'), tensor([1026,  338,  257, 2089,   11,  845, 2089], device='cuda:0'), tensor([  40, 2497,  428], device='cuda:0'), tensor([   47,  9798, 14266], device='cuda:0'), tensor([ 2601, 13416,   284,  3950], device='cuda:0'), tensor([  818,  4068,  1466,   389, 12244,   422, 11969], device='cuda:0'), tensor([  464, 39078,   396,   373], device='cuda:0'), tensor([    1, 25255, 20836,     1,   318,   257,   649], device='cuda:0'), tensor([6610,  287,  262], device='cuda:0'), tensor([1212, 3807,  318, 2192,  329], device='cuda:0'), tensor([  40, 1043,  705, 7575, 1629,  383, 5849], device='cuda:0'), tensor([39750,   318], device='cuda:0'), tensor([45648,   644,   284], device='cuda:0'), tensor([4366, 6918], device='cuda:0'), tensor([3666, 1793], device='cuda:0'), tensor([5779,   11,  314, 1183], device='cuda:0'), tensor([1212, 2331,  588,  734], device='cuda:0'), tensor([ 270,  338,  257,  845, 3621], device='cuda:0'), tensor([4366,  661,  423,  925], device='cuda:0'), tensor([22017,    11,   257,  3807,   546, 19170], device='cuda:0'), tensor([3152,  262, 2650,  286, 5613, 6612], device='cuda:0'), tensor([1212, 3807], device='cuda:0'), tensor([2043,  373,  645, 2565,  290,  340,  373], device='cuda:0'), tensor([14573, 21657,   318], device='cuda:0'), tensor([1858,  338,  645,  835,  284, 7239,  705], device='cuda:0'), tensor([1532,  287,  262, 4101,  338,  345], device='cuda:0'), tensor([2215,  314,  467], device='cuda:0'), tensor([5962,  286,  477,  314,  761,  284], device='cuda:0'), tensor([2437,  466,  314, 2221], device='cuda:0')], 'query': ['There are laughs in this film', 'About two hundred members of a', 'In the mid', 'I shall not waste my', 'This show is a perfect', 'I cant describe how terrible this', 'Years ago, I found a \"', 'I am not sure who is', 'To bad', 'This movie', 'Little Edie', 'I love the depiction of', 'This Lifetime style', 'I only watched this', 'Meaning:', 'I have a feeling that Dr', \"please don't rent or\", 'I got a good laugh', 'When my 14-year', 'In contrast', 'I love this show as it', 'This is an excellent, fast', 'A film like Amazing Grace and', 'A very strong movie', 'one of the worst films', 'First of', 'Boy this movie had me fooled.', 'I saw this in the theater when', 'Can anybody do good CGI films besides', 'Even worse', 'I also saw this', 'I dont know why people think', \"It's\", 'The movie is an extra-long', 'After you see', '\"Happenstance\"', \"It's difficult to know where this\", 'Another fantastic film from a country,', 'Henry, a', 'This might be unbelievable, but', 'Dumland focuses', 'I saw this', 'This movie doesn', 'I knew I was going to', 'It has only', 'This is a', '\"Metamorphosis\"', 'there was some truth to this', 'Yows', 'Just because someone is under the', 'Phantasm', 'I found this movie boring, mon', 'This is a short, crude', '\"A', '<br', \"Wow it's ironic since this movie\", '\"True\" story of', 'Rated E <', 'Meet Peter', 'A quite good', 'I think the majority of the', 'I agree with everything people said on', '\"Fred Claus\" somehow avoids becoming', 'This absolute trash is based', 'The 60´s', 'This film was', '\"The Good Earth\" is', 'Do not be mistaken,', 'I have to', 'This movie was the beatliest m', \"...cause they're both pretty\", 'This is', 'I always enjoy this movie when', 'Yeah, the archetype of a simple', 'Well, i', 'William Wy', 'This movie is a total', 'First of all, this movie isn', 'I was drawn to', 'If you like plot', '... Hawk Heaven', 'Return To The 3', 'Star Trek', 'The fourth', \"I have always liked Spike Lee's\", \"I've\", \"It's not like I\", 'This movie does not really promote', 'In spite of sterling work by the', 'CONTAINS SPOIL', 'Uncomp', 'Let me tell you', 'I just did not enjoy this film', 'This movie', 'What makes', 'Even if this film was allegedly a', \"Don't listen\", 'This is', 'The Minion is about... well,', 'I had no idea what this', \"It's a bad, very bad\", 'I saw this', 'Pierce Bros', 'Closer to reality', 'In Iran women are prohibited from attending', 'The Dentist was', '\"Atlantis\" is a new', 'Another in the', 'This movie is probably for', \"I found 'Time At The Top\", 'Film is', 'Knowing what to', 'Some movies', 'My God', \"Well, I'll\", 'This seems like two', \"it's a very nice\", 'Some people have made', 'Wow, a movie about NYC', 'With the release of Peter Jackson', 'This movie', 'IT was no sense and it was', 'Blue monkey is', \"There's no way to confront '\", \"If in the 90's you\", 'When I go', 'First of all I need to', 'How do I begin'], 'response': [\". Avoid. You don't get the point\", ' cook building expedition,', \" 1950's Buggas together in\", 'I shall not waste my breath on garbage like this.<|endoftext|>', ' marionette. As for Bill', ' movie resulted, he fails on every level. The whole', 'special rates\" section in the book, but sadly, they no', ' going to believe us when we preach', 'ness, I suppose I should point out that', ' is a gem. First of', '\" is one of the many B movies', ' adolescent lives mixed with the town girls, as I never', \" episodes are Here, Here 'n Here and Prepare\", ' film while thinking about the decisions made by the judge in Eleanor', ' Special Effects and Editing - Background, Content and Cinematography:', '. Lawrence Frampton is the fit for this much-long-c', ' watch this flick - we', ' and Roddy dancing with Anna Novak and helping', '-old son saw me laugh, he laughed with it', \" with today's interpretation and even today the major protagonist's\", ' contains lowlights and special effects done by actual kids causing good', ' paced mystery about an aging', ' Far Cry 2 is a good example of people', ', yet kind of underrated. It approaches the tone of a world', ' that people have seen).<br /><br />Sorry', ' all lets recognize Dracula as Spider-man. Though we see the', ' As far as script goes, this was', ' you could still hear one of the', ' check out low budget', ' than Li-Po was Sarai', ' film on RKO. On the RKO', ' about Noire just', ' a shame, the thing that', ' three minutes while the movie is on', ' the movie, you learn to love it and navigate through its', ' is a \"Along Came', ' whole \"nation\\'s\" anger really', ' modern day tragedy that deserved the death', ' widow who Trumka has moved', \" it's my favorite part of the film!--with no\", ' almost solely on Simmons', ' movie back in 1981,', '\\'t even seem to be an \"A-list\" comedy,', ' I was going to get it, but save all hope...<|endoftext|>', ' started to spread considering', ' good movie. I have seen a lot of stuff on \"Show Cartoon', ' gang was destined to be a good movie', '. It is not even generally acknowledged that immigration across the', \"er's Diner-Only Tour\", ' leadership of an utopian patriot hero, I must admit I was at least a', 'agoria,<br /', 'otonous and hardly interesting. Much more probably Elis', ', and offensively inoffensive transfer', ' Jeff Tweedy hero', ' /><br />', ' was first made in 1971! Harry can', ' persecution.<br /><br />Christ', 'br /><br />I have said before', '],\"she is one of the better actors I\\'ve', ' opening sequence that is filled with opportunities for beautiful cinematography,', ' faithbinding characters and unconventional religious messages are', ' criticizing this cartoon after watching', ' bisexual in 29 years. It is possibly', ' on an old woman coming out of a male past through the nose', ', Toni Wilson, Jonas Sargent were two of the Yugoslav', ' a disappointment even if it won the award. Jamie Foxx, who', ' also an excellent film. In addition, like I said,', ' WRONG symbolically or', ' ask - is it the', 'alaise in cinematic history.<br /><br />', \" good.<br /><br />That said, I haven't\", ' patently the\\n\"worst acting\" moviewriter, right in', ' it comes to making movies visually-', ' boy with both a low IQ and wished that he', ' was wearing a horn play, and i was sorta', 'ler, Fox Legend\" is going to be an entertaining flick in all respects', ' joke. Think Toy Story or', \"'t rated PG, and didn't even bother to track down it on rental\", ' this movie as a', ' or point deduction, watch a j', 'sen saw the movie roughly 50 years ago,', 'D Odyssey The Outer Limits The Phantoms The Toll House The Water', '\", he goes with Daniels to depict the chaotic state of the sci-', ' rogue, a shadowy figure known as the', ' slick TV show which reinforced the dominance of black and Greek culture and mysticism', ' done my best to amuse you with this', \" never expected him to act out but it's still\", ' the use of violence. Instead it will', ' Swedish director, the film may not prove', 'ERS! Well that seems an SP', 'romising\" sequences by Patrick Swayze', ' that Owen Twist - who was probably in', ' but I will the love it because I love this movie so', ' made at least one living thing that could', ' the movie a good one is how', ' Wisconsin Rodeo Cowboy, and indeed was from 1933 - that is', ' first to New York natives. Find your spark in K', ', first, a source of amusement to us', ' basically anything.<br /><br />Which', ' film would be about', ' grade. Not wrapped in', ' with people on one end of the spectrum who', 'nan/Criterion).<br /><br />Since it', \". I've heard Neil Armstrong have\", ' the wedding, they', ' highly entertaining. In fact, one of the', ' film that introduced the', \" early '60s,\", ' the most part the most boring', \"' and 'Since You Dawn' to\", ' far removed from film -- the', ' expect, the story', ' with hot leads (many with lesbian', \", it's so bad.\", ' be honest. I will have to put the picture down to the plot', ' separate groups.<br', ' run but does that speak for itself? (I know', ' an appeal to their opinions, I swear that', 'Wow, a movie about NYC farmers ants.)<|endoftext|>', \"'s The Avengers,\", ' seems to describe the unique strengths of African-Americans: All Americans.', ' kind of lame.<br /', ' frustrated. he dropped his sword now, he wants to put his own name', \"Markus' else he did around the world so why would anyone would\", ' could watch this film, check your local rental store.)', ' back to use that torture cloak during GWAS when all the brightness and sight', ' let the Reader know why they', ' with this rip off? This movie is another example of n*']}\n",
      "1\n",
      "{'label': [tensor(0, device='cuda:0'), tensor(1, device='cuda:0'), tensor(0, device='cuda:0'), tensor(0, device='cuda:0'), tensor(1, device='cuda:0'), tensor(0, device='cuda:0'), tensor(0, device='cuda:0'), tensor(1, device='cuda:0'), tensor(0, device='cuda:0'), tensor(1, device='cuda:0'), tensor(0, device='cuda:0'), tensor(1, device='cuda:0'), tensor(0, device='cuda:0'), tensor(0, device='cuda:0'), tensor(1, device='cuda:0'), tensor(1, device='cuda:0'), tensor(1, device='cuda:0'), tensor(0, device='cuda:0'), tensor(1, device='cuda:0'), tensor(0, device='cuda:0'), tensor(1, device='cuda:0'), tensor(0, device='cuda:0'), tensor(0, device='cuda:0'), tensor(0, device='cuda:0'), tensor(1, device='cuda:0'), tensor(1, device='cuda:0'), tensor(1, device='cuda:0'), tensor(1, device='cuda:0'), tensor(0, device='cuda:0'), tensor(0, device='cuda:0'), tensor(0, device='cuda:0'), tensor(0, device='cuda:0'), tensor(1, device='cuda:0'), tensor(0, device='cuda:0'), tensor(0, device='cuda:0'), tensor(1, device='cuda:0'), tensor(1, device='cuda:0'), tensor(0, device='cuda:0'), tensor(1, device='cuda:0'), tensor(1, device='cuda:0'), tensor(1, device='cuda:0'), tensor(1, device='cuda:0'), tensor(0, device='cuda:0'), tensor(1, device='cuda:0'), tensor(0, device='cuda:0'), tensor(0, device='cuda:0'), tensor(1, device='cuda:0'), tensor(0, device='cuda:0'), tensor(0, device='cuda:0'), tensor(0, device='cuda:0'), tensor(0, device='cuda:0'), tensor(0, device='cuda:0'), tensor(1, device='cuda:0'), tensor(0, device='cuda:0'), tensor(1, device='cuda:0'), tensor(1, device='cuda:0'), tensor(0, device='cuda:0'), tensor(1, device='cuda:0'), tensor(1, device='cuda:0'), tensor(1, device='cuda:0'), tensor(0, device='cuda:0'), tensor(0, device='cuda:0'), tensor(1, device='cuda:0'), tensor(1, device='cuda:0'), tensor(0, device='cuda:0'), tensor(0, device='cuda:0'), tensor(1, device='cuda:0'), tensor(0, device='cuda:0'), tensor(1, device='cuda:0'), tensor(0, device='cuda:0'), tensor(0, device='cuda:0'), tensor(0, device='cuda:0'), tensor(1, device='cuda:0'), tensor(1, device='cuda:0'), tensor(0, device='cuda:0'), tensor(0, device='cuda:0'), tensor(0, device='cuda:0'), tensor(1, device='cuda:0'), tensor(0, device='cuda:0'), tensor(0, device='cuda:0'), tensor(1, device='cuda:0'), tensor(0, device='cuda:0'), tensor(1, device='cuda:0'), tensor(0, device='cuda:0'), tensor(0, device='cuda:0'), tensor(0, device='cuda:0'), tensor(1, device='cuda:0'), tensor(1, device='cuda:0'), tensor(0, device='cuda:0'), tensor(1, device='cuda:0'), tensor(0, device='cuda:0'), tensor(0, device='cuda:0'), tensor(0, device='cuda:0'), tensor(0, device='cuda:0'), tensor(1, device='cuda:0'), tensor(1, device='cuda:0'), tensor(1, device='cuda:0'), tensor(0, device='cuda:0'), tensor(0, device='cuda:0'), tensor(0, device='cuda:0'), tensor(1, device='cuda:0'), tensor(1, device='cuda:0'), tensor(0, device='cuda:0'), tensor(0, device='cuda:0'), tensor(1, device='cuda:0'), tensor(1, device='cuda:0'), tensor(1, device='cuda:0'), tensor(0, device='cuda:0'), tensor(0, device='cuda:0'), tensor(0, device='cuda:0'), tensor(0, device='cuda:0'), tensor(1, device='cuda:0'), tensor(0, device='cuda:0'), tensor(0, device='cuda:0'), tensor(1, device='cuda:0'), tensor(1, device='cuda:0'), tensor(1, device='cuda:0'), tensor(1, device='cuda:0'), tensor(0, device='cuda:0'), tensor(1, device='cuda:0'), tensor(1, device='cuda:0'), tensor(1, device='cuda:0'), tensor(0, device='cuda:0'), tensor(1, device='cuda:0'), tensor(1, device='cuda:0'), tensor(1, device='cuda:0'), tensor(0, device='cuda:0'), tensor(0, device='cuda:0')], 'input_ids': [tensor([ 1212,  3807,   318, 13455, 21581], device='cuda:0'), tensor([  72, 8288,  428, 3807], device='cuda:0'), tensor([  464,   717, 19787,  1917,   546], device='cuda:0'), tensor([ 2215,   314, 13489,   326, 18394,   370,  2349], device='cuda:0'), tensor([31439, 10209,   760,   428], device='cuda:0'), tensor([15200, 46046,  6041], device='cuda:0'), tensor([ 1858,   389,   617, 26509,   278, 14482], device='cuda:0'), tensor([1212,  318,  257,  845, 6283], device='cuda:0'), tensor([11274, 15876,     0], device='cuda:0'), tensor([1212,  318], device='cuda:0'), tensor([1639,  760,   11], device='cuda:0'), tensor([1212,  318,  636,  530,  286], device='cuda:0'), tensor([   40,  1612,   286,   477,   262, 18611], device='cuda:0'), tensor([16454,   717,   286,   477], device='cuda:0'), tensor([3673,  326,  867, 7328,  423, 4988], device='cuda:0'), tensor([ 40, 836, 470, 760, 644, 340], device='cuda:0'), tensor([   34,   560, 12181,    11, 15796,  7011, 43558], device='cuda:0'), tensor([   40, 26399,   428, 12490,  1719,  1775], device='cuda:0'), tensor([  40, 1101, 4964,  428,  319,  262, 2907], device='cuda:0'), tensor([ 464, 3670,  815,  423], device='cuda:0'), tensor([1026,  338,  257], device='cuda:0'), tensor([11380,    11,   407,  5457,    11, 12698], device='cuda:0'), tensor([ 464, 7974,  379, 8519], device='cuda:0'), tensor([ 52, 456], device='cuda:0'), tensor([  51, 8056,  811, 2646,  351], device='cuda:0'), tensor([  40, 1101,  257, 2495, 1468], device='cuda:0'), tensor([   40, 13770,  8359,   428], device='cuda:0'), tensor([  32, 3807,  345,  923, 4964], device='cuda:0'), tensor([  464,  6378,   904, 10130,   318,   257], device='cuda:0'), tensor([  34, 1015, 3653,  373,  416], device='cuda:0'), tensor([7191,  262, 7511, 1810], device='cuda:0'), tensor([ 2202,   262,   736, 46027], device='cuda:0'), tensor([10970,   440], device='cuda:0'), tensor([1858,  389,  655], device='cuda:0'), tensor([ 2484,  1031, 13645,    11], device='cuda:0'), tensor([   40, 11691,   449,  1961,    40], device='cuda:0'), tensor([24761,   575, 10277,  2616], device='cuda:0'), tensor([  16,  301, 7342,  642,   14], device='cuda:0'), tensor([2215,  314,  373], device='cuda:0'), tensor([  40,  373, 1719,  655], device='cuda:0'), tensor([   45,  4098,   306, 31017,   625], device='cuda:0'), tensor([   42, 42418], device='cuda:0'), tensor([1858,  318, 5543,  645], device='cuda:0'), tensor([1532,  345,  588, 9961, 6918,  351], device='cuda:0'), tensor([38972,   699,  4813,    12,   265], device='cuda:0'), tensor([11242, 13967, 11563], device='cuda:0'), tensor([5297,  340,  743], device='cuda:0'), tensor([2061,  460], device='cuda:0'), tensor([ 464, 2646,  318], device='cuda:0'), tensor([  32, 5287,   13,  383, 3807], device='cuda:0'), tensor([ 464, 3807,  318, 6209], device='cuda:0'), tensor([ 8081, 10676,   416,   867,  9188,   355,   530], device='cuda:0'), tensor([ 9627,   286,   262,   366, 49933,  1902,   265], device='cuda:0'), tensor([  40, 2936,  371, 1192,  312], device='cuda:0'), tensor([1212,  318,  257, 2495, 7477, 2646], device='cuda:0'), tensor([1212,  318,  257,  845, 1786], device='cuda:0'), tensor([ 40, 655], device='cuda:0'), tensor([43643,   290], device='cuda:0'), tensor([38036,  8559, 10011,    79], device='cuda:0'), tensor([  40,  423, 1464,  587,  257, 3236], device='cuda:0'), tensor([ 464,  691, 1103, 7238,  287], device='cuda:0'), tensor([ 1722,  2130,   508,  7832, 15505,  8188,   290], device='cuda:0'), tensor([1532,  262, 6918], device='cuda:0'), tensor([ 6581, 33472,   373,   281, 11660,  2168,    11], device='cuda:0'), tensor([19156,  1024,    45,  7058,  5341,   262,   749], device='cuda:0'), tensor([1212,  318, 3729,  530,  286], device='cuda:0'), tensor([26807,  3406,  1869], device='cuda:0'), tensor([  40, 3521,  470, 6842,  284, 1650], device='cuda:0'), tensor([  40, 1053, 2904, 1816], device='cuda:0'), tensor([  40,  423, 7334,  510, 3555], device='cuda:0'), tensor([ 464, 3807, 4940], device='cuda:0'), tensor([1212, 3807,  373], device='cuda:0'), tensor([   54, 29422], device='cuda:0'), tensor([2061,  460,  530,  910,  546,  257], device='cuda:0'), tensor([ 3666, 15178,   329], device='cuda:0'), tensor([  27, 1671, 1220], device='cuda:0'), tensor([ 1212,  3807,   373, 12659,   290,   281], device='cuda:0'), tensor([1212, 2646,  714,  307,  530,  286], device='cuda:0'), tensor([ 3886, 23234,  9309,   373,   257], device='cuda:0'), tensor([  40, 7342,  705, 4834, 7670,    6,  734], device='cuda:0'), tensor([1212,  281, 1479], device='cuda:0'), tensor([ 464, 1738], device='cuda:0'), tensor([  50,  707,  428, 3807,  379], device='cuda:0'), tensor([1532,  428, 2646,  550], device='cuda:0'), tensor([1212, 3807], device='cuda:0'), tensor([37207,   354,    13], device='cuda:0'), tensor([ 1722, 20039,   355,   257,  4789,  4102,  2657], device='cuda:0'), tensor([  40, 1276,  910], device='cuda:0'), tensor([  40, 1101, 7926,  284,  477,  262], device='cuda:0'), tensor([   40,   892,   705,  9915, 26676], device='cuda:0'), tensor([ 1212,  3807,  1107, 14071,   262], device='cuda:0'), tensor([38022, 28778], device='cuda:0'), tensor([ 40, 836, 470], device='cuda:0'), tensor([1212, 3807], device='cuda:0'), tensor([ 3260,  6078,   262, 33953,   329,   607,  2854], device='cuda:0'), tensor([ 40, 373], device='cuda:0'), tensor([ 3103, 10396,  7241,    11, 35905], device='cuda:0'), tensor([  40, 1101, 7926,  284], device='cuda:0'), tensor([1858,  547, 1661], device='cuda:0'), tensor([ 464, 5016], device='cuda:0'), tensor([20459,  2077,   257,  1178], device='cuda:0'), tensor([1212, 2646, 1392], device='cuda:0'), tensor([5195, 2342], device='cuda:0'), tensor([ 1639,  2314, 10129], device='cuda:0'), tensor([25004, 32694,   647,   338,   366], device='cuda:0'), tensor([1722,  345,  743,  760,   11,  262, 2426], device='cuda:0'), tensor([5703, 1813,  262, 1109,  326,  340], device='cuda:0'), tensor([  46,  794,    0, 1119,  836,  470, 1282], device='cuda:0'), tensor([  72, 1816,  656,  428, 7725,  340], device='cuda:0'), tensor([2437,  460,  345, 1560,  326,  257, 9961], device='cuda:0'), tensor([1212,  318], device='cuda:0'), tensor([   46, 33955,  3771,  2229,   263], device='cuda:0'), tensor([ 2949,  3068,   611,  5506, 18280, 44487], device='cuda:0'), tensor([ 40, 892, 611, 484], device='cuda:0'), tensor([49548,  1471,  1559,  3894,   274, 15632], device='cuda:0'), tensor([ 464, 2285, 3807,  329,  790], device='cuda:0'), tensor([1532,  345], device='cuda:0'), tensor([22017,     0,   317, 20849,  3807,   351,   428], device='cuda:0'), tensor([1212, 1107,  318,  530,  286,  262], device='cuda:0'), tensor([4366, 9188], device='cuda:0'), tensor([ 5167,   257, 27479,   286], device='cuda:0'), tensor([ 4561,  9437,   364, 12359,    27,  1671], device='cuda:0'), tensor([11380,   532], device='cuda:0'), tensor([23307,   867,  4237, 16231, 23844,   428], device='cuda:0'), tensor([39646, 22267,   262, 21432,   496], device='cuda:0'), tensor([ 2025, 17774,   479,  2150, 14035,  2646,    11], device='cuda:0'), tensor([1890, 1972], device='cuda:0'), tensor([1858,  389,  617, 3621, 6934,  287,  428], device='cuda:0')], 'query': ['This movie is poorly conceived', 'i liked this movie', 'The first noticeable problem about', 'When I spotted that Noah Wyle', 'Modern viewers know this', 'Evidently lots', 'There are some redeeming qualities', 'This is a very strange', 'good lord!', 'This is', 'You know,', 'This is part one of', 'I mean of all the obscure', 'Okay first of all', 'Not that many films have truly', \"I don't know what it\", 'Cary Grant, Douglas Fairbanks', 'I rented this DVD having seen', \"I'm watching this on the Star\", 'The title should have', \"It's a\", 'OK, not possibly, honestly', 'The folks at Disney', 'Ugh', 'Terrific film with', \"I'm a pretty old\", 'I thoroughly enjoyed this', 'A movie you start watching', 'The Wayward Cloud is a', 'Cavemen was by', 'During the Civil War', 'On the back burner', 'THE O', 'There are just', 'Shazbot,', 'I suppose JEDI', 'Brian Yuzna', '1st watched 5/', 'When I was', 'I was having just', 'Neatly skipping over', 'Kudos', 'There is absolutely no', 'If you like horror movies with', 'Tedious girls-at', 'Detective Russell', 'Yes it may', 'What can', 'The film is', 'A failure. The movie', 'The movie is basically', 'Regarded by many critics as one', 'Those of the \"Instant Grat', 'I felt Rancid', 'This is a pretty OK film', 'This is a very eng', 'I just', 'Lots and', 'Australian Fred Schep', 'I have always been a huge', 'The only real highlight in', 'As someone who likes chase scenes and', 'If the movies', 'HLOTS was an outstanding series,', 'Robert DeNiro plays the most', 'This is certainly one of', 'Hold Your Man', \"I couldn't bear to sit\", \"I've recently went\", 'I have grown up reading', 'The movie starts', 'This movie was', 'Worst', 'What can one say about a', 'My Score for', '<br /', 'This movie was awful and an', 'This film could be one of', 'By 1941 Columbia was a', \"I watched 'Envy' two\", 'This an free', 'The reason', 'Saw this movie at', 'If this film had', 'This movie', 'Lynch.', 'As predictable as a Hallmark card', 'I must say', \"I'm sorry to all the\", \"I think 'Blackadder\", 'This movie really deserves the', 'GUERN', \"I don't\", 'This movie', 'After losing the Emmy for her performance', 'I was', 'Convoluted, infuri', \"I'm sorry to\", 'There were times', 'The Class', 'Its taken a few', 'This film got', 'Why watch', 'You cannot deny', 'Eric Rohmer\\'s \"', 'As you may know, the subject', 'Just given the fact that it', \"Ouch! They don't come\", 'i went into this hoping it', 'How can you tell that a horror', 'This is', 'Otto Preminger', 'No mention if Ann Rivers Sidd', 'I think if they', 'Pure Orson Welles genius', 'The cult movie for every', 'If you', 'Wow! A Danish movie with this', 'This really is one of the', 'Some critics', 'More a snapshot of', 'Spoilers.....<br', 'OK -', 'Too many sources routinely lump this', 'Sabrina the Teenage', 'An entertaining kung fu film,', 'For getting', 'There are some nice shots in this']}\n",
      "*********************\n",
      "*********************\n",
      "*********************\n",
      "*********************\n"
     ]
    },
    {
     "name": "stderr",
     "output_type": "stream",
     "text": [
      "\r",
      "1it [00:16, 16.32s/it]"
     ]
    },
    {
     "name": "stdout",
     "output_type": "stream",
     "text": [
      "{'label': [tensor(0, device='cuda:0'), tensor(1, device='cuda:0'), tensor(0, device='cuda:0'), tensor(0, device='cuda:0'), tensor(1, device='cuda:0'), tensor(0, device='cuda:0'), tensor(0, device='cuda:0'), tensor(1, device='cuda:0'), tensor(0, device='cuda:0'), tensor(1, device='cuda:0'), tensor(0, device='cuda:0'), tensor(1, device='cuda:0'), tensor(0, device='cuda:0'), tensor(0, device='cuda:0'), tensor(1, device='cuda:0'), tensor(1, device='cuda:0'), tensor(1, device='cuda:0'), tensor(0, device='cuda:0'), tensor(1, device='cuda:0'), tensor(0, device='cuda:0'), tensor(1, device='cuda:0'), tensor(0, device='cuda:0'), tensor(0, device='cuda:0'), tensor(0, device='cuda:0'), tensor(1, device='cuda:0'), tensor(1, device='cuda:0'), tensor(1, device='cuda:0'), tensor(1, device='cuda:0'), tensor(0, device='cuda:0'), tensor(0, device='cuda:0'), tensor(0, device='cuda:0'), tensor(0, device='cuda:0'), tensor(1, device='cuda:0'), tensor(0, device='cuda:0'), tensor(0, device='cuda:0'), tensor(1, device='cuda:0'), tensor(1, device='cuda:0'), tensor(0, device='cuda:0'), tensor(1, device='cuda:0'), tensor(1, device='cuda:0'), tensor(1, device='cuda:0'), tensor(1, device='cuda:0'), tensor(0, device='cuda:0'), tensor(1, device='cuda:0'), tensor(0, device='cuda:0'), tensor(0, device='cuda:0'), tensor(1, device='cuda:0'), tensor(0, device='cuda:0'), tensor(0, device='cuda:0'), tensor(0, device='cuda:0'), tensor(0, device='cuda:0'), tensor(0, device='cuda:0'), tensor(1, device='cuda:0'), tensor(0, device='cuda:0'), tensor(1, device='cuda:0'), tensor(1, device='cuda:0'), tensor(0, device='cuda:0'), tensor(1, device='cuda:0'), tensor(1, device='cuda:0'), tensor(1, device='cuda:0'), tensor(0, device='cuda:0'), tensor(0, device='cuda:0'), tensor(1, device='cuda:0'), tensor(1, device='cuda:0'), tensor(0, device='cuda:0'), tensor(0, device='cuda:0'), tensor(1, device='cuda:0'), tensor(0, device='cuda:0'), tensor(1, device='cuda:0'), tensor(0, device='cuda:0'), tensor(0, device='cuda:0'), tensor(0, device='cuda:0'), tensor(1, device='cuda:0'), tensor(1, device='cuda:0'), tensor(0, device='cuda:0'), tensor(0, device='cuda:0'), tensor(0, device='cuda:0'), tensor(1, device='cuda:0'), tensor(0, device='cuda:0'), tensor(0, device='cuda:0'), tensor(1, device='cuda:0'), tensor(0, device='cuda:0'), tensor(1, device='cuda:0'), tensor(0, device='cuda:0'), tensor(0, device='cuda:0'), tensor(0, device='cuda:0'), tensor(1, device='cuda:0'), tensor(1, device='cuda:0'), tensor(0, device='cuda:0'), tensor(1, device='cuda:0'), tensor(0, device='cuda:0'), tensor(0, device='cuda:0'), tensor(0, device='cuda:0'), tensor(0, device='cuda:0'), tensor(1, device='cuda:0'), tensor(1, device='cuda:0'), tensor(1, device='cuda:0'), tensor(0, device='cuda:0'), tensor(0, device='cuda:0'), tensor(0, device='cuda:0'), tensor(1, device='cuda:0'), tensor(1, device='cuda:0'), tensor(0, device='cuda:0'), tensor(0, device='cuda:0'), tensor(1, device='cuda:0'), tensor(1, device='cuda:0'), tensor(1, device='cuda:0'), tensor(0, device='cuda:0'), tensor(0, device='cuda:0'), tensor(0, device='cuda:0'), tensor(0, device='cuda:0'), tensor(1, device='cuda:0'), tensor(0, device='cuda:0'), tensor(0, device='cuda:0'), tensor(1, device='cuda:0'), tensor(1, device='cuda:0'), tensor(1, device='cuda:0'), tensor(1, device='cuda:0'), tensor(0, device='cuda:0'), tensor(1, device='cuda:0'), tensor(1, device='cuda:0'), tensor(1, device='cuda:0'), tensor(0, device='cuda:0'), tensor(1, device='cuda:0'), tensor(1, device='cuda:0'), tensor(1, device='cuda:0'), tensor(0, device='cuda:0'), tensor(0, device='cuda:0')], 'input_ids': [tensor([ 1212,  3807,   318, 13455, 21581], device='cuda:0'), tensor([  72, 8288,  428, 3807], device='cuda:0'), tensor([  464,   717, 19787,  1917,   546], device='cuda:0'), tensor([ 2215,   314, 13489,   326, 18394,   370,  2349], device='cuda:0'), tensor([31439, 10209,   760,   428], device='cuda:0'), tensor([15200, 46046,  6041], device='cuda:0'), tensor([ 1858,   389,   617, 26509,   278, 14482], device='cuda:0'), tensor([1212,  318,  257,  845, 6283], device='cuda:0'), tensor([11274, 15876,     0], device='cuda:0'), tensor([1212,  318], device='cuda:0'), tensor([1639,  760,   11], device='cuda:0'), tensor([1212,  318,  636,  530,  286], device='cuda:0'), tensor([   40,  1612,   286,   477,   262, 18611], device='cuda:0'), tensor([16454,   717,   286,   477], device='cuda:0'), tensor([3673,  326,  867, 7328,  423, 4988], device='cuda:0'), tensor([ 40, 836, 470, 760, 644, 340], device='cuda:0'), tensor([   34,   560, 12181,    11, 15796,  7011, 43558], device='cuda:0'), tensor([   40, 26399,   428, 12490,  1719,  1775], device='cuda:0'), tensor([  40, 1101, 4964,  428,  319,  262, 2907], device='cuda:0'), tensor([ 464, 3670,  815,  423], device='cuda:0'), tensor([1026,  338,  257], device='cuda:0'), tensor([11380,    11,   407,  5457,    11, 12698], device='cuda:0'), tensor([ 464, 7974,  379, 8519], device='cuda:0'), tensor([ 52, 456], device='cuda:0'), tensor([  51, 8056,  811, 2646,  351], device='cuda:0'), tensor([  40, 1101,  257, 2495, 1468], device='cuda:0'), tensor([   40, 13770,  8359,   428], device='cuda:0'), tensor([  32, 3807,  345,  923, 4964], device='cuda:0'), tensor([  464,  6378,   904, 10130,   318,   257], device='cuda:0'), tensor([  34, 1015, 3653,  373,  416], device='cuda:0'), tensor([7191,  262, 7511, 1810], device='cuda:0'), tensor([ 2202,   262,   736, 46027], device='cuda:0'), tensor([10970,   440], device='cuda:0'), tensor([1858,  389,  655], device='cuda:0'), tensor([ 2484,  1031, 13645,    11], device='cuda:0'), tensor([   40, 11691,   449,  1961,    40], device='cuda:0'), tensor([24761,   575, 10277,  2616], device='cuda:0'), tensor([  16,  301, 7342,  642,   14], device='cuda:0'), tensor([2215,  314,  373], device='cuda:0'), tensor([  40,  373, 1719,  655], device='cuda:0'), tensor([   45,  4098,   306, 31017,   625], device='cuda:0'), tensor([   42, 42418], device='cuda:0'), tensor([1858,  318, 5543,  645], device='cuda:0'), tensor([1532,  345,  588, 9961, 6918,  351], device='cuda:0'), tensor([38972,   699,  4813,    12,   265], device='cuda:0'), tensor([11242, 13967, 11563], device='cuda:0'), tensor([5297,  340,  743], device='cuda:0'), tensor([2061,  460], device='cuda:0'), tensor([ 464, 2646,  318], device='cuda:0'), tensor([  32, 5287,   13,  383, 3807], device='cuda:0'), tensor([ 464, 3807,  318, 6209], device='cuda:0'), tensor([ 8081, 10676,   416,   867,  9188,   355,   530], device='cuda:0'), tensor([ 9627,   286,   262,   366, 49933,  1902,   265], device='cuda:0'), tensor([  40, 2936,  371, 1192,  312], device='cuda:0'), tensor([1212,  318,  257, 2495, 7477, 2646], device='cuda:0'), tensor([1212,  318,  257,  845, 1786], device='cuda:0'), tensor([ 40, 655], device='cuda:0'), tensor([43643,   290], device='cuda:0'), tensor([38036,  8559, 10011,    79], device='cuda:0'), tensor([  40,  423, 1464,  587,  257, 3236], device='cuda:0'), tensor([ 464,  691, 1103, 7238,  287], device='cuda:0'), tensor([ 1722,  2130,   508,  7832, 15505,  8188,   290], device='cuda:0'), tensor([1532,  262, 6918], device='cuda:0'), tensor([ 6581, 33472,   373,   281, 11660,  2168,    11], device='cuda:0'), tensor([19156,  1024,    45,  7058,  5341,   262,   749], device='cuda:0'), tensor([1212,  318, 3729,  530,  286], device='cuda:0'), tensor([26807,  3406,  1869], device='cuda:0'), tensor([  40, 3521,  470, 6842,  284, 1650], device='cuda:0'), tensor([  40, 1053, 2904, 1816], device='cuda:0'), tensor([  40,  423, 7334,  510, 3555], device='cuda:0'), tensor([ 464, 3807, 4940], device='cuda:0'), tensor([1212, 3807,  373], device='cuda:0'), tensor([   54, 29422], device='cuda:0'), tensor([2061,  460,  530,  910,  546,  257], device='cuda:0'), tensor([ 3666, 15178,   329], device='cuda:0'), tensor([  27, 1671, 1220], device='cuda:0'), tensor([ 1212,  3807,   373, 12659,   290,   281], device='cuda:0'), tensor([1212, 2646,  714,  307,  530,  286], device='cuda:0'), tensor([ 3886, 23234,  9309,   373,   257], device='cuda:0'), tensor([  40, 7342,  705, 4834, 7670,    6,  734], device='cuda:0'), tensor([1212,  281, 1479], device='cuda:0'), tensor([ 464, 1738], device='cuda:0'), tensor([  50,  707,  428, 3807,  379], device='cuda:0'), tensor([1532,  428, 2646,  550], device='cuda:0'), tensor([1212, 3807], device='cuda:0'), tensor([37207,   354,    13], device='cuda:0'), tensor([ 1722, 20039,   355,   257,  4789,  4102,  2657], device='cuda:0'), tensor([  40, 1276,  910], device='cuda:0'), tensor([  40, 1101, 7926,  284,  477,  262], device='cuda:0'), tensor([   40,   892,   705,  9915, 26676], device='cuda:0'), tensor([ 1212,  3807,  1107, 14071,   262], device='cuda:0'), tensor([38022, 28778], device='cuda:0'), tensor([ 40, 836, 470], device='cuda:0'), tensor([1212, 3807], device='cuda:0'), tensor([ 3260,  6078,   262, 33953,   329,   607,  2854], device='cuda:0'), tensor([ 40, 373], device='cuda:0'), tensor([ 3103, 10396,  7241,    11, 35905], device='cuda:0'), tensor([  40, 1101, 7926,  284], device='cuda:0'), tensor([1858,  547, 1661], device='cuda:0'), tensor([ 464, 5016], device='cuda:0'), tensor([20459,  2077,   257,  1178], device='cuda:0'), tensor([1212, 2646, 1392], device='cuda:0'), tensor([5195, 2342], device='cuda:0'), tensor([ 1639,  2314, 10129], device='cuda:0'), tensor([25004, 32694,   647,   338,   366], device='cuda:0'), tensor([1722,  345,  743,  760,   11,  262, 2426], device='cuda:0'), tensor([5703, 1813,  262, 1109,  326,  340], device='cuda:0'), tensor([  46,  794,    0, 1119,  836,  470, 1282], device='cuda:0'), tensor([  72, 1816,  656,  428, 7725,  340], device='cuda:0'), tensor([2437,  460,  345, 1560,  326,  257, 9961], device='cuda:0'), tensor([1212,  318], device='cuda:0'), tensor([   46, 33955,  3771,  2229,   263], device='cuda:0'), tensor([ 2949,  3068,   611,  5506, 18280, 44487], device='cuda:0'), tensor([ 40, 892, 611, 484], device='cuda:0'), tensor([49548,  1471,  1559,  3894,   274, 15632], device='cuda:0'), tensor([ 464, 2285, 3807,  329,  790], device='cuda:0'), tensor([1532,  345], device='cuda:0'), tensor([22017,     0,   317, 20849,  3807,   351,   428], device='cuda:0'), tensor([1212, 1107,  318,  530,  286,  262], device='cuda:0'), tensor([4366, 9188], device='cuda:0'), tensor([ 5167,   257, 27479,   286], device='cuda:0'), tensor([ 4561,  9437,   364, 12359,    27,  1671], device='cuda:0'), tensor([11380,   532], device='cuda:0'), tensor([23307,   867,  4237, 16231, 23844,   428], device='cuda:0'), tensor([39646, 22267,   262, 21432,   496], device='cuda:0'), tensor([ 2025, 17774,   479,  2150, 14035,  2646,    11], device='cuda:0'), tensor([1890, 1972], device='cuda:0'), tensor([1858,  389,  617, 3621, 6934,  287,  428], device='cuda:0')], 'query': ['This movie is poorly conceived', 'i liked this movie', 'The first noticeable problem about', 'When I spotted that Noah Wyle', 'Modern viewers know this', 'Evidently lots', 'There are some redeeming qualities', 'This is a very strange', 'good lord!', 'This is', 'You know,', 'This is part one of', 'I mean of all the obscure', 'Okay first of all', 'Not that many films have truly', \"I don't know what it\", 'Cary Grant, Douglas Fairbanks', 'I rented this DVD having seen', \"I'm watching this on the Star\", 'The title should have', \"It's a\", 'OK, not possibly, honestly', 'The folks at Disney', 'Ugh', 'Terrific film with', \"I'm a pretty old\", 'I thoroughly enjoyed this', 'A movie you start watching', 'The Wayward Cloud is a', 'Cavemen was by', 'During the Civil War', 'On the back burner', 'THE O', 'There are just', 'Shazbot,', 'I suppose JEDI', 'Brian Yuzna', '1st watched 5/', 'When I was', 'I was having just', 'Neatly skipping over', 'Kudos', 'There is absolutely no', 'If you like horror movies with', 'Tedious girls-at', 'Detective Russell', 'Yes it may', 'What can', 'The film is', 'A failure. The movie', 'The movie is basically', 'Regarded by many critics as one', 'Those of the \"Instant Grat', 'I felt Rancid', 'This is a pretty OK film', 'This is a very eng', 'I just', 'Lots and', 'Australian Fred Schep', 'I have always been a huge', 'The only real highlight in', 'As someone who likes chase scenes and', 'If the movies', 'HLOTS was an outstanding series,', 'Robert DeNiro plays the most', 'This is certainly one of', 'Hold Your Man', \"I couldn't bear to sit\", \"I've recently went\", 'I have grown up reading', 'The movie starts', 'This movie was', 'Worst', 'What can one say about a', 'My Score for', '<br /', 'This movie was awful and an', 'This film could be one of', 'By 1941 Columbia was a', \"I watched 'Envy' two\", 'This an free', 'The reason', 'Saw this movie at', 'If this film had', 'This movie', 'Lynch.', 'As predictable as a Hallmark card', 'I must say', \"I'm sorry to all the\", \"I think 'Blackadder\", 'This movie really deserves the', 'GUERN', \"I don't\", 'This movie', 'After losing the Emmy for her performance', 'I was', 'Convoluted, infuri', \"I'm sorry to\", 'There were times', 'The Class', 'Its taken a few', 'This film got', 'Why watch', 'You cannot deny', 'Eric Rohmer\\'s \"', 'As you may know, the subject', 'Just given the fact that it', \"Ouch! They don't come\", 'i went into this hoping it', 'How can you tell that a horror', 'This is', 'Otto Preminger', 'No mention if Ann Rivers Sidd', 'I think if they', 'Pure Orson Welles genius', 'The cult movie for every', 'If you', 'Wow! A Danish movie with this', 'This really is one of the', 'Some critics', 'More a snapshot of', 'Spoilers.....<br', 'OK -', 'Too many sources routinely lump this', 'Sabrina the Teenage', 'An entertaining kung fu film,', 'For getting', 'There are some nice shots in this'], 'response': ['---Monster Hunter is supposed to', ', even though it was released in', \" Tonto: he was fuelling the characters' personalities at a young age\", ' had made an early cameo appearance at', \" is a critic's I think\", ' of good plot holes, with a', ' that make Paterno work in a', ' film which can be very', ' For the first time, even', ' because a compass and compass (another form of sound cancellation) is used to', ' it wasn\\'t half bad, but it had it all.\"<|endoftext|>', ' the five sections of the film. There are several humorous remarks that border', ' French and Irish myths that', ' - I wanted to see the full length', ' had a \"Stalker\" moment,\" but Seidl does done', ' is about that feature, but I like Bens', ', Juan Diego, Becky Hegar, Dee Dee Richards Areha Fisher,', ' one episode and considered purchasing it, so I watched it one', \" Buddy TV channel. Jones' production is absolutely fantastic. All of the actors\", ' been \"Home Alone 2\"', ' bold move and seems to demonstrate the', ':<br /', ' are at their best', ' of the bartender). Things fall apart for old time', ' sexy nude models.', '-timing French humor-type comic among the', ' film, and the special effects look', \" without ever mentioning that you don't really want to watch a movie like\", \" copy movie. Because it's almost\", ' popular demand the best-selling novel, directed by Robert Du', ', a similar dichotomy could be seen in Texas; in', ', mixing Indian rock with its Arabian influences (sound empty),', 'RYRD DULLIE IS', ' as many big names as there are', ' is not surprising given the portrayal', \" appears to possess psychoactive powers that make him (I'm sure) a\", ' is no match for', '26/15. It was better than i expected in both', ' sort of taking a sleeping girl or something, there is that', ' toppled around in the parking lot and', \" the beginning of screen time in making it's name self and\", ' to my new TV editor for going me and watching my tales. Additionally', ' way that you can take a', ' a different feel to your chances of finding an audience, then', '-l... DNC intrigues-take', ' Rush (Michael B. Jordan)', ' without a doubt be', ' I say about the camera crime?\" When', ' cerebral, faces mysteries, and touching', \" doesn't convey in the least anything that has not been got already, you\", ' Hamlet, one of the least funny parts of', ' of his worst films yet, that movie remains in the realm of', 'uitous\" Others, in spite of dropping serial numbers, such as 1973 I', ' should both traditionally (which is football) and dramatically elevate the', ', it can be', 'rossing tale of deceased censorship as exemplified by Shirley Ren', \" used to use Dudley's old school collection for\", ' acting. Basically what countless ex-WWE fans of the genre', 'ter was so good', ' Pr Army fan, but my stay in Akigo was one of', ' his trailer was the dead guy rapping!!!!', ' is sympathetic towards people, Glenda Harris cannot', ' work the way they do they will', ' the actors were stars in', ' interesting young man in this film: the weird tumbleweed dresses', ' the best episodes of', ' With Me\" (1989). I\\'', ' through another 90 minutes. And, in the meantime, why else do I', ' to Grand Canyon and then also worked at the festival (i.e.', ' art books that I remember;he may not know exactly what he', ' off with a monologue by a Japanese dentist.', ' way over the top and so was this one', ' idea in a long film.\" That wasn\\'t mine,', \" Hollywood movie? It's really hard worrying about the director having\", \" this film was 9.1 out of 10. He's\", '><br />But what is surprising is the emergence of Finland in', ' this happened up to 11 times', \" Antonioni's more funny Ferguson films to come out since\", ' handful with John Luttrell attached. John assured', ' or three times trying to vomit it up. Oohh. If I', ' extreme overworld movie.. not one I consider recommend', ' it was ranked also was that Bankai sold a lot of those', ' the same time, even', ' not gone out of print at the time, Paul', ' looked like a TOM. I was surprised to actually is', ' Major breakthrough at the U.S. Central Bank during the', ', has led to a boom in', ' I really like the movie to', ' actors joining the venture with no supporters', \"' isn't British -except, oucho!-- but Shakespeare did\", ' wide range of reaction. It was made off Harley', 'IE!!! All in all the movie', ' know why. Maybe the scene where the slave is', ' is a touchstone! It is severely cut', \" in 'The Danish Girl', Hines surely decided to\", ' asked if I would be angry if I saw this sequel in some darker time', 'ating, and bad', \" say that but this couldn't have been complete without the suspension of disbelief and\", ' when Simon Twist was waiting for a movie to finish before releasing', 'ifications\". Madsen was listed in the', ' yokes from here and went a little overboard on the ending, while', ' released just a couple of months later and today the', ' a movie with that vocal support man who has been hailed off the biggest stage', ' that Wargames in general is both better', 'Wild Turkey\" (\"Mr. Duell,\" \"The H', ' matter of SO uses as little', \" is written by George Lucas himself it's hard not to think that a slightly\", ' to cheap Italian movies! I figure', ' would be good, but that is befitting of such message.', ' movie can get a lot of laughs even if it means', ' not without performance flaws due to script Hank and', '. Young Fred would have stuck with', 'sard, Fredst Russel or', ' skip the first or two performances, they will', ' who spotlighted a lot of his', ' segment nerd and every gay lover.', ' get nervous, because they are not babies, do not', \" long streak entwining black comedy, it's a difficult movie\", ' most infuriating stereotypes in my book about how some immigrants from Central', ' may enjoy the movie for its limited predictability) as well as', ' a soft core Moth Mother. Perhaps she had been', ' /><br />Did Rice really', 'OK -<|endoftext|>', ' affair with git. The reason', ' Witch Children of Ireland,\" about a', ' Jean-Louis Barbero is a definite moviegoer and he', ' between two different versions of this film, it was a roller-co', ' deceptive little film that direct a different tone than a typical Hollywood epic tale.']}\n"
     ]
    },
    {
     "name": "stderr",
     "output_type": "stream",
     "text": [
      "\n"
     ]
    }
   ],
   "source": [
    "\n",
    "for epoch, batch in tqdm(enumerate(ppo_trainer.dataloader)):\n",
    "    query_tensors = batch[\"input_ids\"]\n",
    "    print(epoch)\n",
    "    print(batch)\n",
    "    print('*********************')\n",
    "    print('*********************')\n",
    "    print('*********************')\n",
    "    print('*********************')\n",
    "    #### Get response from gpt2\n",
    "    response_tensors = []\n",
    "    for query in query_tensors:\n",
    "        gen_len                             = output_length_sampler()\n",
    "        generation_kwargs[\"max_new_tokens\"] = gen_len\n",
    "        response                            = ppo_trainer.generate(query, **generation_kwargs)\n",
    "        response_tensors.append( response.squeeze()[-gen_len:] )\n",
    "    batch[\"response\"] = [ tokenizer.decode(r.squeeze()) for r in response_tensors ]\n",
    "    print(batch)\n",
    "    if epoch == 1:\n",
    "        break\n"
   ]
  },
  {
   "cell_type": "code",
   "execution_count": 36,
   "metadata": {},
   "outputs": [
    {
     "data": {
      "text/plain": [
       "dict_keys(['label', 'input_ids', 'query', 'response'])"
      ]
     },
     "execution_count": 36,
     "metadata": {},
     "output_type": "execute_result"
    }
   ],
   "source": [
    "\n",
    "batch.keys()\n"
   ]
  },
  {
   "cell_type": "markdown",
   "metadata": {},
   "source": [
    "\n",
    "#### Compute sentiment score\n"
   ]
  },
  {
   "cell_type": "code",
   "execution_count": 37,
   "metadata": {},
   "outputs": [
    {
     "data": {
      "text/plain": [
       "['This movie is poorly conceived',\n",
       " 'i liked this movie',\n",
       " 'The first noticeable problem about',\n",
       " 'When I spotted that Noah Wyle',\n",
       " 'Modern viewers know this',\n",
       " 'Evidently lots',\n",
       " 'There are some redeeming qualities',\n",
       " 'This is a very strange',\n",
       " 'good lord!',\n",
       " 'This is',\n",
       " 'You know,',\n",
       " 'This is part one of',\n",
       " 'I mean of all the obscure',\n",
       " 'Okay first of all',\n",
       " 'Not that many films have truly',\n",
       " \"I don't know what it\",\n",
       " 'Cary Grant, Douglas Fairbanks',\n",
       " 'I rented this DVD having seen',\n",
       " \"I'm watching this on the Star\",\n",
       " 'The title should have',\n",
       " \"It's a\",\n",
       " 'OK, not possibly, honestly',\n",
       " 'The folks at Disney',\n",
       " 'Ugh',\n",
       " 'Terrific film with',\n",
       " \"I'm a pretty old\",\n",
       " 'I thoroughly enjoyed this',\n",
       " 'A movie you start watching',\n",
       " 'The Wayward Cloud is a',\n",
       " 'Cavemen was by',\n",
       " 'During the Civil War',\n",
       " 'On the back burner',\n",
       " 'THE O',\n",
       " 'There are just',\n",
       " 'Shazbot,',\n",
       " 'I suppose JEDI',\n",
       " 'Brian Yuzna',\n",
       " '1st watched 5/',\n",
       " 'When I was',\n",
       " 'I was having just',\n",
       " 'Neatly skipping over',\n",
       " 'Kudos',\n",
       " 'There is absolutely no',\n",
       " 'If you like horror movies with',\n",
       " 'Tedious girls-at',\n",
       " 'Detective Russell',\n",
       " 'Yes it may',\n",
       " 'What can',\n",
       " 'The film is',\n",
       " 'A failure. The movie',\n",
       " 'The movie is basically',\n",
       " 'Regarded by many critics as one',\n",
       " 'Those of the \"Instant Grat',\n",
       " 'I felt Rancid',\n",
       " 'This is a pretty OK film',\n",
       " 'This is a very eng',\n",
       " 'I just',\n",
       " 'Lots and',\n",
       " 'Australian Fred Schep',\n",
       " 'I have always been a huge',\n",
       " 'The only real highlight in',\n",
       " 'As someone who likes chase scenes and',\n",
       " 'If the movies',\n",
       " 'HLOTS was an outstanding series,',\n",
       " 'Robert DeNiro plays the most',\n",
       " 'This is certainly one of',\n",
       " 'Hold Your Man',\n",
       " \"I couldn't bear to sit\",\n",
       " \"I've recently went\",\n",
       " 'I have grown up reading',\n",
       " 'The movie starts',\n",
       " 'This movie was',\n",
       " 'Worst',\n",
       " 'What can one say about a',\n",
       " 'My Score for',\n",
       " '<br /',\n",
       " 'This movie was awful and an',\n",
       " 'This film could be one of',\n",
       " 'By 1941 Columbia was a',\n",
       " \"I watched 'Envy' two\",\n",
       " 'This an free',\n",
       " 'The reason',\n",
       " 'Saw this movie at',\n",
       " 'If this film had',\n",
       " 'This movie',\n",
       " 'Lynch.',\n",
       " 'As predictable as a Hallmark card',\n",
       " 'I must say',\n",
       " \"I'm sorry to all the\",\n",
       " \"I think 'Blackadder\",\n",
       " 'This movie really deserves the',\n",
       " 'GUERN',\n",
       " \"I don't\",\n",
       " 'This movie',\n",
       " 'After losing the Emmy for her performance',\n",
       " 'I was',\n",
       " 'Convoluted, infuri',\n",
       " \"I'm sorry to\",\n",
       " 'There were times',\n",
       " 'The Class',\n",
       " 'Its taken a few',\n",
       " 'This film got',\n",
       " 'Why watch',\n",
       " 'You cannot deny',\n",
       " 'Eric Rohmer\\'s \"',\n",
       " 'As you may know, the subject',\n",
       " 'Just given the fact that it',\n",
       " \"Ouch! They don't come\",\n",
       " 'i went into this hoping it',\n",
       " 'How can you tell that a horror',\n",
       " 'This is',\n",
       " 'Otto Preminger',\n",
       " 'No mention if Ann Rivers Sidd',\n",
       " 'I think if they',\n",
       " 'Pure Orson Welles genius',\n",
       " 'The cult movie for every',\n",
       " 'If you',\n",
       " 'Wow! A Danish movie with this',\n",
       " 'This really is one of the',\n",
       " 'Some critics',\n",
       " 'More a snapshot of',\n",
       " 'Spoilers.....<br',\n",
       " 'OK -',\n",
       " 'Too many sources routinely lump this',\n",
       " 'Sabrina the Teenage',\n",
       " 'An entertaining kung fu film,',\n",
       " 'For getting',\n",
       " 'There are some nice shots in this']"
      ]
     },
     "execution_count": 37,
     "metadata": {},
     "output_type": "execute_result"
    }
   ],
   "source": [
    "\n",
    "batch[\"query\"]\n"
   ]
  },
  {
   "cell_type": "code",
   "execution_count": 38,
   "metadata": {},
   "outputs": [
    {
     "data": {
      "text/plain": [
       "['---Monster Hunter is supposed to',\n",
       " ', even though it was released in',\n",
       " \" Tonto: he was fuelling the characters' personalities at a young age\",\n",
       " ' had made an early cameo appearance at',\n",
       " \" is a critic's I think\",\n",
       " ' of good plot holes, with a',\n",
       " ' that make Paterno work in a',\n",
       " ' film which can be very',\n",
       " ' For the first time, even',\n",
       " ' because a compass and compass (another form of sound cancellation) is used to',\n",
       " ' it wasn\\'t half bad, but it had it all.\"<|endoftext|>',\n",
       " ' the five sections of the film. There are several humorous remarks that border',\n",
       " ' French and Irish myths that',\n",
       " ' - I wanted to see the full length',\n",
       " ' had a \"Stalker\" moment,\" but Seidl does done',\n",
       " ' is about that feature, but I like Bens',\n",
       " ', Juan Diego, Becky Hegar, Dee Dee Richards Areha Fisher,',\n",
       " ' one episode and considered purchasing it, so I watched it one',\n",
       " \" Buddy TV channel. Jones' production is absolutely fantastic. All of the actors\",\n",
       " ' been \"Home Alone 2\"',\n",
       " ' bold move and seems to demonstrate the',\n",
       " ':<br /',\n",
       " ' are at their best',\n",
       " ' of the bartender). Things fall apart for old time',\n",
       " ' sexy nude models.',\n",
       " '-timing French humor-type comic among the',\n",
       " ' film, and the special effects look',\n",
       " \" without ever mentioning that you don't really want to watch a movie like\",\n",
       " \" copy movie. Because it's almost\",\n",
       " ' popular demand the best-selling novel, directed by Robert Du',\n",
       " ', a similar dichotomy could be seen in Texas; in',\n",
       " ', mixing Indian rock with its Arabian influences (sound empty),',\n",
       " 'RYRD DULLIE IS',\n",
       " ' as many big names as there are',\n",
       " ' is not surprising given the portrayal',\n",
       " \" appears to possess psychoactive powers that make him (I'm sure) a\",\n",
       " ' is no match for',\n",
       " '26/15. It was better than i expected in both',\n",
       " ' sort of taking a sleeping girl or something, there is that',\n",
       " ' toppled around in the parking lot and',\n",
       " \" the beginning of screen time in making it's name self and\",\n",
       " ' to my new TV editor for going me and watching my tales. Additionally',\n",
       " ' way that you can take a',\n",
       " ' a different feel to your chances of finding an audience, then',\n",
       " '-l... DNC intrigues-take',\n",
       " ' Rush (Michael B. Jordan)',\n",
       " ' without a doubt be',\n",
       " ' I say about the camera crime?\" When',\n",
       " ' cerebral, faces mysteries, and touching',\n",
       " \" doesn't convey in the least anything that has not been got already, you\",\n",
       " ' Hamlet, one of the least funny parts of',\n",
       " ' of his worst films yet, that movie remains in the realm of',\n",
       " 'uitous\" Others, in spite of dropping serial numbers, such as 1973 I',\n",
       " ' should both traditionally (which is football) and dramatically elevate the',\n",
       " ', it can be',\n",
       " 'rossing tale of deceased censorship as exemplified by Shirley Ren',\n",
       " \" used to use Dudley's old school collection for\",\n",
       " ' acting. Basically what countless ex-WWE fans of the genre',\n",
       " 'ter was so good',\n",
       " ' Pr Army fan, but my stay in Akigo was one of',\n",
       " ' his trailer was the dead guy rapping!!!!',\n",
       " ' is sympathetic towards people, Glenda Harris cannot',\n",
       " ' work the way they do they will',\n",
       " ' the actors were stars in',\n",
       " ' interesting young man in this film: the weird tumbleweed dresses',\n",
       " ' the best episodes of',\n",
       " ' With Me\" (1989). I\\'',\n",
       " ' through another 90 minutes. And, in the meantime, why else do I',\n",
       " ' to Grand Canyon and then also worked at the festival (i.e.',\n",
       " ' art books that I remember;he may not know exactly what he',\n",
       " ' off with a monologue by a Japanese dentist.',\n",
       " ' way over the top and so was this one',\n",
       " ' idea in a long film.\" That wasn\\'t mine,',\n",
       " \" Hollywood movie? It's really hard worrying about the director having\",\n",
       " \" this film was 9.1 out of 10. He's\",\n",
       " '><br />But what is surprising is the emergence of Finland in',\n",
       " ' this happened up to 11 times',\n",
       " \" Antonioni's more funny Ferguson films to come out since\",\n",
       " ' handful with John Luttrell attached. John assured',\n",
       " ' or three times trying to vomit it up. Oohh. If I',\n",
       " ' extreme overworld movie.. not one I consider recommend',\n",
       " ' it was ranked also was that Bankai sold a lot of those',\n",
       " ' the same time, even',\n",
       " ' not gone out of print at the time, Paul',\n",
       " ' looked like a TOM. I was surprised to actually is',\n",
       " ' Major breakthrough at the U.S. Central Bank during the',\n",
       " ', has led to a boom in',\n",
       " ' I really like the movie to',\n",
       " ' actors joining the venture with no supporters',\n",
       " \"' isn't British -except, oucho!-- but Shakespeare did\",\n",
       " ' wide range of reaction. It was made off Harley',\n",
       " 'IE!!! All in all the movie',\n",
       " ' know why. Maybe the scene where the slave is',\n",
       " ' is a touchstone! It is severely cut',\n",
       " \" in 'The Danish Girl', Hines surely decided to\",\n",
       " ' asked if I would be angry if I saw this sequel in some darker time',\n",
       " 'ating, and bad',\n",
       " \" say that but this couldn't have been complete without the suspension of disbelief and\",\n",
       " ' when Simon Twist was waiting for a movie to finish before releasing',\n",
       " 'ifications\". Madsen was listed in the',\n",
       " ' yokes from here and went a little overboard on the ending, while',\n",
       " ' released just a couple of months later and today the',\n",
       " ' a movie with that vocal support man who has been hailed off the biggest stage',\n",
       " ' that Wargames in general is both better',\n",
       " 'Wild Turkey\" (\"Mr. Duell,\" \"The H',\n",
       " ' matter of SO uses as little',\n",
       " \" is written by George Lucas himself it's hard not to think that a slightly\",\n",
       " ' to cheap Italian movies! I figure',\n",
       " ' would be good, but that is befitting of such message.',\n",
       " ' movie can get a lot of laughs even if it means',\n",
       " ' not without performance flaws due to script Hank and',\n",
       " '. Young Fred would have stuck with',\n",
       " 'sard, Fredst Russel or',\n",
       " ' skip the first or two performances, they will',\n",
       " ' who spotlighted a lot of his',\n",
       " ' segment nerd and every gay lover.',\n",
       " ' get nervous, because they are not babies, do not',\n",
       " \" long streak entwining black comedy, it's a difficult movie\",\n",
       " ' most infuriating stereotypes in my book about how some immigrants from Central',\n",
       " ' may enjoy the movie for its limited predictability) as well as',\n",
       " ' a soft core Moth Mother. Perhaps she had been',\n",
       " ' /><br />Did Rice really',\n",
       " 'OK -<|endoftext|>',\n",
       " ' affair with git. The reason',\n",
       " ' Witch Children of Ireland,\" about a',\n",
       " ' Jean-Louis Barbero is a definite moviegoer and he',\n",
       " ' between two different versions of this film, it was a roller-co',\n",
       " ' deceptive little film that direct a different tone than a typical Hollywood epic tale.']"
      ]
     },
     "execution_count": 38,
     "metadata": {},
     "output_type": "execute_result"
    }
   ],
   "source": [
    "\n",
    "batch[\"response\"]\n"
   ]
  },
  {
   "cell_type": "code",
   "execution_count": 39,
   "metadata": {},
   "outputs": [],
   "source": [
    "\n",
    "texts = [ q + r for q, r in zip(batch[\"query\"], batch[\"response\"]) ]\n"
   ]
  },
  {
   "cell_type": "code",
   "execution_count": 40,
   "metadata": {},
   "outputs": [
    {
     "data": {
      "text/plain": [
       "['This movie is poorly conceived---Monster Hunter is supposed to',\n",
       " 'i liked this movie, even though it was released in',\n",
       " \"The first noticeable problem about Tonto: he was fuelling the characters' personalities at a young age\",\n",
       " 'When I spotted that Noah Wyle had made an early cameo appearance at',\n",
       " \"Modern viewers know this is a critic's I think\",\n",
       " 'Evidently lots of good plot holes, with a',\n",
       " 'There are some redeeming qualities that make Paterno work in a',\n",
       " 'This is a very strange film which can be very',\n",
       " 'good lord! For the first time, even',\n",
       " 'This is because a compass and compass (another form of sound cancellation) is used to',\n",
       " 'You know, it wasn\\'t half bad, but it had it all.\"<|endoftext|>',\n",
       " 'This is part one of the five sections of the film. There are several humorous remarks that border',\n",
       " 'I mean of all the obscure French and Irish myths that',\n",
       " 'Okay first of all - I wanted to see the full length',\n",
       " 'Not that many films have truly had a \"Stalker\" moment,\" but Seidl does done',\n",
       " \"I don't know what it is about that feature, but I like Bens\",\n",
       " 'Cary Grant, Douglas Fairbanks, Juan Diego, Becky Hegar, Dee Dee Richards Areha Fisher,',\n",
       " 'I rented this DVD having seen one episode and considered purchasing it, so I watched it one',\n",
       " \"I'm watching this on the Star Buddy TV channel. Jones' production is absolutely fantastic. All of the actors\",\n",
       " 'The title should have been \"Home Alone 2\"',\n",
       " \"It's a bold move and seems to demonstrate the\",\n",
       " 'OK, not possibly, honestly:<br /',\n",
       " 'The folks at Disney are at their best',\n",
       " 'Ugh of the bartender). Things fall apart for old time',\n",
       " 'Terrific film with sexy nude models.',\n",
       " \"I'm a pretty old-timing French humor-type comic among the\",\n",
       " 'I thoroughly enjoyed this film, and the special effects look',\n",
       " \"A movie you start watching without ever mentioning that you don't really want to watch a movie like\",\n",
       " \"The Wayward Cloud is a copy movie. Because it's almost\",\n",
       " 'Cavemen was by popular demand the best-selling novel, directed by Robert Du',\n",
       " 'During the Civil War, a similar dichotomy could be seen in Texas; in',\n",
       " 'On the back burner, mixing Indian rock with its Arabian influences (sound empty),',\n",
       " 'THE ORYRD DULLIE IS',\n",
       " 'There are just as many big names as there are',\n",
       " 'Shazbot, is not surprising given the portrayal',\n",
       " \"I suppose JEDI appears to possess psychoactive powers that make him (I'm sure) a\",\n",
       " 'Brian Yuzna is no match for',\n",
       " '1st watched 5/26/15. It was better than i expected in both',\n",
       " 'When I was sort of taking a sleeping girl or something, there is that',\n",
       " 'I was having just toppled around in the parking lot and',\n",
       " \"Neatly skipping over the beginning of screen time in making it's name self and\",\n",
       " 'Kudos to my new TV editor for going me and watching my tales. Additionally',\n",
       " 'There is absolutely no way that you can take a',\n",
       " 'If you like horror movies with a different feel to your chances of finding an audience, then',\n",
       " 'Tedious girls-at-l... DNC intrigues-take',\n",
       " 'Detective Russell Rush (Michael B. Jordan)',\n",
       " 'Yes it may without a doubt be',\n",
       " 'What can I say about the camera crime?\" When',\n",
       " 'The film is cerebral, faces mysteries, and touching',\n",
       " \"A failure. The movie doesn't convey in the least anything that has not been got already, you\",\n",
       " 'The movie is basically Hamlet, one of the least funny parts of',\n",
       " 'Regarded by many critics as one of his worst films yet, that movie remains in the realm of',\n",
       " 'Those of the \"Instant Gratuitous\" Others, in spite of dropping serial numbers, such as 1973 I',\n",
       " 'I felt Rancid should both traditionally (which is football) and dramatically elevate the',\n",
       " 'This is a pretty OK film, it can be',\n",
       " 'This is a very engrossing tale of deceased censorship as exemplified by Shirley Ren',\n",
       " \"I just used to use Dudley's old school collection for\",\n",
       " 'Lots and acting. Basically what countless ex-WWE fans of the genre',\n",
       " 'Australian Fred Schepter was so good',\n",
       " 'I have always been a huge Pr Army fan, but my stay in Akigo was one of',\n",
       " 'The only real highlight in his trailer was the dead guy rapping!!!!',\n",
       " 'As someone who likes chase scenes and is sympathetic towards people, Glenda Harris cannot',\n",
       " 'If the movies work the way they do they will',\n",
       " 'HLOTS was an outstanding series, the actors were stars in',\n",
       " 'Robert DeNiro plays the most interesting young man in this film: the weird tumbleweed dresses',\n",
       " 'This is certainly one of the best episodes of',\n",
       " 'Hold Your Man With Me\" (1989). I\\'',\n",
       " \"I couldn't bear to sit through another 90 minutes. And, in the meantime, why else do I\",\n",
       " \"I've recently went to Grand Canyon and then also worked at the festival (i.e.\",\n",
       " 'I have grown up reading art books that I remember;he may not know exactly what he',\n",
       " 'The movie starts off with a monologue by a Japanese dentist.',\n",
       " 'This movie was way over the top and so was this one',\n",
       " 'Worst idea in a long film.\" That wasn\\'t mine,',\n",
       " \"What can one say about a Hollywood movie? It's really hard worrying about the director having\",\n",
       " \"My Score for this film was 9.1 out of 10. He's\",\n",
       " '<br /><br />But what is surprising is the emergence of Finland in',\n",
       " 'This movie was awful and an this happened up to 11 times',\n",
       " \"This film could be one of Antonioni's more funny Ferguson films to come out since\",\n",
       " 'By 1941 Columbia was a handful with John Luttrell attached. John assured',\n",
       " \"I watched 'Envy' two or three times trying to vomit it up. Oohh. If I\",\n",
       " 'This an free extreme overworld movie.. not one I consider recommend',\n",
       " 'The reason it was ranked also was that Bankai sold a lot of those',\n",
       " 'Saw this movie at the same time, even',\n",
       " 'If this film had not gone out of print at the time, Paul',\n",
       " 'This movie looked like a TOM. I was surprised to actually is',\n",
       " 'Lynch. Major breakthrough at the U.S. Central Bank during the',\n",
       " 'As predictable as a Hallmark card, has led to a boom in',\n",
       " 'I must say I really like the movie to',\n",
       " \"I'm sorry to all the actors joining the venture with no supporters\",\n",
       " \"I think 'Blackadder' isn't British -except, oucho!-- but Shakespeare did\",\n",
       " 'This movie really deserves the wide range of reaction. It was made off Harley',\n",
       " 'GUERNIE!!! All in all the movie',\n",
       " \"I don't know why. Maybe the scene where the slave is\",\n",
       " 'This movie is a touchstone! It is severely cut',\n",
       " \"After losing the Emmy for her performance in 'The Danish Girl', Hines surely decided to\",\n",
       " 'I was asked if I would be angry if I saw this sequel in some darker time',\n",
       " 'Convoluted, infuriating, and bad',\n",
       " \"I'm sorry to say that but this couldn't have been complete without the suspension of disbelief and\",\n",
       " 'There were times when Simon Twist was waiting for a movie to finish before releasing',\n",
       " 'The Classifications\". Madsen was listed in the',\n",
       " 'Its taken a few yokes from here and went a little overboard on the ending, while',\n",
       " 'This film got released just a couple of months later and today the',\n",
       " 'Why watch a movie with that vocal support man who has been hailed off the biggest stage',\n",
       " 'You cannot deny that Wargames in general is both better',\n",
       " 'Eric Rohmer\\'s \"Wild Turkey\" (\"Mr. Duell,\" \"The H',\n",
       " 'As you may know, the subject matter of SO uses as little',\n",
       " \"Just given the fact that it is written by George Lucas himself it's hard not to think that a slightly\",\n",
       " \"Ouch! They don't come to cheap Italian movies! I figure\",\n",
       " 'i went into this hoping it would be good, but that is befitting of such message.',\n",
       " 'How can you tell that a horror movie can get a lot of laughs even if it means',\n",
       " 'This is not without performance flaws due to script Hank and',\n",
       " 'Otto Preminger. Young Fred would have stuck with',\n",
       " 'No mention if Ann Rivers Siddsard, Fredst Russel or',\n",
       " 'I think if they skip the first or two performances, they will',\n",
       " 'Pure Orson Welles genius who spotlighted a lot of his',\n",
       " 'The cult movie for every segment nerd and every gay lover.',\n",
       " 'If you get nervous, because they are not babies, do not',\n",
       " \"Wow! A Danish movie with this long streak entwining black comedy, it's a difficult movie\",\n",
       " 'This really is one of the most infuriating stereotypes in my book about how some immigrants from Central',\n",
       " 'Some critics may enjoy the movie for its limited predictability) as well as',\n",
       " 'More a snapshot of a soft core Moth Mother. Perhaps she had been',\n",
       " 'Spoilers.....<br /><br />Did Rice really',\n",
       " 'OK -OK -<|endoftext|>',\n",
       " 'Too many sources routinely lump this affair with git. The reason',\n",
       " 'Sabrina the Teenage Witch Children of Ireland,\" about a',\n",
       " 'An entertaining kung fu film, Jean-Louis Barbero is a definite moviegoer and he',\n",
       " 'For getting between two different versions of this film, it was a roller-co',\n",
       " 'There are some nice shots in this deceptive little film that direct a different tone than a typical Hollywood epic tale.']"
      ]
     },
     "execution_count": 40,
     "metadata": {},
     "output_type": "execute_result"
    }
   ],
   "source": [
    "\n",
    "texts\n"
   ]
  },
  {
   "cell_type": "code",
   "execution_count": 41,
   "metadata": {},
   "outputs": [
    {
     "data": {
      "text/plain": [
       "[[{'label': 'NEGATIVE', 'score': 2.2946932315826416},\n",
       "  {'label': 'POSITIVE', 'score': -2.7317020893096924}],\n",
       " [{'label': 'NEGATIVE', 'score': -1.925742506980896},\n",
       "  {'label': 'POSITIVE', 'score': 2.2019805908203125}],\n",
       " [{'label': 'NEGATIVE', 'score': -0.18878592550754547},\n",
       "  {'label': 'POSITIVE', 'score': -0.011356303468346596}],\n",
       " [{'label': 'NEGATIVE', 'score': -0.01333677675575018},\n",
       "  {'label': 'POSITIVE', 'score': -0.11825768649578094}],\n",
       " [{'label': 'NEGATIVE', 'score': -1.9098631143569946},\n",
       "  {'label': 'POSITIVE', 'score': 2.153944730758667}],\n",
       " [{'label': 'NEGATIVE', 'score': -1.0707851648330688},\n",
       "  {'label': 'POSITIVE', 'score': 1.1191564798355103}],\n",
       " [{'label': 'NEGATIVE', 'score': -1.4140279293060303},\n",
       "  {'label': 'POSITIVE', 'score': 1.6278727054595947}],\n",
       " [{'label': 'NEGATIVE', 'score': -1.9853274822235107},\n",
       "  {'label': 'POSITIVE', 'score': 2.2685697078704834}],\n",
       " [{'label': 'NEGATIVE', 'score': -1.6584359407424927},\n",
       "  {'label': 'POSITIVE', 'score': 1.8835939168930054}],\n",
       " [{'label': 'NEGATIVE', 'score': -0.10874619334936142},\n",
       "  {'label': 'POSITIVE', 'score': -0.24992646276950836}],\n",
       " [{'label': 'NEGATIVE', 'score': -1.2792789936065674},\n",
       "  {'label': 'POSITIVE', 'score': 1.4789283275604248}],\n",
       " [{'label': 'NEGATIVE', 'score': -1.2613729238510132},\n",
       "  {'label': 'POSITIVE', 'score': 1.3211719989776611}],\n",
       " [{'label': 'NEGATIVE', 'score': -0.315875768661499},\n",
       "  {'label': 'POSITIVE', 'score': 0.27530407905578613}],\n",
       " [{'label': 'NEGATIVE', 'score': -0.9480957984924316},\n",
       "  {'label': 'POSITIVE', 'score': 1.082165002822876}],\n",
       " [{'label': 'NEGATIVE', 'score': -0.8007491230964661},\n",
       "  {'label': 'POSITIVE', 'score': 0.8769035935401917}],\n",
       " [{'label': 'NEGATIVE', 'score': -1.502890944480896},\n",
       "  {'label': 'POSITIVE', 'score': 1.6423460245132446}],\n",
       " [{'label': 'NEGATIVE', 'score': -0.6645153760910034},\n",
       "  {'label': 'POSITIVE', 'score': 0.7946802973747253}],\n",
       " [{'label': 'NEGATIVE', 'score': -1.4466480016708374},\n",
       "  {'label': 'POSITIVE', 'score': 1.6408531665802002}],\n",
       " [{'label': 'NEGATIVE', 'score': -2.370344877243042},\n",
       "  {'label': 'POSITIVE', 'score': 2.644348382949829}],\n",
       " [{'label': 'NEGATIVE', 'score': 0.4618874192237854},\n",
       "  {'label': 'POSITIVE', 'score': -0.7279379963874817}],\n",
       " [{'label': 'NEGATIVE', 'score': -2.177673816680908},\n",
       "  {'label': 'POSITIVE', 'score': 2.3880457878112793}],\n",
       " [{'label': 'NEGATIVE', 'score': 0.6782671809196472},\n",
       "  {'label': 'POSITIVE', 'score': -1.058858871459961}],\n",
       " [{'label': 'NEGATIVE', 'score': -2.0838160514831543},\n",
       "  {'label': 'POSITIVE', 'score': 2.323078155517578}],\n",
       " [{'label': 'NEGATIVE', 'score': 0.7357243299484253},\n",
       "  {'label': 'POSITIVE', 'score': -1.187375783920288}],\n",
       " [{'label': 'NEGATIVE', 'score': -2.4867770671844482},\n",
       "  {'label': 'POSITIVE', 'score': 2.774024248123169}],\n",
       " [{'label': 'NEGATIVE', 'score': 0.2856677174568176},\n",
       "  {'label': 'POSITIVE', 'score': -0.5302363634109497}],\n",
       " [{'label': 'NEGATIVE', 'score': -2.389453887939453},\n",
       "  {'label': 'POSITIVE', 'score': 2.661776304244995}],\n",
       " [{'label': 'NEGATIVE', 'score': -0.008115194737911224},\n",
       "  {'label': 'POSITIVE', 'score': -0.19714489579200745}],\n",
       " [{'label': 'NEGATIVE', 'score': -0.049377188086509705},\n",
       "  {'label': 'POSITIVE', 'score': -0.1592797338962555}],\n",
       " [{'label': 'NEGATIVE', 'score': -1.631751298904419},\n",
       "  {'label': 'POSITIVE', 'score': 1.9094592332839966}],\n",
       " [{'label': 'NEGATIVE', 'score': -0.08500328660011292},\n",
       "  {'label': 'POSITIVE', 'score': -0.05375295877456665}],\n",
       " [{'label': 'NEGATIVE', 'score': -1.7784624099731445},\n",
       "  {'label': 'POSITIVE', 'score': 1.9543262720108032}],\n",
       " [{'label': 'NEGATIVE', 'score': 0.7865010499954224},\n",
       "  {'label': 'POSITIVE', 'score': -1.1133720874786377}],\n",
       " [{'label': 'NEGATIVE', 'score': -0.6061631441116333},\n",
       "  {'label': 'POSITIVE', 'score': 0.5438485145568848}],\n",
       " [{'label': 'NEGATIVE', 'score': 1.1846203804016113},\n",
       "  {'label': 'POSITIVE', 'score': -1.59538996219635}],\n",
       " [{'label': 'NEGATIVE', 'score': -0.30090436339378357},\n",
       "  {'label': 'POSITIVE', 'score': 0.157862588763237}],\n",
       " [{'label': 'NEGATIVE', 'score': 1.3676860332489014},\n",
       "  {'label': 'POSITIVE', 'score': -1.8282904624938965}],\n",
       " [{'label': 'NEGATIVE', 'score': -1.5642662048339844},\n",
       "  {'label': 'POSITIVE', 'score': 1.735146164894104}],\n",
       " [{'label': 'NEGATIVE', 'score': 0.012986256740987301},\n",
       "  {'label': 'POSITIVE', 'score': -0.182131826877594}],\n",
       " [{'label': 'NEGATIVE', 'score': 1.2129027843475342},\n",
       "  {'label': 'POSITIVE', 'score': -1.6691348552703857}],\n",
       " [{'label': 'NEGATIVE', 'score': 1.3081655502319336},\n",
       "  {'label': 'POSITIVE', 'score': -1.7415504455566406}],\n",
       " [{'label': 'NEGATIVE', 'score': -0.7906481623649597},\n",
       "  {'label': 'POSITIVE', 'score': 0.7544608116149902}],\n",
       " [{'label': 'NEGATIVE', 'score': 1.481999158859253},\n",
       "  {'label': 'POSITIVE', 'score': -1.8997300863265991}],\n",
       " [{'label': 'NEGATIVE', 'score': -0.975084125995636},\n",
       "  {'label': 'POSITIVE', 'score': 1.0598565340042114}],\n",
       " [{'label': 'NEGATIVE', 'score': 2.2341930866241455},\n",
       "  {'label': 'POSITIVE', 'score': -2.641960620880127}],\n",
       " [{'label': 'NEGATIVE', 'score': -0.47020313143730164},\n",
       "  {'label': 'POSITIVE', 'score': 0.3578585684299469}],\n",
       " [{'label': 'NEGATIVE', 'score': -0.9777966141700745},\n",
       "  {'label': 'POSITIVE', 'score': 1.1188585758209229}],\n",
       " [{'label': 'NEGATIVE', 'score': 0.5441206097602844},\n",
       "  {'label': 'POSITIVE', 'score': -0.8248368501663208}],\n",
       " [{'label': 'NEGATIVE', 'score': -2.5256197452545166},\n",
       "  {'label': 'POSITIVE', 'score': 2.8066885471343994}],\n",
       " [{'label': 'NEGATIVE', 'score': 2.319517135620117},\n",
       "  {'label': 'POSITIVE', 'score': -2.7146549224853516}],\n",
       " [{'label': 'NEGATIVE', 'score': 2.171668529510498},\n",
       "  {'label': 'POSITIVE', 'score': -2.6384031772613525}],\n",
       " [{'label': 'NEGATIVE', 'score': 1.827568531036377},\n",
       "  {'label': 'POSITIVE', 'score': -2.2516307830810547}],\n",
       " [{'label': 'NEGATIVE', 'score': -0.19164718687534332},\n",
       "  {'label': 'POSITIVE', 'score': 0.05647556483745575}],\n",
       " [{'label': 'NEGATIVE', 'score': -1.3071271181106567},\n",
       "  {'label': 'POSITIVE', 'score': 1.4535942077636719}],\n",
       " [{'label': 'NEGATIVE', 'score': -1.5787339210510254},\n",
       "  {'label': 'POSITIVE', 'score': 1.72512948513031}],\n",
       " [{'label': 'NEGATIVE', 'score': -2.399322509765625},\n",
       "  {'label': 'POSITIVE', 'score': 2.6112942695617676}],\n",
       " [{'label': 'NEGATIVE', 'score': 0.23840679228305817},\n",
       "  {'label': 'POSITIVE', 'score': -0.4087715744972229}],\n",
       " [{'label': 'NEGATIVE', 'score': -2.0532870292663574},\n",
       "  {'label': 'POSITIVE', 'score': 2.2611241340637207}],\n",
       " [{'label': 'NEGATIVE', 'score': -1.661485195159912},\n",
       "  {'label': 'POSITIVE', 'score': 1.8751760721206665}],\n",
       " [{'label': 'NEGATIVE', 'score': -0.06652013957500458},\n",
       "  {'label': 'POSITIVE', 'score': 0.03985133022069931}],\n",
       " [{'label': 'NEGATIVE', 'score': 1.02253258228302},\n",
       "  {'label': 'POSITIVE', 'score': -1.4590461254119873}],\n",
       " [{'label': 'NEGATIVE', 'score': 0.08074527978897095},\n",
       "  {'label': 'POSITIVE', 'score': -0.33890044689178467}],\n",
       " [{'label': 'NEGATIVE', 'score': -0.8392030596733093},\n",
       "  {'label': 'POSITIVE', 'score': 0.834212064743042}],\n",
       " [{'label': 'NEGATIVE', 'score': -1.9414623975753784},\n",
       "  {'label': 'POSITIVE', 'score': 2.1697840690612793}],\n",
       " [{'label': 'NEGATIVE', 'score': -0.9593784213066101},\n",
       "  {'label': 'POSITIVE', 'score': 1.042659878730774}],\n",
       " [{'label': 'NEGATIVE', 'score': -2.503601312637329},\n",
       "  {'label': 'POSITIVE', 'score': 2.8471665382385254}],\n",
       " [{'label': 'NEGATIVE', 'score': -0.9686233997344971},\n",
       "  {'label': 'POSITIVE', 'score': 1.0651323795318604}],\n",
       " [{'label': 'NEGATIVE', 'score': 1.9080582857131958},\n",
       "  {'label': 'POSITIVE', 'score': -2.3114776611328125}],\n",
       " [{'label': 'NEGATIVE', 'score': -0.7850698828697205},\n",
       "  {'label': 'POSITIVE', 'score': 0.9044114947319031}],\n",
       " [{'label': 'NEGATIVE', 'score': -1.0585120916366577},\n",
       "  {'label': 'POSITIVE', 'score': 1.1479301452636719}],\n",
       " [{'label': 'NEGATIVE', 'score': 0.3809639811515808},\n",
       "  {'label': 'POSITIVE', 'score': -0.742186963558197}],\n",
       " [{'label': 'NEGATIVE', 'score': -0.7007309794425964},\n",
       "  {'label': 'POSITIVE', 'score': 0.7651562690734863}],\n",
       " [{'label': 'NEGATIVE', 'score': 1.6320477724075317},\n",
       "  {'label': 'POSITIVE', 'score': -2.0165162086486816}],\n",
       " [{'label': 'NEGATIVE', 'score': 0.8162978291511536},\n",
       "  {'label': 'POSITIVE', 'score': -1.0939760208129883}],\n",
       " [{'label': 'NEGATIVE', 'score': -0.5866431593894958},\n",
       "  {'label': 'POSITIVE', 'score': 0.5715629458427429}],\n",
       " [{'label': 'NEGATIVE', 'score': -0.9936932325363159},\n",
       "  {'label': 'POSITIVE', 'score': 1.1308226585388184}],\n",
       " [{'label': 'NEGATIVE', 'score': 2.3064968585968018},\n",
       "  {'label': 'POSITIVE', 'score': -2.669384241104126}],\n",
       " [{'label': 'NEGATIVE', 'score': -1.514215111732483},\n",
       "  {'label': 'POSITIVE', 'score': 1.7372153997421265}],\n",
       " [{'label': 'NEGATIVE', 'score': 1.1970057487487793},\n",
       "  {'label': 'POSITIVE', 'score': -1.678117275238037}],\n",
       " [{'label': 'NEGATIVE', 'score': 1.7410504817962646},\n",
       "  {'label': 'POSITIVE', 'score': -2.2446813583374023}],\n",
       " [{'label': 'NEGATIVE', 'score': 0.7927098274230957},\n",
       "  {'label': 'POSITIVE', 'score': -1.1307158470153809}],\n",
       " [{'label': 'NEGATIVE', 'score': -0.36303743720054626},\n",
       "  {'label': 'POSITIVE', 'score': 0.3577401041984558}],\n",
       " [{'label': 'NEGATIVE', 'score': -1.3866984844207764},\n",
       "  {'label': 'POSITIVE', 'score': 1.6217494010925293}],\n",
       " [{'label': 'NEGATIVE', 'score': -0.14357078075408936},\n",
       "  {'label': 'POSITIVE', 'score': 0.08239001035690308}],\n",
       " [{'label': 'NEGATIVE', 'score': 0.19978077709674835},\n",
       "  {'label': 'POSITIVE', 'score': -0.37781450152397156}],\n",
       " [{'label': 'NEGATIVE', 'score': -1.159421682357788},\n",
       "  {'label': 'POSITIVE', 'score': 1.44115149974823}],\n",
       " [{'label': 'NEGATIVE', 'score': 0.47311192750930786},\n",
       "  {'label': 'POSITIVE', 'score': -0.8039054274559021}],\n",
       " [{'label': 'NEGATIVE', 'score': -2.1178929805755615},\n",
       "  {'label': 'POSITIVE', 'score': 2.363960027694702}],\n",
       " [{'label': 'NEGATIVE', 'score': 1.719072699546814},\n",
       "  {'label': 'POSITIVE', 'score': -2.107532262802124}],\n",
       " [{'label': 'NEGATIVE', 'score': 0.15689294040203094},\n",
       "  {'label': 'POSITIVE', 'score': -0.39338061213493347}],\n",
       " [{'label': 'NEGATIVE', 'score': -2.125702142715454},\n",
       "  {'label': 'POSITIVE', 'score': 2.432297945022583}],\n",
       " [{'label': 'NEGATIVE', 'score': -1.6592917442321777},\n",
       "  {'label': 'POSITIVE', 'score': 1.8253910541534424}],\n",
       " [{'label': 'NEGATIVE', 'score': 0.709251344203949},\n",
       "  {'label': 'POSITIVE', 'score': -1.1630222797393799}],\n",
       " [{'label': 'NEGATIVE', 'score': 0.5518881678581238},\n",
       "  {'label': 'POSITIVE', 'score': -0.7799385190010071}],\n",
       " [{'label': 'NEGATIVE', 'score': -1.217368721961975},\n",
       "  {'label': 'POSITIVE', 'score': 1.331756353378296}],\n",
       " [{'label': 'NEGATIVE', 'score': -0.11778039485216141},\n",
       "  {'label': 'POSITIVE', 'score': 0.07478315383195877}],\n",
       " [{'label': 'NEGATIVE', 'score': 2.1900198459625244},\n",
       "  {'label': 'POSITIVE', 'score': -2.6375036239624023}],\n",
       " [{'label': 'NEGATIVE', 'score': 1.246305227279663},\n",
       "  {'label': 'POSITIVE', 'score': -1.6425143480300903}],\n",
       " [{'label': 'NEGATIVE', 'score': 0.05786752328276634},\n",
       "  {'label': 'POSITIVE', 'score': -0.12506625056266785}],\n",
       " [{'label': 'NEGATIVE', 'score': -0.29168349504470825},\n",
       "  {'label': 'POSITIVE', 'score': 0.28435465693473816}],\n",
       " [{'label': 'NEGATIVE', 'score': 0.37967702746391296},\n",
       "  {'label': 'POSITIVE', 'score': -0.7170895338058472}],\n",
       " [{'label': 'NEGATIVE', 'score': -1.5899643898010254},\n",
       "  {'label': 'POSITIVE', 'score': 1.9501631259918213}],\n",
       " [{'label': 'NEGATIVE', 'score': -0.9681051969528198},\n",
       "  {'label': 'POSITIVE', 'score': 1.0264196395874023}],\n",
       " [{'label': 'NEGATIVE', 'score': -0.6152981519699097},\n",
       "  {'label': 'POSITIVE', 'score': 0.6113856434822083}],\n",
       " [{'label': 'NEGATIVE', 'score': -0.009029800072312355},\n",
       "  {'label': 'POSITIVE', 'score': -0.21365906298160553}],\n",
       " [{'label': 'NEGATIVE', 'score': -0.5339701175689697},\n",
       "  {'label': 'POSITIVE', 'score': 0.49090710282325745}],\n",
       " [{'label': 'NEGATIVE', 'score': -0.15556353330612183},\n",
       "  {'label': 'POSITIVE', 'score': 0.014581263065338135}],\n",
       " [{'label': 'NEGATIVE', 'score': 0.1174687072634697},\n",
       "  {'label': 'POSITIVE', 'score': -0.3458309471607208}],\n",
       " [{'label': 'NEGATIVE', 'score': 0.4851810038089752},\n",
       "  {'label': 'POSITIVE', 'score': -0.6642454266548157}],\n",
       " [{'label': 'NEGATIVE', 'score': -0.4821242094039917},\n",
       "  {'label': 'POSITIVE', 'score': 0.3832714259624481}],\n",
       " [{'label': 'NEGATIVE', 'score': -0.1992678940296173},\n",
       "  {'label': 'POSITIVE', 'score': 0.0024293470196425915}],\n",
       " [{'label': 'NEGATIVE', 'score': 0.692193329334259},\n",
       "  {'label': 'POSITIVE', 'score': -1.0209767818450928}],\n",
       " [{'label': 'NEGATIVE', 'score': 1.045706868171692},\n",
       "  {'label': 'POSITIVE', 'score': -1.3788909912109375}],\n",
       " [{'label': 'NEGATIVE', 'score': -0.1484047770500183},\n",
       "  {'label': 'POSITIVE', 'score': -0.017954988405108452}],\n",
       " [{'label': 'NEGATIVE', 'score': -2.3209173679351807},\n",
       "  {'label': 'POSITIVE', 'score': 2.5953266620635986}],\n",
       " [{'label': 'NEGATIVE', 'score': -1.0697346925735474},\n",
       "  {'label': 'POSITIVE', 'score': 1.2190308570861816}],\n",
       " [{'label': 'NEGATIVE', 'score': 0.019286388531327248},\n",
       "  {'label': 'POSITIVE', 'score': -0.2514941990375519}],\n",
       " [{'label': 'NEGATIVE', 'score': 0.49909278750419617},\n",
       "  {'label': 'POSITIVE', 'score': -0.7470396161079407}],\n",
       " [{'label': 'NEGATIVE', 'score': 0.3391508460044861},\n",
       "  {'label': 'POSITIVE', 'score': -0.4007589519023895}],\n",
       " [{'label': 'NEGATIVE', 'score': -0.12362051010131836},\n",
       "  {'label': 'POSITIVE', 'score': -0.09232131391763687}],\n",
       " [{'label': 'NEGATIVE', 'score': -0.3307085931301117},\n",
       "  {'label': 'POSITIVE', 'score': 0.31590142846107483}],\n",
       " [{'label': 'NEGATIVE', 'score': 1.0290615558624268},\n",
       "  {'label': 'POSITIVE', 'score': -1.4187493324279785}],\n",
       " [{'label': 'NEGATIVE', 'score': 0.44534915685653687},\n",
       "  {'label': 'POSITIVE', 'score': -0.6717450618743896}],\n",
       " [{'label': 'NEGATIVE', 'score': 1.485999345779419},\n",
       "  {'label': 'POSITIVE', 'score': -1.9739841222763062}],\n",
       " [{'label': 'NEGATIVE', 'score': -0.6468759775161743},\n",
       "  {'label': 'POSITIVE', 'score': 0.6328416466712952}],\n",
       " [{'label': 'NEGATIVE', 'score': -2.3416857719421387},\n",
       "  {'label': 'POSITIVE', 'score': 2.5867419242858887}],\n",
       " [{'label': 'NEGATIVE', 'score': -0.07801135629415512},\n",
       "  {'label': 'POSITIVE', 'score': -0.01785203069448471}],\n",
       " [{'label': 'NEGATIVE', 'score': 0.1189308688044548},\n",
       "  {'label': 'POSITIVE', 'score': -0.35128307342529297}]]"
      ]
     },
     "execution_count": 41,
     "metadata": {},
     "output_type": "execute_result"
    }
   ],
   "source": [
    "\n",
    "pipe_outputs = sentiment_pipe(texts, **sent_kwargs)\n",
    "pipe_outputs\n"
   ]
  },
  {
   "cell_type": "code",
   "execution_count": 42,
   "metadata": {},
   "outputs": [
    {
     "data": {
      "text/plain": [
       "[tensor(-2.7317),\n",
       " tensor(2.2020),\n",
       " tensor(-0.0114),\n",
       " tensor(-0.1183),\n",
       " tensor(2.1539),\n",
       " tensor(1.1192),\n",
       " tensor(1.6279),\n",
       " tensor(2.2686),\n",
       " tensor(1.8836),\n",
       " tensor(-0.2499),\n",
       " tensor(1.4789),\n",
       " tensor(1.3212),\n",
       " tensor(0.2753),\n",
       " tensor(1.0822),\n",
       " tensor(0.8769),\n",
       " tensor(1.6423),\n",
       " tensor(0.7947),\n",
       " tensor(1.6409),\n",
       " tensor(2.6443),\n",
       " tensor(-0.7279),\n",
       " tensor(2.3880),\n",
       " tensor(-1.0589),\n",
       " tensor(2.3231),\n",
       " tensor(-1.1874),\n",
       " tensor(2.7740),\n",
       " tensor(-0.5302),\n",
       " tensor(2.6618),\n",
       " tensor(-0.1971),\n",
       " tensor(-0.1593),\n",
       " tensor(1.9095),\n",
       " tensor(-0.0538),\n",
       " tensor(1.9543),\n",
       " tensor(-1.1134),\n",
       " tensor(0.5438),\n",
       " tensor(-1.5954),\n",
       " tensor(0.1579),\n",
       " tensor(-1.8283),\n",
       " tensor(1.7351),\n",
       " tensor(-0.1821),\n",
       " tensor(-1.6691),\n",
       " tensor(-1.7416),\n",
       " tensor(0.7545),\n",
       " tensor(-1.8997),\n",
       " tensor(1.0599),\n",
       " tensor(-2.6420),\n",
       " tensor(0.3579),\n",
       " tensor(1.1189),\n",
       " tensor(-0.8248),\n",
       " tensor(2.8067),\n",
       " tensor(-2.7147),\n",
       " tensor(-2.6384),\n",
       " tensor(-2.2516),\n",
       " tensor(0.0565),\n",
       " tensor(1.4536),\n",
       " tensor(1.7251),\n",
       " tensor(2.6113),\n",
       " tensor(-0.4088),\n",
       " tensor(2.2611),\n",
       " tensor(1.8752),\n",
       " tensor(0.0399),\n",
       " tensor(-1.4590),\n",
       " tensor(-0.3389),\n",
       " tensor(0.8342),\n",
       " tensor(2.1698),\n",
       " tensor(1.0427),\n",
       " tensor(2.8472),\n",
       " tensor(1.0651),\n",
       " tensor(-2.3115),\n",
       " tensor(0.9044),\n",
       " tensor(1.1479),\n",
       " tensor(-0.7422),\n",
       " tensor(0.7652),\n",
       " tensor(-2.0165),\n",
       " tensor(-1.0940),\n",
       " tensor(0.5716),\n",
       " tensor(1.1308),\n",
       " tensor(-2.6694),\n",
       " tensor(1.7372),\n",
       " tensor(-1.6781),\n",
       " tensor(-2.2447),\n",
       " tensor(-1.1307),\n",
       " tensor(0.3577),\n",
       " tensor(1.6217),\n",
       " tensor(0.0824),\n",
       " tensor(-0.3778),\n",
       " tensor(1.4412),\n",
       " tensor(-0.8039),\n",
       " tensor(2.3640),\n",
       " tensor(-2.1075),\n",
       " tensor(-0.3934),\n",
       " tensor(2.4323),\n",
       " tensor(1.8254),\n",
       " tensor(-1.1630),\n",
       " tensor(-0.7799),\n",
       " tensor(1.3318),\n",
       " tensor(0.0748),\n",
       " tensor(-2.6375),\n",
       " tensor(-1.6425),\n",
       " tensor(-0.1251),\n",
       " tensor(0.2844),\n",
       " tensor(-0.7171),\n",
       " tensor(1.9502),\n",
       " tensor(1.0264),\n",
       " tensor(0.6114),\n",
       " tensor(-0.2137),\n",
       " tensor(0.4909),\n",
       " tensor(0.0146),\n",
       " tensor(-0.3458),\n",
       " tensor(-0.6642),\n",
       " tensor(0.3833),\n",
       " tensor(0.0024),\n",
       " tensor(-1.0210),\n",
       " tensor(-1.3789),\n",
       " tensor(-0.0180),\n",
       " tensor(2.5953),\n",
       " tensor(1.2190),\n",
       " tensor(-0.2515),\n",
       " tensor(-0.7470),\n",
       " tensor(-0.4008),\n",
       " tensor(-0.0923),\n",
       " tensor(0.3159),\n",
       " tensor(-1.4187),\n",
       " tensor(-0.6717),\n",
       " tensor(-1.9740),\n",
       " tensor(0.6328),\n",
       " tensor(2.5867),\n",
       " tensor(-0.0179),\n",
       " tensor(-0.3513)]"
      ]
     },
     "execution_count": 42,
     "metadata": {},
     "output_type": "execute_result"
    }
   ],
   "source": [
    "\n",
    "rewards = [ torch.tensor(output[1][\"score\"]) for output in pipe_outputs]\n",
    "rewards\n"
   ]
  },
  {
   "cell_type": "code",
   "execution_count": 43,
   "metadata": {},
   "outputs": [
    {
     "data": {
      "text/plain": [
       "128"
      ]
     },
     "execution_count": 43,
     "metadata": {},
     "output_type": "execute_result"
    }
   ],
   "source": [
    "\n",
    "len(rewards)\n"
   ]
  },
  {
   "cell_type": "code",
   "execution_count": null,
   "metadata": {},
   "outputs": [],
   "source": [
    "\n",
    "\n",
    "\n",
    "\n",
    "    \n"
   ]
  },
  {
   "cell_type": "code",
   "execution_count": null,
   "metadata": {},
   "outputs": [],
   "source": []
  },
  {
   "cell_type": "code",
   "execution_count": null,
   "metadata": {},
   "outputs": [],
   "source": []
  },
  {
   "cell_type": "code",
   "execution_count": null,
   "metadata": {},
   "outputs": [],
   "source": []
  },
  {
   "cell_type": "code",
   "execution_count": null,
   "metadata": {},
   "outputs": [],
   "source": []
  },
  {
   "cell_type": "code",
   "execution_count": null,
   "metadata": {},
   "outputs": [],
   "source": []
  },
  {
   "cell_type": "code",
   "execution_count": null,
   "metadata": {},
   "outputs": [],
   "source": [
    "\n",
    "for epoch, batch in tqdm(enumerate(ppo_trainer.dataloader)):\n",
    "    query_tensors = batch[\"input_ids\"]\n",
    "    print(epoch)\n",
    "\n",
    "    #### Get response from gpt2\n",
    "    response_tensors = []\n",
    "    for query in query_tensors:\n",
    "        gen_len                             = output_length_sampler()\n",
    "        generation_kwargs[\"max_new_tokens\"] = gen_len\n",
    "        response                            = ppo_trainer.generate(query, **generation_kwargs)\n",
    "        response_tensors.append( response.squeeze()[-gen_len:] )\n",
    "    batch[\"response\"] = [ tokenizer.decode(r.squeeze()) for r in response_tensors ]\n",
    "\n",
    "    #### Compute sentiment score\n",
    "    texts = [q + r for q, r in zip(batch[\"query\"], batch[\"response\"])]\n",
    "    pipe_outputs = sentiment_pipe(texts, **sent_kwargs)\n",
    "    rewards = [ torch.tensor(output[1][\"score\"]) for output in pipe_outputs]\n",
    "\n",
    "    #### Run PPO step\n",
    "    stats = ppo_trainer.step(\n",
    "                     query_tensors, \n",
    "                     response_tensors, \n",
    "                     rewards\n",
    "    )\n",
    "    ppo_trainer.log_stats(stats, batch, rewards)\n",
    "    \n"
   ]
  },
  {
   "cell_type": "code",
   "execution_count": null,
   "metadata": {},
   "outputs": [],
   "source": []
  },
  {
   "cell_type": "code",
   "execution_count": null,
   "metadata": {},
   "outputs": [],
   "source": []
  },
  {
   "cell_type": "code",
   "execution_count": null,
   "metadata": {},
   "outputs": [],
   "source": []
  },
  {
   "cell_type": "code",
   "execution_count": null,
   "metadata": {},
   "outputs": [],
   "source": []
  },
  {
   "cell_type": "code",
   "execution_count": null,
   "metadata": {},
   "outputs": [],
   "source": []
  },
  {
   "cell_type": "code",
   "execution_count": null,
   "metadata": {},
   "outputs": [],
   "source": []
  },
  {
   "cell_type": "code",
   "execution_count": null,
   "metadata": {},
   "outputs": [],
   "source": []
  },
  {
   "cell_type": "code",
   "execution_count": null,
   "metadata": {},
   "outputs": [],
   "source": []
  },
  {
   "cell_type": "code",
   "execution_count": null,
   "metadata": {},
   "outputs": [],
   "source": []
  },
  {
   "cell_type": "code",
   "execution_count": null,
   "metadata": {},
   "outputs": [],
   "source": []
  },
  {
   "cell_type": "code",
   "execution_count": null,
   "metadata": {},
   "outputs": [],
   "source": []
  },
  {
   "cell_type": "code",
   "execution_count": null,
   "metadata": {},
   "outputs": [],
   "source": []
  },
  {
   "cell_type": "code",
   "execution_count": null,
   "metadata": {},
   "outputs": [],
   "source": []
  },
  {
   "cell_type": "code",
   "execution_count": null,
   "metadata": {},
   "outputs": [],
   "source": []
  },
  {
   "cell_type": "code",
   "execution_count": null,
   "metadata": {},
   "outputs": [],
   "source": []
  },
  {
   "cell_type": "code",
   "execution_count": null,
   "metadata": {},
   "outputs": [],
   "source": []
  },
  {
   "cell_type": "code",
   "execution_count": null,
   "metadata": {},
   "outputs": [],
   "source": []
  },
  {
   "cell_type": "code",
   "execution_count": null,
   "metadata": {},
   "outputs": [],
   "source": []
  },
  {
   "cell_type": "code",
   "execution_count": null,
   "metadata": {},
   "outputs": [],
   "source": []
  },
  {
   "cell_type": "code",
   "execution_count": null,
   "metadata": {},
   "outputs": [],
   "source": []
  },
  {
   "cell_type": "code",
   "execution_count": null,
   "metadata": {},
   "outputs": [],
   "source": []
  },
  {
   "cell_type": "code",
   "execution_count": null,
   "metadata": {},
   "outputs": [],
   "source": []
  },
  {
   "cell_type": "code",
   "execution_count": null,
   "metadata": {},
   "outputs": [],
   "source": []
  },
  {
   "cell_type": "code",
   "execution_count": null,
   "metadata": {},
   "outputs": [],
   "source": []
  },
  {
   "cell_type": "code",
   "execution_count": null,
   "metadata": {},
   "outputs": [],
   "source": []
  }
 ],
 "metadata": {
  "kernelspec": {
   "display_name": "Python 3.8 (Anaconda 2020.11)",
   "language": "python",
   "name": "anaconda-2020.11-py38"
  },
  "language_info": {
   "codemirror_mode": {
    "name": "ipython",
    "version": 3
   },
   "file_extension": ".py",
   "mimetype": "text/x-python",
   "name": "python",
   "nbconvert_exporter": "python",
   "pygments_lexer": "ipython3",
   "version": "3.8.5"
  }
 },
 "nbformat": 4,
 "nbformat_minor": 4
}
