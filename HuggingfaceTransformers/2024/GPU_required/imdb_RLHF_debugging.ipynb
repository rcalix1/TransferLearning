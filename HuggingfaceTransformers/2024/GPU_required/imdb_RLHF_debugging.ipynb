{
 "cells": [
  {
   "cell_type": "code",
   "execution_count": 1,
   "metadata": {},
   "outputs": [],
   "source": [
    "\n",
    "## Python >= 3.8  \n"
   ]
  },
  {
   "cell_type": "code",
   "execution_count": 2,
   "metadata": {},
   "outputs": [],
   "source": [
    "\n",
    "## !pip install transformers\n",
    "## !pip install wandb\n",
    "## !pip install trl\n",
    "## !pip install pandas\n",
    "## !pip install datasets\n",
    "## !pip install accelerate\n",
    "## !pip install tyro\n",
    "## !pip install nltk -U\n"
   ]
  },
  {
   "cell_type": "code",
   "execution_count": 3,
   "metadata": {},
   "outputs": [],
   "source": [
    "\n",
    "import torch\n",
    "from tqdm import tqdm\n",
    "import pandas as pd\n",
    "import wandb\n",
    "import os\n",
    "\n",
    "tqdm.pandas()\n",
    "\n",
    "from transformers import pipeline, AutoTokenizer\n",
    "from datasets import load_dataset\n",
    "\n",
    "from trl import PPOTrainer, PPOConfig, AutoModelForCausalLMWithValueHead\n",
    "from trl.core import LengthSampler\n"
   ]
  },
  {
   "cell_type": "code",
   "execution_count": 4,
   "metadata": {},
   "outputs": [],
   "source": [
    "\n",
    "config = PPOConfig(\n",
    "    model_name    = \"lvwerra/gpt2-imdb\",\n",
    "    learning_rate = 1.41e-5,\n",
    "    ## log_with      = \"wandb\",\n",
    ")\n",
    "\n",
    "sent_kwargs = {\n",
    "         \"return_all_scores\": True, \n",
    "         \"function_to_apply\": \"none\", \n",
    "         \"batch_size\": 16\n",
    "}\n"
   ]
  },
  {
   "cell_type": "code",
   "execution_count": 5,
   "metadata": {},
   "outputs": [
    {
     "name": "stderr",
     "output_type": "stream",
     "text": [
      "Failed to detect the name of this notebook, you can set it manually with the WANDB_NOTEBOOK_NAME environment variable to enable code saving.\n"
     ]
    }
   ],
   "source": [
    "\n",
    "## wandb.init()\n",
    "\n",
    "wandb.init(mode=\"disabled\") \n",
    "os.environ['WANDB_DISABLED'] = 'true'\n"
   ]
  },
  {
   "cell_type": "markdown",
   "metadata": {},
   "source": [
    "\n",
    "## Load IMDB dataset\n",
    "\n",
    "The IMDB dataset contains 50k movie review annotated with \"positive\"/\"negative\" feedback indicating the sentiment. We load the IMDB dataset into a DataFrame and filter for comments that are at least 200 characters. Then we tokenize each text and cut it to random size with the LengthSampler.\n"
   ]
  },
  {
   "cell_type": "markdown",
   "metadata": {},
   "source": [
    "\n",
    "## Visualize details of dataset\n"
   ]
  },
  {
   "cell_type": "code",
   "execution_count": 6,
   "metadata": {},
   "outputs": [],
   "source": [
    "\n",
    "dataset_name=\"imdb\"\n"
   ]
  },
  {
   "cell_type": "code",
   "execution_count": 7,
   "metadata": {},
   "outputs": [],
   "source": [
    "\n",
    "ds = load_dataset(dataset_name, split=\"train\")\n"
   ]
  },
  {
   "cell_type": "code",
   "execution_count": 8,
   "metadata": {},
   "outputs": [
    {
     "data": {
      "text/plain": [
       "Dataset({\n",
       "    features: ['text', 'label'],\n",
       "    num_rows: 25000\n",
       "})"
      ]
     },
     "execution_count": 8,
     "metadata": {},
     "output_type": "execute_result"
    }
   ],
   "source": [
    "\n",
    "ds\n"
   ]
  },
  {
   "cell_type": "code",
   "execution_count": 9,
   "metadata": {},
   "outputs": [
    {
     "data": {
      "text/plain": [
       "{'text': [\"This film is just plain horrible. John Ritter doing pratt falls, 75% of the actors delivering their lines as if they were reading them from cue cards, poor editing, horrible sound mixing (dialogue is tough to pick up in places over the background noise), and a plot that really goes nowhere. I didn't think I'd ever say this, but Dorothy Stratten is not the worst actress in this film. There are at least 3 others that suck more. Patti Hansen delivers her lines with the passion of Ben Stein. I started to wonder if she wasn't dead inside. Even Bogdanovich's kids are awful (the oldest one is definitely reading her lines from a cue card). This movie is seriously horrible. There's a reason Bogdanovich couldn't get another project until 4 years later. Please don't watch it. If you see it in your television listings, cancel your cable. If a friend suggests it to you, reconsider your friendship. If your spouse wants to watch it, you're better off finding another soulmate. I'd rather gouge my eyes out with lawn darts than sit through this piece of garbage again. If I could sum this film up in one word, that word would be: Suckotrocity\",\n",
       "  \"My interest in Dorothy Stratten caused me to purchase this video. Although it had great actors/actresses, there were just too many subplots going on to retain interest. Plus it just wasn't that interesting. Dialogue was stiff and confusing and the story just flipped around too much to be believable. I was pretty disappointed in what I believe was one of Audrey Hepburn's last movies. I'll always love John Ritter best in slapstick. He was just too pathetic here.\",\n",
       "  \"I have this film out of the library right now and I haven't finished watching it. It is so bad I am in disbelief. Audrey Hepburn had totally lost her talent by then, although she'd pretty much finished with it in 'Robin and Marian.' This is the worst thing about this appallingly stupid film. It's really only of interest because it was her last feature film and because of the Dorothy Stratten appearance just prior to her homicide.<br /><br />There is nothing but idiocy between Gazzara and his cronies. Little signals and little bows and nods to real screwball comedy of which this is the faintest, palest shadow.<br /><br />Who could believe that there are even some of the same Manhattan environs that Hepburn inhabited so magically and even mythically in 'Breakfast at Tiffany's' twenty years earlier? The soundtrack of old Sinatra songs and the Gershwin song from which the title is taken is too loud and obvious--you sure don't have to wait for the credits to find out that something was subtly woven into the cine-musique of the picture to know when the songs blasted out at you.<br /><br />'Reverting to type' means going back up as well as going back down, I guess. In this case, Audrey Hepburn's chic European lady is all you see of someone who was formerly occasionally an actress and always a star. Here she has even lost her talent as a star. If someone whose talent was continuing to grow in the period, like Ann-Margret, had played the role, there would have been some life in it, even given the unbelievably bad material and Mongoloid-level situations.<br /><br />Hepburn was a great person, of course, greater than most movie stars ever dreamed of being, and she was once one of the most charming and beautiful of film actors. After this dreadful performance, she went on to make an atrocious TV movie with Robert Wagner called 'Love Among Thieves.' In 'They all Laughed' it is as though she were still playing an ingenue in her 50's. Even much vainer and obviously less intelligent actresses who insisted upon doing this like Lana Turner were infinitely more effective than is Hepburn. Turner took acting seriously even when she was bad. Hepburn doesn't take it seriously at all, couldn't be bothered with it; even her hair and clothes look tacky. Her last really good work was in 'Two for the Road,' perhaps her most perfect, if possibly not her best in many ways.<br /><br />And that girl who plays the country singer is just sickening. John Ritter is horrible, there is simply nothing to recommend this film except to see Dorothy Stratten, who was truly pretty. Otherwise, critic David Thomson's oft-used phrase 'losing his/her talent' never has made more sense.<br /><br />Ben Gazarra had lost all sex appeal by then, and so we have 2 films with Gazarra and Hepburn--who could ask for anything less? Sandra Dee's last, pitiful film 'Lost,' from 2 years later, a low-budget nothing, had more to it than this. At least Ms. Dee spoke in her own voice; by 1981, Audrey Hepburn's accent just sounded silly; she'd go on to do the PBS 'Gardens of the World with Audrey Hepburn' and there her somewhat irritating accent works as she walks through English gardens with aristocrats or waxes effusively about 'what I like most is when flowers go back to nature!' as in naturalized daffodils, but in an actual fictional movie, she just sounds ridiculous.<br /><br />To think that 'Breakfast at Tiffany's' was such a profound sort of light poetic thing with Audrey Hepburn one of the most beautiful women in the world--she was surely one of the most beautiful screen presences in 'My Fair Lady', matching Garbo in several things and Delphine Seyrig in 'Last Year at Marienbad.' And then this! And her final brief role as the angel 'Hap' in the Spielberg film 'Always' was just more of the lady stuff--corny, witless and stifling.<br /><br />I went to her memorial service at the Fifth Avenue Presbyterian Church, a beautiful service which included a boys' choir singing the Shaker hymn 'Simple Gifts.' The only thing not listed in the program was the sudden playing of Hepburn's singing 'Moon River' on the fire escape in 'Breakfast at Tiffany's,' and this brought much emotion and some real tears out in the congregation.<br /><br />A great lady who was once a fine actress (as in 'The Nun's Story') and one of the greatest and most beautiful of film stars in many movies of the 50's and 60's who became a truly bad one--that's not all that common. And perhaps it is only a great human being who, in making such things as film performances trivial, nevertheless has the largeness of mind to want to have the flaws pointed out mercilessly--which all of her late film work contained in abundance. Most of the talk about Hepburn's miscasting is about 'My Fair Lady.' But the one that should have had the original actress in it was 'Wait Until Dark,' which had starred Lee Remick on Broadway. Never as celebrated as Hepburn, she was a better actress in many ways (Hepburn was completely incapable of playing anything really sordid), although Hepburn was at least adequate enough in that part. After that, all of her acting went downhill.\"],\n",
       " 'label': [0, 0, 0]}"
      ]
     },
     "execution_count": 9,
     "metadata": {},
     "output_type": "execute_result"
    }
   ],
   "source": [
    "\n",
    "ds[15:18]\n"
   ]
  },
  {
   "cell_type": "code",
   "execution_count": 10,
   "metadata": {},
   "outputs": [],
   "source": [
    "\n",
    "from datasets import ClassLabel\n",
    "import random\n",
    "import pandas as pd\n",
    "from IPython.display import display, HTML\n"
   ]
  },
  {
   "cell_type": "code",
   "execution_count": 11,
   "metadata": {},
   "outputs": [],
   "source": [
    "\n",
    "def show_random_elements(dataset, num_examples=20):\n",
    "    assert num_examples <= len(dataset), \"Can't pick more elements than there are in the dataset.\"\n",
    "    \n",
    "    picks = []\n",
    "    \n",
    "    for _ in range( num_examples ):\n",
    "        \n",
    "        pick = random.randint(0, len(dataset)-1)\n",
    "        while pick in picks:\n",
    "            pick = random.randint(0, len(dataset)-1)\n",
    "        picks.append(pick)\n",
    "    \n",
    "    df = pd.DataFrame( dataset[picks] )        ## indexing 10 picks \n",
    "    \n",
    "    print(df)\n",
    "    print(dataset.features.items())\n",
    "    \n",
    "    for column, typ in dataset.features.items():\n",
    "        print(column)\n",
    "        print(typ)\n",
    "        print(ClassLabel)\n",
    "        ## The isinstance() function returns True if the specified object \n",
    "        ## is of the specified type, otherwise False\n",
    "        if isinstance(typ, ClassLabel):\n",
    "            print(\"Hello\")\n",
    "            df[column] = df[column].transform(lambda i: typ.names[i])\n",
    "            ## print(typ.names[i])\n",
    "            \n",
    "    display(HTML(df.to_html()))\n"
   ]
  },
  {
   "cell_type": "code",
   "execution_count": 12,
   "metadata": {},
   "outputs": [
    {
     "name": "stdout",
     "output_type": "stream",
     "text": [
      "                                                 text  label\n",
      "0   \"Rich in Love\" is a slice-of-life film which t...      1\n",
      "1   This has to be one of the most beautiful, movi...      1\n",
      "2   This, along with \"Hare Tonic,\" ranks as one of...      1\n",
      "3   This is a great story and was just the beginni...      0\n",
      "4   I viewed the movie together with a homophobic ...      1\n",
      "5   What happened to Peter Bogdanovich? Once a bri...      0\n",
      "6   This movie maybe really bad, but it is alot of...      1\n",
      "7   This movie was amusing at times, hell sometime...      0\n",
      "8   \"Radiofreccia\" is still a good surprise in Ita...      1\n",
      "9   Though not seen in too many films prior, you h...      1\n",
      "10  I remember my parents not understanding Saturd...      0\n",
      "11  And that's how the greatest comedy of TV start...      1\n",
      "12  I watched the un-aired episodes online and I w...      1\n",
      "13  Although I have not seen this mini-series in o...      1\n",
      "14  I don't know why, but when I am asked about ba...      0\n",
      "15  Let me start by saying at the young age of 34 ...      1\n",
      "16  Definitely a very good idea,screenplay was jus...      1\n",
      "17  There was not one single redeeming factor in t...      0\n",
      "18  I stumbled onto this movie when I was eBay'ing...      1\n",
      "19  This film is one that played very well back in...      1\n",
      "dict_items([('text', Value(dtype='string', id=None)), ('label', ClassLabel(names=['neg', 'pos'], id=None))])\n",
      "text\n",
      "Value(dtype='string', id=None)\n",
      "<class 'datasets.features.features.ClassLabel'>\n",
      "label\n",
      "ClassLabel(names=['neg', 'pos'], id=None)\n",
      "<class 'datasets.features.features.ClassLabel'>\n",
      "Hello\n"
     ]
    },
    {
     "data": {
      "text/html": [
       "<table border=\"1\" class=\"dataframe\">\n",
       "  <thead>\n",
       "    <tr style=\"text-align: right;\">\n",
       "      <th></th>\n",
       "      <th>text</th>\n",
       "      <th>label</th>\n",
       "    </tr>\n",
       "  </thead>\n",
       "  <tbody>\n",
       "    <tr>\n",
       "      <th>0</th>\n",
       "      <td>\"Rich in Love\" is a slice-of-life film which takes the viewer into the goings on of a somewhat quirky Charleston, SC family. Highly romanticized, beautifully shot, well written and acted, \"RIL\" washes over you like a summer breeze as its plotless meandering breathes life into the characters such that at film's end you'll feel like an old friend of the family.&lt;br /&gt;&lt;br /&gt;A wonderfully crafted character-driven film from the director of \"Driving Miss Daisy\", \"RIL\" is a somewhat obscure little \"sleeper\" which will appeal most to mature audiences.</td>\n",
       "      <td>pos</td>\n",
       "    </tr>\n",
       "    <tr>\n",
       "      <th>1</th>\n",
       "      <td>This has to be one of the most beautiful, moving, thought provoking films around. It's good family entertainment and at the same time makes you think very hard about the issues involved. Every time I see the \"ghost of Zac riding the bike through the puddle at the end I can't help but cry my eyes out. John Thaw's performance is so touching and it is a shame he is no longer with us. Gone but not forgotten. A outstanding film. Full marks.</td>\n",
       "      <td>pos</td>\n",
       "    </tr>\n",
       "    <tr>\n",
       "      <th>2</th>\n",
       "      <td>This, along with \"Hare Tonic,\" ranks as one of the best Bugs cartoons, indeed one of the best Bugs, ever. There are some comments about how Bugs in these cartoons is \"basic,\" meaning, I guess, that he is as yet not fully developed. I actually prefer this \"basic\" version from the mid-40s (Chuck Jones' was the best version) who is actually more rabbit-sized and far more amusing than the eventual long-legged version who towered over Yosemite Sam and Daffy Duck. The latter-day Bugs came to be too suave and sophisticated for my liking. Also check out \"Hair Raising Hare\" (1946) and \"Rabbit Punch\" (1948) for great examples of classic Bugs and classic Chuck Jones.</td>\n",
       "      <td>pos</td>\n",
       "    </tr>\n",
       "    <tr>\n",
       "      <th>3</th>\n",
       "      <td>This is a great story and was just the beginning of equality in the United States. (We are still working on it too.) However despite the fact this is true, it's still a movie and this is a movie site. I realize independent films have a hard time getting good actors, but wow. The only one even mediocre is the excellent Ossie Davis. But even he couldn't make up for all the actors (including the one playing him as a young man) absolutely atrocious acting. Granted the script was terribly cliché, but even then you have got to get some decent actors! I wouldn't recommend this to anybody because it is so poorly done in every category. Read some books about the true story of the U.S.S Mason, because they give these men the respect they deserve.</td>\n",
       "      <td>neg</td>\n",
       "    </tr>\n",
       "    <tr>\n",
       "      <th>4</th>\n",
       "      <td>I viewed the movie together with a homophobic friend, my wife and her female friend. So I had views from all kinds of directions. Mainly, the film made me laugh, the sexual tension was not really there and the only noticeable actors were Tudor Chirila and Maria Popistasu. Yes, I do think she played her role well, even if the script was not appropriate. There were good Romanian actors around, they just didn't have complex roles. I applaud Puya's entering the movie business. I don't know why, but I think he's a good guy, I just hope he'll be a good actor.&lt;br /&gt;&lt;br /&gt;The wife loved the movie, though, and I think there might have been chords being played and to which I had no ear for. If the film tried to present uncommon sexual behaviors and their consequences in todays Romania, then it failed miserably. There were no consequences. Just imagine that the girls are actually a boy and a girl, and the same story becomes just a boring, uninteresting plot.&lt;br /&gt;&lt;br /&gt;I have no idea why it got all those BAFTA awards. In my book, it should have gotten the \"Better luck next time\" award. (bafta=good luck in Romanian).</td>\n",
       "      <td>pos</td>\n",
       "    </tr>\n",
       "    <tr>\n",
       "      <th>5</th>\n",
       "      <td>What happened to Peter Bogdanovich? Once a brilliant director, a trail blazer... is now scraping the very bottom... Is this the same man who directed \"The Last Picture Show\"? Here, he takes a somewhat interesting (albeit farfetched) premise, and turns it into bubble gum that loses flavor the moment you take the first bite... Dunst is not bad, but Izzard is miscast as Chaplin, and all the other actors seem to have been cast for their \"looks\", and not because they were right for the part. Too bad. I'll go rent \"Paper Moon\" again.</td>\n",
       "      <td>neg</td>\n",
       "    </tr>\n",
       "    <tr>\n",
       "      <th>6</th>\n",
       "      <td>This movie maybe really bad, but it is alot of fun. The bad acting and poor direction enhance the film's hystericalness. The twins are very funny in their Conanesque roles. If you go into this film expecting the first Conan or Excalibur, than you will hate it. If you watch it while in a good mood and accept it as good, dumb fun you will have a good time. Watch for the scene where they try to hang the brothers, its funniest scene in the film. I wish Mystery Science Theatre 3000 would have done this!!</td>\n",
       "      <td>pos</td>\n",
       "    </tr>\n",
       "    <tr>\n",
       "      <th>7</th>\n",
       "      <td>This movie was amusing at times, hell sometimes it was even downright funny.&lt;br /&gt;&lt;br /&gt;The underlying message I got from the film though, was that women are responsible for all of the troubles of man. Every time a woman is depicted in the film, she is being lazy, being slutty or lambasting some poor guy for no apparent reason. I don't think the message involved is good for women or gay men.&lt;br /&gt;&lt;br /&gt;But, it is a comedy, and a piece of art, so it is simply someones point of view. Even if I don't agree with it, they are still entitled to it.&lt;br /&gt;&lt;br /&gt;An amusing film, but some of the comments others have made are just plain stupid. Best film ever my foot.</td>\n",
       "      <td>neg</td>\n",
       "    </tr>\n",
       "    <tr>\n",
       "      <th>8</th>\n",
       "      <td>\"Radiofreccia\" is still a good surprise in Italian cinema. The film is based on a book of Italian songwriter Luciano Ligabue, who also directs the movie and writes the music score -of course.&lt;br /&gt;&lt;br /&gt;The film is a portrait of north Italian province life, in the Emilia Romagna region. We're in 1975, the time of the first free radios -one of the boys of the movie creates \"Radioraptus\". Youth wishes, friendship, love, sex, individual dramas and unemployment are among the themes, but the film speaks also about drugs -Freccia, the main character, is a victim of heroin slavery.&lt;br /&gt;&lt;br /&gt;Without being boring and moralist, the story flows very well; the spontaneity of actors is strong and the way of directing as well. Obviously Luciano \"Liga\" Ligabue is neither Fellini nor a movie professional, first of all he's a musician. But he succeeds in making a good product. Unfortunately he'll not repeat the success with his second movie \"Da zero a dieci\" -not good at all.&lt;br /&gt;&lt;br /&gt;In \"Radiofreccia\" actors are generally not very famous, the only star is Stefano Accorsi -one of the most popular young Italian actors. See in a small role another Italian songwriter -Francesco Guccini, he's the nice communist barman and football trainer!</td>\n",
       "      <td>pos</td>\n",
       "    </tr>\n",
       "    <tr>\n",
       "      <th>9</th>\n",
       "      <td>Though not seen in too many films prior, you have certainly seen the basic plot themes in too many films since. &lt;br /&gt;&lt;br /&gt;Not one of Grant's nor Loy's best films, they make an outstanding effort together. After all, with that much talent and very good supporting cast, you know the laughs will be there.&lt;br /&gt;&lt;br /&gt;The film is light, has some dramatic spotting but keeps the plot moving and gets you to smile the whole way through.&lt;br /&gt;&lt;br /&gt;A great example of classic American film fare that has stood the test of time.&lt;br /&gt;&lt;br /&gt;Definite Saturday afternoon fare, heavy on the popcorn.</td>\n",
       "      <td>pos</td>\n",
       "    </tr>\n",
       "    <tr>\n",
       "      <th>10</th>\n",
       "      <td>I remember my parents not understanding Saturday Night Live when I was 15. They also did not understand Rock n Roll and many other things. Now that I am approaching their age, I still remember, and find I understand many of the things my kids love. But this is pathetic. I cannot say I have seen any by Sarah except for a few appearances here and there. They were reasonable. I do not see her as anything special. But this show is just so far below what I expected from her. The IMDb write up made it sound like potential. So, just for that, I started watching the first episode. I turned it off half way through. Anything else is better that that. Jokes that are meant for a 5 year old presented on a supposed adult program. Well, Sarah, this adult is inly moved to turn you off. I just cant believe that someone actually financed this insult to comedy. Only good thing I can say is that there are sooooo many bad jokes deposited here, saving other shows from such an embarrassment.</td>\n",
       "      <td>neg</td>\n",
       "    </tr>\n",
       "    <tr>\n",
       "      <th>11</th>\n",
       "      <td>And that's how the greatest comedy of TV started! It has been 12 years since the very first episode but it has continued with the same spirit till the very last season. Because that's where \"Friends\" is based: on quotes. Extraordinary situations are taking place among six friends who will never leave from our hearts: Let's say a big thanks to Rachel, Ross, Monica, Joey, Chandler and Phoebe!!! In our first meet, we see how Rachel dumps a guy (in the church, how ... (understand), Monica's search for the \"perfect guy\" (there is no perfect guy, why all you women are obsessed with that???), and how your marriage can be ruined when the partner of your life discovers that she's a lesbian. Till we meet Joey, Phoebe and Chandler in the next episodes... ENJOY FRIENDS!</td>\n",
       "      <td>pos</td>\n",
       "    </tr>\n",
       "    <tr>\n",
       "      <th>12</th>\n",
       "      <td>I watched the un-aired episodes online and I was so sad that the show won't be back. It had the best cast of mature, talented actors and an amazing chemistry. It seemed like all the actors are personal friends in real life. Towards the end the show became engaging, sexy and highly watchable. Of course, some of the story lines are not realistic, so what... The characters are all likable and you root for them. The show reminded me a cross between 2 other favorites: \"Sex and the City\" and \"Felicity\". Big kudos to all the cast. Note to ABC execs: Nielsen ratings reports do not show you true results. The show audience will mostly record it. I've been very disappointed with major networks for flooding us with reality-TV or teenage oriented shows. Why to get a mature, thoughtful, well-acted material we have to switch to HBO or FX? I can only thank the network for putting the rest of the episodes online. The new stream media will gain more and more popularity among viewers.</td>\n",
       "      <td>pos</td>\n",
       "    </tr>\n",
       "    <tr>\n",
       "      <th>13</th>\n",
       "      <td>Although I have not seen this mini-series in over twenty years I can still remember how the balance between character,plot and tale of marvelous adventures succeeded. The use of special effects was restrained making a more poetic rather than literal telling of the story. The two versions I've seen were dubbed (English and French)but the actors appear to speak their own language not just Italian so there is a synchronization problem. It does not spoil the story telling. Among the cast Irene Pappas as Penelope is the most recognizable to North Americans. Recommended to all followers of Odysseus' ever returning.</td>\n",
       "      <td>pos</td>\n",
       "    </tr>\n",
       "    <tr>\n",
       "      <th>14</th>\n",
       "      <td>I don't know why, but when I am asked about bad movies I have seen, I often think of \"The Air Up There\". I know that technically, lots of movies are horrible compared to it, and I have seen worse acting. it's just that it's so bland, so predictable. In a word: mediocre.</td>\n",
       "      <td>neg</td>\n",
       "    </tr>\n",
       "    <tr>\n",
       "      <th>15</th>\n",
       "      <td>Let me start by saying at the young age of 34 I was suddenly widowed. I was devastated as he was NOT sick--- he died unexpectedly basically of a coronary--- his carotids blew out-- he died behind our house. There was a lot of speculation from police, cause he fell on something and it bashed his head in. I was a suspect for murder until the autopsy came back. &lt;br /&gt;&lt;br /&gt;My children were as traumatized as I was, so in love with a good father figure as he. I had three small children, no education, no financial support. I took it very, very hard. &lt;br /&gt;&lt;br /&gt;Within two years my in-laws attacked me verbally, physically, emotionally and spiritually demanding I grieve not in front of the children, and put on masks and showed people what they wanted to see, not show them my pain during holidays... Nobody stood up for me and my choice to sit out one holiday, except of course, the grief therapist I was seeing that had advised me to follow my heart and soul. My in-laws didn't get it! It changed FOREVER my relationship with them, and I have never been back for a holiday. This is only one example of how my grief was disrespected! My own (new) husband has seen me fall apart talking about the trauma when I shared from my soul. I collapse, can not breathe, hyperventilate, and generally am defunct for a few days if I even try to convey the hidden pain. &lt;br /&gt;&lt;br /&gt;Now about this movie...&lt;br /&gt;&lt;br /&gt;Today, my soul was stirred, my heart broken. My fears and pain re-surfaced from the real demons this movie presents; how one grieves compared to how others expect us too and the demons within. Adam Sandler portrayed perfectly the horrendous agony you face, overcome and most of all, work through on your own time! This movie dredged up all the pain that I have tried over the years to deal with. You see, when something harms your soul so profoundly, so deep that utterances are all that come from your mouth in moments of thinking, you can not deal with it without wishing you were dead and walking through life, in a dead state. &lt;br /&gt;&lt;br /&gt;The bible has a scripture, Romans 8:26 that I have clung to, that when my mouth and soul know not what to pray for, that God's Holy Spirit carries that agony to the feet of God-- I need not speak. Sandler portrayed that to perfection! &lt;br /&gt;&lt;br /&gt;There is a scene where he has been hauled into a court hearing, for mental health commitment purposes, and he goes back in to face his in-laws--- (familiar to me)--- and he tells them the stunning truths that he has been possessed by, per Se, that he can't get over. It's a profoundly strong, and mighty performance. I started bawling and had a hard time after wards getting up to walk out from the theater feeling my legs too weak to do so. My son was with me and saw it first hand, my precise motions while trying to hold it all together; a lesson for him, my youngest who barely remembers his daddy. It's been 13 years for me but this movie brought me back to the moment of losing my in-laws forever when they demanded a mask on my emotions and my surrendering to their desires, instead of respect to my own. &lt;br /&gt;&lt;br /&gt;I write this, so that if you are a griever, you are prepared for this movie, but recommend it highly in the 1000 star performance Sandler gave. &lt;br /&gt;&lt;br /&gt;If you are not yet a griever, please take a lesson from his movie and just listen and accept people's choices in their grief, letting them find peace in their own time! Sometimes, the soul can not utter the words to convey our pain. &lt;br /&gt;&lt;br /&gt;Go see this movie with tissues and not without preparing to take it in... to your soul!</td>\n",
       "      <td>pos</td>\n",
       "    </tr>\n",
       "    <tr>\n",
       "      <th>16</th>\n",
       "      <td>Definitely a very good idea,screenplay was just OK.Could have been better,The positives are that it doesn't bore you if you're an adventure lover,A new idea about the lost world of Atlantis.Negatives are that I personally feel that this idea had so much more potential than this.They should've ended up with a better adventure than this.It wasn't bad at all but it would have been much better with some more runtime.Enjoyed it a lot though,Cant say that it was boring or wasn't good..A good one for the people who like adventure animations like Sindbad,like The road to el Dorado.This movie is also recommended for people looking for a nice little adventure with a very nice happy ending.</td>\n",
       "      <td>pos</td>\n",
       "    </tr>\n",
       "    <tr>\n",
       "      <th>17</th>\n",
       "      <td>There was not one single redeeming factor in this movie. The girlfriend and I both love action films. Especially fight scenes (Bloodsport and Kickboxer was awesome), but this movie was not entertaining. Five minutes of action followed twenty minutes of talking and \"angry\" facial expressions. The main hero is a troubled character who has seen battle and thus is forced to look seriously constipated at all times. The Army has disrupted his bowel movements on top of perfecting his fighting technique. The music isn't good either. They fight to the rap and hip-hop style of the streets, 'cause these guys are thugs. The rest of the soundtrack is the usual background noise to low-budget dramas.&lt;br /&gt;&lt;br /&gt;Everything about this movie is classic B-style. The actors deliver their lines as if reading them from cue cards and the lines themselves should be set on fire and left burning in some rotten Hollywood alleyway. The film is called \"Honor,\" but there was no honor in making this film. It was simply a waste of money, and spending wisely is something I consider to be honorable.&lt;br /&gt;&lt;br /&gt;Go see Felon instead. The fight scenes and situations are more real.</td>\n",
       "      <td>neg</td>\n",
       "    </tr>\n",
       "    <tr>\n",
       "      <th>18</th>\n",
       "      <td>I stumbled onto this movie when I was eBay'ing Caesars Palace stuff, as I'm enamoured with its rich Vegas history as the last of the original luxury resorts still standing in good condition (unless you count Bally's, the original MGM Grand). In that respect, this movie delivers full-force. You're given a grand tour of the Caesars property,which in spite of all the renovations and additions they've done over the 40 years it's been open, looks alarmingly similar. As a film overall, the plot is somewhat difficult to follow, thanks in large part to the horrendous editing. And when I say horrendous, I'm not using that word lightly. There's a lot of spliced-in, second-long snippets of Vegas traffic, casino crowds, and even a scene where the Robert Drivas character is having a conversation with his father about how much he's grown up, and without any explanation, he (Drivas) goes (in those infamous snippets) from being himself, to a baby, to a little boy, and then back to himself while talking back and forth with his father. (That doesn't give away any plot details; if anything, one can be prepared for it and maybe they won't be as flabbergasted as I was by the editing.) The film has aged well otherwise, and has a good message about the inherent differences between a father and his son that most guys could relate to in some form or fashion.</td>\n",
       "      <td>pos</td>\n",
       "    </tr>\n",
       "    <tr>\n",
       "      <th>19</th>\n",
       "      <td>This film is one that played very well back in 1932 and probably wouldn't work as well today because its style it a bit old fashioned and contrived. However, if you are the sort person, like me, who adores older Hollywood films, you cut the film a bit of slack and can enjoy it for what it is--an interesting soap.&lt;br /&gt;&lt;br /&gt;The film is set in a ward for problem pregnancies. In this large room are about a half dozen beds in which women are waiting to give birth--but doctors are concerned about possible complications (yikes--such a room would really traumatize the mothers!). And, like an episode of \"Love Boat\" or \"Fantasy Island\", each mother has her own special story. With so many rather extreme and crazy stories, you have to suspend disbelief. I could and enjoyed the film quite a bit.&lt;br /&gt;&lt;br /&gt;Here are a few of the stories: One involves a father. You don't see the mom, but he is a very, very nervous father and it's included for comic relief. However, he was wonderful here--very touching.&lt;br /&gt;&lt;br /&gt;Loretta Young and Eric Linden are a sad case. Loretta is sent to the hospital from prison--she apparently killed some horrible guy. You don't know exactly what occurred, but you assume he was trying to force himself on her! Yet, she was given a 20 year sentence--and her husband is devoted to her and is by her side as much as he can.&lt;br /&gt;&lt;br /&gt;Glenda Farrell is an awful person. She has the maternal instincts of a hamster--a really, really bad and alcoholic hamster! She is pretty funny and worth seeing through most of the film. I loved her drinking from a hot water bottle filled with gin as well as becoming upset when she learns she can't make money selling her twins!! Late in the film, she has a typical Hollywood-style change of heart that was supposed to be touching--I found it contrived.&lt;br /&gt;&lt;br /&gt;There is a woman who has given birth to a still-born baby. Amazingly, afterwords, they put the lady back in the same ward as the women waiting to give birth!!! A crazy woman, who you assumed lost a baby some time ago,wanders down from the psychiatric unit. She insists she's having a baby. Later, she escapes again and actually takes one of the kids!&lt;br /&gt;&lt;br /&gt;There are most stories than this but the ones I mentioned are the main ones. As I said, it's a soap opera of sorts and is highly entertaining--and quite sad in the case of several of the stories. The ending, in particular, is heart-breaking and exceptionally well done. There were a few particularly good performances--especially Farrell and Aline MacMahon as the head nurse. All in all, a very good film--and I have no idea why they felt they had to remake the film just a few years later (which was typical for Warner Brothers).</td>\n",
       "      <td>pos</td>\n",
       "    </tr>\n",
       "  </tbody>\n",
       "</table>"
      ],
      "text/plain": [
       "<IPython.core.display.HTML object>"
      ]
     },
     "metadata": {},
     "output_type": "display_data"
    }
   ],
   "source": [
    "\n",
    "show_random_elements(ds)\n"
   ]
  },
  {
   "cell_type": "code",
   "execution_count": 13,
   "metadata": {},
   "outputs": [],
   "source": [
    "\n",
    "ds = ds.rename_columns({\"text\": \"review\"})\n",
    "ds = ds.filter(lambda x: len(x[\"review\"]) > 200, batched=False)\n"
   ]
  },
  {
   "cell_type": "code",
   "execution_count": 14,
   "metadata": {},
   "outputs": [
    {
     "data": {
      "text/plain": [
       "Dataset({\n",
       "    features: ['review', 'label'],\n",
       "    num_rows: 24895\n",
       "})"
      ]
     },
     "execution_count": 14,
     "metadata": {},
     "output_type": "execute_result"
    }
   ],
   "source": [
    "\n",
    "ds\n"
   ]
  },
  {
   "cell_type": "code",
   "execution_count": 15,
   "metadata": {},
   "outputs": [],
   "source": [
    "\n",
    "tokenizer           = AutoTokenizer.from_pretrained(config.model_name)\n",
    "tokenizer.pad_token = tokenizer.eos_token\n"
   ]
  },
  {
   "cell_type": "code",
   "execution_count": 16,
   "metadata": {},
   "outputs": [
    {
     "data": {
      "text/plain": [
       "Dataset({\n",
       "    features: ['review', 'label', 'input_ids', 'query'],\n",
       "    num_rows: 24895\n",
       "})"
      ]
     },
     "execution_count": 16,
     "metadata": {},
     "output_type": "execute_result"
    }
   ],
   "source": [
    "\n",
    "def tokenize( sample ):\n",
    "    sample[\"input_ids\"] = tokenizer.encode( sample[\"review\"]    )[: 20]\n",
    "    sample[\"query\"]     = tokenizer.decode( sample[\"input_ids\"] )\n",
    "    return sample\n",
    "\n",
    "\n",
    "ds = ds.map(tokenize, batched=False)\n",
    "ds\n"
   ]
  },
  {
   "cell_type": "code",
   "execution_count": 17,
   "metadata": {},
   "outputs": [
    {
     "data": {
      "text/plain": [
       "{'review': [\"This film is just plain horrible. John Ritter doing pratt falls, 75% of the actors delivering their lines as if they were reading them from cue cards, poor editing, horrible sound mixing (dialogue is tough to pick up in places over the background noise), and a plot that really goes nowhere. I didn't think I'd ever say this, but Dorothy Stratten is not the worst actress in this film. There are at least 3 others that suck more. Patti Hansen delivers her lines with the passion of Ben Stein. I started to wonder if she wasn't dead inside. Even Bogdanovich's kids are awful (the oldest one is definitely reading her lines from a cue card). This movie is seriously horrible. There's a reason Bogdanovich couldn't get another project until 4 years later. Please don't watch it. If you see it in your television listings, cancel your cable. If a friend suggests it to you, reconsider your friendship. If your spouse wants to watch it, you're better off finding another soulmate. I'd rather gouge my eyes out with lawn darts than sit through this piece of garbage again. If I could sum this film up in one word, that word would be: Suckotrocity\",\n",
       "  \"My interest in Dorothy Stratten caused me to purchase this video. Although it had great actors/actresses, there were just too many subplots going on to retain interest. Plus it just wasn't that interesting. Dialogue was stiff and confusing and the story just flipped around too much to be believable. I was pretty disappointed in what I believe was one of Audrey Hepburn's last movies. I'll always love John Ritter best in slapstick. He was just too pathetic here.\",\n",
       "  \"I have this film out of the library right now and I haven't finished watching it. It is so bad I am in disbelief. Audrey Hepburn had totally lost her talent by then, although she'd pretty much finished with it in 'Robin and Marian.' This is the worst thing about this appallingly stupid film. It's really only of interest because it was her last feature film and because of the Dorothy Stratten appearance just prior to her homicide.<br /><br />There is nothing but idiocy between Gazzara and his cronies. Little signals and little bows and nods to real screwball comedy of which this is the faintest, palest shadow.<br /><br />Who could believe that there are even some of the same Manhattan environs that Hepburn inhabited so magically and even mythically in 'Breakfast at Tiffany's' twenty years earlier? The soundtrack of old Sinatra songs and the Gershwin song from which the title is taken is too loud and obvious--you sure don't have to wait for the credits to find out that something was subtly woven into the cine-musique of the picture to know when the songs blasted out at you.<br /><br />'Reverting to type' means going back up as well as going back down, I guess. In this case, Audrey Hepburn's chic European lady is all you see of someone who was formerly occasionally an actress and always a star. Here she has even lost her talent as a star. If someone whose talent was continuing to grow in the period, like Ann-Margret, had played the role, there would have been some life in it, even given the unbelievably bad material and Mongoloid-level situations.<br /><br />Hepburn was a great person, of course, greater than most movie stars ever dreamed of being, and she was once one of the most charming and beautiful of film actors. After this dreadful performance, she went on to make an atrocious TV movie with Robert Wagner called 'Love Among Thieves.' In 'They all Laughed' it is as though she were still playing an ingenue in her 50's. Even much vainer and obviously less intelligent actresses who insisted upon doing this like Lana Turner were infinitely more effective than is Hepburn. Turner took acting seriously even when she was bad. Hepburn doesn't take it seriously at all, couldn't be bothered with it; even her hair and clothes look tacky. Her last really good work was in 'Two for the Road,' perhaps her most perfect, if possibly not her best in many ways.<br /><br />And that girl who plays the country singer is just sickening. John Ritter is horrible, there is simply nothing to recommend this film except to see Dorothy Stratten, who was truly pretty. Otherwise, critic David Thomson's oft-used phrase 'losing his/her talent' never has made more sense.<br /><br />Ben Gazarra had lost all sex appeal by then, and so we have 2 films with Gazarra and Hepburn--who could ask for anything less? Sandra Dee's last, pitiful film 'Lost,' from 2 years later, a low-budget nothing, had more to it than this. At least Ms. Dee spoke in her own voice; by 1981, Audrey Hepburn's accent just sounded silly; she'd go on to do the PBS 'Gardens of the World with Audrey Hepburn' and there her somewhat irritating accent works as she walks through English gardens with aristocrats or waxes effusively about 'what I like most is when flowers go back to nature!' as in naturalized daffodils, but in an actual fictional movie, she just sounds ridiculous.<br /><br />To think that 'Breakfast at Tiffany's' was such a profound sort of light poetic thing with Audrey Hepburn one of the most beautiful women in the world--she was surely one of the most beautiful screen presences in 'My Fair Lady', matching Garbo in several things and Delphine Seyrig in 'Last Year at Marienbad.' And then this! And her final brief role as the angel 'Hap' in the Spielberg film 'Always' was just more of the lady stuff--corny, witless and stifling.<br /><br />I went to her memorial service at the Fifth Avenue Presbyterian Church, a beautiful service which included a boys' choir singing the Shaker hymn 'Simple Gifts.' The only thing not listed in the program was the sudden playing of Hepburn's singing 'Moon River' on the fire escape in 'Breakfast at Tiffany's,' and this brought much emotion and some real tears out in the congregation.<br /><br />A great lady who was once a fine actress (as in 'The Nun's Story') and one of the greatest and most beautiful of film stars in many movies of the 50's and 60's who became a truly bad one--that's not all that common. And perhaps it is only a great human being who, in making such things as film performances trivial, nevertheless has the largeness of mind to want to have the flaws pointed out mercilessly--which all of her late film work contained in abundance. Most of the talk about Hepburn's miscasting is about 'My Fair Lady.' But the one that should have had the original actress in it was 'Wait Until Dark,' which had starred Lee Remick on Broadway. Never as celebrated as Hepburn, she was a better actress in many ways (Hepburn was completely incapable of playing anything really sordid), although Hepburn was at least adequate enough in that part. After that, all of her acting went downhill.\"],\n",
       " 'label': [0, 0, 0],\n",
       " 'input_ids': [[1212,\n",
       "   2646,\n",
       "   318,\n",
       "   655,\n",
       "   8631,\n",
       "   12361,\n",
       "   13,\n",
       "   1757,\n",
       "   371,\n",
       "   1967,\n",
       "   1804,\n",
       "   778,\n",
       "   1078,\n",
       "   8953,\n",
       "   11,\n",
       "   5441,\n",
       "   4,\n",
       "   286,\n",
       "   262,\n",
       "   10544],\n",
       "  [3666,\n",
       "   1393,\n",
       "   287,\n",
       "   40349,\n",
       "   4285,\n",
       "   41769,\n",
       "   4073,\n",
       "   502,\n",
       "   284,\n",
       "   5001,\n",
       "   428,\n",
       "   2008,\n",
       "   13,\n",
       "   4900,\n",
       "   340,\n",
       "   550,\n",
       "   1049,\n",
       "   10544,\n",
       "   14,\n",
       "   529],\n",
       "  [40,\n",
       "   423,\n",
       "   428,\n",
       "   2646,\n",
       "   503,\n",
       "   286,\n",
       "   262,\n",
       "   5888,\n",
       "   826,\n",
       "   783,\n",
       "   290,\n",
       "   314,\n",
       "   4398,\n",
       "   470,\n",
       "   5201,\n",
       "   4964,\n",
       "   340,\n",
       "   13,\n",
       "   632,\n",
       "   318]],\n",
       " 'query': ['This film is just plain horrible. John Ritter doing pratt falls, 75% of the actors',\n",
       "  'My interest in Dorothy Stratten caused me to purchase this video. Although it had great actors/act',\n",
       "  \"I have this film out of the library right now and I haven't finished watching it. It is\"]}"
      ]
     },
     "execution_count": 17,
     "metadata": {},
     "output_type": "execute_result"
    }
   ],
   "source": [
    "\n",
    "ds[15:18]\n"
   ]
  },
  {
   "cell_type": "markdown",
   "metadata": {},
   "source": [
    "\n",
    "## My own data\n"
   ]
  },
  {
   "cell_type": "code",
   "execution_count": 18,
   "metadata": {},
   "outputs": [],
   "source": [
    "\n",
    "my_own_datasets = load_dataset(\"text\", data_files={ \"train\": \"/home/rcalix/Desktop/rc_train.txt\", \"validation\": \"/home/rcalix/Desktop/rc_validation.txt\"} )\n"
   ]
  },
  {
   "cell_type": "code",
   "execution_count": 19,
   "metadata": {},
   "outputs": [
    {
     "data": {
      "text/plain": [
       "DatasetDict({\n",
       "    train: Dataset({\n",
       "        features: ['text'],\n",
       "        num_rows: 4\n",
       "    })\n",
       "    validation: Dataset({\n",
       "        features: ['text'],\n",
       "        num_rows: 4\n",
       "    })\n",
       "})"
      ]
     },
     "execution_count": 19,
     "metadata": {},
     "output_type": "execute_result"
    }
   ],
   "source": [
    "\n",
    "my_own_datasets\n"
   ]
  },
  {
   "cell_type": "markdown",
   "metadata": {},
   "source": [
    "\n",
    "\n",
    "    \n",
    "## Now this for actual RLHF  \n",
    "\n"
   ]
  },
  {
   "cell_type": "code",
   "execution_count": 20,
   "metadata": {},
   "outputs": [],
   "source": [
    "\n",
    "def build_dataset(\n",
    "         config, \n",
    "         dataset_name=\"imdb\", \n",
    "         input_min_text_length=2, \n",
    "         input_max_text_length=8\n",
    "):\n",
    "    \"\"\"\n",
    "    Build dataset for training. This builds the dataset from `load_dataset`, one should\n",
    "    customize this function to train the model on its own dataset.\n",
    "\n",
    "    Args:\n",
    "        dataset_name (`str`):\n",
    "            The name of the dataset to be loaded.\n",
    "\n",
    "    Returns:\n",
    "        dataloader (`torch.utils.data.DataLoader`):\n",
    "            The dataloader for the dataset.\n",
    "    \"\"\"\n",
    "    tokenizer           = AutoTokenizer.from_pretrained(config.model_name)\n",
    "    tokenizer.pad_token = tokenizer.eos_token\n",
    "    \n",
    "    # load imdb with datasets\n",
    "    \n",
    "    ds = load_dataset(dataset_name, split=\"train\")\n",
    "    \n",
    "    ds = ds.rename_columns({\"text\": \"review\"})\n",
    "    ds = ds.filter(lambda x: len(x[\"review\"]) > 200, batched=False)\n",
    "\n",
    "    input_size = LengthSampler(input_min_text_length, input_max_text_length)\n",
    "\n",
    "    def tokenize(sample):\n",
    "        sample[\"input_ids\"] = tokenizer.encode( sample[\"review\"]    )[: input_size()]\n",
    "        sample[\"query\"]     = tokenizer.decode( sample[\"input_ids\"] )\n",
    "        return sample\n",
    "\n",
    "    ds = ds.map(tokenize, batched=False)\n",
    "    ds.set_format(type=\"torch\")\n",
    "    return ds\n"
   ]
  },
  {
   "cell_type": "code",
   "execution_count": 21,
   "metadata": {},
   "outputs": [],
   "source": [
    "\n",
    "dataset = build_dataset(config)\n"
   ]
  },
  {
   "cell_type": "code",
   "execution_count": 22,
   "metadata": {},
   "outputs": [],
   "source": [
    "\n",
    "def collator(data):\n",
    "    return dict((key, [d[key] for d in data]) for key in data[0])\n",
    "    "
   ]
  },
  {
   "cell_type": "markdown",
   "metadata": {},
   "source": [
    "\n",
    "## Load pre-trained GPT2 language models\n",
    "We load the GPT2 model with a value head and the tokenizer. We load the model twice; the first model is optimized while the second model serves as a reference to calculate the KL-divergence from the starting point. This serves as an additional reward signal in the PPO training to make sure the optimized model does not deviate too much from the original language model.\n"
   ]
  },
  {
   "cell_type": "code",
   "execution_count": 23,
   "metadata": {},
   "outputs": [],
   "source": [
    "\n",
    "model     = AutoModelForCausalLMWithValueHead.from_pretrained(config.model_name)\n",
    "ref_model = AutoModelForCausalLMWithValueHead.from_pretrained(config.model_name)\n",
    "\n",
    "tokenizer = AutoTokenizer.from_pretrained(config.model_name)\n",
    "\n",
    "tokenizer.pad_token = tokenizer.eos_token\n"
   ]
  },
  {
   "cell_type": "code",
   "execution_count": 24,
   "metadata": {},
   "outputs": [
    {
     "name": "stderr",
     "output_type": "stream",
     "text": [
      "Detected kernel version 3.10.0, which is below the recommended minimum of 5.5.0; this can cause the process to hang. It is recommended to upgrade the kernel to the minimum version or higher.\n"
     ]
    }
   ],
   "source": [
    "\n",
    "ppo_trainer = PPOTrainer(\n",
    "                 config, \n",
    "                 model, \n",
    "                 ref_model, \n",
    "                 tokenizer, \n",
    "                 dataset=dataset, \n",
    "                 data_collator=collator\n",
    ")\n"
   ]
  },
  {
   "cell_type": "markdown",
   "metadata": {},
   "source": [
    "\n",
    "## Load BERT classifier (Reward Function)\n",
    "\n",
    "We load a BERT classifier fine-tuned on the IMDB dataset.\n"
   ]
  },
  {
   "cell_type": "code",
   "execution_count": 25,
   "metadata": {},
   "outputs": [
    {
     "data": {
      "text/plain": [
       "device(type='cuda')"
      ]
     },
     "execution_count": 25,
     "metadata": {},
     "output_type": "execute_result"
    }
   ],
   "source": [
    "\n",
    "device = ppo_trainer.accelerator.device\n",
    "device\n"
   ]
  },
  {
   "cell_type": "code",
   "execution_count": 26,
   "metadata": {},
   "outputs": [
    {
     "data": {
      "text/plain": [
       "0"
      ]
     },
     "execution_count": 26,
     "metadata": {},
     "output_type": "execute_result"
    }
   ],
   "source": [
    "\n",
    "if ppo_trainer.accelerator.num_processes == 1:\n",
    "    device = 0 if torch.cuda.is_available() else \"cpu\"  # to avoid a `pipeline` bug\n",
    "\n",
    "device"
   ]
  },
  {
   "cell_type": "code",
   "execution_count": 27,
   "metadata": {},
   "outputs": [],
   "source": [
    "\n",
    "sentiment_pipe = pipeline(\"sentiment-analysis\", model=\"lvwerra/distilbert-imdb\", device=device)\n"
   ]
  },
  {
   "cell_type": "markdown",
   "metadata": {},
   "source": [
    "\n",
    "The model outputs are the logits for the negative and positive class. We will use the logits for positive class as a reward signal for the language model.\n"
   ]
  },
  {
   "cell_type": "code",
   "execution_count": 28,
   "metadata": {},
   "outputs": [
    {
     "name": "stderr",
     "output_type": "stream",
     "text": [
      "/home/rcalix/.local/lib/python3.8/site-packages/transformers/pipelines/text_classification.py:105: UserWarning: `return_all_scores` is now deprecated,  if want a similar functionality use `top_k=None` instead of `return_all_scores=True` or `top_k=1` instead of `return_all_scores=False`.\n",
      "  warnings.warn(\n"
     ]
    },
    {
     "data": {
      "text/plain": [
       "[[{'label': 'NEGATIVE', 'score': 2.3350484371185303},\n",
       "  {'label': 'POSITIVE', 'score': -2.726576328277588}]]"
      ]
     },
     "execution_count": 28,
     "metadata": {},
     "output_type": "execute_result"
    }
   ],
   "source": [
    "\n",
    "text = \"this movie was really bad!!\"\n",
    "\n",
    "sentiment_pipe(text, **sent_kwargs)\n"
   ]
  },
  {
   "cell_type": "code",
   "execution_count": 29,
   "metadata": {},
   "outputs": [
    {
     "data": {
      "text/plain": [
       "[[{'label': 'NEGATIVE', 'score': -2.294790267944336},\n",
       "  {'label': 'POSITIVE', 'score': 2.557040214538574}]]"
      ]
     },
     "execution_count": 29,
     "metadata": {},
     "output_type": "execute_result"
    }
   ],
   "source": [
    "\n",
    "text = \"this movie was really good!!\"\n",
    "sentiment_pipe(text, **sent_kwargs)\n"
   ]
  },
  {
   "cell_type": "markdown",
   "metadata": {},
   "source": [
    "\n",
    "\n",
    "## Generation settings\n",
    "\n",
    "For the response generation we just use sampling and make sure top-k and nucleus sampling are turned off as well as a minimal length.\n"
   ]
  },
  {
   "cell_type": "code",
   "execution_count": 30,
   "metadata": {},
   "outputs": [],
   "source": [
    "\n",
    "gen_kwargs = {\n",
    "         \"min_length\":   -1, \n",
    "         \"top_k\":       0.0, \n",
    "         \"top_p\":       1.0, \n",
    "         \"do_sample\":  True, \n",
    "         \"pad_token_id\": tokenizer.eos_token_id\n",
    "}\n"
   ]
  },
  {
   "cell_type": "markdown",
   "metadata": {},
   "source": [
    "\n",
    "## Optimize model\n",
    "\n",
    "### Training loop\n",
    "\n",
    "The training loop consists of the following main steps:\n",
    "\n",
    "* Get the query and responses from the policy network (GPT-2)\n",
    "* Get sentiments for query/responses from BERT\n",
    "* Optimize policy with PPO using the (query, response, reward) triplet\n"
   ]
  },
  {
   "cell_type": "code",
   "execution_count": 31,
   "metadata": {},
   "outputs": [],
   "source": [
    "\n",
    "output_min_length     = 4\n",
    "output_max_length     = 16\n",
    "output_length_sampler = LengthSampler(output_min_length, output_max_length)\n"
   ]
  },
  {
   "cell_type": "code",
   "execution_count": 32,
   "metadata": {},
   "outputs": [],
   "source": [
    "\n",
    "generation_kwargs = {\n",
    "    \"min_length\":     -1,\n",
    "    \"top_k\":         0.0,\n",
    "    \"top_p\":         1.0,\n",
    "    \"do_sample\":    True,\n",
    "    \"pad_token_id\": tokenizer.eos_token_id,\n",
    "}\n"
   ]
  },
  {
   "cell_type": "code",
   "execution_count": 33,
   "metadata": {},
   "outputs": [
    {
     "data": {
      "text/plain": [
       "20000"
      ]
     },
     "execution_count": 33,
     "metadata": {},
     "output_type": "execute_result"
    }
   ],
   "source": [
    "\n",
    "## ppo_trainer.config.steps = 100    ## 20,000\n",
    "ppo_trainer.config.steps\n"
   ]
  },
  {
   "cell_type": "code",
   "execution_count": 34,
   "metadata": {},
   "outputs": [
    {
     "name": "stderr",
     "output_type": "stream",
     "text": [
      "1it [00:00, 20.45it/s]"
     ]
    },
    {
     "name": "stdout",
     "output_type": "stream",
     "text": [
      "[tensor([19197,   645,  3241,   284,   262,  3651,  2157], device='cuda:0'), tensor([1212, 3807], device='cuda:0'), tensor([  34, 1501,  418, 2899], device='cuda:0'), tensor([  40, 1183,  307, 5508], device='cuda:0'), tensor([  40, 3505, 4379, 1552], device='cuda:0'), tensor([ 1212,   318,   262,   749, 14851], device='cuda:0'), tensor([6090,  691,  307], device='cuda:0'), tensor([41389,   417, 45622,   290,  1115], device='cuda:0'), tensor([  40, 2993,  340], device='cuda:0'), tensor([  40, 8288, 9827], device='cuda:0'), tensor([   39, 50107,   318,   407,   691,   262], device='cuda:0'), tensor([   40,  4398,   470,  1865,  1100, 20642], device='cuda:0'), tensor([26886, 39452,   258,   283,   357], device='cuda:0'), tensor([  40,  550,  284, 1577,  428], device='cuda:0'), tensor([ 3673,   530,   286,  3873, 13951,   338,  1266], device='cuda:0'), tensor([8241,  404,   72], device='cuda:0'), tensor([ 40, 760, 340, 338], device='cuda:0'), tensor([  818,  5751,  2750,  2185,    11, 23092,   290], device='cuda:0'), tensor([ 818, 2160,   11,  625], device='cuda:0'), tensor([  40, 1101], device='cuda:0'), tensor([1639,  655, 1392], device='cuda:0'), tensor([4053, 1312, 2492,  470, 1654,  644,  262], device='cuda:0'), tensor([1212, 3660, 2646,  645,  343,  351,  663], device='cuda:0'), tensor([  40,  460,  470, 1037], device='cuda:0'), tensor([2949,  837,   40], device='cuda:0'), tensor([  40,  423, 7342], device='cuda:0'), tensor([1212, 3807,  318], device='cuda:0'), tensor([2215,  314], device='cuda:0'), tensor([4863,  262, 3726,  286,  262,  905], device='cuda:0'), tensor([23615,  8771,   329, 14023,  6918,  1909,  1283], device='cuda:0'), tensor([12295,  1719,  1775,   428], device='cuda:0'), tensor([12502,    13, 22329,    13, 31922,  1072], device='cuda:0'), tensor([ 1212,  3807, 12073,   257,  1271], device='cuda:0'), tensor([  464,  7683, 22025,   519], device='cuda:0'), tensor([2061,  926,  373,  351,  262, 2128,   30], device='cuda:0'), tensor([8205,  893,  290], device='cuda:0'), tensor([ 40, 836, 470], device='cuda:0'), tensor([1722,  257, 1263, 4336,  286], device='cuda:0'), tensor([5962,  286,  477], device='cuda:0'), tensor([1212,  373], device='cuda:0'), tensor([11633, 45518], device='cuda:0'), tensor([45037,   734,   812,   878,   314], device='cuda:0'), tensor([   40, 24241,   319,   428,  2168], device='cuda:0'), tensor([  40,  423,  284,  923, 2282,  340], device='cuda:0'), tensor([11380,    11,   314, 36114,   428,   572], device='cuda:0'), tensor([    1,  2964,    87, 18853,     1,  4952], device='cuda:0'), tensor([39532,   550], device='cuda:0'), tensor([39687,  9866,    11], device='cuda:0'), tensor([1212, 3807,  691, 1392,  257], device='cuda:0'), tensor([ 1212,   318,   257, 16840,    11], device='cuda:0'), tensor([1639, 3505,  262], device='cuda:0'), tensor([ 3886,   617,  3772, 21083], device='cuda:0'), tensor([1026,  318, 1690,  691,  706], device='cuda:0'), tensor([ 464, 1388, 3840], device='cuda:0'), tensor([  464,  1266,  2580,  3055,  1222, 46892], device='cuda:0'), tensor([3666, 3956,  318,  287, 1842,  351,  428], device='cuda:0'), tensor([23921,  1201,  4379,   428], device='cuda:0'), tensor([10418,   286, 21071,   468,   867], device='cuda:0'), tensor([   40,  1101,   257,  2138, 22382,  1048], device='cuda:0'), tensor([  40, 4398,  470], device='cuda:0'), tensor([  40,  423,  587, 3555,  262, 8088,  329], device='cuda:0'), tensor([ 818,  968, 1971,   11], device='cuda:0'), tensor([1532,  262, 6638, 2947, 4452, 1683], device='cuda:0'), tensor([    1, 25354,   319,   262], device='cuda:0'), tensor([1212,  318,  530,  845], device='cuda:0'), tensor([12510, 22025,   519,   274,   532,  8192], device='cuda:0'), tensor([ 1212,  2646,   318, 29956], device='cuda:0'), tensor([3666, 3656,  290,  314,  655, 5201], device='cuda:0'), tensor([39182,   422, 22695,  7979,  2763, 10831,    11], device='cuda:0'), tensor([5124,  319, 3764,  373, 3024,   13,  314], device='cuda:0'), tensor([27404,   656,   428], device='cuda:0'), tensor([1212,  318, 4753], device='cuda:0'), tensor([1858,  318,  257, 1738, 1521, 9180], device='cuda:0'), tensor([5195, 1422,  470], device='cuda:0'), tensor([30571, 36960,    11,  3805,   663, 18606], device='cuda:0'), tensor([   35, 10196, 33609, 32762,  5788], device='cuda:0'), tensor([22245, 14886,   318], device='cuda:0'), tensor([   40,  3505,   618,  3336, 44428,  1677,  5870], device='cuda:0'), tensor([5962,  572,   11, 2687], device='cuda:0'), tensor([23792,  4379,   428,  2646,  1752], device='cuda:0'), tensor([  40,  550,  717, 7342,  428, 1811], device='cuda:0'), tensor([  40,  527,  544,  318, 3621], device='cuda:0'), tensor([1212,  318,  530,  286,  262], device='cuda:0'), tensor([   32,  4988,    11,  4988, 19958,  5398], device='cuda:0'), tensor([7975, 8394,  318, 2495,  922, 3807,    0], device='cuda:0'), tensor([1212,  373,  257, 2495, 7709, 3807], device='cuda:0'), tensor([2215, 4634,  503], device='cuda:0'), tensor([  40, 1807,  428, 3807,  750,  257], device='cuda:0'), tensor([1212,  373, 8082,   11, 3616], device='cuda:0'), tensor([15354,   345,   765,   284,  4341,  3016], device='cuda:0'), tensor([ 3198,   286,   262,  5228, 28750], device='cuda:0'), tensor([  40, 1422,  470,  892], device='cuda:0'), tensor([1212, 3807], device='cuda:0'), tensor([ 39, 624], device='cuda:0'), tensor([5812,  582,   11], device='cuda:0'), tensor([31080,  6155,  1088], device='cuda:0'), tensor([   40,   373,  1341, 27428], device='cuda:0'), tensor([   46,  1860,  1017, 31218,  3807,   422], device='cuda:0'), tensor([5779,  986, 1169, 3807], device='cuda:0'), tensor([1212, 3807], device='cuda:0'), tensor([464, 691], device='cuda:0'), tensor([34784,   262,   717, 21813,  2646,   314], device='cuda:0'), tensor([1135,  477, 2993], device='cuda:0'), tensor([14698,  1775, 44079], device='cuda:0'), tensor([ 1722,   281, 32450], device='cuda:0'), tensor([5756,  502, 1560,  345], device='cuda:0'), tensor([36635,   329,  4172,   351], device='cuda:0'), tensor([ 4653, 23826,   466], device='cuda:0'), tensor([14698,   407,  1100,   262], device='cuda:0'), tensor([28292,  1001,   363,   282], device='cuda:0'), tensor([ 464, 2646], device='cuda:0'), tensor([   6, 2061,  314, 4525, 7994], device='cuda:0'), tensor([  40, 1816,  656,  428, 3807,  706], device='cuda:0'), tensor([3673,  262, 1266,  286], device='cuda:0'), tensor([1212, 2646], device='cuda:0'), tensor([1212,  714,  423,  587], device='cuda:0'), tensor([ 464, 5664,  262], device='cuda:0'), tensor([   40, 26399,   428,  2646,   284,   766,   644], device='cuda:0'), tensor([7003, 1165], device='cuda:0'), tensor([5756,  502], device='cuda:0'), tensor([  38,  392, 5303,   11], device='cuda:0'), tensor([45713, 32002,   357, 15724,     8,  1279], device='cuda:0'), tensor([ 505,  286,  262, 1266], device='cuda:0'), tensor([6398,  278,  373, 4939], device='cuda:0'), tensor([19457,    11,   262,  2106], device='cuda:0'), tensor([  40,  717, 2497,  428, 3807], device='cuda:0'), tensor([1212,  318, 5543,  530,  286,  262, 1266], device='cuda:0'), tensor([  40, 1842,  428, 3807], device='cuda:0')]\n",
      "128\n",
      "[tensor([1212,  318,  257, 2646,  326,  373,  845], device='cuda:0'), tensor([1212,  318,  407,  262, 2008,  299,  459], device='cuda:0'), tensor([1212, 3807], device='cuda:0'), tensor([1026,  468,  691], device='cuda:0'), tensor([  464,  6550,  7079,   318,  1365,  2402, 14580], device='cuda:0'), tensor([  464, 15774, 10211,   290, 42858,  3930], device='cuda:0'), tensor([17121,  1559,   338, 18702,   318], device='cuda:0'), tensor([  40,  373, 7428,  284,  360, 1565], device='cuda:0'), tensor([1268, 4303, 9782, 1581,  402, 2885], device='cuda:0'), tensor([19457,    11], device='cuda:0'), tensor([  40, 8359,  428, 3807,  257, 1256], device='cuda:0'), tensor([ 3629,  4070, 17766,   829,     0,   632], device='cuda:0'), tensor([  40, 9159,  314,  550], device='cuda:0'), tensor([  32, 5278, 4476,  430], device='cuda:0'), tensor([ 2061,   373, 22198,  9033,   487,   557, 15516], device='cuda:0'), tensor([1722, 2582,  355,  314, 2540,  284], device='cuda:0'), tensor([1212, 2646,  318, 8941], device='cuda:0'), tensor([28974,  2635,   318,   287,   616], device='cuda:0'), tensor([15496,    11], device='cuda:0'), tensor([ 464,  691, 1738,  314, 2993], device='cuda:0'), tensor([ 1212,  1244,   307,   262, 27335,  1672,   286], device='cuda:0'), tensor([20459,  8631,   284,   766,  1521,   262, 14429], device='cuda:0'), tensor([ 1212,   318,   281, 17774,   366, 23569,     1], device='cuda:0'), tensor([31305,   257,  8667,  1790], device='cuda:0'), tensor([1212,  905,  481, 6758], device='cuda:0'), tensor([4366, 5293,  523], device='cuda:0'), tensor([1722,  314, 3151,  262,  366, 1891], device='cuda:0'), tensor([ 818,  257, 1474, 2003,   11], device='cuda:0'), tensor([1026, 2331,  588, 9599,  460], device='cuda:0'), tensor([  464,  2646,   286, 36137,   544,   743,   307], device='cuda:0'), tensor([10970, 39947,  1268], device='cuda:0'), tensor([14291,   257], device='cuda:0'), tensor([5962, 1243,  717,   11,  314], device='cuda:0'), tensor([ 464, 3807,  743,  307, 1049,   13], device='cuda:0'), tensor([ 16,  14, 940, 290, 326, 338], device='cuda:0'), tensor([ 6581, 33472,   373,   281, 11660,  2168,    11], device='cuda:0'), tensor([ 818,  281, 2720], device='cuda:0'), tensor([ 40, 460, 470], device='cuda:0'), tensor([10915,  5278], device='cuda:0'), tensor([   40,  1043,   428,   319,   262, 18316], device='cuda:0'), tensor([  72,  716,  257, 1263, 4336,  286], device='cuda:0'), tensor([19457,    11,   339,  2627,  8902, 30690], device='cuda:0'), tensor([  40, 1101, 7926,  284], device='cuda:0'), tensor([   35,  1809, 14488,  3549,   373], device='cuda:0'), tensor([2215,  734], device='cuda:0'), tensor([1212, 3807, 8072, 7365,  661], device='cuda:0'), tensor([   1,   32, 4988], device='cuda:0'), tensor([ 2025, 19827,   306, 10758,  2646,   356], device='cuda:0'), tensor([1212,  318, 1865, 1194, 2089, 3807], device='cuda:0'), tensor([7282,  287,  262, 4317], device='cuda:0'), tensor([  40, 1816], device='cuda:0'), tensor([  40, 7685,  691], device='cuda:0'), tensor([  40,  423,  284,  910,  314, 2407, 8359], device='cuda:0'), tensor([  40, 2497], device='cuda:0'), tensor([    1, 28541], device='cuda:0'), tensor([38248, 40559,  6656,  5245,  1326,  8404], device='cuda:0'), tensor([ 464, 3002,  319], device='cuda:0'), tensor([3844,   11,  314, 1101], device='cuda:0'), tensor([44898,   923,    11,  4735,  3504,    11], device='cuda:0'), tensor([10915,   314,  1549], device='cuda:0'), tensor([17133,  4221,   318,   257,  1276,   766], device='cuda:0'), tensor([31895,  2174,    11,   475,  1100,   319,   393], device='cuda:0'), tensor([4834, 8907,  278,   11], device='cuda:0'), tensor([   40, 24241,  4291,   428,  3807,   618], device='cuda:0'), tensor([  40, 4724], device='cuda:0'), tensor([ 818, 2031,   11,  340,  338, 1900], device='cuda:0'), tensor([23615,   366,    79,  2913,    12,  1525,    12], device='cuda:0'), tensor([3673, 2279,  318,  531,  287], device='cuda:0'), tensor([1722,  257, 2968], device='cuda:0'), tensor([  40,  717, 4978], device='cuda:0'), tensor([45037,   655,   878], device='cuda:0'), tensor([ 40, 423, 655], device='cuda:0'), tensor([ 3260,  6078,   262, 33953,   329,   607,  2854], device='cuda:0'), tensor([  72, 7342], device='cuda:0'), tensor([ 40, 373, 379], device='cuda:0'), tensor([2061,  561, 3022,  618], device='cuda:0'), tensor([30638,   374], device='cuda:0'), tensor([2025, 2811, 3195, 3807], device='cuda:0'), tensor([  40, 1053,  655, 7342, 8299], device='cuda:0'), tensor([1212,  318], device='cuda:0'), tensor([  464, 20576,   710], device='cuda:0'), tensor([ 40, 655], device='cuda:0'), tensor([  40, 1101], device='cuda:0'), tensor([1212, 3999, 3807,  925], device='cuda:0'), tensor([  32, 1049, 3663,  329], device='cuda:0'), tensor([ 3666,  2460,   290,   314, 26399,   428], device='cuda:0'), tensor([  40, 3521], device='cuda:0'), tensor([ 818,  262,  614, 4793,   11], device='cuda:0'), tensor([1961,   35], device='cuda:0'), tensor([21077,   428,   530], device='cuda:0'), tensor([1890,  883,  508,  892,  286], device='cuda:0'), tensor([5779,   11,  810,  284], device='cuda:0'), tensor([ 40, 373, 546, 767, 618], device='cuda:0'), tensor([ 464, 4925], device='cuda:0'), tensor([ 1212,   318,   257,  4988, 11004,  3704,   286], device='cuda:0'), tensor([ 464, 3807], device='cuda:0'), tensor([   32, 16162, 11246,  1310,  1787,  2127,  5329], device='cuda:0'), tensor([  36, 3705, 4146, 1340,   11,  257,   13], device='cuda:0'), tensor([  40, 1101,  523, 9675,  314], device='cuda:0'), tensor([14214, 20859], device='cuda:0'), tensor([ 464, 1738,  262], device='cuda:0'), tensor([38025,  4176,   318,   281,  3489], device='cuda:0'), tensor([1532,  612,  373,  617, 7650,  287], device='cuda:0'), tensor([1350, 3243,  262, 1109, 7165,  661], device='cuda:0'), tensor([7149, 2618,  508,  468, 1683], device='cuda:0'), tensor([16371,    11], device='cuda:0'), tensor([  40, 6151,  428], device='cuda:0'), tensor([ 1212,  3807, 14516,   502], device='cuda:0'), tensor([ 1212,  8235,  3807,   373,   262,   717, 16711], device='cuda:0'), tensor([2025, 6275, 2854,  416,  978], device='cuda:0'), tensor([13898,    11], device='cuda:0'), tensor([23921,  2982,   286,   257], device='cuda:0'), tensor([5779,   11,  644], device='cuda:0'), tensor([11380,   532], device='cuda:0'), tensor([   40,   550, 30508,   262,  3807], device='cuda:0'), tensor([   53, 27933, 31280,    13, 23274], device='cuda:0'), tensor([ 464,  691, 2456], device='cuda:0'), tensor([1212, 2646], device='cuda:0'), tensor([ 464, 2646,  318, 1912,  319,  257], device='cuda:0'), tensor([14698,  5615,   287, 10553,   616], device='cuda:0'), tensor([7594,  465, 2961, 2646,   11], device='cuda:0'), tensor([1858,  338,  691,  530, 1517], device='cuda:0'), tensor([7248,  287, 2520, 5478], device='cuda:0'), tensor([5962,  572], device='cuda:0'), tensor([   40,   898, 20993, 17466], device='cuda:0'), tensor([  464, 28619,   262, 10512,    11,   262], device='cuda:0'), tensor([1212, 2646,   11, 2904], device='cuda:0'), tensor([1174,   47, 4733, 1338, 9437,  364], device='cuda:0')]\n",
      "128\n"
     ]
    },
    {
     "name": "stderr",
     "output_type": "stream",
     "text": [
      "\n"
     ]
    }
   ],
   "source": [
    "\n",
    "for epoch, batch in tqdm(enumerate(ppo_trainer.dataloader)):\n",
    "    query_tensors = batch[\"input_ids\"]\n",
    "    \n",
    "    print(query_tensors)\n",
    "    print(len(query_tensors))\n",
    "    if epoch == 1:\n",
    "        break\n"
   ]
  },
  {
   "cell_type": "code",
   "execution_count": 35,
   "metadata": {},
   "outputs": [
    {
     "name": "stderr",
     "output_type": "stream",
     "text": [
      "\r",
      "0it [00:00, ?it/s]"
     ]
    },
    {
     "name": "stdout",
     "output_type": "stream",
     "text": [
      "0\n",
      "{'label': [tensor(0, device='cuda:0'), tensor(1, device='cuda:0'), tensor(1, device='cuda:0'), tensor(0, device='cuda:0'), tensor(0, device='cuda:0'), tensor(0, device='cuda:0'), tensor(1, device='cuda:0'), tensor(0, device='cuda:0'), tensor(1, device='cuda:0'), tensor(1, device='cuda:0'), tensor(1, device='cuda:0'), tensor(0, device='cuda:0'), tensor(0, device='cuda:0'), tensor(0, device='cuda:0'), tensor(0, device='cuda:0'), tensor(0, device='cuda:0'), tensor(0, device='cuda:0'), tensor(1, device='cuda:0'), tensor(1, device='cuda:0'), tensor(0, device='cuda:0'), tensor(1, device='cuda:0'), tensor(1, device='cuda:0'), tensor(0, device='cuda:0'), tensor(1, device='cuda:0'), tensor(0, device='cuda:0'), tensor(0, device='cuda:0'), tensor(0, device='cuda:0'), tensor(0, device='cuda:0'), tensor(0, device='cuda:0'), tensor(0, device='cuda:0'), tensor(0, device='cuda:0'), tensor(1, device='cuda:0'), tensor(0, device='cuda:0'), tensor(0, device='cuda:0'), tensor(1, device='cuda:0'), tensor(1, device='cuda:0'), tensor(0, device='cuda:0'), tensor(1, device='cuda:0'), tensor(0, device='cuda:0'), tensor(0, device='cuda:0'), tensor(1, device='cuda:0'), tensor(1, device='cuda:0'), tensor(0, device='cuda:0'), tensor(1, device='cuda:0'), tensor(1, device='cuda:0'), tensor(0, device='cuda:0'), tensor(0, device='cuda:0'), tensor(0, device='cuda:0'), tensor(1, device='cuda:0'), tensor(0, device='cuda:0'), tensor(0, device='cuda:0'), tensor(0, device='cuda:0'), tensor(1, device='cuda:0'), tensor(0, device='cuda:0'), tensor(1, device='cuda:0'), tensor(0, device='cuda:0'), tensor(0, device='cuda:0'), tensor(1, device='cuda:0'), tensor(0, device='cuda:0'), tensor(1, device='cuda:0'), tensor(1, device='cuda:0'), tensor(0, device='cuda:0'), tensor(0, device='cuda:0'), tensor(0, device='cuda:0'), tensor(1, device='cuda:0'), tensor(1, device='cuda:0'), tensor(1, device='cuda:0'), tensor(0, device='cuda:0'), tensor(0, device='cuda:0'), tensor(0, device='cuda:0'), tensor(0, device='cuda:0'), tensor(0, device='cuda:0'), tensor(1, device='cuda:0'), tensor(1, device='cuda:0'), tensor(0, device='cuda:0'), tensor(1, device='cuda:0'), tensor(0, device='cuda:0'), tensor(0, device='cuda:0'), tensor(0, device='cuda:0'), tensor(1, device='cuda:0'), tensor(1, device='cuda:0'), tensor(1, device='cuda:0'), tensor(1, device='cuda:0'), tensor(0, device='cuda:0'), tensor(0, device='cuda:0'), tensor(0, device='cuda:0'), tensor(0, device='cuda:0'), tensor(0, device='cuda:0'), tensor(0, device='cuda:0'), tensor(1, device='cuda:0'), tensor(1, device='cuda:0'), tensor(0, device='cuda:0'), tensor(0, device='cuda:0'), tensor(0, device='cuda:0'), tensor(1, device='cuda:0'), tensor(0, device='cuda:0'), tensor(1, device='cuda:0'), tensor(1, device='cuda:0'), tensor(0, device='cuda:0'), tensor(1, device='cuda:0'), tensor(0, device='cuda:0'), tensor(1, device='cuda:0'), tensor(1, device='cuda:0'), tensor(0, device='cuda:0'), tensor(1, device='cuda:0'), tensor(1, device='cuda:0'), tensor(1, device='cuda:0'), tensor(1, device='cuda:0'), tensor(1, device='cuda:0'), tensor(1, device='cuda:0'), tensor(1, device='cuda:0'), tensor(1, device='cuda:0'), tensor(0, device='cuda:0'), tensor(0, device='cuda:0'), tensor(1, device='cuda:0'), tensor(0, device='cuda:0'), tensor(1, device='cuda:0'), tensor(0, device='cuda:0'), tensor(0, device='cuda:0'), tensor(1, device='cuda:0'), tensor(1, device='cuda:0'), tensor(0, device='cuda:0'), tensor(0, device='cuda:0'), tensor(1, device='cuda:0'), tensor(1, device='cuda:0'), tensor(0, device='cuda:0'), tensor(1, device='cuda:0'), tensor(0, device='cuda:0')], 'input_ids': [tensor([ 1858,   389, 22051,   287,   428,  2646], device='cuda:0'), tensor([8585,  734, 3470, 1866,  286,  257], device='cuda:0'), tensor([ 818,  262, 3095], device='cuda:0'), tensor([  40, 2236,  407, 7030,  616], device='cuda:0'), tensor([1212,  905,  318,  257, 2818], device='cuda:0'), tensor([   40, 18548,  6901,   703,  7818,   428], device='cuda:0'), tensor([40630,  2084,    11,   314,  1043,   257,   366], device='cuda:0'), tensor([  40,  716,  407, 1654,  508,  318], device='cuda:0'), tensor([2514, 2089], device='cuda:0'), tensor([1212, 3807], device='cuda:0'), tensor([22253,  1717,   494], device='cuda:0'), tensor([   40,  1842,   262, 33016,   286], device='cuda:0'), tensor([ 1212, 40870,  3918], device='cuda:0'), tensor([  40,  691, 7342,  428], device='cuda:0'), tensor([5308, 7574,   25], device='cuda:0'), tensor([  40,  423,  257, 4203,  326, 1583], device='cuda:0'), tensor([29688,   836,   470,  5602,   393], device='cuda:0'), tensor([  40, 1392,  257,  922, 6487], device='cuda:0'), tensor([2215,  616, 1478,   12, 1941], device='cuda:0'), tensor([ 818, 6273], device='cuda:0'), tensor([  40, 1842,  428,  905,  355,  340], device='cuda:0'), tensor([1212,  318,  281, 6275,   11, 3049], device='cuda:0'), tensor([   32,  2646,   588, 23181, 16156,   290], device='cuda:0'), tensor([  32,  845, 1913, 3807], device='cuda:0'), tensor([ 505,  286,  262, 5290, 7328], device='cuda:0'), tensor([5962,  286], device='cuda:0'), tensor([26554,   428,  3807,   550,   502, 35820,    13], device='cuda:0'), tensor([   40,  2497,   428,   287,   262, 13766,   618], device='cuda:0'), tensor([ 6090,  9599,   466,   922, 36378,  7328, 13769], device='cuda:0'), tensor([6104, 4785], device='cuda:0'), tensor([  40,  635, 2497,  428], device='cuda:0'), tensor([   40, 17666,   760,  1521,   661,   892], device='cuda:0'), tensor([1026,  338], device='cuda:0'), tensor([ 464, 3807,  318,  281, 3131,   12, 6511], device='cuda:0'), tensor([3260,  345,  766], device='cuda:0'), tensor([   1,   39, 1324,  268,  301,  590,    1], device='cuda:0'), tensor([1026,  338, 2408,  284,  760,  810,  428], device='cuda:0'), tensor([6610, 9623, 2646,  422,  257, 1499,   11], device='cuda:0'), tensor([32476,    11,   257], device='cuda:0'), tensor([ 1212,  1244,   307, 24479,    11,   475], device='cuda:0'), tensor([   35,   388,  1044, 13692], device='cuda:0'), tensor([  40, 2497,  428], device='cuda:0'), tensor([1212, 3807, 1595], device='cuda:0'), tensor([  40, 2993,  314,  373, 1016,  284], device='cuda:0'), tensor([1026,  468,  691], device='cuda:0'), tensor([1212,  318,  257], device='cuda:0'), tensor([    1,  9171, 37670,  5958,     1], device='cuda:0'), tensor([8117,  373,  617, 3872,  284,  428], device='cuda:0'), tensor([  56, 1666], device='cuda:0'), tensor([5703,  780, 2130,  318,  739,  262], device='cuda:0'), tensor([2725,  415, 8597], device='cuda:0'), tensor([   40,  1043,   428,  3807, 14262,    11,   937], device='cuda:0'), tensor([ 1212,   318,   257,  1790,    11, 14897], device='cuda:0'), tensor([ 1, 32], device='cuda:0'), tensor([  27, 1671], device='cuda:0'), tensor([22017,   340,   338, 25304,  1201,   428,  3807], device='cuda:0'), tensor([    1, 17821,     1,  1621,   286], device='cuda:0'), tensor([15322,   412,  1279], device='cuda:0'), tensor([29318,  5613], device='cuda:0'), tensor([  32, 2407,  922], device='cuda:0'), tensor([  40,  892,  262, 3741,  286,  262], device='cuda:0'), tensor([  40, 4236,  351, 2279,  661,  531,  319], device='cuda:0'), tensor([    1, 30847, 33989,     1,  7599, 30940,  5033], device='cuda:0'), tensor([ 1212,  4112, 13913,   318,  1912], device='cuda:0'), tensor([  464,  3126, 18265,    82], device='cuda:0'), tensor([1212, 2646,  373], device='cuda:0'), tensor([   1,  464, 4599, 3668,    1,  318], device='cuda:0'), tensor([ 5211,   407,   307, 16011,    11], device='cuda:0'), tensor([ 40, 423, 284], device='cuda:0'), tensor([ 1212,  3807,   373,   262,  4405, 11318,   285], device='cuda:0'), tensor([  986, 25587,   484,   821,  1111,  2495], device='cuda:0'), tensor([1212,  318], device='cuda:0'), tensor([  40, 1464, 2883,  428, 3807,  618], device='cuda:0'), tensor([10995,    11,   262, 37942,   286,   257,  2829], device='cuda:0'), tensor([5779,   11, 1312], device='cuda:0'), tensor([17121, 12958], device='cuda:0'), tensor([1212, 3807,  318,  257, 2472], device='cuda:0'), tensor([5962,  286,  477,   11,  428, 3807, 2125], device='cuda:0'), tensor([  40,  373, 7428,  284], device='cuda:0'), tensor([1532,  345,  588, 7110], device='cuda:0'), tensor([  986, 26698, 11225], device='cuda:0'), tensor([13615,  1675,   383,   513], device='cuda:0'), tensor([ 8248, 12338], device='cuda:0'), tensor([ 464, 5544], device='cuda:0'), tensor([   40,   423,  1464,  8288, 26309,  5741,   338], device='cuda:0'), tensor([  40, 1053], device='cuda:0'), tensor([1026,  338,  407,  588,  314], device='cuda:0'), tensor([1212, 3807,  857,  407, 1107, 7719], device='cuda:0'), tensor([  818, 15275,   286, 46499,   670,   416,   262], device='cuda:0'), tensor([10943,  5603, 20913,  6226, 49713], device='cuda:0'), tensor([3118, 5589], device='cuda:0'), tensor([5756,  502, 1560,  345], device='cuda:0'), tensor([  40,  655,  750,  407, 2883,  428, 2646], device='cuda:0'), tensor([1212, 3807], device='cuda:0'), tensor([2061, 1838], device='cuda:0'), tensor([6104,  611,  428, 2646,  373, 7910,  257], device='cuda:0'), tensor([3987,  470, 6004], device='cuda:0'), tensor([1212,  318], device='cuda:0'), tensor([  464, 43786,   318,   546,   986,   880,    11], device='cuda:0'), tensor([  40,  550,  645, 2126,  644,  428], device='cuda:0'), tensor([1026,  338,  257, 2089,   11,  845, 2089], device='cuda:0'), tensor([  40, 2497,  428], device='cuda:0'), tensor([   47,  9798, 14266], device='cuda:0'), tensor([ 2601, 13416,   284,  3950], device='cuda:0'), tensor([  818,  4068,  1466,   389, 12244,   422, 11969], device='cuda:0'), tensor([  464, 39078,   396,   373], device='cuda:0'), tensor([    1, 25255, 20836,     1,   318,   257,   649], device='cuda:0'), tensor([6610,  287,  262], device='cuda:0'), tensor([1212, 3807,  318, 2192,  329], device='cuda:0'), tensor([  40, 1043,  705, 7575, 1629,  383, 5849], device='cuda:0'), tensor([39750,   318], device='cuda:0'), tensor([45648,   644,   284], device='cuda:0'), tensor([4366, 6918], device='cuda:0'), tensor([3666, 1793], device='cuda:0'), tensor([5779,   11,  314, 1183], device='cuda:0'), tensor([1212, 2331,  588,  734], device='cuda:0'), tensor([ 270,  338,  257,  845, 3621], device='cuda:0'), tensor([4366,  661,  423,  925], device='cuda:0'), tensor([22017,    11,   257,  3807,   546, 19170], device='cuda:0'), tensor([3152,  262, 2650,  286, 5613, 6612], device='cuda:0'), tensor([1212, 3807], device='cuda:0'), tensor([2043,  373,  645, 2565,  290,  340,  373], device='cuda:0'), tensor([14573, 21657,   318], device='cuda:0'), tensor([1858,  338,  645,  835,  284, 7239,  705], device='cuda:0'), tensor([1532,  287,  262, 4101,  338,  345], device='cuda:0'), tensor([2215,  314,  467], device='cuda:0'), tensor([5962,  286,  477,  314,  761,  284], device='cuda:0'), tensor([2437,  466,  314, 2221], device='cuda:0')], 'query': ['There are laughs in this film', 'About two hundred members of a', 'In the mid', 'I shall not waste my', 'This show is a perfect', 'I cant describe how terrible this', 'Years ago, I found a \"', 'I am not sure who is', 'To bad', 'This movie', 'Little Edie', 'I love the depiction of', 'This Lifetime style', 'I only watched this', 'Meaning:', 'I have a feeling that Dr', \"please don't rent or\", 'I got a good laugh', 'When my 14-year', 'In contrast', 'I love this show as it', 'This is an excellent, fast', 'A film like Amazing Grace and', 'A very strong movie', 'one of the worst films', 'First of', 'Boy this movie had me fooled.', 'I saw this in the theater when', 'Can anybody do good CGI films besides', 'Even worse', 'I also saw this', 'I dont know why people think', \"It's\", 'The movie is an extra-long', 'After you see', '\"Happenstance\"', \"It's difficult to know where this\", 'Another fantastic film from a country,', 'Henry, a', 'This might be unbelievable, but', 'Dumland focuses', 'I saw this', 'This movie doesn', 'I knew I was going to', 'It has only', 'This is a', '\"Metamorphosis\"', 'there was some truth to this', 'Yows', 'Just because someone is under the', 'Phantasm', 'I found this movie boring, mon', 'This is a short, crude', '\"A', '<br', \"Wow it's ironic since this movie\", '\"True\" story of', 'Rated E <', 'Meet Peter', 'A quite good', 'I think the majority of the', 'I agree with everything people said on', '\"Fred Claus\" somehow avoids becoming', 'This absolute trash is based', 'The 60´s', 'This film was', '\"The Good Earth\" is', 'Do not be mistaken,', 'I have to', 'This movie was the beatliest m', \"...cause they're both pretty\", 'This is', 'I always enjoy this movie when', 'Yeah, the archetype of a simple', 'Well, i', 'William Wy', 'This movie is a total', 'First of all, this movie isn', 'I was drawn to', 'If you like plot', '... Hawk Heaven', 'Return To The 3', 'Star Trek', 'The fourth', \"I have always liked Spike Lee's\", \"I've\", \"It's not like I\", 'This movie does not really promote', 'In spite of sterling work by the', 'CONTAINS SPOIL', 'Uncomp', 'Let me tell you', 'I just did not enjoy this film', 'This movie', 'What makes', 'Even if this film was allegedly a', \"Don't listen\", 'This is', 'The Minion is about... well,', 'I had no idea what this', \"It's a bad, very bad\", 'I saw this', 'Pierce Bros', 'Closer to reality', 'In Iran women are prohibited from attending', 'The Dentist was', '\"Atlantis\" is a new', 'Another in the', 'This movie is probably for', \"I found 'Time At The Top\", 'Film is', 'Knowing what to', 'Some movies', 'My God', \"Well, I'll\", 'This seems like two', \"it's a very nice\", 'Some people have made', 'Wow, a movie about NYC', 'With the release of Peter Jackson', 'This movie', 'IT was no sense and it was', 'Blue monkey is', \"There's no way to confront '\", \"If in the 90's you\", 'When I go', 'First of all I need to', 'How do I begin']}\n",
      "*********************\n",
      "*********************\n",
      "*********************\n",
      "*********************\n"
     ]
    },
    {
     "name": "stderr",
     "output_type": "stream",
     "text": [
      "\r",
      "1it [00:07,  7.73s/it]"
     ]
    },
    {
     "name": "stdout",
     "output_type": "stream",
     "text": [
      "{'label': [tensor(0, device='cuda:0'), tensor(1, device='cuda:0'), tensor(1, device='cuda:0'), tensor(0, device='cuda:0'), tensor(0, device='cuda:0'), tensor(0, device='cuda:0'), tensor(1, device='cuda:0'), tensor(0, device='cuda:0'), tensor(1, device='cuda:0'), tensor(1, device='cuda:0'), tensor(1, device='cuda:0'), tensor(0, device='cuda:0'), tensor(0, device='cuda:0'), tensor(0, device='cuda:0'), tensor(0, device='cuda:0'), tensor(0, device='cuda:0'), tensor(0, device='cuda:0'), tensor(1, device='cuda:0'), tensor(1, device='cuda:0'), tensor(0, device='cuda:0'), tensor(1, device='cuda:0'), tensor(1, device='cuda:0'), tensor(0, device='cuda:0'), tensor(1, device='cuda:0'), tensor(0, device='cuda:0'), tensor(0, device='cuda:0'), tensor(0, device='cuda:0'), tensor(0, device='cuda:0'), tensor(0, device='cuda:0'), tensor(0, device='cuda:0'), tensor(0, device='cuda:0'), tensor(1, device='cuda:0'), tensor(0, device='cuda:0'), tensor(0, device='cuda:0'), tensor(1, device='cuda:0'), tensor(1, device='cuda:0'), tensor(0, device='cuda:0'), tensor(1, device='cuda:0'), tensor(0, device='cuda:0'), tensor(0, device='cuda:0'), tensor(1, device='cuda:0'), tensor(1, device='cuda:0'), tensor(0, device='cuda:0'), tensor(1, device='cuda:0'), tensor(1, device='cuda:0'), tensor(0, device='cuda:0'), tensor(0, device='cuda:0'), tensor(0, device='cuda:0'), tensor(1, device='cuda:0'), tensor(0, device='cuda:0'), tensor(0, device='cuda:0'), tensor(0, device='cuda:0'), tensor(1, device='cuda:0'), tensor(0, device='cuda:0'), tensor(1, device='cuda:0'), tensor(0, device='cuda:0'), tensor(0, device='cuda:0'), tensor(1, device='cuda:0'), tensor(0, device='cuda:0'), tensor(1, device='cuda:0'), tensor(1, device='cuda:0'), tensor(0, device='cuda:0'), tensor(0, device='cuda:0'), tensor(0, device='cuda:0'), tensor(1, device='cuda:0'), tensor(1, device='cuda:0'), tensor(1, device='cuda:0'), tensor(0, device='cuda:0'), tensor(0, device='cuda:0'), tensor(0, device='cuda:0'), tensor(0, device='cuda:0'), tensor(0, device='cuda:0'), tensor(1, device='cuda:0'), tensor(1, device='cuda:0'), tensor(0, device='cuda:0'), tensor(1, device='cuda:0'), tensor(0, device='cuda:0'), tensor(0, device='cuda:0'), tensor(0, device='cuda:0'), tensor(1, device='cuda:0'), tensor(1, device='cuda:0'), tensor(1, device='cuda:0'), tensor(1, device='cuda:0'), tensor(0, device='cuda:0'), tensor(0, device='cuda:0'), tensor(0, device='cuda:0'), tensor(0, device='cuda:0'), tensor(0, device='cuda:0'), tensor(0, device='cuda:0'), tensor(1, device='cuda:0'), tensor(1, device='cuda:0'), tensor(0, device='cuda:0'), tensor(0, device='cuda:0'), tensor(0, device='cuda:0'), tensor(1, device='cuda:0'), tensor(0, device='cuda:0'), tensor(1, device='cuda:0'), tensor(1, device='cuda:0'), tensor(0, device='cuda:0'), tensor(1, device='cuda:0'), tensor(0, device='cuda:0'), tensor(1, device='cuda:0'), tensor(1, device='cuda:0'), tensor(0, device='cuda:0'), tensor(1, device='cuda:0'), tensor(1, device='cuda:0'), tensor(1, device='cuda:0'), tensor(1, device='cuda:0'), tensor(1, device='cuda:0'), tensor(1, device='cuda:0'), tensor(1, device='cuda:0'), tensor(1, device='cuda:0'), tensor(0, device='cuda:0'), tensor(0, device='cuda:0'), tensor(1, device='cuda:0'), tensor(0, device='cuda:0'), tensor(1, device='cuda:0'), tensor(0, device='cuda:0'), tensor(0, device='cuda:0'), tensor(1, device='cuda:0'), tensor(1, device='cuda:0'), tensor(0, device='cuda:0'), tensor(0, device='cuda:0'), tensor(1, device='cuda:0'), tensor(1, device='cuda:0'), tensor(0, device='cuda:0'), tensor(1, device='cuda:0'), tensor(0, device='cuda:0')], 'input_ids': [tensor([ 1858,   389, 22051,   287,   428,  2646], device='cuda:0'), tensor([8585,  734, 3470, 1866,  286,  257], device='cuda:0'), tensor([ 818,  262, 3095], device='cuda:0'), tensor([  40, 2236,  407, 7030,  616], device='cuda:0'), tensor([1212,  905,  318,  257, 2818], device='cuda:0'), tensor([   40, 18548,  6901,   703,  7818,   428], device='cuda:0'), tensor([40630,  2084,    11,   314,  1043,   257,   366], device='cuda:0'), tensor([  40,  716,  407, 1654,  508,  318], device='cuda:0'), tensor([2514, 2089], device='cuda:0'), tensor([1212, 3807], device='cuda:0'), tensor([22253,  1717,   494], device='cuda:0'), tensor([   40,  1842,   262, 33016,   286], device='cuda:0'), tensor([ 1212, 40870,  3918], device='cuda:0'), tensor([  40,  691, 7342,  428], device='cuda:0'), tensor([5308, 7574,   25], device='cuda:0'), tensor([  40,  423,  257, 4203,  326, 1583], device='cuda:0'), tensor([29688,   836,   470,  5602,   393], device='cuda:0'), tensor([  40, 1392,  257,  922, 6487], device='cuda:0'), tensor([2215,  616, 1478,   12, 1941], device='cuda:0'), tensor([ 818, 6273], device='cuda:0'), tensor([  40, 1842,  428,  905,  355,  340], device='cuda:0'), tensor([1212,  318,  281, 6275,   11, 3049], device='cuda:0'), tensor([   32,  2646,   588, 23181, 16156,   290], device='cuda:0'), tensor([  32,  845, 1913, 3807], device='cuda:0'), tensor([ 505,  286,  262, 5290, 7328], device='cuda:0'), tensor([5962,  286], device='cuda:0'), tensor([26554,   428,  3807,   550,   502, 35820,    13], device='cuda:0'), tensor([   40,  2497,   428,   287,   262, 13766,   618], device='cuda:0'), tensor([ 6090,  9599,   466,   922, 36378,  7328, 13769], device='cuda:0'), tensor([6104, 4785], device='cuda:0'), tensor([  40,  635, 2497,  428], device='cuda:0'), tensor([   40, 17666,   760,  1521,   661,   892], device='cuda:0'), tensor([1026,  338], device='cuda:0'), tensor([ 464, 3807,  318,  281, 3131,   12, 6511], device='cuda:0'), tensor([3260,  345,  766], device='cuda:0'), tensor([   1,   39, 1324,  268,  301,  590,    1], device='cuda:0'), tensor([1026,  338, 2408,  284,  760,  810,  428], device='cuda:0'), tensor([6610, 9623, 2646,  422,  257, 1499,   11], device='cuda:0'), tensor([32476,    11,   257], device='cuda:0'), tensor([ 1212,  1244,   307, 24479,    11,   475], device='cuda:0'), tensor([   35,   388,  1044, 13692], device='cuda:0'), tensor([  40, 2497,  428], device='cuda:0'), tensor([1212, 3807, 1595], device='cuda:0'), tensor([  40, 2993,  314,  373, 1016,  284], device='cuda:0'), tensor([1026,  468,  691], device='cuda:0'), tensor([1212,  318,  257], device='cuda:0'), tensor([    1,  9171, 37670,  5958,     1], device='cuda:0'), tensor([8117,  373,  617, 3872,  284,  428], device='cuda:0'), tensor([  56, 1666], device='cuda:0'), tensor([5703,  780, 2130,  318,  739,  262], device='cuda:0'), tensor([2725,  415, 8597], device='cuda:0'), tensor([   40,  1043,   428,  3807, 14262,    11,   937], device='cuda:0'), tensor([ 1212,   318,   257,  1790,    11, 14897], device='cuda:0'), tensor([ 1, 32], device='cuda:0'), tensor([  27, 1671], device='cuda:0'), tensor([22017,   340,   338, 25304,  1201,   428,  3807], device='cuda:0'), tensor([    1, 17821,     1,  1621,   286], device='cuda:0'), tensor([15322,   412,  1279], device='cuda:0'), tensor([29318,  5613], device='cuda:0'), tensor([  32, 2407,  922], device='cuda:0'), tensor([  40,  892,  262, 3741,  286,  262], device='cuda:0'), tensor([  40, 4236,  351, 2279,  661,  531,  319], device='cuda:0'), tensor([    1, 30847, 33989,     1,  7599, 30940,  5033], device='cuda:0'), tensor([ 1212,  4112, 13913,   318,  1912], device='cuda:0'), tensor([  464,  3126, 18265,    82], device='cuda:0'), tensor([1212, 2646,  373], device='cuda:0'), tensor([   1,  464, 4599, 3668,    1,  318], device='cuda:0'), tensor([ 5211,   407,   307, 16011,    11], device='cuda:0'), tensor([ 40, 423, 284], device='cuda:0'), tensor([ 1212,  3807,   373,   262,  4405, 11318,   285], device='cuda:0'), tensor([  986, 25587,   484,   821,  1111,  2495], device='cuda:0'), tensor([1212,  318], device='cuda:0'), tensor([  40, 1464, 2883,  428, 3807,  618], device='cuda:0'), tensor([10995,    11,   262, 37942,   286,   257,  2829], device='cuda:0'), tensor([5779,   11, 1312], device='cuda:0'), tensor([17121, 12958], device='cuda:0'), tensor([1212, 3807,  318,  257, 2472], device='cuda:0'), tensor([5962,  286,  477,   11,  428, 3807, 2125], device='cuda:0'), tensor([  40,  373, 7428,  284], device='cuda:0'), tensor([1532,  345,  588, 7110], device='cuda:0'), tensor([  986, 26698, 11225], device='cuda:0'), tensor([13615,  1675,   383,   513], device='cuda:0'), tensor([ 8248, 12338], device='cuda:0'), tensor([ 464, 5544], device='cuda:0'), tensor([   40,   423,  1464,  8288, 26309,  5741,   338], device='cuda:0'), tensor([  40, 1053], device='cuda:0'), tensor([1026,  338,  407,  588,  314], device='cuda:0'), tensor([1212, 3807,  857,  407, 1107, 7719], device='cuda:0'), tensor([  818, 15275,   286, 46499,   670,   416,   262], device='cuda:0'), tensor([10943,  5603, 20913,  6226, 49713], device='cuda:0'), tensor([3118, 5589], device='cuda:0'), tensor([5756,  502, 1560,  345], device='cuda:0'), tensor([  40,  655,  750,  407, 2883,  428, 2646], device='cuda:0'), tensor([1212, 3807], device='cuda:0'), tensor([2061, 1838], device='cuda:0'), tensor([6104,  611,  428, 2646,  373, 7910,  257], device='cuda:0'), tensor([3987,  470, 6004], device='cuda:0'), tensor([1212,  318], device='cuda:0'), tensor([  464, 43786,   318,   546,   986,   880,    11], device='cuda:0'), tensor([  40,  550,  645, 2126,  644,  428], device='cuda:0'), tensor([1026,  338,  257, 2089,   11,  845, 2089], device='cuda:0'), tensor([  40, 2497,  428], device='cuda:0'), tensor([   47,  9798, 14266], device='cuda:0'), tensor([ 2601, 13416,   284,  3950], device='cuda:0'), tensor([  818,  4068,  1466,   389, 12244,   422, 11969], device='cuda:0'), tensor([  464, 39078,   396,   373], device='cuda:0'), tensor([    1, 25255, 20836,     1,   318,   257,   649], device='cuda:0'), tensor([6610,  287,  262], device='cuda:0'), tensor([1212, 3807,  318, 2192,  329], device='cuda:0'), tensor([  40, 1043,  705, 7575, 1629,  383, 5849], device='cuda:0'), tensor([39750,   318], device='cuda:0'), tensor([45648,   644,   284], device='cuda:0'), tensor([4366, 6918], device='cuda:0'), tensor([3666, 1793], device='cuda:0'), tensor([5779,   11,  314, 1183], device='cuda:0'), tensor([1212, 2331,  588,  734], device='cuda:0'), tensor([ 270,  338,  257,  845, 3621], device='cuda:0'), tensor([4366,  661,  423,  925], device='cuda:0'), tensor([22017,    11,   257,  3807,   546, 19170], device='cuda:0'), tensor([3152,  262, 2650,  286, 5613, 6612], device='cuda:0'), tensor([1212, 3807], device='cuda:0'), tensor([2043,  373,  645, 2565,  290,  340,  373], device='cuda:0'), tensor([14573, 21657,   318], device='cuda:0'), tensor([1858,  338,  645,  835,  284, 7239,  705], device='cuda:0'), tensor([1532,  287,  262, 4101,  338,  345], device='cuda:0'), tensor([2215,  314,  467], device='cuda:0'), tensor([5962,  286,  477,  314,  761,  284], device='cuda:0'), tensor([2437,  466,  314, 2221], device='cuda:0')], 'query': ['There are laughs in this film', 'About two hundred members of a', 'In the mid', 'I shall not waste my', 'This show is a perfect', 'I cant describe how terrible this', 'Years ago, I found a \"', 'I am not sure who is', 'To bad', 'This movie', 'Little Edie', 'I love the depiction of', 'This Lifetime style', 'I only watched this', 'Meaning:', 'I have a feeling that Dr', \"please don't rent or\", 'I got a good laugh', 'When my 14-year', 'In contrast', 'I love this show as it', 'This is an excellent, fast', 'A film like Amazing Grace and', 'A very strong movie', 'one of the worst films', 'First of', 'Boy this movie had me fooled.', 'I saw this in the theater when', 'Can anybody do good CGI films besides', 'Even worse', 'I also saw this', 'I dont know why people think', \"It's\", 'The movie is an extra-long', 'After you see', '\"Happenstance\"', \"It's difficult to know where this\", 'Another fantastic film from a country,', 'Henry, a', 'This might be unbelievable, but', 'Dumland focuses', 'I saw this', 'This movie doesn', 'I knew I was going to', 'It has only', 'This is a', '\"Metamorphosis\"', 'there was some truth to this', 'Yows', 'Just because someone is under the', 'Phantasm', 'I found this movie boring, mon', 'This is a short, crude', '\"A', '<br', \"Wow it's ironic since this movie\", '\"True\" story of', 'Rated E <', 'Meet Peter', 'A quite good', 'I think the majority of the', 'I agree with everything people said on', '\"Fred Claus\" somehow avoids becoming', 'This absolute trash is based', 'The 60´s', 'This film was', '\"The Good Earth\" is', 'Do not be mistaken,', 'I have to', 'This movie was the beatliest m', \"...cause they're both pretty\", 'This is', 'I always enjoy this movie when', 'Yeah, the archetype of a simple', 'Well, i', 'William Wy', 'This movie is a total', 'First of all, this movie isn', 'I was drawn to', 'If you like plot', '... Hawk Heaven', 'Return To The 3', 'Star Trek', 'The fourth', \"I have always liked Spike Lee's\", \"I've\", \"It's not like I\", 'This movie does not really promote', 'In spite of sterling work by the', 'CONTAINS SPOIL', 'Uncomp', 'Let me tell you', 'I just did not enjoy this film', 'This movie', 'What makes', 'Even if this film was allegedly a', \"Don't listen\", 'This is', 'The Minion is about... well,', 'I had no idea what this', \"It's a bad, very bad\", 'I saw this', 'Pierce Bros', 'Closer to reality', 'In Iran women are prohibited from attending', 'The Dentist was', '\"Atlantis\" is a new', 'Another in the', 'This movie is probably for', \"I found 'Time At The Top\", 'Film is', 'Knowing what to', 'Some movies', 'My God', \"Well, I'll\", 'This seems like two', \"it's a very nice\", 'Some people have made', 'Wow, a movie about NYC', 'With the release of Peter Jackson', 'This movie', 'IT was no sense and it was', 'Blue monkey is', \"There's no way to confront '\", \"If in the 90's you\", 'When I go', 'First of all I need to', 'How do I begin'], 'response': [\". Avoid. You don't get the point\", ' cook building expedition,', \" 1950's Buggas together in\", 'I shall not waste my breath on garbage like this.<|endoftext|>', ' marionette. As for Bill', ' movie resulted, he fails on every level. The whole', 'special rates\" section in the book, but sadly, they no', ' going to believe us when we preach', 'ness, I suppose I should point out that', ' is a gem. First of', '\" is one of the many B movies', ' adolescent lives mixed with the town girls, as I never', \" episodes are Here, Here 'n Here and Prepare\", ' film while thinking about the decisions made by the judge in Eleanor', ' Special Effects and Editing - Background, Content and Cinematography:', '. Lawrence Frampton is the fit for this much-long-c', ' watch this flick - we', ' and Roddy dancing with Anna Novak and helping', '-old son saw me laugh, he laughed with it', \" with today's interpretation and even today the major protagonist's\", ' contains lowlights and special effects done by actual kids causing good', ' paced mystery about an aging', ' Far Cry 2 is a good example of people', ', yet kind of underrated. It approaches the tone of a world', ' that people have seen).<br /><br />Sorry', ' all lets recognize Dracula as Spider-man. Though we see the', ' As far as script goes, this was', ' you could still hear one of the', ' check out low budget', ' than Li-Po was Sarai', ' film on RKO. On the RKO', ' about Noire just', ' a shame, the thing that', ' three minutes while the movie is on', ' the movie, you learn to love it and navigate through its', ' is a \"Along Came', ' whole \"nation\\'s\" anger really', ' modern day tragedy that deserved the death', ' widow who Trumka has moved', \" it's my favorite part of the film!--with no\", ' almost solely on Simmons', ' movie back in 1981,', '\\'t even seem to be an \"A-list\" comedy,', ' I was going to get it, but save all hope...<|endoftext|>', ' started to spread considering', ' good movie. I have seen a lot of stuff on \"Show Cartoon', ' gang was destined to be a good movie', '. It is not even generally acknowledged that immigration across the', \"er's Diner-Only Tour\", ' leadership of an utopian patriot hero, I must admit I was at least a', 'agoria,<br /', 'otonous and hardly interesting. Much more probably Elis', ', and offensively inoffensive transfer', ' Jeff Tweedy hero', ' /><br />', ' was first made in 1971! Harry can', ' persecution.<br /><br />Christ', 'br /><br />I have said before', '],\"she is one of the better actors I\\'ve', ' opening sequence that is filled with opportunities for beautiful cinematography,', ' faithbinding characters and unconventional religious messages are', ' criticizing this cartoon after watching', ' bisexual in 29 years. It is possibly', ' on an old woman coming out of a male past through the nose', ', Toni Wilson, Jonas Sargent were two of the Yugoslav', ' a disappointment even if it won the award. Jamie Foxx, who', ' also an excellent film. In addition, like I said,', ' WRONG symbolically or', ' ask - is it the', 'alaise in cinematic history.<br /><br />', \" good.<br /><br />That said, I haven't\", ' patently the\\n\"worst acting\" moviewriter, right in', ' it comes to making movies visually-', ' boy with both a low IQ and wished that he', ' was wearing a horn play, and i was sorta', 'ler, Fox Legend\" is going to be an entertaining flick in all respects', ' joke. Think Toy Story or', \"'t rated PG, and didn't even bother to track down it on rental\", ' this movie as a', ' or point deduction, watch a j', 'sen saw the movie roughly 50 years ago,', 'D Odyssey The Outer Limits The Phantoms The Toll House The Water', '\", he goes with Daniels to depict the chaotic state of the sci-', ' rogue, a shadowy figure known as the', ' slick TV show which reinforced the dominance of black and Greek culture and mysticism', ' done my best to amuse you with this', \" never expected him to act out but it's still\", ' the use of violence. Instead it will', ' Swedish director, the film may not prove', 'ERS! Well that seems an SP', 'romising\" sequences by Patrick Swayze', ' that Owen Twist - who was probably in', ' but I will the love it because I love this movie so', ' made at least one living thing that could', ' the movie a good one is how', ' Wisconsin Rodeo Cowboy, and indeed was from 1933 - that is', ' first to New York natives. Find your spark in K', ', first, a source of amusement to us', ' basically anything.<br /><br />Which', ' film would be about', ' grade. Not wrapped in', ' with people on one end of the spectrum who', 'nan/Criterion).<br /><br />Since it', \". I've heard Neil Armstrong have\", ' the wedding, they', ' highly entertaining. In fact, one of the', ' film that introduced the', \" early '60s,\", ' the most part the most boring', \"' and 'Since You Dawn' to\", ' far removed from film -- the', ' expect, the story', ' with hot leads (many with lesbian', \", it's so bad.\", ' be honest. I will have to put the picture down to the plot', ' separate groups.<br', ' run but does that speak for itself? (I know', ' an appeal to their opinions, I swear that', 'Wow, a movie about NYC farmers ants.)<|endoftext|>', \"'s The Avengers,\", ' seems to describe the unique strengths of African-Americans: All Americans.', ' kind of lame.<br /', ' frustrated. he dropped his sword now, he wants to put his own name', \"Markus' else he did around the world so why would anyone would\", ' could watch this film, check your local rental store.)', ' back to use that torture cloak during GWAS when all the brightness and sight', ' let the Reader know why they', ' with this rip off? This movie is another example of n*']}\n",
      "1\n",
      "{'label': [tensor(0, device='cuda:0'), tensor(1, device='cuda:0'), tensor(0, device='cuda:0'), tensor(0, device='cuda:0'), tensor(1, device='cuda:0'), tensor(0, device='cuda:0'), tensor(0, device='cuda:0'), tensor(1, device='cuda:0'), tensor(0, device='cuda:0'), tensor(1, device='cuda:0'), tensor(0, device='cuda:0'), tensor(1, device='cuda:0'), tensor(0, device='cuda:0'), tensor(0, device='cuda:0'), tensor(1, device='cuda:0'), tensor(1, device='cuda:0'), tensor(1, device='cuda:0'), tensor(0, device='cuda:0'), tensor(1, device='cuda:0'), tensor(0, device='cuda:0'), tensor(1, device='cuda:0'), tensor(0, device='cuda:0'), tensor(0, device='cuda:0'), tensor(0, device='cuda:0'), tensor(1, device='cuda:0'), tensor(1, device='cuda:0'), tensor(1, device='cuda:0'), tensor(1, device='cuda:0'), tensor(0, device='cuda:0'), tensor(0, device='cuda:0'), tensor(0, device='cuda:0'), tensor(0, device='cuda:0'), tensor(1, device='cuda:0'), tensor(0, device='cuda:0'), tensor(0, device='cuda:0'), tensor(1, device='cuda:0'), tensor(1, device='cuda:0'), tensor(0, device='cuda:0'), tensor(1, device='cuda:0'), tensor(1, device='cuda:0'), tensor(1, device='cuda:0'), tensor(1, device='cuda:0'), tensor(0, device='cuda:0'), tensor(1, device='cuda:0'), tensor(0, device='cuda:0'), tensor(0, device='cuda:0'), tensor(1, device='cuda:0'), tensor(0, device='cuda:0'), tensor(0, device='cuda:0'), tensor(0, device='cuda:0'), tensor(0, device='cuda:0'), tensor(0, device='cuda:0'), tensor(1, device='cuda:0'), tensor(0, device='cuda:0'), tensor(1, device='cuda:0'), tensor(1, device='cuda:0'), tensor(0, device='cuda:0'), tensor(1, device='cuda:0'), tensor(1, device='cuda:0'), tensor(1, device='cuda:0'), tensor(0, device='cuda:0'), tensor(0, device='cuda:0'), tensor(1, device='cuda:0'), tensor(1, device='cuda:0'), tensor(0, device='cuda:0'), tensor(0, device='cuda:0'), tensor(1, device='cuda:0'), tensor(0, device='cuda:0'), tensor(1, device='cuda:0'), tensor(0, device='cuda:0'), tensor(0, device='cuda:0'), tensor(0, device='cuda:0'), tensor(1, device='cuda:0'), tensor(1, device='cuda:0'), tensor(0, device='cuda:0'), tensor(0, device='cuda:0'), tensor(0, device='cuda:0'), tensor(1, device='cuda:0'), tensor(0, device='cuda:0'), tensor(0, device='cuda:0'), tensor(1, device='cuda:0'), tensor(0, device='cuda:0'), tensor(1, device='cuda:0'), tensor(0, device='cuda:0'), tensor(0, device='cuda:0'), tensor(0, device='cuda:0'), tensor(1, device='cuda:0'), tensor(1, device='cuda:0'), tensor(0, device='cuda:0'), tensor(1, device='cuda:0'), tensor(0, device='cuda:0'), tensor(0, device='cuda:0'), tensor(0, device='cuda:0'), tensor(0, device='cuda:0'), tensor(1, device='cuda:0'), tensor(1, device='cuda:0'), tensor(1, device='cuda:0'), tensor(0, device='cuda:0'), tensor(0, device='cuda:0'), tensor(0, device='cuda:0'), tensor(1, device='cuda:0'), tensor(1, device='cuda:0'), tensor(0, device='cuda:0'), tensor(0, device='cuda:0'), tensor(1, device='cuda:0'), tensor(1, device='cuda:0'), tensor(1, device='cuda:0'), tensor(0, device='cuda:0'), tensor(0, device='cuda:0'), tensor(0, device='cuda:0'), tensor(0, device='cuda:0'), tensor(1, device='cuda:0'), tensor(0, device='cuda:0'), tensor(0, device='cuda:0'), tensor(1, device='cuda:0'), tensor(1, device='cuda:0'), tensor(1, device='cuda:0'), tensor(1, device='cuda:0'), tensor(0, device='cuda:0'), tensor(1, device='cuda:0'), tensor(1, device='cuda:0'), tensor(1, device='cuda:0'), tensor(0, device='cuda:0'), tensor(1, device='cuda:0'), tensor(1, device='cuda:0'), tensor(1, device='cuda:0'), tensor(0, device='cuda:0'), tensor(0, device='cuda:0')], 'input_ids': [tensor([ 1212,  3807,   318, 13455, 21581], device='cuda:0'), tensor([  72, 8288,  428, 3807], device='cuda:0'), tensor([  464,   717, 19787,  1917,   546], device='cuda:0'), tensor([ 2215,   314, 13489,   326, 18394,   370,  2349], device='cuda:0'), tensor([31439, 10209,   760,   428], device='cuda:0'), tensor([15200, 46046,  6041], device='cuda:0'), tensor([ 1858,   389,   617, 26509,   278, 14482], device='cuda:0'), tensor([1212,  318,  257,  845, 6283], device='cuda:0'), tensor([11274, 15876,     0], device='cuda:0'), tensor([1212,  318], device='cuda:0'), tensor([1639,  760,   11], device='cuda:0'), tensor([1212,  318,  636,  530,  286], device='cuda:0'), tensor([   40,  1612,   286,   477,   262, 18611], device='cuda:0'), tensor([16454,   717,   286,   477], device='cuda:0'), tensor([3673,  326,  867, 7328,  423, 4988], device='cuda:0'), tensor([ 40, 836, 470, 760, 644, 340], device='cuda:0'), tensor([   34,   560, 12181,    11, 15796,  7011, 43558], device='cuda:0'), tensor([   40, 26399,   428, 12490,  1719,  1775], device='cuda:0'), tensor([  40, 1101, 4964,  428,  319,  262, 2907], device='cuda:0'), tensor([ 464, 3670,  815,  423], device='cuda:0'), tensor([1026,  338,  257], device='cuda:0'), tensor([11380,    11,   407,  5457,    11, 12698], device='cuda:0'), tensor([ 464, 7974,  379, 8519], device='cuda:0'), tensor([ 52, 456], device='cuda:0'), tensor([  51, 8056,  811, 2646,  351], device='cuda:0'), tensor([  40, 1101,  257, 2495, 1468], device='cuda:0'), tensor([   40, 13770,  8359,   428], device='cuda:0'), tensor([  32, 3807,  345,  923, 4964], device='cuda:0'), tensor([  464,  6378,   904, 10130,   318,   257], device='cuda:0'), tensor([  34, 1015, 3653,  373,  416], device='cuda:0'), tensor([7191,  262, 7511, 1810], device='cuda:0'), tensor([ 2202,   262,   736, 46027], device='cuda:0'), tensor([10970,   440], device='cuda:0'), tensor([1858,  389,  655], device='cuda:0'), tensor([ 2484,  1031, 13645,    11], device='cuda:0'), tensor([   40, 11691,   449,  1961,    40], device='cuda:0'), tensor([24761,   575, 10277,  2616], device='cuda:0'), tensor([  16,  301, 7342,  642,   14], device='cuda:0'), tensor([2215,  314,  373], device='cuda:0'), tensor([  40,  373, 1719,  655], device='cuda:0'), tensor([   45,  4098,   306, 31017,   625], device='cuda:0'), tensor([   42, 42418], device='cuda:0'), tensor([1858,  318, 5543,  645], device='cuda:0'), tensor([1532,  345,  588, 9961, 6918,  351], device='cuda:0'), tensor([38972,   699,  4813,    12,   265], device='cuda:0'), tensor([11242, 13967, 11563], device='cuda:0'), tensor([5297,  340,  743], device='cuda:0'), tensor([2061,  460], device='cuda:0'), tensor([ 464, 2646,  318], device='cuda:0'), tensor([  32, 5287,   13,  383, 3807], device='cuda:0'), tensor([ 464, 3807,  318, 6209], device='cuda:0'), tensor([ 8081, 10676,   416,   867,  9188,   355,   530], device='cuda:0'), tensor([ 9627,   286,   262,   366, 49933,  1902,   265], device='cuda:0'), tensor([  40, 2936,  371, 1192,  312], device='cuda:0'), tensor([1212,  318,  257, 2495, 7477, 2646], device='cuda:0'), tensor([1212,  318,  257,  845, 1786], device='cuda:0'), tensor([ 40, 655], device='cuda:0'), tensor([43643,   290], device='cuda:0'), tensor([38036,  8559, 10011,    79], device='cuda:0'), tensor([  40,  423, 1464,  587,  257, 3236], device='cuda:0'), tensor([ 464,  691, 1103, 7238,  287], device='cuda:0'), tensor([ 1722,  2130,   508,  7832, 15505,  8188,   290], device='cuda:0'), tensor([1532,  262, 6918], device='cuda:0'), tensor([ 6581, 33472,   373,   281, 11660,  2168,    11], device='cuda:0'), tensor([19156,  1024,    45,  7058,  5341,   262,   749], device='cuda:0'), tensor([1212,  318, 3729,  530,  286], device='cuda:0'), tensor([26807,  3406,  1869], device='cuda:0'), tensor([  40, 3521,  470, 6842,  284, 1650], device='cuda:0'), tensor([  40, 1053, 2904, 1816], device='cuda:0'), tensor([  40,  423, 7334,  510, 3555], device='cuda:0'), tensor([ 464, 3807, 4940], device='cuda:0'), tensor([1212, 3807,  373], device='cuda:0'), tensor([   54, 29422], device='cuda:0'), tensor([2061,  460,  530,  910,  546,  257], device='cuda:0'), tensor([ 3666, 15178,   329], device='cuda:0'), tensor([  27, 1671, 1220], device='cuda:0'), tensor([ 1212,  3807,   373, 12659,   290,   281], device='cuda:0'), tensor([1212, 2646,  714,  307,  530,  286], device='cuda:0'), tensor([ 3886, 23234,  9309,   373,   257], device='cuda:0'), tensor([  40, 7342,  705, 4834, 7670,    6,  734], device='cuda:0'), tensor([1212,  281, 1479], device='cuda:0'), tensor([ 464, 1738], device='cuda:0'), tensor([  50,  707,  428, 3807,  379], device='cuda:0'), tensor([1532,  428, 2646,  550], device='cuda:0'), tensor([1212, 3807], device='cuda:0'), tensor([37207,   354,    13], device='cuda:0'), tensor([ 1722, 20039,   355,   257,  4789,  4102,  2657], device='cuda:0'), tensor([  40, 1276,  910], device='cuda:0'), tensor([  40, 1101, 7926,  284,  477,  262], device='cuda:0'), tensor([   40,   892,   705,  9915, 26676], device='cuda:0'), tensor([ 1212,  3807,  1107, 14071,   262], device='cuda:0'), tensor([38022, 28778], device='cuda:0'), tensor([ 40, 836, 470], device='cuda:0'), tensor([1212, 3807], device='cuda:0'), tensor([ 3260,  6078,   262, 33953,   329,   607,  2854], device='cuda:0'), tensor([ 40, 373], device='cuda:0'), tensor([ 3103, 10396,  7241,    11, 35905], device='cuda:0'), tensor([  40, 1101, 7926,  284], device='cuda:0'), tensor([1858,  547, 1661], device='cuda:0'), tensor([ 464, 5016], device='cuda:0'), tensor([20459,  2077,   257,  1178], device='cuda:0'), tensor([1212, 2646, 1392], device='cuda:0'), tensor([5195, 2342], device='cuda:0'), tensor([ 1639,  2314, 10129], device='cuda:0'), tensor([25004, 32694,   647,   338,   366], device='cuda:0'), tensor([1722,  345,  743,  760,   11,  262, 2426], device='cuda:0'), tensor([5703, 1813,  262, 1109,  326,  340], device='cuda:0'), tensor([  46,  794,    0, 1119,  836,  470, 1282], device='cuda:0'), tensor([  72, 1816,  656,  428, 7725,  340], device='cuda:0'), tensor([2437,  460,  345, 1560,  326,  257, 9961], device='cuda:0'), tensor([1212,  318], device='cuda:0'), tensor([   46, 33955,  3771,  2229,   263], device='cuda:0'), tensor([ 2949,  3068,   611,  5506, 18280, 44487], device='cuda:0'), tensor([ 40, 892, 611, 484], device='cuda:0'), tensor([49548,  1471,  1559,  3894,   274, 15632], device='cuda:0'), tensor([ 464, 2285, 3807,  329,  790], device='cuda:0'), tensor([1532,  345], device='cuda:0'), tensor([22017,     0,   317, 20849,  3807,   351,   428], device='cuda:0'), tensor([1212, 1107,  318,  530,  286,  262], device='cuda:0'), tensor([4366, 9188], device='cuda:0'), tensor([ 5167,   257, 27479,   286], device='cuda:0'), tensor([ 4561,  9437,   364, 12359,    27,  1671], device='cuda:0'), tensor([11380,   532], device='cuda:0'), tensor([23307,   867,  4237, 16231, 23844,   428], device='cuda:0'), tensor([39646, 22267,   262, 21432,   496], device='cuda:0'), tensor([ 2025, 17774,   479,  2150, 14035,  2646,    11], device='cuda:0'), tensor([1890, 1972], device='cuda:0'), tensor([1858,  389,  617, 3621, 6934,  287,  428], device='cuda:0')], 'query': ['This movie is poorly conceived', 'i liked this movie', 'The first noticeable problem about', 'When I spotted that Noah Wyle', 'Modern viewers know this', 'Evidently lots', 'There are some redeeming qualities', 'This is a very strange', 'good lord!', 'This is', 'You know,', 'This is part one of', 'I mean of all the obscure', 'Okay first of all', 'Not that many films have truly', \"I don't know what it\", 'Cary Grant, Douglas Fairbanks', 'I rented this DVD having seen', \"I'm watching this on the Star\", 'The title should have', \"It's a\", 'OK, not possibly, honestly', 'The folks at Disney', 'Ugh', 'Terrific film with', \"I'm a pretty old\", 'I thoroughly enjoyed this', 'A movie you start watching', 'The Wayward Cloud is a', 'Cavemen was by', 'During the Civil War', 'On the back burner', 'THE O', 'There are just', 'Shazbot,', 'I suppose JEDI', 'Brian Yuzna', '1st watched 5/', 'When I was', 'I was having just', 'Neatly skipping over', 'Kudos', 'There is absolutely no', 'If you like horror movies with', 'Tedious girls-at', 'Detective Russell', 'Yes it may', 'What can', 'The film is', 'A failure. The movie', 'The movie is basically', 'Regarded by many critics as one', 'Those of the \"Instant Grat', 'I felt Rancid', 'This is a pretty OK film', 'This is a very eng', 'I just', 'Lots and', 'Australian Fred Schep', 'I have always been a huge', 'The only real highlight in', 'As someone who likes chase scenes and', 'If the movies', 'HLOTS was an outstanding series,', 'Robert DeNiro plays the most', 'This is certainly one of', 'Hold Your Man', \"I couldn't bear to sit\", \"I've recently went\", 'I have grown up reading', 'The movie starts', 'This movie was', 'Worst', 'What can one say about a', 'My Score for', '<br /', 'This movie was awful and an', 'This film could be one of', 'By 1941 Columbia was a', \"I watched 'Envy' two\", 'This an free', 'The reason', 'Saw this movie at', 'If this film had', 'This movie', 'Lynch.', 'As predictable as a Hallmark card', 'I must say', \"I'm sorry to all the\", \"I think 'Blackadder\", 'This movie really deserves the', 'GUERN', \"I don't\", 'This movie', 'After losing the Emmy for her performance', 'I was', 'Convoluted, infuri', \"I'm sorry to\", 'There were times', 'The Class', 'Its taken a few', 'This film got', 'Why watch', 'You cannot deny', 'Eric Rohmer\\'s \"', 'As you may know, the subject', 'Just given the fact that it', \"Ouch! They don't come\", 'i went into this hoping it', 'How can you tell that a horror', 'This is', 'Otto Preminger', 'No mention if Ann Rivers Sidd', 'I think if they', 'Pure Orson Welles genius', 'The cult movie for every', 'If you', 'Wow! A Danish movie with this', 'This really is one of the', 'Some critics', 'More a snapshot of', 'Spoilers.....<br', 'OK -', 'Too many sources routinely lump this', 'Sabrina the Teenage', 'An entertaining kung fu film,', 'For getting', 'There are some nice shots in this']}\n",
      "*********************\n",
      "*********************\n",
      "*********************\n",
      "*********************\n"
     ]
    },
    {
     "name": "stderr",
     "output_type": "stream",
     "text": [
      "\r",
      "1it [00:16, 16.19s/it]"
     ]
    },
    {
     "name": "stdout",
     "output_type": "stream",
     "text": [
      "{'label': [tensor(0, device='cuda:0'), tensor(1, device='cuda:0'), tensor(0, device='cuda:0'), tensor(0, device='cuda:0'), tensor(1, device='cuda:0'), tensor(0, device='cuda:0'), tensor(0, device='cuda:0'), tensor(1, device='cuda:0'), tensor(0, device='cuda:0'), tensor(1, device='cuda:0'), tensor(0, device='cuda:0'), tensor(1, device='cuda:0'), tensor(0, device='cuda:0'), tensor(0, device='cuda:0'), tensor(1, device='cuda:0'), tensor(1, device='cuda:0'), tensor(1, device='cuda:0'), tensor(0, device='cuda:0'), tensor(1, device='cuda:0'), tensor(0, device='cuda:0'), tensor(1, device='cuda:0'), tensor(0, device='cuda:0'), tensor(0, device='cuda:0'), tensor(0, device='cuda:0'), tensor(1, device='cuda:0'), tensor(1, device='cuda:0'), tensor(1, device='cuda:0'), tensor(1, device='cuda:0'), tensor(0, device='cuda:0'), tensor(0, device='cuda:0'), tensor(0, device='cuda:0'), tensor(0, device='cuda:0'), tensor(1, device='cuda:0'), tensor(0, device='cuda:0'), tensor(0, device='cuda:0'), tensor(1, device='cuda:0'), tensor(1, device='cuda:0'), tensor(0, device='cuda:0'), tensor(1, device='cuda:0'), tensor(1, device='cuda:0'), tensor(1, device='cuda:0'), tensor(1, device='cuda:0'), tensor(0, device='cuda:0'), tensor(1, device='cuda:0'), tensor(0, device='cuda:0'), tensor(0, device='cuda:0'), tensor(1, device='cuda:0'), tensor(0, device='cuda:0'), tensor(0, device='cuda:0'), tensor(0, device='cuda:0'), tensor(0, device='cuda:0'), tensor(0, device='cuda:0'), tensor(1, device='cuda:0'), tensor(0, device='cuda:0'), tensor(1, device='cuda:0'), tensor(1, device='cuda:0'), tensor(0, device='cuda:0'), tensor(1, device='cuda:0'), tensor(1, device='cuda:0'), tensor(1, device='cuda:0'), tensor(0, device='cuda:0'), tensor(0, device='cuda:0'), tensor(1, device='cuda:0'), tensor(1, device='cuda:0'), tensor(0, device='cuda:0'), tensor(0, device='cuda:0'), tensor(1, device='cuda:0'), tensor(0, device='cuda:0'), tensor(1, device='cuda:0'), tensor(0, device='cuda:0'), tensor(0, device='cuda:0'), tensor(0, device='cuda:0'), tensor(1, device='cuda:0'), tensor(1, device='cuda:0'), tensor(0, device='cuda:0'), tensor(0, device='cuda:0'), tensor(0, device='cuda:0'), tensor(1, device='cuda:0'), tensor(0, device='cuda:0'), tensor(0, device='cuda:0'), tensor(1, device='cuda:0'), tensor(0, device='cuda:0'), tensor(1, device='cuda:0'), tensor(0, device='cuda:0'), tensor(0, device='cuda:0'), tensor(0, device='cuda:0'), tensor(1, device='cuda:0'), tensor(1, device='cuda:0'), tensor(0, device='cuda:0'), tensor(1, device='cuda:0'), tensor(0, device='cuda:0'), tensor(0, device='cuda:0'), tensor(0, device='cuda:0'), tensor(0, device='cuda:0'), tensor(1, device='cuda:0'), tensor(1, device='cuda:0'), tensor(1, device='cuda:0'), tensor(0, device='cuda:0'), tensor(0, device='cuda:0'), tensor(0, device='cuda:0'), tensor(1, device='cuda:0'), tensor(1, device='cuda:0'), tensor(0, device='cuda:0'), tensor(0, device='cuda:0'), tensor(1, device='cuda:0'), tensor(1, device='cuda:0'), tensor(1, device='cuda:0'), tensor(0, device='cuda:0'), tensor(0, device='cuda:0'), tensor(0, device='cuda:0'), tensor(0, device='cuda:0'), tensor(1, device='cuda:0'), tensor(0, device='cuda:0'), tensor(0, device='cuda:0'), tensor(1, device='cuda:0'), tensor(1, device='cuda:0'), tensor(1, device='cuda:0'), tensor(1, device='cuda:0'), tensor(0, device='cuda:0'), tensor(1, device='cuda:0'), tensor(1, device='cuda:0'), tensor(1, device='cuda:0'), tensor(0, device='cuda:0'), tensor(1, device='cuda:0'), tensor(1, device='cuda:0'), tensor(1, device='cuda:0'), tensor(0, device='cuda:0'), tensor(0, device='cuda:0')], 'input_ids': [tensor([ 1212,  3807,   318, 13455, 21581], device='cuda:0'), tensor([  72, 8288,  428, 3807], device='cuda:0'), tensor([  464,   717, 19787,  1917,   546], device='cuda:0'), tensor([ 2215,   314, 13489,   326, 18394,   370,  2349], device='cuda:0'), tensor([31439, 10209,   760,   428], device='cuda:0'), tensor([15200, 46046,  6041], device='cuda:0'), tensor([ 1858,   389,   617, 26509,   278, 14482], device='cuda:0'), tensor([1212,  318,  257,  845, 6283], device='cuda:0'), tensor([11274, 15876,     0], device='cuda:0'), tensor([1212,  318], device='cuda:0'), tensor([1639,  760,   11], device='cuda:0'), tensor([1212,  318,  636,  530,  286], device='cuda:0'), tensor([   40,  1612,   286,   477,   262, 18611], device='cuda:0'), tensor([16454,   717,   286,   477], device='cuda:0'), tensor([3673,  326,  867, 7328,  423, 4988], device='cuda:0'), tensor([ 40, 836, 470, 760, 644, 340], device='cuda:0'), tensor([   34,   560, 12181,    11, 15796,  7011, 43558], device='cuda:0'), tensor([   40, 26399,   428, 12490,  1719,  1775], device='cuda:0'), tensor([  40, 1101, 4964,  428,  319,  262, 2907], device='cuda:0'), tensor([ 464, 3670,  815,  423], device='cuda:0'), tensor([1026,  338,  257], device='cuda:0'), tensor([11380,    11,   407,  5457,    11, 12698], device='cuda:0'), tensor([ 464, 7974,  379, 8519], device='cuda:0'), tensor([ 52, 456], device='cuda:0'), tensor([  51, 8056,  811, 2646,  351], device='cuda:0'), tensor([  40, 1101,  257, 2495, 1468], device='cuda:0'), tensor([   40, 13770,  8359,   428], device='cuda:0'), tensor([  32, 3807,  345,  923, 4964], device='cuda:0'), tensor([  464,  6378,   904, 10130,   318,   257], device='cuda:0'), tensor([  34, 1015, 3653,  373,  416], device='cuda:0'), tensor([7191,  262, 7511, 1810], device='cuda:0'), tensor([ 2202,   262,   736, 46027], device='cuda:0'), tensor([10970,   440], device='cuda:0'), tensor([1858,  389,  655], device='cuda:0'), tensor([ 2484,  1031, 13645,    11], device='cuda:0'), tensor([   40, 11691,   449,  1961,    40], device='cuda:0'), tensor([24761,   575, 10277,  2616], device='cuda:0'), tensor([  16,  301, 7342,  642,   14], device='cuda:0'), tensor([2215,  314,  373], device='cuda:0'), tensor([  40,  373, 1719,  655], device='cuda:0'), tensor([   45,  4098,   306, 31017,   625], device='cuda:0'), tensor([   42, 42418], device='cuda:0'), tensor([1858,  318, 5543,  645], device='cuda:0'), tensor([1532,  345,  588, 9961, 6918,  351], device='cuda:0'), tensor([38972,   699,  4813,    12,   265], device='cuda:0'), tensor([11242, 13967, 11563], device='cuda:0'), tensor([5297,  340,  743], device='cuda:0'), tensor([2061,  460], device='cuda:0'), tensor([ 464, 2646,  318], device='cuda:0'), tensor([  32, 5287,   13,  383, 3807], device='cuda:0'), tensor([ 464, 3807,  318, 6209], device='cuda:0'), tensor([ 8081, 10676,   416,   867,  9188,   355,   530], device='cuda:0'), tensor([ 9627,   286,   262,   366, 49933,  1902,   265], device='cuda:0'), tensor([  40, 2936,  371, 1192,  312], device='cuda:0'), tensor([1212,  318,  257, 2495, 7477, 2646], device='cuda:0'), tensor([1212,  318,  257,  845, 1786], device='cuda:0'), tensor([ 40, 655], device='cuda:0'), tensor([43643,   290], device='cuda:0'), tensor([38036,  8559, 10011,    79], device='cuda:0'), tensor([  40,  423, 1464,  587,  257, 3236], device='cuda:0'), tensor([ 464,  691, 1103, 7238,  287], device='cuda:0'), tensor([ 1722,  2130,   508,  7832, 15505,  8188,   290], device='cuda:0'), tensor([1532,  262, 6918], device='cuda:0'), tensor([ 6581, 33472,   373,   281, 11660,  2168,    11], device='cuda:0'), tensor([19156,  1024,    45,  7058,  5341,   262,   749], device='cuda:0'), tensor([1212,  318, 3729,  530,  286], device='cuda:0'), tensor([26807,  3406,  1869], device='cuda:0'), tensor([  40, 3521,  470, 6842,  284, 1650], device='cuda:0'), tensor([  40, 1053, 2904, 1816], device='cuda:0'), tensor([  40,  423, 7334,  510, 3555], device='cuda:0'), tensor([ 464, 3807, 4940], device='cuda:0'), tensor([1212, 3807,  373], device='cuda:0'), tensor([   54, 29422], device='cuda:0'), tensor([2061,  460,  530,  910,  546,  257], device='cuda:0'), tensor([ 3666, 15178,   329], device='cuda:0'), tensor([  27, 1671, 1220], device='cuda:0'), tensor([ 1212,  3807,   373, 12659,   290,   281], device='cuda:0'), tensor([1212, 2646,  714,  307,  530,  286], device='cuda:0'), tensor([ 3886, 23234,  9309,   373,   257], device='cuda:0'), tensor([  40, 7342,  705, 4834, 7670,    6,  734], device='cuda:0'), tensor([1212,  281, 1479], device='cuda:0'), tensor([ 464, 1738], device='cuda:0'), tensor([  50,  707,  428, 3807,  379], device='cuda:0'), tensor([1532,  428, 2646,  550], device='cuda:0'), tensor([1212, 3807], device='cuda:0'), tensor([37207,   354,    13], device='cuda:0'), tensor([ 1722, 20039,   355,   257,  4789,  4102,  2657], device='cuda:0'), tensor([  40, 1276,  910], device='cuda:0'), tensor([  40, 1101, 7926,  284,  477,  262], device='cuda:0'), tensor([   40,   892,   705,  9915, 26676], device='cuda:0'), tensor([ 1212,  3807,  1107, 14071,   262], device='cuda:0'), tensor([38022, 28778], device='cuda:0'), tensor([ 40, 836, 470], device='cuda:0'), tensor([1212, 3807], device='cuda:0'), tensor([ 3260,  6078,   262, 33953,   329,   607,  2854], device='cuda:0'), tensor([ 40, 373], device='cuda:0'), tensor([ 3103, 10396,  7241,    11, 35905], device='cuda:0'), tensor([  40, 1101, 7926,  284], device='cuda:0'), tensor([1858,  547, 1661], device='cuda:0'), tensor([ 464, 5016], device='cuda:0'), tensor([20459,  2077,   257,  1178], device='cuda:0'), tensor([1212, 2646, 1392], device='cuda:0'), tensor([5195, 2342], device='cuda:0'), tensor([ 1639,  2314, 10129], device='cuda:0'), tensor([25004, 32694,   647,   338,   366], device='cuda:0'), tensor([1722,  345,  743,  760,   11,  262, 2426], device='cuda:0'), tensor([5703, 1813,  262, 1109,  326,  340], device='cuda:0'), tensor([  46,  794,    0, 1119,  836,  470, 1282], device='cuda:0'), tensor([  72, 1816,  656,  428, 7725,  340], device='cuda:0'), tensor([2437,  460,  345, 1560,  326,  257, 9961], device='cuda:0'), tensor([1212,  318], device='cuda:0'), tensor([   46, 33955,  3771,  2229,   263], device='cuda:0'), tensor([ 2949,  3068,   611,  5506, 18280, 44487], device='cuda:0'), tensor([ 40, 892, 611, 484], device='cuda:0'), tensor([49548,  1471,  1559,  3894,   274, 15632], device='cuda:0'), tensor([ 464, 2285, 3807,  329,  790], device='cuda:0'), tensor([1532,  345], device='cuda:0'), tensor([22017,     0,   317, 20849,  3807,   351,   428], device='cuda:0'), tensor([1212, 1107,  318,  530,  286,  262], device='cuda:0'), tensor([4366, 9188], device='cuda:0'), tensor([ 5167,   257, 27479,   286], device='cuda:0'), tensor([ 4561,  9437,   364, 12359,    27,  1671], device='cuda:0'), tensor([11380,   532], device='cuda:0'), tensor([23307,   867,  4237, 16231, 23844,   428], device='cuda:0'), tensor([39646, 22267,   262, 21432,   496], device='cuda:0'), tensor([ 2025, 17774,   479,  2150, 14035,  2646,    11], device='cuda:0'), tensor([1890, 1972], device='cuda:0'), tensor([1858,  389,  617, 3621, 6934,  287,  428], device='cuda:0')], 'query': ['This movie is poorly conceived', 'i liked this movie', 'The first noticeable problem about', 'When I spotted that Noah Wyle', 'Modern viewers know this', 'Evidently lots', 'There are some redeeming qualities', 'This is a very strange', 'good lord!', 'This is', 'You know,', 'This is part one of', 'I mean of all the obscure', 'Okay first of all', 'Not that many films have truly', \"I don't know what it\", 'Cary Grant, Douglas Fairbanks', 'I rented this DVD having seen', \"I'm watching this on the Star\", 'The title should have', \"It's a\", 'OK, not possibly, honestly', 'The folks at Disney', 'Ugh', 'Terrific film with', \"I'm a pretty old\", 'I thoroughly enjoyed this', 'A movie you start watching', 'The Wayward Cloud is a', 'Cavemen was by', 'During the Civil War', 'On the back burner', 'THE O', 'There are just', 'Shazbot,', 'I suppose JEDI', 'Brian Yuzna', '1st watched 5/', 'When I was', 'I was having just', 'Neatly skipping over', 'Kudos', 'There is absolutely no', 'If you like horror movies with', 'Tedious girls-at', 'Detective Russell', 'Yes it may', 'What can', 'The film is', 'A failure. The movie', 'The movie is basically', 'Regarded by many critics as one', 'Those of the \"Instant Grat', 'I felt Rancid', 'This is a pretty OK film', 'This is a very eng', 'I just', 'Lots and', 'Australian Fred Schep', 'I have always been a huge', 'The only real highlight in', 'As someone who likes chase scenes and', 'If the movies', 'HLOTS was an outstanding series,', 'Robert DeNiro plays the most', 'This is certainly one of', 'Hold Your Man', \"I couldn't bear to sit\", \"I've recently went\", 'I have grown up reading', 'The movie starts', 'This movie was', 'Worst', 'What can one say about a', 'My Score for', '<br /', 'This movie was awful and an', 'This film could be one of', 'By 1941 Columbia was a', \"I watched 'Envy' two\", 'This an free', 'The reason', 'Saw this movie at', 'If this film had', 'This movie', 'Lynch.', 'As predictable as a Hallmark card', 'I must say', \"I'm sorry to all the\", \"I think 'Blackadder\", 'This movie really deserves the', 'GUERN', \"I don't\", 'This movie', 'After losing the Emmy for her performance', 'I was', 'Convoluted, infuri', \"I'm sorry to\", 'There were times', 'The Class', 'Its taken a few', 'This film got', 'Why watch', 'You cannot deny', 'Eric Rohmer\\'s \"', 'As you may know, the subject', 'Just given the fact that it', \"Ouch! They don't come\", 'i went into this hoping it', 'How can you tell that a horror', 'This is', 'Otto Preminger', 'No mention if Ann Rivers Sidd', 'I think if they', 'Pure Orson Welles genius', 'The cult movie for every', 'If you', 'Wow! A Danish movie with this', 'This really is one of the', 'Some critics', 'More a snapshot of', 'Spoilers.....<br', 'OK -', 'Too many sources routinely lump this', 'Sabrina the Teenage', 'An entertaining kung fu film,', 'For getting', 'There are some nice shots in this'], 'response': ['---Monster Hunter is supposed to', ', even though it was released in', \" Tonto: he was fuelling the characters' personalities at a young age\", ' had made an early cameo appearance at', \" is a critic's I think\", ' of good plot holes, with a', ' that make Paterno work in a', ' film which can be very', ' For the first time, even', ' because a compass and compass (another form of sound cancellation) is used to', ' it wasn\\'t half bad, but it had it all.\"<|endoftext|>', ' the five sections of the film. There are several humorous remarks that border', ' French and Irish myths that', ' - I wanted to see the full length', ' had a \"Stalker\" moment,\" but Seidl does done', ' is about that feature, but I like Bens', ', Juan Diego, Becky Hegar, Dee Dee Richards Areha Fisher,', ' one episode and considered purchasing it, so I watched it one', \" Buddy TV channel. Jones' production is absolutely fantastic. All of the actors\", ' been \"Home Alone 2\"', ' bold move and seems to demonstrate the', ':<br /', ' are at their best', ' of the bartender). Things fall apart for old time', ' sexy nude models.', '-timing French humor-type comic among the', ' film, and the special effects look', \" without ever mentioning that you don't really want to watch a movie like\", \" copy movie. Because it's almost\", ' popular demand the best-selling novel, directed by Robert Du', ', a similar dichotomy could be seen in Texas; in', ', mixing Indian rock with its Arabian influences (sound empty),', 'RYRD DULLIE IS', ' as many big names as there are', ' is not surprising given the portrayal', \" appears to possess psychoactive powers that make him (I'm sure) a\", ' is no match for', '26/15. It was better than i expected in both', ' sort of taking a sleeping girl or something, there is that', ' toppled around in the parking lot and', \" the beginning of screen time in making it's name self and\", ' to my new TV editor for going me and watching my tales. Additionally', ' way that you can take a', ' a different feel to your chances of finding an audience, then', '-l... DNC intrigues-take', ' Rush (Michael B. Jordan)', ' without a doubt be', ' I say about the camera crime?\" When', ' cerebral, faces mysteries, and touching', \" doesn't convey in the least anything that has not been got already, you\", ' Hamlet, one of the least funny parts of', ' of his worst films yet, that movie remains in the realm of', 'uitous\" Others, in spite of dropping serial numbers, such as 1973 I', ' should both traditionally (which is football) and dramatically elevate the', ', it can be', 'rossing tale of deceased censorship as exemplified by Shirley Ren', \" used to use Dudley's old school collection for\", ' acting. Basically what countless ex-WWE fans of the genre', 'ter was so good', ' Pr Army fan, but my stay in Akigo was one of', ' his trailer was the dead guy rapping!!!!', ' is sympathetic towards people, Glenda Harris cannot', ' work the way they do they will', ' the actors were stars in', ' interesting young man in this film: the weird tumbleweed dresses', ' the best episodes of', ' With Me\" (1989). I\\'', ' through another 90 minutes. And, in the meantime, why else do I', ' to Grand Canyon and then also worked at the festival (i.e.', ' art books that I remember;he may not know exactly what he', ' off with a monologue by a Japanese dentist.', ' way over the top and so was this one', ' idea in a long film.\" That wasn\\'t mine,', \" Hollywood movie? It's really hard worrying about the director having\", \" this film was 9.1 out of 10. He's\", '><br />But what is surprising is the emergence of Finland in', ' this happened up to 11 times', \" Antonioni's more funny Ferguson films to come out since\", ' handful with John Luttrell attached. John assured', ' or three times trying to vomit it up. Oohh. If I', ' extreme overworld movie.. not one I consider recommend', ' it was ranked also was that Bankai sold a lot of those', ' the same time, even', ' not gone out of print at the time, Paul', ' looked like a TOM. I was surprised to actually is', ' Major breakthrough at the U.S. Central Bank during the', ', has led to a boom in', ' I really like the movie to', ' actors joining the venture with no supporters', \"' isn't British -except, oucho!-- but Shakespeare did\", ' wide range of reaction. It was made off Harley', 'IE!!! All in all the movie', ' know why. Maybe the scene where the slave is', ' is a touchstone! It is severely cut', \" in 'The Danish Girl', Hines surely decided to\", ' asked if I would be angry if I saw this sequel in some darker time', 'ating, and bad', \" say that but this couldn't have been complete without the suspension of disbelief and\", ' when Simon Twist was waiting for a movie to finish before releasing', 'ifications\". Madsen was listed in the', ' yokes from here and went a little overboard on the ending, while', ' released just a couple of months later and today the', ' a movie with that vocal support man who has been hailed off the biggest stage', ' that Wargames in general is both better', 'Wild Turkey\" (\"Mr. Duell,\" \"The H', ' matter of SO uses as little', \" is written by George Lucas himself it's hard not to think that a slightly\", ' to cheap Italian movies! I figure', ' would be good, but that is befitting of such message.', ' movie can get a lot of laughs even if it means', ' not without performance flaws due to script Hank and', '. Young Fred would have stuck with', 'sard, Fredst Russel or', ' skip the first or two performances, they will', ' who spotlighted a lot of his', ' segment nerd and every gay lover.', ' get nervous, because they are not babies, do not', \" long streak entwining black comedy, it's a difficult movie\", ' most infuriating stereotypes in my book about how some immigrants from Central', ' may enjoy the movie for its limited predictability) as well as', ' a soft core Moth Mother. Perhaps she had been', ' /><br />Did Rice really', 'OK -<|endoftext|>', ' affair with git. The reason', ' Witch Children of Ireland,\" about a', ' Jean-Louis Barbero is a definite moviegoer and he', ' between two different versions of this film, it was a roller-co', ' deceptive little film that direct a different tone than a typical Hollywood epic tale.']}\n"
     ]
    },
    {
     "name": "stderr",
     "output_type": "stream",
     "text": [
      "\n"
     ]
    }
   ],
   "source": [
    "\n",
    "for epoch, batch in tqdm(enumerate(ppo_trainer.dataloader)):\n",
    "    query_tensors = batch[\"input_ids\"]\n",
    "    print(epoch)\n",
    "    print(batch)\n",
    "    print('*********************')\n",
    "    print('*********************')\n",
    "    print('*********************')\n",
    "    print('*********************')\n",
    "    #### Get response from gpt2\n",
    "    response_tensors = []\n",
    "    for query in query_tensors:\n",
    "        gen_len                             = output_length_sampler()\n",
    "        generation_kwargs[\"max_new_tokens\"] = gen_len\n",
    "        response                            = ppo_trainer.generate(query, **generation_kwargs)\n",
    "        response_tensors.append( response.squeeze()[-gen_len:] )\n",
    "    batch[\"response\"] = [ tokenizer.decode(r.squeeze()) for r in response_tensors ]\n",
    "    print(batch)\n",
    "    if epoch == 1:\n",
    "        break\n"
   ]
  },
  {
   "cell_type": "code",
   "execution_count": 36,
   "metadata": {},
   "outputs": [
    {
     "data": {
      "text/plain": [
       "dict_keys(['label', 'input_ids', 'query', 'response'])"
      ]
     },
     "execution_count": 36,
     "metadata": {},
     "output_type": "execute_result"
    }
   ],
   "source": [
    "\n",
    "batch.keys()\n"
   ]
  },
  {
   "cell_type": "markdown",
   "metadata": {},
   "source": [
    "\n",
    "#### Compute sentiment score\n"
   ]
  },
  {
   "cell_type": "code",
   "execution_count": 37,
   "metadata": {},
   "outputs": [
    {
     "data": {
      "text/plain": [
       "['This movie is poorly conceived',\n",
       " 'i liked this movie',\n",
       " 'The first noticeable problem about',\n",
       " 'When I spotted that Noah Wyle',\n",
       " 'Modern viewers know this',\n",
       " 'Evidently lots',\n",
       " 'There are some redeeming qualities',\n",
       " 'This is a very strange',\n",
       " 'good lord!',\n",
       " 'This is',\n",
       " 'You know,',\n",
       " 'This is part one of',\n",
       " 'I mean of all the obscure',\n",
       " 'Okay first of all',\n",
       " 'Not that many films have truly',\n",
       " \"I don't know what it\",\n",
       " 'Cary Grant, Douglas Fairbanks',\n",
       " 'I rented this DVD having seen',\n",
       " \"I'm watching this on the Star\",\n",
       " 'The title should have',\n",
       " \"It's a\",\n",
       " 'OK, not possibly, honestly',\n",
       " 'The folks at Disney',\n",
       " 'Ugh',\n",
       " 'Terrific film with',\n",
       " \"I'm a pretty old\",\n",
       " 'I thoroughly enjoyed this',\n",
       " 'A movie you start watching',\n",
       " 'The Wayward Cloud is a',\n",
       " 'Cavemen was by',\n",
       " 'During the Civil War',\n",
       " 'On the back burner',\n",
       " 'THE O',\n",
       " 'There are just',\n",
       " 'Shazbot,',\n",
       " 'I suppose JEDI',\n",
       " 'Brian Yuzna',\n",
       " '1st watched 5/',\n",
       " 'When I was',\n",
       " 'I was having just',\n",
       " 'Neatly skipping over',\n",
       " 'Kudos',\n",
       " 'There is absolutely no',\n",
       " 'If you like horror movies with',\n",
       " 'Tedious girls-at',\n",
       " 'Detective Russell',\n",
       " 'Yes it may',\n",
       " 'What can',\n",
       " 'The film is',\n",
       " 'A failure. The movie',\n",
       " 'The movie is basically',\n",
       " 'Regarded by many critics as one',\n",
       " 'Those of the \"Instant Grat',\n",
       " 'I felt Rancid',\n",
       " 'This is a pretty OK film',\n",
       " 'This is a very eng',\n",
       " 'I just',\n",
       " 'Lots and',\n",
       " 'Australian Fred Schep',\n",
       " 'I have always been a huge',\n",
       " 'The only real highlight in',\n",
       " 'As someone who likes chase scenes and',\n",
       " 'If the movies',\n",
       " 'HLOTS was an outstanding series,',\n",
       " 'Robert DeNiro plays the most',\n",
       " 'This is certainly one of',\n",
       " 'Hold Your Man',\n",
       " \"I couldn't bear to sit\",\n",
       " \"I've recently went\",\n",
       " 'I have grown up reading',\n",
       " 'The movie starts',\n",
       " 'This movie was',\n",
       " 'Worst',\n",
       " 'What can one say about a',\n",
       " 'My Score for',\n",
       " '<br /',\n",
       " 'This movie was awful and an',\n",
       " 'This film could be one of',\n",
       " 'By 1941 Columbia was a',\n",
       " \"I watched 'Envy' two\",\n",
       " 'This an free',\n",
       " 'The reason',\n",
       " 'Saw this movie at',\n",
       " 'If this film had',\n",
       " 'This movie',\n",
       " 'Lynch.',\n",
       " 'As predictable as a Hallmark card',\n",
       " 'I must say',\n",
       " \"I'm sorry to all the\",\n",
       " \"I think 'Blackadder\",\n",
       " 'This movie really deserves the',\n",
       " 'GUERN',\n",
       " \"I don't\",\n",
       " 'This movie',\n",
       " 'After losing the Emmy for her performance',\n",
       " 'I was',\n",
       " 'Convoluted, infuri',\n",
       " \"I'm sorry to\",\n",
       " 'There were times',\n",
       " 'The Class',\n",
       " 'Its taken a few',\n",
       " 'This film got',\n",
       " 'Why watch',\n",
       " 'You cannot deny',\n",
       " 'Eric Rohmer\\'s \"',\n",
       " 'As you may know, the subject',\n",
       " 'Just given the fact that it',\n",
       " \"Ouch! They don't come\",\n",
       " 'i went into this hoping it',\n",
       " 'How can you tell that a horror',\n",
       " 'This is',\n",
       " 'Otto Preminger',\n",
       " 'No mention if Ann Rivers Sidd',\n",
       " 'I think if they',\n",
       " 'Pure Orson Welles genius',\n",
       " 'The cult movie for every',\n",
       " 'If you',\n",
       " 'Wow! A Danish movie with this',\n",
       " 'This really is one of the',\n",
       " 'Some critics',\n",
       " 'More a snapshot of',\n",
       " 'Spoilers.....<br',\n",
       " 'OK -',\n",
       " 'Too many sources routinely lump this',\n",
       " 'Sabrina the Teenage',\n",
       " 'An entertaining kung fu film,',\n",
       " 'For getting',\n",
       " 'There are some nice shots in this']"
      ]
     },
     "execution_count": 37,
     "metadata": {},
     "output_type": "execute_result"
    }
   ],
   "source": [
    "\n",
    "batch[\"query\"]\n"
   ]
  },
  {
   "cell_type": "code",
   "execution_count": 38,
   "metadata": {},
   "outputs": [
    {
     "data": {
      "text/plain": [
       "['---Monster Hunter is supposed to',\n",
       " ', even though it was released in',\n",
       " \" Tonto: he was fuelling the characters' personalities at a young age\",\n",
       " ' had made an early cameo appearance at',\n",
       " \" is a critic's I think\",\n",
       " ' of good plot holes, with a',\n",
       " ' that make Paterno work in a',\n",
       " ' film which can be very',\n",
       " ' For the first time, even',\n",
       " ' because a compass and compass (another form of sound cancellation) is used to',\n",
       " ' it wasn\\'t half bad, but it had it all.\"<|endoftext|>',\n",
       " ' the five sections of the film. There are several humorous remarks that border',\n",
       " ' French and Irish myths that',\n",
       " ' - I wanted to see the full length',\n",
       " ' had a \"Stalker\" moment,\" but Seidl does done',\n",
       " ' is about that feature, but I like Bens',\n",
       " ', Juan Diego, Becky Hegar, Dee Dee Richards Areha Fisher,',\n",
       " ' one episode and considered purchasing it, so I watched it one',\n",
       " \" Buddy TV channel. Jones' production is absolutely fantastic. All of the actors\",\n",
       " ' been \"Home Alone 2\"',\n",
       " ' bold move and seems to demonstrate the',\n",
       " ':<br /',\n",
       " ' are at their best',\n",
       " ' of the bartender). Things fall apart for old time',\n",
       " ' sexy nude models.',\n",
       " '-timing French humor-type comic among the',\n",
       " ' film, and the special effects look',\n",
       " \" without ever mentioning that you don't really want to watch a movie like\",\n",
       " \" copy movie. Because it's almost\",\n",
       " ' popular demand the best-selling novel, directed by Robert Du',\n",
       " ', a similar dichotomy could be seen in Texas; in',\n",
       " ', mixing Indian rock with its Arabian influences (sound empty),',\n",
       " 'RYRD DULLIE IS',\n",
       " ' as many big names as there are',\n",
       " ' is not surprising given the portrayal',\n",
       " \" appears to possess psychoactive powers that make him (I'm sure) a\",\n",
       " ' is no match for',\n",
       " '26/15. It was better than i expected in both',\n",
       " ' sort of taking a sleeping girl or something, there is that',\n",
       " ' toppled around in the parking lot and',\n",
       " \" the beginning of screen time in making it's name self and\",\n",
       " ' to my new TV editor for going me and watching my tales. Additionally',\n",
       " ' way that you can take a',\n",
       " ' a different feel to your chances of finding an audience, then',\n",
       " '-l... DNC intrigues-take',\n",
       " ' Rush (Michael B. Jordan)',\n",
       " ' without a doubt be',\n",
       " ' I say about the camera crime?\" When',\n",
       " ' cerebral, faces mysteries, and touching',\n",
       " \" doesn't convey in the least anything that has not been got already, you\",\n",
       " ' Hamlet, one of the least funny parts of',\n",
       " ' of his worst films yet, that movie remains in the realm of',\n",
       " 'uitous\" Others, in spite of dropping serial numbers, such as 1973 I',\n",
       " ' should both traditionally (which is football) and dramatically elevate the',\n",
       " ', it can be',\n",
       " 'rossing tale of deceased censorship as exemplified by Shirley Ren',\n",
       " \" used to use Dudley's old school collection for\",\n",
       " ' acting. Basically what countless ex-WWE fans of the genre',\n",
       " 'ter was so good',\n",
       " ' Pr Army fan, but my stay in Akigo was one of',\n",
       " ' his trailer was the dead guy rapping!!!!',\n",
       " ' is sympathetic towards people, Glenda Harris cannot',\n",
       " ' work the way they do they will',\n",
       " ' the actors were stars in',\n",
       " ' interesting young man in this film: the weird tumbleweed dresses',\n",
       " ' the best episodes of',\n",
       " ' With Me\" (1989). I\\'',\n",
       " ' through another 90 minutes. And, in the meantime, why else do I',\n",
       " ' to Grand Canyon and then also worked at the festival (i.e.',\n",
       " ' art books that I remember;he may not know exactly what he',\n",
       " ' off with a monologue by a Japanese dentist.',\n",
       " ' way over the top and so was this one',\n",
       " ' idea in a long film.\" That wasn\\'t mine,',\n",
       " \" Hollywood movie? It's really hard worrying about the director having\",\n",
       " \" this film was 9.1 out of 10. He's\",\n",
       " '><br />But what is surprising is the emergence of Finland in',\n",
       " ' this happened up to 11 times',\n",
       " \" Antonioni's more funny Ferguson films to come out since\",\n",
       " ' handful with John Luttrell attached. John assured',\n",
       " ' or three times trying to vomit it up. Oohh. If I',\n",
       " ' extreme overworld movie.. not one I consider recommend',\n",
       " ' it was ranked also was that Bankai sold a lot of those',\n",
       " ' the same time, even',\n",
       " ' not gone out of print at the time, Paul',\n",
       " ' looked like a TOM. I was surprised to actually is',\n",
       " ' Major breakthrough at the U.S. Central Bank during the',\n",
       " ', has led to a boom in',\n",
       " ' I really like the movie to',\n",
       " ' actors joining the venture with no supporters',\n",
       " \"' isn't British -except, oucho!-- but Shakespeare did\",\n",
       " ' wide range of reaction. It was made off Harley',\n",
       " 'IE!!! All in all the movie',\n",
       " ' know why. Maybe the scene where the slave is',\n",
       " ' is a touchstone! It is severely cut',\n",
       " \" in 'The Danish Girl', Hines surely decided to\",\n",
       " ' asked if I would be angry if I saw this sequel in some darker time',\n",
       " 'ating, and bad',\n",
       " \" say that but this couldn't have been complete without the suspension of disbelief and\",\n",
       " ' when Simon Twist was waiting for a movie to finish before releasing',\n",
       " 'ifications\". Madsen was listed in the',\n",
       " ' yokes from here and went a little overboard on the ending, while',\n",
       " ' released just a couple of months later and today the',\n",
       " ' a movie with that vocal support man who has been hailed off the biggest stage',\n",
       " ' that Wargames in general is both better',\n",
       " 'Wild Turkey\" (\"Mr. Duell,\" \"The H',\n",
       " ' matter of SO uses as little',\n",
       " \" is written by George Lucas himself it's hard not to think that a slightly\",\n",
       " ' to cheap Italian movies! I figure',\n",
       " ' would be good, but that is befitting of such message.',\n",
       " ' movie can get a lot of laughs even if it means',\n",
       " ' not without performance flaws due to script Hank and',\n",
       " '. Young Fred would have stuck with',\n",
       " 'sard, Fredst Russel or',\n",
       " ' skip the first or two performances, they will',\n",
       " ' who spotlighted a lot of his',\n",
       " ' segment nerd and every gay lover.',\n",
       " ' get nervous, because they are not babies, do not',\n",
       " \" long streak entwining black comedy, it's a difficult movie\",\n",
       " ' most infuriating stereotypes in my book about how some immigrants from Central',\n",
       " ' may enjoy the movie for its limited predictability) as well as',\n",
       " ' a soft core Moth Mother. Perhaps she had been',\n",
       " ' /><br />Did Rice really',\n",
       " 'OK -<|endoftext|>',\n",
       " ' affair with git. The reason',\n",
       " ' Witch Children of Ireland,\" about a',\n",
       " ' Jean-Louis Barbero is a definite moviegoer and he',\n",
       " ' between two different versions of this film, it was a roller-co',\n",
       " ' deceptive little film that direct a different tone than a typical Hollywood epic tale.']"
      ]
     },
     "execution_count": 38,
     "metadata": {},
     "output_type": "execute_result"
    }
   ],
   "source": [
    "\n",
    "batch[\"response\"]\n"
   ]
  },
  {
   "cell_type": "code",
   "execution_count": 39,
   "metadata": {},
   "outputs": [],
   "source": [
    "\n",
    "texts = [ q + r for q, r in zip(batch[\"query\"], batch[\"response\"]) ]\n"
   ]
  },
  {
   "cell_type": "code",
   "execution_count": 40,
   "metadata": {},
   "outputs": [
    {
     "data": {
      "text/plain": [
       "['This movie is poorly conceived---Monster Hunter is supposed to',\n",
       " 'i liked this movie, even though it was released in',\n",
       " \"The first noticeable problem about Tonto: he was fuelling the characters' personalities at a young age\",\n",
       " 'When I spotted that Noah Wyle had made an early cameo appearance at',\n",
       " \"Modern viewers know this is a critic's I think\",\n",
       " 'Evidently lots of good plot holes, with a',\n",
       " 'There are some redeeming qualities that make Paterno work in a',\n",
       " 'This is a very strange film which can be very',\n",
       " 'good lord! For the first time, even',\n",
       " 'This is because a compass and compass (another form of sound cancellation) is used to',\n",
       " 'You know, it wasn\\'t half bad, but it had it all.\"<|endoftext|>',\n",
       " 'This is part one of the five sections of the film. There are several humorous remarks that border',\n",
       " 'I mean of all the obscure French and Irish myths that',\n",
       " 'Okay first of all - I wanted to see the full length',\n",
       " 'Not that many films have truly had a \"Stalker\" moment,\" but Seidl does done',\n",
       " \"I don't know what it is about that feature, but I like Bens\",\n",
       " 'Cary Grant, Douglas Fairbanks, Juan Diego, Becky Hegar, Dee Dee Richards Areha Fisher,',\n",
       " 'I rented this DVD having seen one episode and considered purchasing it, so I watched it one',\n",
       " \"I'm watching this on the Star Buddy TV channel. Jones' production is absolutely fantastic. All of the actors\",\n",
       " 'The title should have been \"Home Alone 2\"',\n",
       " \"It's a bold move and seems to demonstrate the\",\n",
       " 'OK, not possibly, honestly:<br /',\n",
       " 'The folks at Disney are at their best',\n",
       " 'Ugh of the bartender). Things fall apart for old time',\n",
       " 'Terrific film with sexy nude models.',\n",
       " \"I'm a pretty old-timing French humor-type comic among the\",\n",
       " 'I thoroughly enjoyed this film, and the special effects look',\n",
       " \"A movie you start watching without ever mentioning that you don't really want to watch a movie like\",\n",
       " \"The Wayward Cloud is a copy movie. Because it's almost\",\n",
       " 'Cavemen was by popular demand the best-selling novel, directed by Robert Du',\n",
       " 'During the Civil War, a similar dichotomy could be seen in Texas; in',\n",
       " 'On the back burner, mixing Indian rock with its Arabian influences (sound empty),',\n",
       " 'THE ORYRD DULLIE IS',\n",
       " 'There are just as many big names as there are',\n",
       " 'Shazbot, is not surprising given the portrayal',\n",
       " \"I suppose JEDI appears to possess psychoactive powers that make him (I'm sure) a\",\n",
       " 'Brian Yuzna is no match for',\n",
       " '1st watched 5/26/15. It was better than i expected in both',\n",
       " 'When I was sort of taking a sleeping girl or something, there is that',\n",
       " 'I was having just toppled around in the parking lot and',\n",
       " \"Neatly skipping over the beginning of screen time in making it's name self and\",\n",
       " 'Kudos to my new TV editor for going me and watching my tales. Additionally',\n",
       " 'There is absolutely no way that you can take a',\n",
       " 'If you like horror movies with a different feel to your chances of finding an audience, then',\n",
       " 'Tedious girls-at-l... DNC intrigues-take',\n",
       " 'Detective Russell Rush (Michael B. Jordan)',\n",
       " 'Yes it may without a doubt be',\n",
       " 'What can I say about the camera crime?\" When',\n",
       " 'The film is cerebral, faces mysteries, and touching',\n",
       " \"A failure. The movie doesn't convey in the least anything that has not been got already, you\",\n",
       " 'The movie is basically Hamlet, one of the least funny parts of',\n",
       " 'Regarded by many critics as one of his worst films yet, that movie remains in the realm of',\n",
       " 'Those of the \"Instant Gratuitous\" Others, in spite of dropping serial numbers, such as 1973 I',\n",
       " 'I felt Rancid should both traditionally (which is football) and dramatically elevate the',\n",
       " 'This is a pretty OK film, it can be',\n",
       " 'This is a very engrossing tale of deceased censorship as exemplified by Shirley Ren',\n",
       " \"I just used to use Dudley's old school collection for\",\n",
       " 'Lots and acting. Basically what countless ex-WWE fans of the genre',\n",
       " 'Australian Fred Schepter was so good',\n",
       " 'I have always been a huge Pr Army fan, but my stay in Akigo was one of',\n",
       " 'The only real highlight in his trailer was the dead guy rapping!!!!',\n",
       " 'As someone who likes chase scenes and is sympathetic towards people, Glenda Harris cannot',\n",
       " 'If the movies work the way they do they will',\n",
       " 'HLOTS was an outstanding series, the actors were stars in',\n",
       " 'Robert DeNiro plays the most interesting young man in this film: the weird tumbleweed dresses',\n",
       " 'This is certainly one of the best episodes of',\n",
       " 'Hold Your Man With Me\" (1989). I\\'',\n",
       " \"I couldn't bear to sit through another 90 minutes. And, in the meantime, why else do I\",\n",
       " \"I've recently went to Grand Canyon and then also worked at the festival (i.e.\",\n",
       " 'I have grown up reading art books that I remember;he may not know exactly what he',\n",
       " 'The movie starts off with a monologue by a Japanese dentist.',\n",
       " 'This movie was way over the top and so was this one',\n",
       " 'Worst idea in a long film.\" That wasn\\'t mine,',\n",
       " \"What can one say about a Hollywood movie? It's really hard worrying about the director having\",\n",
       " \"My Score for this film was 9.1 out of 10. He's\",\n",
       " '<br /><br />But what is surprising is the emergence of Finland in',\n",
       " 'This movie was awful and an this happened up to 11 times',\n",
       " \"This film could be one of Antonioni's more funny Ferguson films to come out since\",\n",
       " 'By 1941 Columbia was a handful with John Luttrell attached. John assured',\n",
       " \"I watched 'Envy' two or three times trying to vomit it up. Oohh. If I\",\n",
       " 'This an free extreme overworld movie.. not one I consider recommend',\n",
       " 'The reason it was ranked also was that Bankai sold a lot of those',\n",
       " 'Saw this movie at the same time, even',\n",
       " 'If this film had not gone out of print at the time, Paul',\n",
       " 'This movie looked like a TOM. I was surprised to actually is',\n",
       " 'Lynch. Major breakthrough at the U.S. Central Bank during the',\n",
       " 'As predictable as a Hallmark card, has led to a boom in',\n",
       " 'I must say I really like the movie to',\n",
       " \"I'm sorry to all the actors joining the venture with no supporters\",\n",
       " \"I think 'Blackadder' isn't British -except, oucho!-- but Shakespeare did\",\n",
       " 'This movie really deserves the wide range of reaction. It was made off Harley',\n",
       " 'GUERNIE!!! All in all the movie',\n",
       " \"I don't know why. Maybe the scene where the slave is\",\n",
       " 'This movie is a touchstone! It is severely cut',\n",
       " \"After losing the Emmy for her performance in 'The Danish Girl', Hines surely decided to\",\n",
       " 'I was asked if I would be angry if I saw this sequel in some darker time',\n",
       " 'Convoluted, infuriating, and bad',\n",
       " \"I'm sorry to say that but this couldn't have been complete without the suspension of disbelief and\",\n",
       " 'There were times when Simon Twist was waiting for a movie to finish before releasing',\n",
       " 'The Classifications\". Madsen was listed in the',\n",
       " 'Its taken a few yokes from here and went a little overboard on the ending, while',\n",
       " 'This film got released just a couple of months later and today the',\n",
       " 'Why watch a movie with that vocal support man who has been hailed off the biggest stage',\n",
       " 'You cannot deny that Wargames in general is both better',\n",
       " 'Eric Rohmer\\'s \"Wild Turkey\" (\"Mr. Duell,\" \"The H',\n",
       " 'As you may know, the subject matter of SO uses as little',\n",
       " \"Just given the fact that it is written by George Lucas himself it's hard not to think that a slightly\",\n",
       " \"Ouch! They don't come to cheap Italian movies! I figure\",\n",
       " 'i went into this hoping it would be good, but that is befitting of such message.',\n",
       " 'How can you tell that a horror movie can get a lot of laughs even if it means',\n",
       " 'This is not without performance flaws due to script Hank and',\n",
       " 'Otto Preminger. Young Fred would have stuck with',\n",
       " 'No mention if Ann Rivers Siddsard, Fredst Russel or',\n",
       " 'I think if they skip the first or two performances, they will',\n",
       " 'Pure Orson Welles genius who spotlighted a lot of his',\n",
       " 'The cult movie for every segment nerd and every gay lover.',\n",
       " 'If you get nervous, because they are not babies, do not',\n",
       " \"Wow! A Danish movie with this long streak entwining black comedy, it's a difficult movie\",\n",
       " 'This really is one of the most infuriating stereotypes in my book about how some immigrants from Central',\n",
       " 'Some critics may enjoy the movie for its limited predictability) as well as',\n",
       " 'More a snapshot of a soft core Moth Mother. Perhaps she had been',\n",
       " 'Spoilers.....<br /><br />Did Rice really',\n",
       " 'OK -OK -<|endoftext|>',\n",
       " 'Too many sources routinely lump this affair with git. The reason',\n",
       " 'Sabrina the Teenage Witch Children of Ireland,\" about a',\n",
       " 'An entertaining kung fu film, Jean-Louis Barbero is a definite moviegoer and he',\n",
       " 'For getting between two different versions of this film, it was a roller-co',\n",
       " 'There are some nice shots in this deceptive little film that direct a different tone than a typical Hollywood epic tale.']"
      ]
     },
     "execution_count": 40,
     "metadata": {},
     "output_type": "execute_result"
    }
   ],
   "source": [
    "\n",
    "texts\n"
   ]
  },
  {
   "cell_type": "code",
   "execution_count": 41,
   "metadata": {},
   "outputs": [
    {
     "data": {
      "text/plain": [
       "[[{'label': 'NEGATIVE', 'score': 2.2946932315826416},\n",
       "  {'label': 'POSITIVE', 'score': -2.7317020893096924}],\n",
       " [{'label': 'NEGATIVE', 'score': -1.925742506980896},\n",
       "  {'label': 'POSITIVE', 'score': 2.2019805908203125}],\n",
       " [{'label': 'NEGATIVE', 'score': -0.18878592550754547},\n",
       "  {'label': 'POSITIVE', 'score': -0.011356303468346596}],\n",
       " [{'label': 'NEGATIVE', 'score': -0.01333677675575018},\n",
       "  {'label': 'POSITIVE', 'score': -0.11825768649578094}],\n",
       " [{'label': 'NEGATIVE', 'score': -1.9098631143569946},\n",
       "  {'label': 'POSITIVE', 'score': 2.153944730758667}],\n",
       " [{'label': 'NEGATIVE', 'score': -1.0707851648330688},\n",
       "  {'label': 'POSITIVE', 'score': 1.1191564798355103}],\n",
       " [{'label': 'NEGATIVE', 'score': -1.4140279293060303},\n",
       "  {'label': 'POSITIVE', 'score': 1.6278727054595947}],\n",
       " [{'label': 'NEGATIVE', 'score': -1.9853274822235107},\n",
       "  {'label': 'POSITIVE', 'score': 2.2685697078704834}],\n",
       " [{'label': 'NEGATIVE', 'score': -1.6584359407424927},\n",
       "  {'label': 'POSITIVE', 'score': 1.8835939168930054}],\n",
       " [{'label': 'NEGATIVE', 'score': -0.10874619334936142},\n",
       "  {'label': 'POSITIVE', 'score': -0.24992646276950836}],\n",
       " [{'label': 'NEGATIVE', 'score': -1.2792789936065674},\n",
       "  {'label': 'POSITIVE', 'score': 1.4789283275604248}],\n",
       " [{'label': 'NEGATIVE', 'score': -1.2613729238510132},\n",
       "  {'label': 'POSITIVE', 'score': 1.3211719989776611}],\n",
       " [{'label': 'NEGATIVE', 'score': -0.315875768661499},\n",
       "  {'label': 'POSITIVE', 'score': 0.27530407905578613}],\n",
       " [{'label': 'NEGATIVE', 'score': -0.9480957984924316},\n",
       "  {'label': 'POSITIVE', 'score': 1.082165002822876}],\n",
       " [{'label': 'NEGATIVE', 'score': -0.8007491230964661},\n",
       "  {'label': 'POSITIVE', 'score': 0.8769035935401917}],\n",
       " [{'label': 'NEGATIVE', 'score': -1.502890944480896},\n",
       "  {'label': 'POSITIVE', 'score': 1.6423460245132446}],\n",
       " [{'label': 'NEGATIVE', 'score': -0.6645153760910034},\n",
       "  {'label': 'POSITIVE', 'score': 0.7946802973747253}],\n",
       " [{'label': 'NEGATIVE', 'score': -1.4466480016708374},\n",
       "  {'label': 'POSITIVE', 'score': 1.6408531665802002}],\n",
       " [{'label': 'NEGATIVE', 'score': -2.370344877243042},\n",
       "  {'label': 'POSITIVE', 'score': 2.644348382949829}],\n",
       " [{'label': 'NEGATIVE', 'score': 0.4618874192237854},\n",
       "  {'label': 'POSITIVE', 'score': -0.7279379963874817}],\n",
       " [{'label': 'NEGATIVE', 'score': -2.177673816680908},\n",
       "  {'label': 'POSITIVE', 'score': 2.3880457878112793}],\n",
       " [{'label': 'NEGATIVE', 'score': 0.6782671809196472},\n",
       "  {'label': 'POSITIVE', 'score': -1.058858871459961}],\n",
       " [{'label': 'NEGATIVE', 'score': -2.0838160514831543},\n",
       "  {'label': 'POSITIVE', 'score': 2.323078155517578}],\n",
       " [{'label': 'NEGATIVE', 'score': 0.7357243299484253},\n",
       "  {'label': 'POSITIVE', 'score': -1.187375783920288}],\n",
       " [{'label': 'NEGATIVE', 'score': -2.4867770671844482},\n",
       "  {'label': 'POSITIVE', 'score': 2.774024248123169}],\n",
       " [{'label': 'NEGATIVE', 'score': 0.2856677174568176},\n",
       "  {'label': 'POSITIVE', 'score': -0.5302363634109497}],\n",
       " [{'label': 'NEGATIVE', 'score': -2.389453887939453},\n",
       "  {'label': 'POSITIVE', 'score': 2.661776304244995}],\n",
       " [{'label': 'NEGATIVE', 'score': -0.008115194737911224},\n",
       "  {'label': 'POSITIVE', 'score': -0.19714489579200745}],\n",
       " [{'label': 'NEGATIVE', 'score': -0.049377188086509705},\n",
       "  {'label': 'POSITIVE', 'score': -0.1592797338962555}],\n",
       " [{'label': 'NEGATIVE', 'score': -1.631751298904419},\n",
       "  {'label': 'POSITIVE', 'score': 1.9094592332839966}],\n",
       " [{'label': 'NEGATIVE', 'score': -0.08500328660011292},\n",
       "  {'label': 'POSITIVE', 'score': -0.05375295877456665}],\n",
       " [{'label': 'NEGATIVE', 'score': -1.7784624099731445},\n",
       "  {'label': 'POSITIVE', 'score': 1.9543262720108032}],\n",
       " [{'label': 'NEGATIVE', 'score': 0.7865010499954224},\n",
       "  {'label': 'POSITIVE', 'score': -1.1133720874786377}],\n",
       " [{'label': 'NEGATIVE', 'score': -0.6061631441116333},\n",
       "  {'label': 'POSITIVE', 'score': 0.5438485145568848}],\n",
       " [{'label': 'NEGATIVE', 'score': 1.1846203804016113},\n",
       "  {'label': 'POSITIVE', 'score': -1.59538996219635}],\n",
       " [{'label': 'NEGATIVE', 'score': -0.30090436339378357},\n",
       "  {'label': 'POSITIVE', 'score': 0.157862588763237}],\n",
       " [{'label': 'NEGATIVE', 'score': 1.3676860332489014},\n",
       "  {'label': 'POSITIVE', 'score': -1.8282904624938965}],\n",
       " [{'label': 'NEGATIVE', 'score': -1.5642662048339844},\n",
       "  {'label': 'POSITIVE', 'score': 1.735146164894104}],\n",
       " [{'label': 'NEGATIVE', 'score': 0.012986256740987301},\n",
       "  {'label': 'POSITIVE', 'score': -0.182131826877594}],\n",
       " [{'label': 'NEGATIVE', 'score': 1.2129027843475342},\n",
       "  {'label': 'POSITIVE', 'score': -1.6691348552703857}],\n",
       " [{'label': 'NEGATIVE', 'score': 1.3081655502319336},\n",
       "  {'label': 'POSITIVE', 'score': -1.7415504455566406}],\n",
       " [{'label': 'NEGATIVE', 'score': -0.7906481623649597},\n",
       "  {'label': 'POSITIVE', 'score': 0.7544608116149902}],\n",
       " [{'label': 'NEGATIVE', 'score': 1.481999158859253},\n",
       "  {'label': 'POSITIVE', 'score': -1.8997300863265991}],\n",
       " [{'label': 'NEGATIVE', 'score': -0.975084125995636},\n",
       "  {'label': 'POSITIVE', 'score': 1.0598565340042114}],\n",
       " [{'label': 'NEGATIVE', 'score': 2.2341930866241455},\n",
       "  {'label': 'POSITIVE', 'score': -2.641960620880127}],\n",
       " [{'label': 'NEGATIVE', 'score': -0.47020313143730164},\n",
       "  {'label': 'POSITIVE', 'score': 0.3578585684299469}],\n",
       " [{'label': 'NEGATIVE', 'score': -0.9777966141700745},\n",
       "  {'label': 'POSITIVE', 'score': 1.1188585758209229}],\n",
       " [{'label': 'NEGATIVE', 'score': 0.5441206097602844},\n",
       "  {'label': 'POSITIVE', 'score': -0.8248368501663208}],\n",
       " [{'label': 'NEGATIVE', 'score': -2.5256197452545166},\n",
       "  {'label': 'POSITIVE', 'score': 2.8066885471343994}],\n",
       " [{'label': 'NEGATIVE', 'score': 2.319517135620117},\n",
       "  {'label': 'POSITIVE', 'score': -2.7146549224853516}],\n",
       " [{'label': 'NEGATIVE', 'score': 2.171668529510498},\n",
       "  {'label': 'POSITIVE', 'score': -2.6384031772613525}],\n",
       " [{'label': 'NEGATIVE', 'score': 1.827568531036377},\n",
       "  {'label': 'POSITIVE', 'score': -2.2516307830810547}],\n",
       " [{'label': 'NEGATIVE', 'score': -0.19164718687534332},\n",
       "  {'label': 'POSITIVE', 'score': 0.05647556483745575}],\n",
       " [{'label': 'NEGATIVE', 'score': -1.3071271181106567},\n",
       "  {'label': 'POSITIVE', 'score': 1.4535942077636719}],\n",
       " [{'label': 'NEGATIVE', 'score': -1.5787339210510254},\n",
       "  {'label': 'POSITIVE', 'score': 1.72512948513031}],\n",
       " [{'label': 'NEGATIVE', 'score': -2.399322509765625},\n",
       "  {'label': 'POSITIVE', 'score': 2.6112942695617676}],\n",
       " [{'label': 'NEGATIVE', 'score': 0.23840679228305817},\n",
       "  {'label': 'POSITIVE', 'score': -0.4087715744972229}],\n",
       " [{'label': 'NEGATIVE', 'score': -2.0532870292663574},\n",
       "  {'label': 'POSITIVE', 'score': 2.2611241340637207}],\n",
       " [{'label': 'NEGATIVE', 'score': -1.661485195159912},\n",
       "  {'label': 'POSITIVE', 'score': 1.8751760721206665}],\n",
       " [{'label': 'NEGATIVE', 'score': -0.06652013957500458},\n",
       "  {'label': 'POSITIVE', 'score': 0.03985133022069931}],\n",
       " [{'label': 'NEGATIVE', 'score': 1.02253258228302},\n",
       "  {'label': 'POSITIVE', 'score': -1.4590461254119873}],\n",
       " [{'label': 'NEGATIVE', 'score': 0.08074527978897095},\n",
       "  {'label': 'POSITIVE', 'score': -0.33890044689178467}],\n",
       " [{'label': 'NEGATIVE', 'score': -0.8392030596733093},\n",
       "  {'label': 'POSITIVE', 'score': 0.834212064743042}],\n",
       " [{'label': 'NEGATIVE', 'score': -1.9414623975753784},\n",
       "  {'label': 'POSITIVE', 'score': 2.1697840690612793}],\n",
       " [{'label': 'NEGATIVE', 'score': -0.9593784213066101},\n",
       "  {'label': 'POSITIVE', 'score': 1.042659878730774}],\n",
       " [{'label': 'NEGATIVE', 'score': -2.503601312637329},\n",
       "  {'label': 'POSITIVE', 'score': 2.8471665382385254}],\n",
       " [{'label': 'NEGATIVE', 'score': -0.9686233997344971},\n",
       "  {'label': 'POSITIVE', 'score': 1.0651323795318604}],\n",
       " [{'label': 'NEGATIVE', 'score': 1.9080582857131958},\n",
       "  {'label': 'POSITIVE', 'score': -2.3114776611328125}],\n",
       " [{'label': 'NEGATIVE', 'score': -0.7850698828697205},\n",
       "  {'label': 'POSITIVE', 'score': 0.9044114947319031}],\n",
       " [{'label': 'NEGATIVE', 'score': -1.0585120916366577},\n",
       "  {'label': 'POSITIVE', 'score': 1.1479301452636719}],\n",
       " [{'label': 'NEGATIVE', 'score': 0.3809639811515808},\n",
       "  {'label': 'POSITIVE', 'score': -0.742186963558197}],\n",
       " [{'label': 'NEGATIVE', 'score': -0.7007309794425964},\n",
       "  {'label': 'POSITIVE', 'score': 0.7651562690734863}],\n",
       " [{'label': 'NEGATIVE', 'score': 1.6320477724075317},\n",
       "  {'label': 'POSITIVE', 'score': -2.0165162086486816}],\n",
       " [{'label': 'NEGATIVE', 'score': 0.8162978291511536},\n",
       "  {'label': 'POSITIVE', 'score': -1.0939760208129883}],\n",
       " [{'label': 'NEGATIVE', 'score': -0.5866431593894958},\n",
       "  {'label': 'POSITIVE', 'score': 0.5715629458427429}],\n",
       " [{'label': 'NEGATIVE', 'score': -0.9936932325363159},\n",
       "  {'label': 'POSITIVE', 'score': 1.1308226585388184}],\n",
       " [{'label': 'NEGATIVE', 'score': 2.3064968585968018},\n",
       "  {'label': 'POSITIVE', 'score': -2.669384241104126}],\n",
       " [{'label': 'NEGATIVE', 'score': -1.514215111732483},\n",
       "  {'label': 'POSITIVE', 'score': 1.7372153997421265}],\n",
       " [{'label': 'NEGATIVE', 'score': 1.1970057487487793},\n",
       "  {'label': 'POSITIVE', 'score': -1.678117275238037}],\n",
       " [{'label': 'NEGATIVE', 'score': 1.7410504817962646},\n",
       "  {'label': 'POSITIVE', 'score': -2.2446813583374023}],\n",
       " [{'label': 'NEGATIVE', 'score': 0.7927098274230957},\n",
       "  {'label': 'POSITIVE', 'score': -1.1307158470153809}],\n",
       " [{'label': 'NEGATIVE', 'score': -0.36303743720054626},\n",
       "  {'label': 'POSITIVE', 'score': 0.3577401041984558}],\n",
       " [{'label': 'NEGATIVE', 'score': -1.3866984844207764},\n",
       "  {'label': 'POSITIVE', 'score': 1.6217494010925293}],\n",
       " [{'label': 'NEGATIVE', 'score': -0.14357078075408936},\n",
       "  {'label': 'POSITIVE', 'score': 0.08239001035690308}],\n",
       " [{'label': 'NEGATIVE', 'score': 0.19978077709674835},\n",
       "  {'label': 'POSITIVE', 'score': -0.37781450152397156}],\n",
       " [{'label': 'NEGATIVE', 'score': -1.159421682357788},\n",
       "  {'label': 'POSITIVE', 'score': 1.44115149974823}],\n",
       " [{'label': 'NEGATIVE', 'score': 0.47311192750930786},\n",
       "  {'label': 'POSITIVE', 'score': -0.8039054274559021}],\n",
       " [{'label': 'NEGATIVE', 'score': -2.1178929805755615},\n",
       "  {'label': 'POSITIVE', 'score': 2.363960027694702}],\n",
       " [{'label': 'NEGATIVE', 'score': 1.719072699546814},\n",
       "  {'label': 'POSITIVE', 'score': -2.107532262802124}],\n",
       " [{'label': 'NEGATIVE', 'score': 0.15689294040203094},\n",
       "  {'label': 'POSITIVE', 'score': -0.39338061213493347}],\n",
       " [{'label': 'NEGATIVE', 'score': -2.125702142715454},\n",
       "  {'label': 'POSITIVE', 'score': 2.432297945022583}],\n",
       " [{'label': 'NEGATIVE', 'score': -1.6592917442321777},\n",
       "  {'label': 'POSITIVE', 'score': 1.8253910541534424}],\n",
       " [{'label': 'NEGATIVE', 'score': 0.709251344203949},\n",
       "  {'label': 'POSITIVE', 'score': -1.1630222797393799}],\n",
       " [{'label': 'NEGATIVE', 'score': 0.5518881678581238},\n",
       "  {'label': 'POSITIVE', 'score': -0.7799385190010071}],\n",
       " [{'label': 'NEGATIVE', 'score': -1.217368721961975},\n",
       "  {'label': 'POSITIVE', 'score': 1.331756353378296}],\n",
       " [{'label': 'NEGATIVE', 'score': -0.11778039485216141},\n",
       "  {'label': 'POSITIVE', 'score': 0.07478315383195877}],\n",
       " [{'label': 'NEGATIVE', 'score': 2.1900198459625244},\n",
       "  {'label': 'POSITIVE', 'score': -2.6375036239624023}],\n",
       " [{'label': 'NEGATIVE', 'score': 1.246305227279663},\n",
       "  {'label': 'POSITIVE', 'score': -1.6425143480300903}],\n",
       " [{'label': 'NEGATIVE', 'score': 0.05786752328276634},\n",
       "  {'label': 'POSITIVE', 'score': -0.12506625056266785}],\n",
       " [{'label': 'NEGATIVE', 'score': -0.29168349504470825},\n",
       "  {'label': 'POSITIVE', 'score': 0.28435465693473816}],\n",
       " [{'label': 'NEGATIVE', 'score': 0.37967702746391296},\n",
       "  {'label': 'POSITIVE', 'score': -0.7170895338058472}],\n",
       " [{'label': 'NEGATIVE', 'score': -1.5899643898010254},\n",
       "  {'label': 'POSITIVE', 'score': 1.9501631259918213}],\n",
       " [{'label': 'NEGATIVE', 'score': -0.9681051969528198},\n",
       "  {'label': 'POSITIVE', 'score': 1.0264196395874023}],\n",
       " [{'label': 'NEGATIVE', 'score': -0.6152981519699097},\n",
       "  {'label': 'POSITIVE', 'score': 0.6113856434822083}],\n",
       " [{'label': 'NEGATIVE', 'score': -0.009029800072312355},\n",
       "  {'label': 'POSITIVE', 'score': -0.21365906298160553}],\n",
       " [{'label': 'NEGATIVE', 'score': -0.5339701175689697},\n",
       "  {'label': 'POSITIVE', 'score': 0.49090710282325745}],\n",
       " [{'label': 'NEGATIVE', 'score': -0.15556353330612183},\n",
       "  {'label': 'POSITIVE', 'score': 0.014581263065338135}],\n",
       " [{'label': 'NEGATIVE', 'score': 0.1174687072634697},\n",
       "  {'label': 'POSITIVE', 'score': -0.3458309471607208}],\n",
       " [{'label': 'NEGATIVE', 'score': 0.4851810038089752},\n",
       "  {'label': 'POSITIVE', 'score': -0.6642454266548157}],\n",
       " [{'label': 'NEGATIVE', 'score': -0.4821242094039917},\n",
       "  {'label': 'POSITIVE', 'score': 0.3832714259624481}],\n",
       " [{'label': 'NEGATIVE', 'score': -0.1992678940296173},\n",
       "  {'label': 'POSITIVE', 'score': 0.0024293470196425915}],\n",
       " [{'label': 'NEGATIVE', 'score': 0.692193329334259},\n",
       "  {'label': 'POSITIVE', 'score': -1.0209767818450928}],\n",
       " [{'label': 'NEGATIVE', 'score': 1.045706868171692},\n",
       "  {'label': 'POSITIVE', 'score': -1.3788909912109375}],\n",
       " [{'label': 'NEGATIVE', 'score': -0.1484047770500183},\n",
       "  {'label': 'POSITIVE', 'score': -0.017954988405108452}],\n",
       " [{'label': 'NEGATIVE', 'score': -2.3209173679351807},\n",
       "  {'label': 'POSITIVE', 'score': 2.5953266620635986}],\n",
       " [{'label': 'NEGATIVE', 'score': -1.0697346925735474},\n",
       "  {'label': 'POSITIVE', 'score': 1.2190308570861816}],\n",
       " [{'label': 'NEGATIVE', 'score': 0.019286388531327248},\n",
       "  {'label': 'POSITIVE', 'score': -0.2514941990375519}],\n",
       " [{'label': 'NEGATIVE', 'score': 0.49909278750419617},\n",
       "  {'label': 'POSITIVE', 'score': -0.7470396161079407}],\n",
       " [{'label': 'NEGATIVE', 'score': 0.3391508460044861},\n",
       "  {'label': 'POSITIVE', 'score': -0.4007589519023895}],\n",
       " [{'label': 'NEGATIVE', 'score': -0.12362051010131836},\n",
       "  {'label': 'POSITIVE', 'score': -0.09232131391763687}],\n",
       " [{'label': 'NEGATIVE', 'score': -0.3307085931301117},\n",
       "  {'label': 'POSITIVE', 'score': 0.31590142846107483}],\n",
       " [{'label': 'NEGATIVE', 'score': 1.0290615558624268},\n",
       "  {'label': 'POSITIVE', 'score': -1.4187493324279785}],\n",
       " [{'label': 'NEGATIVE', 'score': 0.44534915685653687},\n",
       "  {'label': 'POSITIVE', 'score': -0.6717450618743896}],\n",
       " [{'label': 'NEGATIVE', 'score': 1.485999345779419},\n",
       "  {'label': 'POSITIVE', 'score': -1.9739841222763062}],\n",
       " [{'label': 'NEGATIVE', 'score': -0.6468759775161743},\n",
       "  {'label': 'POSITIVE', 'score': 0.6328416466712952}],\n",
       " [{'label': 'NEGATIVE', 'score': -2.3416857719421387},\n",
       "  {'label': 'POSITIVE', 'score': 2.5867419242858887}],\n",
       " [{'label': 'NEGATIVE', 'score': -0.07801135629415512},\n",
       "  {'label': 'POSITIVE', 'score': -0.01785203069448471}],\n",
       " [{'label': 'NEGATIVE', 'score': 0.1189308688044548},\n",
       "  {'label': 'POSITIVE', 'score': -0.35128307342529297}]]"
      ]
     },
     "execution_count": 41,
     "metadata": {},
     "output_type": "execute_result"
    }
   ],
   "source": [
    "\n",
    "pipe_outputs = sentiment_pipe(texts, **sent_kwargs)\n",
    "pipe_outputs\n"
   ]
  },
  {
   "cell_type": "code",
   "execution_count": 42,
   "metadata": {},
   "outputs": [
    {
     "data": {
      "text/plain": [
       "[tensor(-2.7317),\n",
       " tensor(2.2020),\n",
       " tensor(-0.0114),\n",
       " tensor(-0.1183),\n",
       " tensor(2.1539),\n",
       " tensor(1.1192),\n",
       " tensor(1.6279),\n",
       " tensor(2.2686),\n",
       " tensor(1.8836),\n",
       " tensor(-0.2499),\n",
       " tensor(1.4789),\n",
       " tensor(1.3212),\n",
       " tensor(0.2753),\n",
       " tensor(1.0822),\n",
       " tensor(0.8769),\n",
       " tensor(1.6423),\n",
       " tensor(0.7947),\n",
       " tensor(1.6409),\n",
       " tensor(2.6443),\n",
       " tensor(-0.7279),\n",
       " tensor(2.3880),\n",
       " tensor(-1.0589),\n",
       " tensor(2.3231),\n",
       " tensor(-1.1874),\n",
       " tensor(2.7740),\n",
       " tensor(-0.5302),\n",
       " tensor(2.6618),\n",
       " tensor(-0.1971),\n",
       " tensor(-0.1593),\n",
       " tensor(1.9095),\n",
       " tensor(-0.0538),\n",
       " tensor(1.9543),\n",
       " tensor(-1.1134),\n",
       " tensor(0.5438),\n",
       " tensor(-1.5954),\n",
       " tensor(0.1579),\n",
       " tensor(-1.8283),\n",
       " tensor(1.7351),\n",
       " tensor(-0.1821),\n",
       " tensor(-1.6691),\n",
       " tensor(-1.7416),\n",
       " tensor(0.7545),\n",
       " tensor(-1.8997),\n",
       " tensor(1.0599),\n",
       " tensor(-2.6420),\n",
       " tensor(0.3579),\n",
       " tensor(1.1189),\n",
       " tensor(-0.8248),\n",
       " tensor(2.8067),\n",
       " tensor(-2.7147),\n",
       " tensor(-2.6384),\n",
       " tensor(-2.2516),\n",
       " tensor(0.0565),\n",
       " tensor(1.4536),\n",
       " tensor(1.7251),\n",
       " tensor(2.6113),\n",
       " tensor(-0.4088),\n",
       " tensor(2.2611),\n",
       " tensor(1.8752),\n",
       " tensor(0.0399),\n",
       " tensor(-1.4590),\n",
       " tensor(-0.3389),\n",
       " tensor(0.8342),\n",
       " tensor(2.1698),\n",
       " tensor(1.0427),\n",
       " tensor(2.8472),\n",
       " tensor(1.0651),\n",
       " tensor(-2.3115),\n",
       " tensor(0.9044),\n",
       " tensor(1.1479),\n",
       " tensor(-0.7422),\n",
       " tensor(0.7652),\n",
       " tensor(-2.0165),\n",
       " tensor(-1.0940),\n",
       " tensor(0.5716),\n",
       " tensor(1.1308),\n",
       " tensor(-2.6694),\n",
       " tensor(1.7372),\n",
       " tensor(-1.6781),\n",
       " tensor(-2.2447),\n",
       " tensor(-1.1307),\n",
       " tensor(0.3577),\n",
       " tensor(1.6217),\n",
       " tensor(0.0824),\n",
       " tensor(-0.3778),\n",
       " tensor(1.4412),\n",
       " tensor(-0.8039),\n",
       " tensor(2.3640),\n",
       " tensor(-2.1075),\n",
       " tensor(-0.3934),\n",
       " tensor(2.4323),\n",
       " tensor(1.8254),\n",
       " tensor(-1.1630),\n",
       " tensor(-0.7799),\n",
       " tensor(1.3318),\n",
       " tensor(0.0748),\n",
       " tensor(-2.6375),\n",
       " tensor(-1.6425),\n",
       " tensor(-0.1251),\n",
       " tensor(0.2844),\n",
       " tensor(-0.7171),\n",
       " tensor(1.9502),\n",
       " tensor(1.0264),\n",
       " tensor(0.6114),\n",
       " tensor(-0.2137),\n",
       " tensor(0.4909),\n",
       " tensor(0.0146),\n",
       " tensor(-0.3458),\n",
       " tensor(-0.6642),\n",
       " tensor(0.3833),\n",
       " tensor(0.0024),\n",
       " tensor(-1.0210),\n",
       " tensor(-1.3789),\n",
       " tensor(-0.0180),\n",
       " tensor(2.5953),\n",
       " tensor(1.2190),\n",
       " tensor(-0.2515),\n",
       " tensor(-0.7470),\n",
       " tensor(-0.4008),\n",
       " tensor(-0.0923),\n",
       " tensor(0.3159),\n",
       " tensor(-1.4187),\n",
       " tensor(-0.6717),\n",
       " tensor(-1.9740),\n",
       " tensor(0.6328),\n",
       " tensor(2.5867),\n",
       " tensor(-0.0179),\n",
       " tensor(-0.3513)]"
      ]
     },
     "execution_count": 42,
     "metadata": {},
     "output_type": "execute_result"
    }
   ],
   "source": [
    "\n",
    "rewards = [ torch.tensor(output[1][\"score\"]) for output in pipe_outputs]\n",
    "rewards\n"
   ]
  },
  {
   "cell_type": "code",
   "execution_count": 43,
   "metadata": {},
   "outputs": [
    {
     "data": {
      "text/plain": [
       "128"
      ]
     },
     "execution_count": 43,
     "metadata": {},
     "output_type": "execute_result"
    }
   ],
   "source": [
    "\n",
    "len(rewards)\n"
   ]
  },
  {
   "cell_type": "code",
   "execution_count": null,
   "metadata": {},
   "outputs": [],
   "source": [
    "\n",
    "\n",
    "\n",
    "\n",
    "    \n"
   ]
  },
  {
   "cell_type": "code",
   "execution_count": null,
   "metadata": {},
   "outputs": [],
   "source": []
  },
  {
   "cell_type": "code",
   "execution_count": null,
   "metadata": {},
   "outputs": [],
   "source": []
  },
  {
   "cell_type": "code",
   "execution_count": null,
   "metadata": {},
   "outputs": [],
   "source": []
  },
  {
   "cell_type": "code",
   "execution_count": null,
   "metadata": {},
   "outputs": [],
   "source": []
  },
  {
   "cell_type": "code",
   "execution_count": null,
   "metadata": {},
   "outputs": [],
   "source": []
  },
  {
   "cell_type": "code",
   "execution_count": 44,
   "metadata": {},
   "outputs": [
    {
     "name": "stderr",
     "output_type": "stream",
     "text": [
      "\r",
      "0it [00:00, ?it/s]"
     ]
    },
    {
     "name": "stdout",
     "output_type": "stream",
     "text": [
      "0\n"
     ]
    },
    {
     "name": "stderr",
     "output_type": "stream",
     "text": [
      "\r",
      "1it [00:09,  9.49s/it]"
     ]
    },
    {
     "name": "stdout",
     "output_type": "stream",
     "text": [
      "1\n"
     ]
    },
    {
     "name": "stderr",
     "output_type": "stream",
     "text": [
      "\r",
      "2it [00:19,  9.86s/it]"
     ]
    },
    {
     "name": "stdout",
     "output_type": "stream",
     "text": [
      "2\n"
     ]
    },
    {
     "name": "stderr",
     "output_type": "stream",
     "text": [
      "\r",
      "3it [00:29, 10.01s/it]"
     ]
    },
    {
     "name": "stdout",
     "output_type": "stream",
     "text": [
      "3\n"
     ]
    },
    {
     "name": "stderr",
     "output_type": "stream",
     "text": [
      "\r",
      "4it [00:40, 10.37s/it]"
     ]
    },
    {
     "name": "stdout",
     "output_type": "stream",
     "text": [
      "4\n"
     ]
    },
    {
     "name": "stderr",
     "output_type": "stream",
     "text": [
      "\r",
      "5it [00:51, 10.43s/it]"
     ]
    },
    {
     "name": "stdout",
     "output_type": "stream",
     "text": [
      "5\n"
     ]
    },
    {
     "name": "stderr",
     "output_type": "stream",
     "text": [
      "\r",
      "6it [01:01, 10.32s/it]"
     ]
    },
    {
     "name": "stdout",
     "output_type": "stream",
     "text": [
      "6\n"
     ]
    },
    {
     "name": "stderr",
     "output_type": "stream",
     "text": [
      "\r",
      "7it [01:11, 10.33s/it]"
     ]
    },
    {
     "name": "stdout",
     "output_type": "stream",
     "text": [
      "7\n"
     ]
    },
    {
     "name": "stderr",
     "output_type": "stream",
     "text": [
      "/home/rcalix/.local/lib/python3.8/site-packages/transformers/pipelines/base.py:1123: UserWarning: You seem to be using the pipelines sequentially on GPU. In order to maximize efficiency please use a dataset\n",
      "  warnings.warn(\n",
      "8it [01:22, 10.52s/it]"
     ]
    },
    {
     "name": "stdout",
     "output_type": "stream",
     "text": [
      "8\n"
     ]
    },
    {
     "name": "stderr",
     "output_type": "stream",
     "text": [
      "\r",
      "9it [01:33, 10.49s/it]"
     ]
    },
    {
     "name": "stdout",
     "output_type": "stream",
     "text": [
      "9\n"
     ]
    },
    {
     "name": "stderr",
     "output_type": "stream",
     "text": [
      "\r",
      "10it [01:43, 10.38s/it]"
     ]
    },
    {
     "name": "stdout",
     "output_type": "stream",
     "text": [
      "10\n"
     ]
    },
    {
     "name": "stderr",
     "output_type": "stream",
     "text": [
      "\r",
      "11it [01:53, 10.32s/it]"
     ]
    },
    {
     "name": "stdout",
     "output_type": "stream",
     "text": [
      "11\n"
     ]
    },
    {
     "name": "stderr",
     "output_type": "stream",
     "text": [
      "\r",
      "12it [02:03, 10.34s/it]"
     ]
    },
    {
     "name": "stdout",
     "output_type": "stream",
     "text": [
      "12\n"
     ]
    },
    {
     "name": "stderr",
     "output_type": "stream",
     "text": [
      "\r",
      "13it [02:14, 10.40s/it]"
     ]
    },
    {
     "name": "stdout",
     "output_type": "stream",
     "text": [
      "13\n"
     ]
    },
    {
     "name": "stderr",
     "output_type": "stream",
     "text": [
      "\r",
      "14it [02:25, 10.53s/it]"
     ]
    },
    {
     "name": "stdout",
     "output_type": "stream",
     "text": [
      "14\n"
     ]
    },
    {
     "name": "stderr",
     "output_type": "stream",
     "text": [
      "\r",
      "15it [02:35, 10.51s/it]"
     ]
    },
    {
     "name": "stdout",
     "output_type": "stream",
     "text": [
      "15\n"
     ]
    },
    {
     "name": "stderr",
     "output_type": "stream",
     "text": [
      "\r",
      "16it [02:46, 10.56s/it]"
     ]
    },
    {
     "name": "stdout",
     "output_type": "stream",
     "text": [
      "16\n"
     ]
    },
    {
     "name": "stderr",
     "output_type": "stream",
     "text": [
      "\r",
      "17it [02:56, 10.41s/it]"
     ]
    },
    {
     "name": "stdout",
     "output_type": "stream",
     "text": [
      "17\n"
     ]
    },
    {
     "name": "stderr",
     "output_type": "stream",
     "text": [
      "\r",
      "18it [03:06, 10.38s/it]"
     ]
    },
    {
     "name": "stdout",
     "output_type": "stream",
     "text": [
      "18\n"
     ]
    },
    {
     "name": "stderr",
     "output_type": "stream",
     "text": [
      "\r",
      "19it [03:17, 10.52s/it]"
     ]
    },
    {
     "name": "stdout",
     "output_type": "stream",
     "text": [
      "19\n"
     ]
    },
    {
     "name": "stderr",
     "output_type": "stream",
     "text": [
      "\r",
      "20it [03:28, 10.63s/it]"
     ]
    },
    {
     "name": "stdout",
     "output_type": "stream",
     "text": [
      "20\n"
     ]
    },
    {
     "name": "stderr",
     "output_type": "stream",
     "text": [
      "\r",
      "21it [03:39, 10.64s/it]"
     ]
    },
    {
     "name": "stdout",
     "output_type": "stream",
     "text": [
      "21\n"
     ]
    },
    {
     "name": "stderr",
     "output_type": "stream",
     "text": [
      "\r",
      "22it [03:49, 10.61s/it]"
     ]
    },
    {
     "name": "stdout",
     "output_type": "stream",
     "text": [
      "22\n"
     ]
    },
    {
     "name": "stderr",
     "output_type": "stream",
     "text": [
      "\r",
      "23it [03:59, 10.49s/it]"
     ]
    },
    {
     "name": "stdout",
     "output_type": "stream",
     "text": [
      "23\n"
     ]
    },
    {
     "name": "stderr",
     "output_type": "stream",
     "text": [
      "\r",
      "24it [04:10, 10.52s/it]"
     ]
    },
    {
     "name": "stdout",
     "output_type": "stream",
     "text": [
      "24\n"
     ]
    },
    {
     "name": "stderr",
     "output_type": "stream",
     "text": [
      "\r",
      "25it [04:20, 10.36s/it]"
     ]
    },
    {
     "name": "stdout",
     "output_type": "stream",
     "text": [
      "25\n"
     ]
    },
    {
     "name": "stderr",
     "output_type": "stream",
     "text": [
      "\r",
      "26it [04:31, 10.53s/it]"
     ]
    },
    {
     "name": "stdout",
     "output_type": "stream",
     "text": [
      "26\n"
     ]
    },
    {
     "name": "stderr",
     "output_type": "stream",
     "text": [
      "\r",
      "27it [04:41, 10.46s/it]"
     ]
    },
    {
     "name": "stdout",
     "output_type": "stream",
     "text": [
      "27\n"
     ]
    },
    {
     "name": "stderr",
     "output_type": "stream",
     "text": [
      "\r",
      "28it [04:51, 10.36s/it]"
     ]
    },
    {
     "name": "stdout",
     "output_type": "stream",
     "text": [
      "28\n"
     ]
    },
    {
     "name": "stderr",
     "output_type": "stream",
     "text": [
      "\r",
      "29it [05:01, 10.25s/it]"
     ]
    },
    {
     "name": "stdout",
     "output_type": "stream",
     "text": [
      "29\n"
     ]
    },
    {
     "name": "stderr",
     "output_type": "stream",
     "text": [
      "\r",
      "30it [05:12, 10.46s/it]"
     ]
    },
    {
     "name": "stdout",
     "output_type": "stream",
     "text": [
      "30\n"
     ]
    },
    {
     "name": "stderr",
     "output_type": "stream",
     "text": [
      "\r",
      "31it [05:23, 10.48s/it]"
     ]
    },
    {
     "name": "stdout",
     "output_type": "stream",
     "text": [
      "31\n"
     ]
    },
    {
     "name": "stderr",
     "output_type": "stream",
     "text": [
      "\r",
      "32it [05:33, 10.50s/it]"
     ]
    },
    {
     "name": "stdout",
     "output_type": "stream",
     "text": [
      "32\n"
     ]
    },
    {
     "name": "stderr",
     "output_type": "stream",
     "text": [
      "\r",
      "33it [05:43, 10.35s/it]"
     ]
    },
    {
     "name": "stdout",
     "output_type": "stream",
     "text": [
      "33\n"
     ]
    },
    {
     "name": "stderr",
     "output_type": "stream",
     "text": [
      "\r",
      "34it [05:54, 10.33s/it]"
     ]
    },
    {
     "name": "stdout",
     "output_type": "stream",
     "text": [
      "34\n"
     ]
    },
    {
     "name": "stderr",
     "output_type": "stream",
     "text": [
      "\r",
      "35it [06:04, 10.41s/it]"
     ]
    },
    {
     "name": "stdout",
     "output_type": "stream",
     "text": [
      "35\n"
     ]
    },
    {
     "name": "stderr",
     "output_type": "stream",
     "text": [
      "\r",
      "36it [06:14, 10.36s/it]"
     ]
    },
    {
     "name": "stdout",
     "output_type": "stream",
     "text": [
      "36\n"
     ]
    },
    {
     "name": "stderr",
     "output_type": "stream",
     "text": [
      "\r",
      "37it [06:25, 10.34s/it]"
     ]
    },
    {
     "name": "stdout",
     "output_type": "stream",
     "text": [
      "37\n"
     ]
    },
    {
     "name": "stderr",
     "output_type": "stream",
     "text": [
      "\r",
      "38it [06:35, 10.25s/it]"
     ]
    },
    {
     "name": "stdout",
     "output_type": "stream",
     "text": [
      "38\n"
     ]
    },
    {
     "name": "stderr",
     "output_type": "stream",
     "text": [
      "\r",
      "39it [06:45, 10.32s/it]"
     ]
    },
    {
     "name": "stdout",
     "output_type": "stream",
     "text": [
      "39\n"
     ]
    },
    {
     "name": "stderr",
     "output_type": "stream",
     "text": [
      "\r",
      "40it [06:55, 10.30s/it]"
     ]
    },
    {
     "name": "stdout",
     "output_type": "stream",
     "text": [
      "40\n"
     ]
    },
    {
     "name": "stderr",
     "output_type": "stream",
     "text": [
      "\r",
      "41it [07:06, 10.38s/it]"
     ]
    },
    {
     "name": "stdout",
     "output_type": "stream",
     "text": [
      "41\n"
     ]
    },
    {
     "name": "stderr",
     "output_type": "stream",
     "text": [
      "\r",
      "42it [07:16, 10.33s/it]"
     ]
    },
    {
     "name": "stdout",
     "output_type": "stream",
     "text": [
      "42\n"
     ]
    },
    {
     "name": "stderr",
     "output_type": "stream",
     "text": [
      "\r",
      "43it [07:27, 10.42s/it]"
     ]
    },
    {
     "name": "stdout",
     "output_type": "stream",
     "text": [
      "43\n"
     ]
    },
    {
     "name": "stderr",
     "output_type": "stream",
     "text": [
      "\r",
      "44it [07:37, 10.37s/it]"
     ]
    },
    {
     "name": "stdout",
     "output_type": "stream",
     "text": [
      "44\n"
     ]
    },
    {
     "name": "stderr",
     "output_type": "stream",
     "text": [
      "\r",
      "45it [07:47, 10.36s/it]"
     ]
    },
    {
     "name": "stdout",
     "output_type": "stream",
     "text": [
      "45\n"
     ]
    },
    {
     "name": "stderr",
     "output_type": "stream",
     "text": [
      "\r",
      "46it [07:58, 10.29s/it]"
     ]
    },
    {
     "name": "stdout",
     "output_type": "stream",
     "text": [
      "46\n"
     ]
    },
    {
     "name": "stderr",
     "output_type": "stream",
     "text": [
      "\r",
      "47it [08:07, 10.17s/it]"
     ]
    },
    {
     "name": "stdout",
     "output_type": "stream",
     "text": [
      "47\n"
     ]
    },
    {
     "name": "stderr",
     "output_type": "stream",
     "text": [
      "\r",
      "48it [08:18, 10.26s/it]"
     ]
    },
    {
     "name": "stdout",
     "output_type": "stream",
     "text": [
      "48\n"
     ]
    },
    {
     "name": "stderr",
     "output_type": "stream",
     "text": [
      "\r",
      "49it [08:29, 10.45s/it]"
     ]
    },
    {
     "name": "stdout",
     "output_type": "stream",
     "text": [
      "49\n"
     ]
    },
    {
     "name": "stderr",
     "output_type": "stream",
     "text": [
      "\r",
      "50it [08:39, 10.42s/it]"
     ]
    },
    {
     "name": "stdout",
     "output_type": "stream",
     "text": [
      "50\n"
     ]
    },
    {
     "name": "stderr",
     "output_type": "stream",
     "text": [
      "\r",
      "51it [08:49, 10.32s/it]"
     ]
    },
    {
     "name": "stdout",
     "output_type": "stream",
     "text": [
      "51\n"
     ]
    },
    {
     "name": "stderr",
     "output_type": "stream",
     "text": [
      "\r",
      "52it [09:00, 10.43s/it]"
     ]
    },
    {
     "name": "stdout",
     "output_type": "stream",
     "text": [
      "52\n"
     ]
    },
    {
     "name": "stderr",
     "output_type": "stream",
     "text": [
      "\r",
      "53it [09:10, 10.22s/it]"
     ]
    },
    {
     "name": "stdout",
     "output_type": "stream",
     "text": [
      "53\n"
     ]
    },
    {
     "name": "stderr",
     "output_type": "stream",
     "text": [
      "\r",
      "54it [09:20, 10.26s/it]"
     ]
    },
    {
     "name": "stdout",
     "output_type": "stream",
     "text": [
      "54\n"
     ]
    },
    {
     "name": "stderr",
     "output_type": "stream",
     "text": [
      "\r",
      "55it [09:30, 10.32s/it]"
     ]
    },
    {
     "name": "stdout",
     "output_type": "stream",
     "text": [
      "55\n"
     ]
    },
    {
     "name": "stderr",
     "output_type": "stream",
     "text": [
      "\r",
      "56it [09:41, 10.39s/it]"
     ]
    },
    {
     "name": "stdout",
     "output_type": "stream",
     "text": [
      "56\n"
     ]
    },
    {
     "name": "stderr",
     "output_type": "stream",
     "text": [
      "\r",
      "57it [09:52, 10.45s/it]"
     ]
    },
    {
     "name": "stdout",
     "output_type": "stream",
     "text": [
      "57\n"
     ]
    },
    {
     "name": "stderr",
     "output_type": "stream",
     "text": [
      "\r",
      "58it [10:01, 10.25s/it]"
     ]
    },
    {
     "name": "stdout",
     "output_type": "stream",
     "text": [
      "58\n"
     ]
    },
    {
     "name": "stderr",
     "output_type": "stream",
     "text": [
      "\r",
      "59it [10:12, 10.28s/it]"
     ]
    },
    {
     "name": "stdout",
     "output_type": "stream",
     "text": [
      "59\n"
     ]
    },
    {
     "name": "stderr",
     "output_type": "stream",
     "text": [
      "\r",
      "60it [10:21, 10.11s/it]"
     ]
    },
    {
     "name": "stdout",
     "output_type": "stream",
     "text": [
      "60\n"
     ]
    },
    {
     "name": "stderr",
     "output_type": "stream",
     "text": [
      "\r",
      "61it [10:32, 10.28s/it]"
     ]
    },
    {
     "name": "stdout",
     "output_type": "stream",
     "text": [
      "61\n"
     ]
    },
    {
     "name": "stderr",
     "output_type": "stream",
     "text": [
      "\r",
      "62it [10:43, 10.46s/it]"
     ]
    },
    {
     "name": "stdout",
     "output_type": "stream",
     "text": [
      "62\n"
     ]
    },
    {
     "name": "stderr",
     "output_type": "stream",
     "text": [
      "\r",
      "63it [10:53, 10.45s/it]"
     ]
    },
    {
     "name": "stdout",
     "output_type": "stream",
     "text": [
      "63\n"
     ]
    },
    {
     "name": "stderr",
     "output_type": "stream",
     "text": [
      "\r",
      "64it [11:04, 10.42s/it]"
     ]
    },
    {
     "name": "stdout",
     "output_type": "stream",
     "text": [
      "64\n"
     ]
    },
    {
     "name": "stderr",
     "output_type": "stream",
     "text": [
      "\r",
      "65it [11:14, 10.49s/it]"
     ]
    },
    {
     "name": "stdout",
     "output_type": "stream",
     "text": [
      "65\n"
     ]
    },
    {
     "name": "stderr",
     "output_type": "stream",
     "text": [
      "\r",
      "66it [11:25, 10.49s/it]"
     ]
    },
    {
     "name": "stdout",
     "output_type": "stream",
     "text": [
      "66\n"
     ]
    },
    {
     "name": "stderr",
     "output_type": "stream",
     "text": [
      "\r",
      "67it [11:35, 10.40s/it]"
     ]
    },
    {
     "name": "stdout",
     "output_type": "stream",
     "text": [
      "67\n"
     ]
    },
    {
     "name": "stderr",
     "output_type": "stream",
     "text": [
      "\r",
      "68it [11:45, 10.32s/it]"
     ]
    },
    {
     "name": "stdout",
     "output_type": "stream",
     "text": [
      "68\n"
     ]
    },
    {
     "name": "stderr",
     "output_type": "stream",
     "text": [
      "\r",
      "69it [11:55, 10.27s/it]"
     ]
    },
    {
     "name": "stdout",
     "output_type": "stream",
     "text": [
      "69\n"
     ]
    },
    {
     "name": "stderr",
     "output_type": "stream",
     "text": [
      "\r",
      "70it [12:06, 10.24s/it]"
     ]
    },
    {
     "name": "stdout",
     "output_type": "stream",
     "text": [
      "70\n"
     ]
    },
    {
     "name": "stderr",
     "output_type": "stream",
     "text": [
      "\r",
      "71it [12:16, 10.29s/it]"
     ]
    },
    {
     "name": "stdout",
     "output_type": "stream",
     "text": [
      "71\n"
     ]
    },
    {
     "name": "stderr",
     "output_type": "stream",
     "text": [
      "\r",
      "72it [12:26, 10.36s/it]"
     ]
    },
    {
     "name": "stdout",
     "output_type": "stream",
     "text": [
      "72\n"
     ]
    },
    {
     "name": "stderr",
     "output_type": "stream",
     "text": [
      "\r",
      "73it [12:37, 10.46s/it]"
     ]
    },
    {
     "name": "stdout",
     "output_type": "stream",
     "text": [
      "73\n"
     ]
    },
    {
     "name": "stderr",
     "output_type": "stream",
     "text": [
      "\r",
      "74it [12:47, 10.34s/it]"
     ]
    },
    {
     "name": "stdout",
     "output_type": "stream",
     "text": [
      "74\n"
     ]
    },
    {
     "name": "stderr",
     "output_type": "stream",
     "text": [
      "\r",
      "75it [12:58, 10.37s/it]"
     ]
    },
    {
     "name": "stdout",
     "output_type": "stream",
     "text": [
      "75\n"
     ]
    },
    {
     "name": "stderr",
     "output_type": "stream",
     "text": [
      "\r",
      "76it [13:08, 10.35s/it]"
     ]
    },
    {
     "name": "stdout",
     "output_type": "stream",
     "text": [
      "76\n"
     ]
    },
    {
     "name": "stderr",
     "output_type": "stream",
     "text": [
      "\r",
      "77it [13:18, 10.37s/it]"
     ]
    },
    {
     "name": "stdout",
     "output_type": "stream",
     "text": [
      "77\n"
     ]
    },
    {
     "name": "stderr",
     "output_type": "stream",
     "text": [
      "\r",
      "78it [13:29, 10.42s/it]"
     ]
    },
    {
     "name": "stdout",
     "output_type": "stream",
     "text": [
      "78\n"
     ]
    },
    {
     "name": "stderr",
     "output_type": "stream",
     "text": [
      "\r",
      "79it [13:39, 10.45s/it]"
     ]
    },
    {
     "name": "stdout",
     "output_type": "stream",
     "text": [
      "79\n"
     ]
    },
    {
     "name": "stderr",
     "output_type": "stream",
     "text": [
      "\r",
      "80it [13:50, 10.44s/it]"
     ]
    },
    {
     "name": "stdout",
     "output_type": "stream",
     "text": [
      "80\n"
     ]
    },
    {
     "name": "stderr",
     "output_type": "stream",
     "text": [
      "\r",
      "81it [14:01, 10.56s/it]"
     ]
    },
    {
     "name": "stdout",
     "output_type": "stream",
     "text": [
      "81\n"
     ]
    },
    {
     "name": "stderr",
     "output_type": "stream",
     "text": [
      "\r",
      "82it [14:11, 10.51s/it]"
     ]
    },
    {
     "name": "stdout",
     "output_type": "stream",
     "text": [
      "82\n"
     ]
    },
    {
     "name": "stderr",
     "output_type": "stream",
     "text": [
      "\r",
      "83it [14:21, 10.33s/it]"
     ]
    },
    {
     "name": "stdout",
     "output_type": "stream",
     "text": [
      "83\n"
     ]
    },
    {
     "name": "stderr",
     "output_type": "stream",
     "text": [
      "\r",
      "84it [14:31, 10.35s/it]"
     ]
    },
    {
     "name": "stdout",
     "output_type": "stream",
     "text": [
      "84\n"
     ]
    },
    {
     "name": "stderr",
     "output_type": "stream",
     "text": [
      "\r",
      "85it [14:42, 10.36s/it]"
     ]
    },
    {
     "name": "stdout",
     "output_type": "stream",
     "text": [
      "85\n"
     ]
    },
    {
     "name": "stderr",
     "output_type": "stream",
     "text": [
      "\r",
      "86it [14:53, 10.54s/it]"
     ]
    },
    {
     "name": "stdout",
     "output_type": "stream",
     "text": [
      "86\n"
     ]
    },
    {
     "name": "stderr",
     "output_type": "stream",
     "text": [
      "\r",
      "87it [15:03, 10.41s/it]"
     ]
    },
    {
     "name": "stdout",
     "output_type": "stream",
     "text": [
      "87\n"
     ]
    },
    {
     "name": "stderr",
     "output_type": "stream",
     "text": [
      "\r",
      "88it [15:13, 10.36s/it]"
     ]
    },
    {
     "name": "stdout",
     "output_type": "stream",
     "text": [
      "88\n"
     ]
    },
    {
     "name": "stderr",
     "output_type": "stream",
     "text": [
      "\r",
      "89it [15:24, 10.45s/it]"
     ]
    },
    {
     "name": "stdout",
     "output_type": "stream",
     "text": [
      "89\n"
     ]
    },
    {
     "name": "stderr",
     "output_type": "stream",
     "text": [
      "\r",
      "90it [15:35, 10.59s/it]"
     ]
    },
    {
     "name": "stdout",
     "output_type": "stream",
     "text": [
      "90\n"
     ]
    },
    {
     "name": "stderr",
     "output_type": "stream",
     "text": [
      "\r",
      "91it [15:45, 10.48s/it]"
     ]
    },
    {
     "name": "stdout",
     "output_type": "stream",
     "text": [
      "91\n"
     ]
    },
    {
     "name": "stderr",
     "output_type": "stream",
     "text": [
      "\r",
      "92it [15:56, 10.68s/it]"
     ]
    },
    {
     "name": "stdout",
     "output_type": "stream",
     "text": [
      "92\n"
     ]
    },
    {
     "name": "stderr",
     "output_type": "stream",
     "text": [
      "\r",
      "93it [16:07, 10.73s/it]"
     ]
    },
    {
     "name": "stdout",
     "output_type": "stream",
     "text": [
      "93\n"
     ]
    },
    {
     "name": "stderr",
     "output_type": "stream",
     "text": [
      "\r",
      "94it [16:17, 10.59s/it]"
     ]
    },
    {
     "name": "stdout",
     "output_type": "stream",
     "text": [
      "94\n"
     ]
    },
    {
     "name": "stderr",
     "output_type": "stream",
     "text": [
      "\r",
      "95it [16:28, 10.53s/it]"
     ]
    },
    {
     "name": "stdout",
     "output_type": "stream",
     "text": [
      "95\n"
     ]
    },
    {
     "name": "stderr",
     "output_type": "stream",
     "text": [
      "\r",
      "96it [16:38, 10.44s/it]"
     ]
    },
    {
     "name": "stdout",
     "output_type": "stream",
     "text": [
      "96\n"
     ]
    },
    {
     "name": "stderr",
     "output_type": "stream",
     "text": [
      "\r",
      "97it [16:48, 10.38s/it]"
     ]
    },
    {
     "name": "stdout",
     "output_type": "stream",
     "text": [
      "97\n"
     ]
    },
    {
     "name": "stderr",
     "output_type": "stream",
     "text": [
      "\r",
      "98it [16:58, 10.33s/it]"
     ]
    },
    {
     "name": "stdout",
     "output_type": "stream",
     "text": [
      "98\n"
     ]
    },
    {
     "name": "stderr",
     "output_type": "stream",
     "text": [
      "\r",
      "99it [17:09, 10.50s/it]"
     ]
    },
    {
     "name": "stdout",
     "output_type": "stream",
     "text": [
      "99\n"
     ]
    },
    {
     "name": "stderr",
     "output_type": "stream",
     "text": [
      "\r",
      "100it [17:20, 10.54s/it]"
     ]
    },
    {
     "name": "stdout",
     "output_type": "stream",
     "text": [
      "100\n"
     ]
    },
    {
     "name": "stderr",
     "output_type": "stream",
     "text": [
      "\r",
      "101it [17:30, 10.54s/it]"
     ]
    },
    {
     "name": "stdout",
     "output_type": "stream",
     "text": [
      "101\n"
     ]
    },
    {
     "name": "stderr",
     "output_type": "stream",
     "text": [
      "\r",
      "102it [17:41, 10.63s/it]"
     ]
    },
    {
     "name": "stdout",
     "output_type": "stream",
     "text": [
      "102\n"
     ]
    },
    {
     "name": "stderr",
     "output_type": "stream",
     "text": [
      "\r",
      "103it [17:52, 10.65s/it]"
     ]
    },
    {
     "name": "stdout",
     "output_type": "stream",
     "text": [
      "103\n"
     ]
    },
    {
     "name": "stderr",
     "output_type": "stream",
     "text": [
      "\r",
      "104it [18:02, 10.56s/it]"
     ]
    },
    {
     "name": "stdout",
     "output_type": "stream",
     "text": [
      "104\n"
     ]
    },
    {
     "name": "stderr",
     "output_type": "stream",
     "text": [
      "\r",
      "105it [18:13, 10.56s/it]"
     ]
    },
    {
     "name": "stdout",
     "output_type": "stream",
     "text": [
      "105\n"
     ]
    },
    {
     "name": "stderr",
     "output_type": "stream",
     "text": [
      "\r",
      "106it [18:23, 10.51s/it]"
     ]
    },
    {
     "name": "stdout",
     "output_type": "stream",
     "text": [
      "106\n"
     ]
    },
    {
     "name": "stderr",
     "output_type": "stream",
     "text": [
      "\r",
      "107it [18:34, 10.49s/it]"
     ]
    },
    {
     "name": "stdout",
     "output_type": "stream",
     "text": [
      "107\n"
     ]
    },
    {
     "name": "stderr",
     "output_type": "stream",
     "text": [
      "\r",
      "108it [18:44, 10.59s/it]"
     ]
    },
    {
     "name": "stdout",
     "output_type": "stream",
     "text": [
      "108\n"
     ]
    },
    {
     "name": "stderr",
     "output_type": "stream",
     "text": [
      "\r",
      "109it [18:55, 10.46s/it]"
     ]
    },
    {
     "name": "stdout",
     "output_type": "stream",
     "text": [
      "109\n"
     ]
    },
    {
     "name": "stderr",
     "output_type": "stream",
     "text": [
      "\r",
      "110it [19:05, 10.45s/it]"
     ]
    },
    {
     "name": "stdout",
     "output_type": "stream",
     "text": [
      "110\n"
     ]
    },
    {
     "name": "stderr",
     "output_type": "stream",
     "text": [
      "\r",
      "111it [19:16, 10.66s/it]"
     ]
    },
    {
     "name": "stdout",
     "output_type": "stream",
     "text": [
      "111\n"
     ]
    },
    {
     "name": "stderr",
     "output_type": "stream",
     "text": [
      "\r",
      "112it [19:26, 10.56s/it]"
     ]
    },
    {
     "name": "stdout",
     "output_type": "stream",
     "text": [
      "112\n"
     ]
    },
    {
     "name": "stderr",
     "output_type": "stream",
     "text": [
      "\r",
      "113it [19:37, 10.62s/it]"
     ]
    },
    {
     "name": "stdout",
     "output_type": "stream",
     "text": [
      "113\n"
     ]
    },
    {
     "name": "stderr",
     "output_type": "stream",
     "text": [
      "\r",
      "114it [19:48, 10.57s/it]"
     ]
    },
    {
     "name": "stdout",
     "output_type": "stream",
     "text": [
      "114\n"
     ]
    },
    {
     "name": "stderr",
     "output_type": "stream",
     "text": [
      "\r",
      "115it [19:58, 10.54s/it]"
     ]
    },
    {
     "name": "stdout",
     "output_type": "stream",
     "text": [
      "115\n"
     ]
    },
    {
     "name": "stderr",
     "output_type": "stream",
     "text": [
      "\r",
      "116it [20:08, 10.43s/it]"
     ]
    },
    {
     "name": "stdout",
     "output_type": "stream",
     "text": [
      "116\n"
     ]
    },
    {
     "name": "stderr",
     "output_type": "stream",
     "text": [
      "\r",
      "117it [20:19, 10.42s/it]"
     ]
    },
    {
     "name": "stdout",
     "output_type": "stream",
     "text": [
      "117\n"
     ]
    },
    {
     "name": "stderr",
     "output_type": "stream",
     "text": [
      "\r",
      "118it [20:29, 10.26s/it]"
     ]
    },
    {
     "name": "stdout",
     "output_type": "stream",
     "text": [
      "118\n"
     ]
    },
    {
     "name": "stderr",
     "output_type": "stream",
     "text": [
      "\r",
      "119it [20:39, 10.20s/it]"
     ]
    },
    {
     "name": "stdout",
     "output_type": "stream",
     "text": [
      "119\n"
     ]
    },
    {
     "name": "stderr",
     "output_type": "stream",
     "text": [
      "\r",
      "120it [20:50, 10.41s/it]"
     ]
    },
    {
     "name": "stdout",
     "output_type": "stream",
     "text": [
      "120\n"
     ]
    },
    {
     "name": "stderr",
     "output_type": "stream",
     "text": [
      "\r",
      "121it [21:00, 10.41s/it]"
     ]
    },
    {
     "name": "stdout",
     "output_type": "stream",
     "text": [
      "121\n"
     ]
    },
    {
     "name": "stderr",
     "output_type": "stream",
     "text": [
      "\r",
      "122it [21:10, 10.26s/it]"
     ]
    },
    {
     "name": "stdout",
     "output_type": "stream",
     "text": [
      "122\n"
     ]
    },
    {
     "name": "stderr",
     "output_type": "stream",
     "text": [
      "\r",
      "123it [21:20, 10.28s/it]"
     ]
    },
    {
     "name": "stdout",
     "output_type": "stream",
     "text": [
      "123\n"
     ]
    },
    {
     "name": "stderr",
     "output_type": "stream",
     "text": [
      "\r",
      "124it [21:30, 10.26s/it]"
     ]
    },
    {
     "name": "stdout",
     "output_type": "stream",
     "text": [
      "124\n"
     ]
    },
    {
     "name": "stderr",
     "output_type": "stream",
     "text": [
      "\r",
      "125it [21:41, 10.25s/it]"
     ]
    },
    {
     "name": "stdout",
     "output_type": "stream",
     "text": [
      "125\n"
     ]
    },
    {
     "name": "stderr",
     "output_type": "stream",
     "text": [
      "\r",
      "126it [21:51, 10.34s/it]"
     ]
    },
    {
     "name": "stdout",
     "output_type": "stream",
     "text": [
      "126\n"
     ]
    },
    {
     "name": "stderr",
     "output_type": "stream",
     "text": [
      "\r",
      "127it [22:02, 10.36s/it]"
     ]
    },
    {
     "name": "stdout",
     "output_type": "stream",
     "text": [
      "127\n"
     ]
    },
    {
     "name": "stderr",
     "output_type": "stream",
     "text": [
      "\r",
      "128it [22:13, 10.51s/it]"
     ]
    },
    {
     "name": "stdout",
     "output_type": "stream",
     "text": [
      "128\n"
     ]
    },
    {
     "name": "stderr",
     "output_type": "stream",
     "text": [
      "\r",
      "129it [22:23, 10.53s/it]"
     ]
    },
    {
     "name": "stdout",
     "output_type": "stream",
     "text": [
      "129\n"
     ]
    },
    {
     "name": "stderr",
     "output_type": "stream",
     "text": [
      "\r",
      "130it [22:33, 10.37s/it]"
     ]
    },
    {
     "name": "stdout",
     "output_type": "stream",
     "text": [
      "130\n"
     ]
    },
    {
     "name": "stderr",
     "output_type": "stream",
     "text": [
      "\r",
      "131it [22:43, 10.19s/it]"
     ]
    },
    {
     "name": "stdout",
     "output_type": "stream",
     "text": [
      "131\n"
     ]
    },
    {
     "name": "stderr",
     "output_type": "stream",
     "text": [
      "\r",
      "132it [22:53, 10.31s/it]"
     ]
    },
    {
     "name": "stdout",
     "output_type": "stream",
     "text": [
      "132\n"
     ]
    },
    {
     "name": "stderr",
     "output_type": "stream",
     "text": [
      "\r",
      "133it [23:04, 10.31s/it]"
     ]
    },
    {
     "name": "stdout",
     "output_type": "stream",
     "text": [
      "133\n"
     ]
    },
    {
     "name": "stderr",
     "output_type": "stream",
     "text": [
      "\r",
      "134it [23:14, 10.42s/it]"
     ]
    },
    {
     "name": "stdout",
     "output_type": "stream",
     "text": [
      "134\n"
     ]
    },
    {
     "name": "stderr",
     "output_type": "stream",
     "text": [
      "\r",
      "135it [23:25, 10.35s/it]"
     ]
    },
    {
     "name": "stdout",
     "output_type": "stream",
     "text": [
      "135\n"
     ]
    },
    {
     "name": "stderr",
     "output_type": "stream",
     "text": [
      "\r",
      "136it [23:35, 10.47s/it]"
     ]
    },
    {
     "name": "stdout",
     "output_type": "stream",
     "text": [
      "136\n"
     ]
    },
    {
     "name": "stderr",
     "output_type": "stream",
     "text": [
      "\r",
      "137it [23:46, 10.45s/it]"
     ]
    },
    {
     "name": "stdout",
     "output_type": "stream",
     "text": [
      "137\n"
     ]
    },
    {
     "name": "stderr",
     "output_type": "stream",
     "text": [
      "\r",
      "138it [23:56, 10.30s/it]"
     ]
    },
    {
     "name": "stdout",
     "output_type": "stream",
     "text": [
      "138\n"
     ]
    },
    {
     "name": "stderr",
     "output_type": "stream",
     "text": [
      "\r",
      "139it [24:06, 10.36s/it]"
     ]
    },
    {
     "name": "stdout",
     "output_type": "stream",
     "text": [
      "139\n"
     ]
    },
    {
     "name": "stderr",
     "output_type": "stream",
     "text": [
      "\r",
      "140it [24:17, 10.42s/it]"
     ]
    },
    {
     "name": "stdout",
     "output_type": "stream",
     "text": [
      "140\n"
     ]
    },
    {
     "name": "stderr",
     "output_type": "stream",
     "text": [
      "\r",
      "141it [24:27, 10.47s/it]"
     ]
    },
    {
     "name": "stdout",
     "output_type": "stream",
     "text": [
      "141\n"
     ]
    },
    {
     "name": "stderr",
     "output_type": "stream",
     "text": [
      "\r",
      "142it [24:38, 10.42s/it]"
     ]
    },
    {
     "name": "stdout",
     "output_type": "stream",
     "text": [
      "142\n"
     ]
    },
    {
     "name": "stderr",
     "output_type": "stream",
     "text": [
      "\r",
      "143it [24:48, 10.50s/it]"
     ]
    },
    {
     "name": "stdout",
     "output_type": "stream",
     "text": [
      "143\n"
     ]
    },
    {
     "name": "stderr",
     "output_type": "stream",
     "text": [
      "\r",
      "144it [24:59, 10.59s/it]"
     ]
    },
    {
     "name": "stdout",
     "output_type": "stream",
     "text": [
      "144\n"
     ]
    },
    {
     "name": "stderr",
     "output_type": "stream",
     "text": [
      "\r",
      "145it [25:09, 10.34s/it]"
     ]
    },
    {
     "name": "stdout",
     "output_type": "stream",
     "text": [
      "145\n"
     ]
    },
    {
     "name": "stderr",
     "output_type": "stream",
     "text": [
      "\r",
      "146it [25:20, 10.48s/it]"
     ]
    },
    {
     "name": "stdout",
     "output_type": "stream",
     "text": [
      "146\n"
     ]
    },
    {
     "name": "stderr",
     "output_type": "stream",
     "text": [
      "\r",
      "147it [25:30, 10.56s/it]"
     ]
    },
    {
     "name": "stdout",
     "output_type": "stream",
     "text": [
      "147\n"
     ]
    },
    {
     "name": "stderr",
     "output_type": "stream",
     "text": [
      "\r",
      "148it [25:41, 10.45s/it]"
     ]
    },
    {
     "name": "stdout",
     "output_type": "stream",
     "text": [
      "148\n"
     ]
    },
    {
     "name": "stderr",
     "output_type": "stream",
     "text": [
      "\r",
      "149it [25:51, 10.47s/it]"
     ]
    },
    {
     "name": "stdout",
     "output_type": "stream",
     "text": [
      "149\n"
     ]
    },
    {
     "name": "stderr",
     "output_type": "stream",
     "text": [
      "\r",
      "150it [26:01, 10.38s/it]"
     ]
    },
    {
     "name": "stdout",
     "output_type": "stream",
     "text": [
      "150\n"
     ]
    },
    {
     "name": "stderr",
     "output_type": "stream",
     "text": [
      "\r",
      "151it [26:12, 10.36s/it]"
     ]
    },
    {
     "name": "stdout",
     "output_type": "stream",
     "text": [
      "151\n"
     ]
    },
    {
     "name": "stderr",
     "output_type": "stream",
     "text": [
      "\r",
      "152it [26:23, 10.51s/it]"
     ]
    },
    {
     "name": "stdout",
     "output_type": "stream",
     "text": [
      "152\n"
     ]
    },
    {
     "name": "stderr",
     "output_type": "stream",
     "text": [
      "\r",
      "153it [26:32, 10.27s/it]"
     ]
    },
    {
     "name": "stdout",
     "output_type": "stream",
     "text": [
      "153\n"
     ]
    },
    {
     "name": "stderr",
     "output_type": "stream",
     "text": [
      "\r",
      "154it [26:43, 10.32s/it]"
     ]
    },
    {
     "name": "stdout",
     "output_type": "stream",
     "text": [
      "154\n"
     ]
    },
    {
     "name": "stderr",
     "output_type": "stream",
     "text": [
      "\r",
      "155it [26:53, 10.30s/it]"
     ]
    },
    {
     "name": "stdout",
     "output_type": "stream",
     "text": [
      "155\n"
     ]
    },
    {
     "name": "stderr",
     "output_type": "stream",
     "text": [
      "\r",
      "156it [27:03, 10.37s/it]"
     ]
    },
    {
     "name": "stdout",
     "output_type": "stream",
     "text": [
      "156\n"
     ]
    },
    {
     "name": "stderr",
     "output_type": "stream",
     "text": [
      "\r",
      "157it [27:14, 10.55s/it]"
     ]
    },
    {
     "name": "stdout",
     "output_type": "stream",
     "text": [
      "157\n"
     ]
    },
    {
     "name": "stderr",
     "output_type": "stream",
     "text": [
      "\r",
      "158it [27:25, 10.54s/it]"
     ]
    },
    {
     "name": "stdout",
     "output_type": "stream",
     "text": [
      "158\n"
     ]
    },
    {
     "name": "stderr",
     "output_type": "stream",
     "text": [
      "\r",
      "159it [27:35, 10.51s/it]"
     ]
    },
    {
     "name": "stdout",
     "output_type": "stream",
     "text": [
      "159\n"
     ]
    },
    {
     "name": "stderr",
     "output_type": "stream",
     "text": [
      "\r",
      "160it [27:46, 10.55s/it]"
     ]
    },
    {
     "name": "stdout",
     "output_type": "stream",
     "text": [
      "160\n"
     ]
    },
    {
     "name": "stderr",
     "output_type": "stream",
     "text": [
      "\r",
      "161it [27:56, 10.48s/it]"
     ]
    },
    {
     "name": "stdout",
     "output_type": "stream",
     "text": [
      "161\n"
     ]
    },
    {
     "name": "stderr",
     "output_type": "stream",
     "text": [
      "\r",
      "162it [28:07, 10.43s/it]"
     ]
    },
    {
     "name": "stdout",
     "output_type": "stream",
     "text": [
      "162\n"
     ]
    },
    {
     "name": "stderr",
     "output_type": "stream",
     "text": [
      "\r",
      "163it [28:17, 10.45s/it]"
     ]
    },
    {
     "name": "stdout",
     "output_type": "stream",
     "text": [
      "163\n"
     ]
    },
    {
     "name": "stderr",
     "output_type": "stream",
     "text": [
      "\r",
      "164it [28:28, 10.62s/it]"
     ]
    },
    {
     "name": "stdout",
     "output_type": "stream",
     "text": [
      "164\n"
     ]
    },
    {
     "name": "stderr",
     "output_type": "stream",
     "text": [
      "\r",
      "165it [28:39, 10.64s/it]"
     ]
    },
    {
     "name": "stdout",
     "output_type": "stream",
     "text": [
      "165\n"
     ]
    },
    {
     "name": "stderr",
     "output_type": "stream",
     "text": [
      "\r",
      "166it [28:49, 10.59s/it]"
     ]
    },
    {
     "name": "stdout",
     "output_type": "stream",
     "text": [
      "166\n"
     ]
    },
    {
     "name": "stderr",
     "output_type": "stream",
     "text": [
      "\r",
      "167it [29:00, 10.56s/it]"
     ]
    },
    {
     "name": "stdout",
     "output_type": "stream",
     "text": [
      "167\n"
     ]
    },
    {
     "name": "stderr",
     "output_type": "stream",
     "text": [
      "\r",
      "168it [29:10, 10.48s/it]"
     ]
    },
    {
     "name": "stdout",
     "output_type": "stream",
     "text": [
      "168\n"
     ]
    },
    {
     "name": "stderr",
     "output_type": "stream",
     "text": [
      "\r",
      "169it [29:21, 10.51s/it]"
     ]
    },
    {
     "name": "stdout",
     "output_type": "stream",
     "text": [
      "169\n"
     ]
    },
    {
     "name": "stderr",
     "output_type": "stream",
     "text": [
      "\r",
      "170it [29:31, 10.42s/it]"
     ]
    },
    {
     "name": "stdout",
     "output_type": "stream",
     "text": [
      "170\n"
     ]
    },
    {
     "name": "stderr",
     "output_type": "stream",
     "text": [
      "\r",
      "171it [29:41, 10.30s/it]"
     ]
    },
    {
     "name": "stdout",
     "output_type": "stream",
     "text": [
      "171\n"
     ]
    },
    {
     "name": "stderr",
     "output_type": "stream",
     "text": [
      "\r",
      "172it [29:52, 10.48s/it]"
     ]
    },
    {
     "name": "stdout",
     "output_type": "stream",
     "text": [
      "172\n"
     ]
    },
    {
     "name": "stderr",
     "output_type": "stream",
     "text": [
      "\r",
      "173it [30:03, 10.55s/it]"
     ]
    },
    {
     "name": "stdout",
     "output_type": "stream",
     "text": [
      "173\n"
     ]
    },
    {
     "name": "stderr",
     "output_type": "stream",
     "text": [
      "\r",
      "174it [30:13, 10.38s/it]"
     ]
    },
    {
     "name": "stdout",
     "output_type": "stream",
     "text": [
      "174\n"
     ]
    },
    {
     "name": "stderr",
     "output_type": "stream",
     "text": [
      "\r",
      "175it [30:23, 10.41s/it]"
     ]
    },
    {
     "name": "stdout",
     "output_type": "stream",
     "text": [
      "175\n"
     ]
    },
    {
     "name": "stderr",
     "output_type": "stream",
     "text": [
      "\r",
      "176it [30:33, 10.37s/it]"
     ]
    },
    {
     "name": "stdout",
     "output_type": "stream",
     "text": [
      "176\n"
     ]
    },
    {
     "name": "stderr",
     "output_type": "stream",
     "text": [
      "\r",
      "177it [30:44, 10.47s/it]"
     ]
    },
    {
     "name": "stdout",
     "output_type": "stream",
     "text": [
      "177\n"
     ]
    },
    {
     "name": "stderr",
     "output_type": "stream",
     "text": [
      "\r",
      "178it [30:54, 10.34s/it]"
     ]
    },
    {
     "name": "stdout",
     "output_type": "stream",
     "text": [
      "178\n"
     ]
    },
    {
     "name": "stderr",
     "output_type": "stream",
     "text": [
      "\r",
      "179it [31:05, 10.47s/it]"
     ]
    },
    {
     "name": "stdout",
     "output_type": "stream",
     "text": [
      "179\n"
     ]
    },
    {
     "name": "stderr",
     "output_type": "stream",
     "text": [
      "\r",
      "180it [31:15, 10.37s/it]"
     ]
    },
    {
     "name": "stdout",
     "output_type": "stream",
     "text": [
      "180\n"
     ]
    },
    {
     "name": "stderr",
     "output_type": "stream",
     "text": [
      "\r",
      "181it [31:26, 10.59s/it]"
     ]
    },
    {
     "name": "stdout",
     "output_type": "stream",
     "text": [
      "181\n"
     ]
    },
    {
     "name": "stderr",
     "output_type": "stream",
     "text": [
      "\r",
      "182it [31:37, 10.59s/it]"
     ]
    },
    {
     "name": "stdout",
     "output_type": "stream",
     "text": [
      "182\n"
     ]
    },
    {
     "name": "stderr",
     "output_type": "stream",
     "text": [
      "\r",
      "183it [31:47, 10.54s/it]"
     ]
    },
    {
     "name": "stdout",
     "output_type": "stream",
     "text": [
      "183\n"
     ]
    },
    {
     "name": "stderr",
     "output_type": "stream",
     "text": [
      "\r",
      "184it [31:57, 10.36s/it]"
     ]
    },
    {
     "name": "stdout",
     "output_type": "stream",
     "text": [
      "184\n"
     ]
    },
    {
     "name": "stderr",
     "output_type": "stream",
     "text": [
      "\r",
      "185it [32:07, 10.36s/it]"
     ]
    },
    {
     "name": "stdout",
     "output_type": "stream",
     "text": [
      "185\n"
     ]
    },
    {
     "name": "stderr",
     "output_type": "stream",
     "text": [
      "\r",
      "186it [32:18, 10.31s/it]"
     ]
    },
    {
     "name": "stdout",
     "output_type": "stream",
     "text": [
      "186\n"
     ]
    },
    {
     "name": "stderr",
     "output_type": "stream",
     "text": [
      "\r",
      "187it [32:28, 10.39s/it]"
     ]
    },
    {
     "name": "stdout",
     "output_type": "stream",
     "text": [
      "187\n"
     ]
    },
    {
     "name": "stderr",
     "output_type": "stream",
     "text": [
      "\r",
      "188it [32:39, 10.50s/it]"
     ]
    },
    {
     "name": "stdout",
     "output_type": "stream",
     "text": [
      "188\n"
     ]
    },
    {
     "name": "stderr",
     "output_type": "stream",
     "text": [
      "\r",
      "189it [32:49, 10.40s/it]"
     ]
    },
    {
     "name": "stdout",
     "output_type": "stream",
     "text": [
      "189\n"
     ]
    },
    {
     "name": "stderr",
     "output_type": "stream",
     "text": [
      "\r",
      "190it [32:59, 10.38s/it]"
     ]
    },
    {
     "name": "stdout",
     "output_type": "stream",
     "text": [
      "190\n"
     ]
    },
    {
     "name": "stderr",
     "output_type": "stream",
     "text": [
      "\r",
      "191it [33:10, 10.39s/it]"
     ]
    },
    {
     "name": "stdout",
     "output_type": "stream",
     "text": [
      "191\n"
     ]
    },
    {
     "name": "stderr",
     "output_type": "stream",
     "text": [
      "\r",
      "192it [33:20, 10.29s/it]"
     ]
    },
    {
     "name": "stdout",
     "output_type": "stream",
     "text": [
      "192\n"
     ]
    },
    {
     "name": "stderr",
     "output_type": "stream",
     "text": [
      "\r",
      "193it [33:30, 10.32s/it]"
     ]
    },
    {
     "name": "stdout",
     "output_type": "stream",
     "text": [
      "193\n"
     ]
    },
    {
     "name": "stderr",
     "output_type": "stream",
     "text": [
      "194it [33:40, 10.42s/it]\n"
     ]
    }
   ],
   "source": [
    "\n",
    "for epoch, batch in tqdm(enumerate(ppo_trainer.dataloader)):\n",
    "    query_tensors = batch[\"input_ids\"]\n",
    "    print(epoch)\n",
    "\n",
    "    #### Get response from gpt2\n",
    "    response_tensors = []\n",
    "    for query in query_tensors:\n",
    "        gen_len                             = output_length_sampler()\n",
    "        generation_kwargs[\"max_new_tokens\"] = gen_len\n",
    "        response                            = ppo_trainer.generate(query, **generation_kwargs)\n",
    "        response_tensors.append( response.squeeze()[-gen_len:] )\n",
    "    batch[\"response\"] = [ tokenizer.decode(r.squeeze()) for r in response_tensors ]\n",
    "\n",
    "    #### Compute sentiment score\n",
    "    texts = [q + r for q, r in zip(batch[\"query\"], batch[\"response\"])]\n",
    "    pipe_outputs = sentiment_pipe(texts, **sent_kwargs)\n",
    "    rewards = [ torch.tensor(output[1][\"score\"]) for output in pipe_outputs]\n",
    "\n",
    "    #### Run PPO step\n",
    "    stats = ppo_trainer.step(\n",
    "                     query_tensors, \n",
    "                     response_tensors, \n",
    "                     rewards\n",
    "    )\n",
    "    ppo_trainer.log_stats(stats, batch, rewards)\n",
    "    \n"
   ]
  },
  {
   "cell_type": "code",
   "execution_count": null,
   "metadata": {},
   "outputs": [],
   "source": []
  },
  {
   "cell_type": "code",
   "execution_count": 45,
   "metadata": {},
   "outputs": [
    {
     "data": {
      "text/plain": [
       "'NVIDIA A30'"
      ]
     },
     "execution_count": 45,
     "metadata": {},
     "output_type": "execute_result"
    }
   ],
   "source": [
    "\n",
    "torch.cuda.get_device_name(0)\n"
   ]
  },
  {
   "cell_type": "markdown",
   "metadata": {},
   "source": [
    "\n",
    "One can observe how the model starts to generate more positive outputs after a few optimisation steps.\n",
    "\n",
    "Note: Investigating the KL-divergence will probably show that at this point the model has not converged to the target KL-divergence, yet. To get there would require longer training or starting with a higher initial coefficient.\n"
   ]
  },
  {
   "cell_type": "markdown",
   "metadata": {},
   "source": [
    "\n",
    "Let's inspect some examples from the IMDB dataset. We can use model_ref to compare the tuned model model against the model before optimisation.\n"
   ]
  },
  {
   "cell_type": "code",
   "execution_count": 46,
   "metadata": {},
   "outputs": [],
   "source": [
    "\n",
    "#### get a batch from the dataset\n",
    "bs                 = 16\n",
    "game_data          = dict()\n"
   ]
  },
  {
   "cell_type": "code",
   "execution_count": 47,
   "metadata": {},
   "outputs": [
    {
     "data": {
      "text/plain": [
       "{}"
      ]
     },
     "execution_count": 47,
     "metadata": {},
     "output_type": "execute_result"
    }
   ],
   "source": [
    "\n",
    "game_data \n"
   ]
  },
  {
   "cell_type": "code",
   "execution_count": 48,
   "metadata": {},
   "outputs": [],
   "source": [
    "\n",
    "dataset.set_format(\"pandas\")\n"
   ]
  },
  {
   "cell_type": "code",
   "execution_count": 49,
   "metadata": {},
   "outputs": [
    {
     "data": {
      "text/html": [
       "<div>\n",
       "<style scoped>\n",
       "    .dataframe tbody tr th:only-of-type {\n",
       "        vertical-align: middle;\n",
       "    }\n",
       "\n",
       "    .dataframe tbody tr th {\n",
       "        vertical-align: top;\n",
       "    }\n",
       "\n",
       "    .dataframe thead th {\n",
       "        text-align: right;\n",
       "    }\n",
       "</style>\n",
       "<table border=\"1\" class=\"dataframe\">\n",
       "  <thead>\n",
       "    <tr style=\"text-align: right;\">\n",
       "      <th></th>\n",
       "      <th>review</th>\n",
       "      <th>label</th>\n",
       "      <th>input_ids</th>\n",
       "      <th>query</th>\n",
       "    </tr>\n",
       "  </thead>\n",
       "  <tbody>\n",
       "    <tr>\n",
       "      <th>9325</th>\n",
       "      <td>Well I guess I know the answer to that questio...</td>\n",
       "      <td>0</td>\n",
       "      <td>[5779, 314]</td>\n",
       "      <td>Well I</td>\n",
       "    </tr>\n",
       "    <tr>\n",
       "      <th>23943</th>\n",
       "      <td>This is an excellent, fast paced thriller by W...</td>\n",
       "      <td>1</td>\n",
       "      <td>[1212, 318, 281, 6275, 11, 3049]</td>\n",
       "      <td>This is an excellent, fast</td>\n",
       "    </tr>\n",
       "    <tr>\n",
       "      <th>10309</th>\n",
       "      <td>Now, I flicked onto this just out of curiosity...</td>\n",
       "      <td>0</td>\n",
       "      <td>[3844, 11, 314, 781]</td>\n",
       "      <td>Now, I fl</td>\n",
       "    </tr>\n",
       "    <tr>\n",
       "      <th>14702</th>\n",
       "      <td>We tend to forget that the master/slave contex...</td>\n",
       "      <td>1</td>\n",
       "      <td>[1135, 4327, 284, 6044, 326, 262]</td>\n",
       "      <td>We tend to forget that the</td>\n",
       "    </tr>\n",
       "    <tr>\n",
       "      <th>4466</th>\n",
       "      <td>The proverb \"Never judge a book by it's cover\"...</td>\n",
       "      <td>0</td>\n",
       "      <td>[464, 36950]</td>\n",
       "      <td>The proverb</td>\n",
       "    </tr>\n",
       "    <tr>\n",
       "      <th>8982</th>\n",
       "      <td>I've never understood the appeal of Garbo. She...</td>\n",
       "      <td>0</td>\n",
       "      <td>[40, 1053, 1239, 7247]</td>\n",
       "      <td>I've never understood</td>\n",
       "    </tr>\n",
       "    <tr>\n",
       "      <th>14943</th>\n",
       "      <td>Hugh (Ed Harris) is a hotshot, bachelor senato...</td>\n",
       "      <td>1</td>\n",
       "      <td>[39, 6724, 357, 7407, 10026]</td>\n",
       "      <td>Hugh (Ed Harris</td>\n",
       "    </tr>\n",
       "    <tr>\n",
       "      <th>16515</th>\n",
       "      <td>This particular Joe McDoakes short subject was...</td>\n",
       "      <td>1</td>\n",
       "      <td>[1212, 1948, 5689, 1982]</td>\n",
       "      <td>This particular Joe Mc</td>\n",
       "    </tr>\n",
       "    <tr>\n",
       "      <th>13573</th>\n",
       "      <td>Sisters In Law is made by the same directors o...</td>\n",
       "      <td>1</td>\n",
       "      <td>[50, 6223, 554, 3854, 318, 925, 416]</td>\n",
       "      <td>Sisters In Law is made by</td>\n",
       "    </tr>\n",
       "    <tr>\n",
       "      <th>16473</th>\n",
       "      <td>I was very fond of this film. It kept me guess...</td>\n",
       "      <td>1</td>\n",
       "      <td>[40, 373, 845, 16245, 286]</td>\n",
       "      <td>I was very fond of</td>\n",
       "    </tr>\n",
       "    <tr>\n",
       "      <th>10149</th>\n",
       "      <td>If he wanted to be accurate, he should have ch...</td>\n",
       "      <td>0</td>\n",
       "      <td>[1532, 339, 2227, 284, 307, 7187]</td>\n",
       "      <td>If he wanted to be accurate</td>\n",
       "    </tr>\n",
       "    <tr>\n",
       "      <th>20765</th>\n",
       "      <td>Thats My Bush is first of all a very entertain...</td>\n",
       "      <td>1</td>\n",
       "      <td>[817, 1381]</td>\n",
       "      <td>Thats</td>\n",
       "    </tr>\n",
       "    <tr>\n",
       "      <th>16242</th>\n",
       "      <td>This is possibly the best short crime drama I'...</td>\n",
       "      <td>1</td>\n",
       "      <td>[1212, 318, 5457, 262]</td>\n",
       "      <td>This is possibly the</td>\n",
       "    </tr>\n",
       "    <tr>\n",
       "      <th>18014</th>\n",
       "      <td>Some people say this is the best film that PRC...</td>\n",
       "      <td>1</td>\n",
       "      <td>[4366, 661, 910, 428, 318]</td>\n",
       "      <td>Some people say this is</td>\n",
       "    </tr>\n",
       "    <tr>\n",
       "      <th>2193</th>\n",
       "      <td>A remake of Alejandro Amenabar's Abre los Ojos...</td>\n",
       "      <td>0</td>\n",
       "      <td>[32, 28763, 286]</td>\n",
       "      <td>A remake of</td>\n",
       "    </tr>\n",
       "    <tr>\n",
       "      <th>8591</th>\n",
       "      <td>What a terrible film. It sucked. It was terrib...</td>\n",
       "      <td>0</td>\n",
       "      <td>[2061, 257, 7818, 2646, 13, 632, 25669]</td>\n",
       "      <td>What a terrible film. It sucked</td>\n",
       "    </tr>\n",
       "  </tbody>\n",
       "</table>\n",
       "</div>"
      ],
      "text/plain": [
       "                                                  review  label  \\\n",
       "9325   Well I guess I know the answer to that questio...      0   \n",
       "23943  This is an excellent, fast paced thriller by W...      1   \n",
       "10309  Now, I flicked onto this just out of curiosity...      0   \n",
       "14702  We tend to forget that the master/slave contex...      1   \n",
       "4466   The proverb \"Never judge a book by it's cover\"...      0   \n",
       "8982   I've never understood the appeal of Garbo. She...      0   \n",
       "14943  Hugh (Ed Harris) is a hotshot, bachelor senato...      1   \n",
       "16515  This particular Joe McDoakes short subject was...      1   \n",
       "13573  Sisters In Law is made by the same directors o...      1   \n",
       "16473  I was very fond of this film. It kept me guess...      1   \n",
       "10149  If he wanted to be accurate, he should have ch...      0   \n",
       "20765  Thats My Bush is first of all a very entertain...      1   \n",
       "16242  This is possibly the best short crime drama I'...      1   \n",
       "18014  Some people say this is the best film that PRC...      1   \n",
       "2193   A remake of Alejandro Amenabar's Abre los Ojos...      0   \n",
       "8591   What a terrible film. It sucked. It was terrib...      0   \n",
       "\n",
       "                                     input_ids  \\\n",
       "9325                               [5779, 314]   \n",
       "23943         [1212, 318, 281, 6275, 11, 3049]   \n",
       "10309                     [3844, 11, 314, 781]   \n",
       "14702        [1135, 4327, 284, 6044, 326, 262]   \n",
       "4466                              [464, 36950]   \n",
       "8982                    [40, 1053, 1239, 7247]   \n",
       "14943             [39, 6724, 357, 7407, 10026]   \n",
       "16515                 [1212, 1948, 5689, 1982]   \n",
       "13573     [50, 6223, 554, 3854, 318, 925, 416]   \n",
       "16473               [40, 373, 845, 16245, 286]   \n",
       "10149        [1532, 339, 2227, 284, 307, 7187]   \n",
       "20765                              [817, 1381]   \n",
       "16242                   [1212, 318, 5457, 262]   \n",
       "18014               [4366, 661, 910, 428, 318]   \n",
       "2193                          [32, 28763, 286]   \n",
       "8591   [2061, 257, 7818, 2646, 13, 632, 25669]   \n",
       "\n",
       "                                 query  \n",
       "9325                            Well I  \n",
       "23943       This is an excellent, fast  \n",
       "10309                        Now, I fl  \n",
       "14702       We tend to forget that the  \n",
       "4466                       The proverb  \n",
       "8982             I've never understood  \n",
       "14943                  Hugh (Ed Harris  \n",
       "16515           This particular Joe Mc  \n",
       "13573        Sisters In Law is made by  \n",
       "16473               I was very fond of  \n",
       "10149      If he wanted to be accurate  \n",
       "20765                            Thats  \n",
       "16242             This is possibly the  \n",
       "18014          Some people say this is  \n",
       "2193                       A remake of  \n",
       "8591   What a terrible film. It sucked  "
      ]
     },
     "execution_count": 49,
     "metadata": {},
     "output_type": "execute_result"
    }
   ],
   "source": [
    "\n",
    "df_batch           = dataset[:].sample(bs)\n",
    "df_batch \n"
   ]
  },
  {
   "cell_type": "code",
   "execution_count": 50,
   "metadata": {},
   "outputs": [],
   "source": [
    "\n",
    "game_data[\"query\"] = df_batch[\"query\"].tolist()\n",
    "query_tensors      = df_batch[\"input_ids\"].tolist()\n"
   ]
  },
  {
   "cell_type": "code",
   "execution_count": 51,
   "metadata": {},
   "outputs": [],
   "source": [
    "\n",
    "response_tensors_ref, response_tensors = [], []\n"
   ]
  },
  {
   "cell_type": "code",
   "execution_count": 52,
   "metadata": {},
   "outputs": [],
   "source": [
    "\n",
    "#### get response from gpt2 and gpt2_ref\n",
    "for i in range(bs):\n",
    "    gen_len = output_length_sampler()\n",
    "    \n",
    "    output  = ref_model.generate(\n",
    "        torch.tensor(query_tensors[i]).unsqueeze(dim=0).to(device), max_new_tokens=gen_len, **gen_kwargs\n",
    "    ).squeeze()[-gen_len:]\n",
    "    response_tensors_ref.append(output)\n",
    "    \n",
    "    \n",
    "    output = model.generate(\n",
    "        torch.tensor(query_tensors[i]).unsqueeze(dim=0).to(device), max_new_tokens=gen_len, **gen_kwargs\n",
    "    ).squeeze()[-gen_len:]\n",
    "    response_tensors.append(output)\n"
   ]
  },
  {
   "cell_type": "code",
   "execution_count": 53,
   "metadata": {},
   "outputs": [],
   "source": [
    "\n",
    "#### decode responses\n",
    "game_data[\"response (before)\"] = [tokenizer.decode(response_tensors_ref[i]) for i in range(bs)]\n",
    "game_data[\"response (after)\"]  = [tokenizer.decode(response_tensors[i]) for i in range(bs)]\n"
   ]
  },
  {
   "cell_type": "code",
   "execution_count": 54,
   "metadata": {},
   "outputs": [
    {
     "name": "stderr",
     "output_type": "stream",
     "text": [
      "/home/rcalix/.local/lib/python3.8/site-packages/transformers/pipelines/text_classification.py:105: UserWarning: `return_all_scores` is now deprecated,  if want a similar functionality use `top_k=None` instead of `return_all_scores=True` or `top_k=1` instead of `return_all_scores=False`.\n",
      "  warnings.warn(\n",
      "/home/rcalix/.local/lib/python3.8/site-packages/transformers/pipelines/base.py:1123: UserWarning: You seem to be using the pipelines sequentially on GPU. In order to maximize efficiency please use a dataset\n",
      "  warnings.warn(\n"
     ]
    }
   ],
   "source": [
    "\n",
    "#### sentiment analysis of query/response pairs before/after\n",
    "texts = [q + r for q, r in zip(game_data[\"query\"], game_data[\"response (before)\"])]\n",
    "game_data[\"rewards (before)\"] = [output[1][\"score\"] for output in sentiment_pipe(texts, **sent_kwargs)]\n"
   ]
  },
  {
   "cell_type": "code",
   "execution_count": 55,
   "metadata": {},
   "outputs": [],
   "source": [
    "\n",
    "texts = [q + r for q, r in zip(game_data[\"query\"], game_data[\"response (after)\"])]\n",
    "game_data[\"rewards (after)\"] = [output[1][\"score\"] for output in sentiment_pipe(texts, **sent_kwargs)]\n"
   ]
  },
  {
   "cell_type": "code",
   "execution_count": 56,
   "metadata": {},
   "outputs": [
    {
     "data": {
      "text/html": [
       "<div>\n",
       "<style scoped>\n",
       "    .dataframe tbody tr th:only-of-type {\n",
       "        vertical-align: middle;\n",
       "    }\n",
       "\n",
       "    .dataframe tbody tr th {\n",
       "        vertical-align: top;\n",
       "    }\n",
       "\n",
       "    .dataframe thead th {\n",
       "        text-align: right;\n",
       "    }\n",
       "</style>\n",
       "<table border=\"1\" class=\"dataframe\">\n",
       "  <thead>\n",
       "    <tr style=\"text-align: right;\">\n",
       "      <th></th>\n",
       "      <th>query</th>\n",
       "      <th>response (before)</th>\n",
       "      <th>response (after)</th>\n",
       "      <th>rewards (before)</th>\n",
       "      <th>rewards (after)</th>\n",
       "    </tr>\n",
       "  </thead>\n",
       "  <tbody>\n",
       "    <tr>\n",
       "      <th>0</th>\n",
       "      <td>Well I</td>\n",
       "      <td>don't know why they</td>\n",
       "      <td>love THIS, wonderful film</td>\n",
       "      <td>-1.327288</td>\n",
       "      <td>2.887235</td>\n",
       "    </tr>\n",
       "    <tr>\n",
       "      <th>1</th>\n",
       "      <td>This is an excellent, fast</td>\n",
       "      <td>-paced ride, with big action scenes</td>\n",
       "      <td>moving story with a nice idea of contemporary</td>\n",
       "      <td>2.836497</td>\n",
       "      <td>2.924836</td>\n",
       "    </tr>\n",
       "    <tr>\n",
       "      <th>2</th>\n",
       "      <td>Now, I fl</td>\n",
       "      <td>inched. It was so wrong</td>\n",
       "      <td>ocked to this hilarious show, and</td>\n",
       "      <td>-1.446260</td>\n",
       "      <td>2.764766</td>\n",
       "    </tr>\n",
       "    <tr>\n",
       "      <th>3</th>\n",
       "      <td>We tend to forget that the</td>\n",
       "      <td>picture itself was wish</td>\n",
       "      <td>movie is thrilling,</td>\n",
       "      <td>-0.736429</td>\n",
       "      <td>2.090948</td>\n",
       "    </tr>\n",
       "    <tr>\n",
       "      <th>4</th>\n",
       "      <td>The proverb</td>\n",
       "      <td>on the Désir de Rathmeister's installation wa...</td>\n",
       "      <td>keeps a very pleasant note...well written.(19...</td>\n",
       "      <td>0.274140</td>\n",
       "      <td>2.469272</td>\n",
       "    </tr>\n",
       "    <tr>\n",
       "      <th>5</th>\n",
       "      <td>I've never understood</td>\n",
       "      <td>more by this point in your</td>\n",
       "      <td>this wonderful script &amp; still encourage</td>\n",
       "      <td>1.372031</td>\n",
       "      <td>2.755003</td>\n",
       "    </tr>\n",
       "    <tr>\n",
       "      <th>6</th>\n",
       "      <td>Hugh (Ed Harris</td>\n",
       "      <td>, \"The Hurt Locker\") helps</td>\n",
       "      <td>) is marvelous and fictional. It's</td>\n",
       "      <td>0.467258</td>\n",
       "      <td>2.578309</td>\n",
       "    </tr>\n",
       "    <tr>\n",
       "      <th>7</th>\n",
       "      <td>This particular Joe Mc</td>\n",
       "      <td>Avoy came into her film as if</td>\n",
       "      <td>Govern shone, with his Voyager light and</td>\n",
       "      <td>1.329040</td>\n",
       "      <td>2.701365</td>\n",
       "    </tr>\n",
       "    <tr>\n",
       "      <th>8</th>\n",
       "      <td>Sisters In Law is made by</td>\n",
       "      <td>Donna Hawley and Lauren Ridge. The two stars ...</td>\n",
       "      <td>a group of filmmakers who gave Lawrence Sim's...</td>\n",
       "      <td>1.828336</td>\n",
       "      <td>2.651180</td>\n",
       "    </tr>\n",
       "    <tr>\n",
       "      <th>9</th>\n",
       "      <td>I was very fond of</td>\n",
       "      <td>Korea. I love all of their eccentricities. My</td>\n",
       "      <td>her throughout you really, now very fond of. She</td>\n",
       "      <td>2.317214</td>\n",
       "      <td>2.652236</td>\n",
       "    </tr>\n",
       "    <tr>\n",
       "      <th>10</th>\n",
       "      <td>If he wanted to be accurate</td>\n",
       "      <td>on his pitch,</td>\n",
       "      <td>you see this intelligent</td>\n",
       "      <td>-0.509769</td>\n",
       "      <td>1.797603</td>\n",
       "    </tr>\n",
       "    <tr>\n",
       "      <th>11</th>\n",
       "      <td>Thats</td>\n",
       "      <td>sorry this movie is so stupid!!! seriously why</td>\n",
       "      <td>and Sally are an excellent mix - one of</td>\n",
       "      <td>-1.907444</td>\n",
       "      <td>2.824260</td>\n",
       "    </tr>\n",
       "    <tr>\n",
       "      <th>12</th>\n",
       "      <td>This is possibly the</td>\n",
       "      <td>worst addiction film out of its annoying rang...</td>\n",
       "      <td>finest drama I have seen filmed, and you'll s...</td>\n",
       "      <td>-2.723184</td>\n",
       "      <td>2.707408</td>\n",
       "    </tr>\n",
       "    <tr>\n",
       "      <th>13</th>\n",
       "      <td>Some people say this is</td>\n",
       "      <td>pure comedy, that is, if you believe the</td>\n",
       "      <td>a very generous film and, despite what collea...</td>\n",
       "      <td>1.589134</td>\n",
       "      <td>2.410795</td>\n",
       "    </tr>\n",
       "    <tr>\n",
       "      <th>14</th>\n",
       "      <td>A remake of</td>\n",
       "      <td>\"The Wizard of Oz</td>\n",
       "      <td>one of my favorite films</td>\n",
       "      <td>0.292409</td>\n",
       "      <td>2.371585</td>\n",
       "    </tr>\n",
       "    <tr>\n",
       "      <th>15</th>\n",
       "      <td>What a terrible film. It sucked</td>\n",
       "      <td>terrible film. It sucked. A very enjoyable fi...</td>\n",
       "      <td>, but great! Love it...and particular love the...</td>\n",
       "      <td>-0.659871</td>\n",
       "      <td>1.632155</td>\n",
       "    </tr>\n",
       "  </tbody>\n",
       "</table>\n",
       "</div>"
      ],
      "text/plain": [
       "                              query  \\\n",
       "0                            Well I   \n",
       "1        This is an excellent, fast   \n",
       "2                         Now, I fl   \n",
       "3        We tend to forget that the   \n",
       "4                       The proverb   \n",
       "5             I've never understood   \n",
       "6                   Hugh (Ed Harris   \n",
       "7            This particular Joe Mc   \n",
       "8         Sisters In Law is made by   \n",
       "9                I was very fond of   \n",
       "10      If he wanted to be accurate   \n",
       "11                            Thats   \n",
       "12             This is possibly the   \n",
       "13          Some people say this is   \n",
       "14                      A remake of   \n",
       "15  What a terrible film. It sucked   \n",
       "\n",
       "                                    response (before)  \\\n",
       "0                                 don't know why they   \n",
       "1                 -paced ride, with big action scenes   \n",
       "2                             inched. It was so wrong   \n",
       "3                             picture itself was wish   \n",
       "4    on the Désir de Rathmeister's installation wa...   \n",
       "5                          more by this point in your   \n",
       "6                          , \"The Hurt Locker\") helps   \n",
       "7                       Avoy came into her film as if   \n",
       "8    Donna Hawley and Lauren Ridge. The two stars ...   \n",
       "9       Korea. I love all of their eccentricities. My   \n",
       "10                                      on his pitch,   \n",
       "11     sorry this movie is so stupid!!! seriously why   \n",
       "12   worst addiction film out of its annoying rang...   \n",
       "13           pure comedy, that is, if you believe the   \n",
       "14                                  \"The Wizard of Oz   \n",
       "15   terrible film. It sucked. A very enjoyable fi...   \n",
       "\n",
       "                                     response (after)  rewards (before)  \\\n",
       "0                           love THIS, wonderful film         -1.327288   \n",
       "1       moving story with a nice idea of contemporary          2.836497   \n",
       "2                   ocked to this hilarious show, and         -1.446260   \n",
       "3                                 movie is thrilling,         -0.736429   \n",
       "4    keeps a very pleasant note...well written.(19...          0.274140   \n",
       "5             this wonderful script & still encourage          1.372031   \n",
       "6                  ) is marvelous and fictional. It's          0.467258   \n",
       "7            Govern shone, with his Voyager light and          1.329040   \n",
       "8    a group of filmmakers who gave Lawrence Sim's...          1.828336   \n",
       "9    her throughout you really, now very fond of. She          2.317214   \n",
       "10                           you see this intelligent         -0.509769   \n",
       "11            and Sally are an excellent mix - one of         -1.907444   \n",
       "12   finest drama I have seen filmed, and you'll s...         -2.723184   \n",
       "13   a very generous film and, despite what collea...          1.589134   \n",
       "14                           one of my favorite films          0.292409   \n",
       "15  , but great! Love it...and particular love the...         -0.659871   \n",
       "\n",
       "    rewards (after)  \n",
       "0          2.887235  \n",
       "1          2.924836  \n",
       "2          2.764766  \n",
       "3          2.090948  \n",
       "4          2.469272  \n",
       "5          2.755003  \n",
       "6          2.578309  \n",
       "7          2.701365  \n",
       "8          2.651180  \n",
       "9          2.652236  \n",
       "10         1.797603  \n",
       "11         2.824260  \n",
       "12         2.707408  \n",
       "13         2.410795  \n",
       "14         2.371585  \n",
       "15         1.632155  "
      ]
     },
     "execution_count": 56,
     "metadata": {},
     "output_type": "execute_result"
    }
   ],
   "source": [
    "\n",
    "# store results in a dataframe\n",
    "df_results = pd.DataFrame(game_data)\n",
    "df_results\n"
   ]
  },
  {
   "cell_type": "code",
   "execution_count": 57,
   "metadata": {},
   "outputs": [
    {
     "name": "stdout",
     "output_type": "stream",
     "text": [
      "mean:\n"
     ]
    },
    {
     "data": {
      "text/plain": [
       "rewards (before)    0.187238\n",
       "rewards (after)     2.513685\n",
       "dtype: float64"
      ]
     },
     "metadata": {},
     "output_type": "display_data"
    },
    {
     "name": "stdout",
     "output_type": "stream",
     "text": [
      "\n",
      "median:\n"
     ]
    },
    {
     "data": {
      "text/plain": [
       "rewards (before)    0.283274\n",
       "rewards (after)     2.651708\n",
       "dtype: float64"
      ]
     },
     "metadata": {},
     "output_type": "display_data"
    }
   ],
   "source": [
    "\n",
    "print(\"mean:\")\n",
    "display(df_results[[\"rewards (before)\", \"rewards (after)\"]].mean())\n",
    "print()\n",
    "print(\"median:\")\n",
    "display(df_results[[\"rewards (before)\", \"rewards (after)\"]].median())\n",
    "\n"
   ]
  },
  {
   "cell_type": "code",
   "execution_count": 58,
   "metadata": {},
   "outputs": [
    {
     "data": {
      "text/plain": [
       "('gpt2-imdb-pos-v2/tokenizer_config.json',\n",
       " 'gpt2-imdb-pos-v2/special_tokens_map.json',\n",
       " 'gpt2-imdb-pos-v2/vocab.json',\n",
       " 'gpt2-imdb-pos-v2/merges.txt',\n",
       " 'gpt2-imdb-pos-v2/added_tokens.json',\n",
       " 'gpt2-imdb-pos-v2/tokenizer.json')"
      ]
     },
     "execution_count": 58,
     "metadata": {},
     "output_type": "execute_result"
    }
   ],
   "source": [
    "\n",
    "## model.save_pretrained(    \"gpt2-imdb-pos-v2\", push_to_hub=True)\n",
    "## tokenizer.save_pretrained(\"gpt2-imdb-pos-v2\", push_to_hub=True)\n",
    "\n",
    "model.save_pretrained(    \"gpt2-imdb-pos-v2\", push_to_hub=False)\n",
    "tokenizer.save_pretrained(\"gpt2-imdb-pos-v2\", push_to_hub=False)\n",
    "\n"
   ]
  },
  {
   "cell_type": "code",
   "execution_count": null,
   "metadata": {},
   "outputs": [],
   "source": []
  },
  {
   "cell_type": "code",
   "execution_count": null,
   "metadata": {},
   "outputs": [],
   "source": [
    "\n",
    "\n",
    "\n",
    "\n",
    "\n",
    "\n",
    "\n",
    "\n",
    "\n",
    "\n",
    "\n",
    "\n",
    "\n",
    "\n",
    "\n",
    "\n",
    "\n"
   ]
  },
  {
   "cell_type": "code",
   "execution_count": null,
   "metadata": {},
   "outputs": [],
   "source": [
    "\n"
   ]
  },
  {
   "cell_type": "code",
   "execution_count": null,
   "metadata": {},
   "outputs": [],
   "source": [
    "\n"
   ]
  },
  {
   "cell_type": "code",
   "execution_count": null,
   "metadata": {},
   "outputs": [],
   "source": []
  },
  {
   "cell_type": "code",
   "execution_count": null,
   "metadata": {},
   "outputs": [],
   "source": []
  },
  {
   "cell_type": "code",
   "execution_count": null,
   "metadata": {},
   "outputs": [],
   "source": []
  },
  {
   "cell_type": "code",
   "execution_count": null,
   "metadata": {},
   "outputs": [],
   "source": []
  },
  {
   "cell_type": "code",
   "execution_count": null,
   "metadata": {},
   "outputs": [],
   "source": []
  },
  {
   "cell_type": "code",
   "execution_count": null,
   "metadata": {},
   "outputs": [],
   "source": []
  },
  {
   "cell_type": "code",
   "execution_count": null,
   "metadata": {},
   "outputs": [],
   "source": []
  },
  {
   "cell_type": "code",
   "execution_count": null,
   "metadata": {},
   "outputs": [],
   "source": []
  },
  {
   "cell_type": "code",
   "execution_count": null,
   "metadata": {},
   "outputs": [],
   "source": []
  },
  {
   "cell_type": "code",
   "execution_count": null,
   "metadata": {},
   "outputs": [],
   "source": []
  },
  {
   "cell_type": "code",
   "execution_count": null,
   "metadata": {},
   "outputs": [],
   "source": []
  },
  {
   "cell_type": "code",
   "execution_count": null,
   "metadata": {},
   "outputs": [],
   "source": []
  },
  {
   "cell_type": "code",
   "execution_count": null,
   "metadata": {},
   "outputs": [],
   "source": []
  },
  {
   "cell_type": "code",
   "execution_count": null,
   "metadata": {},
   "outputs": [],
   "source": []
  }
 ],
 "metadata": {
  "kernelspec": {
   "display_name": "Python 3.8 (Anaconda 2020.11)",
   "language": "python",
   "name": "anaconda-2020.11-py38"
  },
  "language_info": {
   "codemirror_mode": {
    "name": "ipython",
    "version": 3
   },
   "file_extension": ".py",
   "mimetype": "text/x-python",
   "name": "python",
   "nbconvert_exporter": "python",
   "pygments_lexer": "ipython3",
   "version": "3.8.5"
  }
 },
 "nbformat": 4,
 "nbformat_minor": 4
}
