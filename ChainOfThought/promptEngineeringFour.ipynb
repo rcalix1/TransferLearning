{
 "cells": [
  {
   "cell_type": "code",
   "execution_count": null,
   "id": "1c10f5d8-8bd3-4daf-aa83-2defa71d3b1d",
   "metadata": {},
   "outputs": [],
   "source": []
  },
  {
   "cell_type": "code",
   "execution_count": 13,
   "id": "648500ca-b5b9-4cf4-b619-f3fcbdd258d5",
   "metadata": {},
   "outputs": [],
   "source": [
    "\n",
    "import numpy as np\n",
    "import matplotlib.pyplot as plt\n"
   ]
  },
  {
   "cell_type": "markdown",
   "id": "03026833-ffa1-4492-804e-a24005f83f36",
   "metadata": {},
   "source": [
    "\n",
    "\n",
    "## Quantum Entropy\n"
   ]
  },
  {
   "cell_type": "code",
   "execution_count": 16,
   "id": "9a5a2a8a-f6a3-48ed-acc5-27fb3443c6e9",
   "metadata": {},
   "outputs": [
    {
     "name": "stdout",
     "output_type": "stream",
     "text": [
      "Quantum Entropy: 0.9710\n"
     ]
    }
   ],
   "source": [
    "\n",
    "# Quantum entropy calculation (von Neumann entropy)\n",
    "def quantum_entropy(density_matrix):\n",
    "    \"\"\"Calculate von Neumann entropy from a density matrix.\"\"\"\n",
    "    eigenvalues = np.linalg.eigvals(density_matrix)\n",
    "    eigenvalues = eigenvalues[eigenvalues > 0]  # Filter out zero eigenvalues\n",
    "    return -np.sum(eigenvalues * np.log2(eigenvalues))\n",
    "\n",
    "# Example density matrix (random Hermitian positive-definite matrix)\n",
    "density_matrix = np.array([[0.5, 0.1], [0.1, 0.5]])\n",
    "quantum_entropy_value = quantum_entropy(density_matrix)\n",
    "print(f\"Quantum Entropy: {quantum_entropy_value:.4f}\")\n",
    "\n"
   ]
  },
  {
   "cell_type": "code",
   "execution_count": null,
   "id": "3a1a7766-e145-4a96-ac3d-3be37f721115",
   "metadata": {},
   "outputs": [],
   "source": [
    "\n",
    "\n"
   ]
  },
  {
   "cell_type": "markdown",
   "id": "4983ba6f-7405-41bd-8a85-9fe126563d1d",
   "metadata": {},
   "source": [
    "\n",
    "## Joint entropy\n"
   ]
  },
  {
   "cell_type": "code",
   "execution_count": 17,
   "id": "50da9afa-033e-4b7c-8df0-5a9b1046327b",
   "metadata": {},
   "outputs": [
    {
     "ename": "ValueError",
     "evalue": "operands could not be broadcast together with shapes (2,2) (4,) ",
     "output_type": "error",
     "traceback": [
      "\u001b[0;31m---------------------------------------------------------------------------\u001b[0m",
      "\u001b[0;31mValueError\u001b[0m                                Traceback (most recent call last)",
      "Cell \u001b[0;32mIn[17], line 8\u001b[0m\n\u001b[1;32m      2\u001b[0m joint_distribution \u001b[38;5;241m=\u001b[39m np\u001b[38;5;241m.\u001b[39marray([\n\u001b[1;32m      3\u001b[0m     [\u001b[38;5;241m0.1\u001b[39m, \u001b[38;5;241m0.2\u001b[39m],  \u001b[38;5;66;03m# P(X=0, Y=0) and P(X=0, Y=1)\u001b[39;00m\n\u001b[1;32m      4\u001b[0m     [\u001b[38;5;241m0.3\u001b[39m, \u001b[38;5;241m0.4\u001b[39m]   \u001b[38;5;66;03m# P(X=1, Y=0) and P(X=1, Y=1)\u001b[39;00m\n\u001b[1;32m      5\u001b[0m ])\n\u001b[1;32m      7\u001b[0m \u001b[38;5;66;03m# Calculate joint entropy\u001b[39;00m\n\u001b[0;32m----> 8\u001b[0m joint_entropy \u001b[38;5;241m=\u001b[39m \u001b[38;5;241m-\u001b[39mnp\u001b[38;5;241m.\u001b[39msum(\u001b[43mjoint_distribution\u001b[49m\u001b[43m \u001b[49m\u001b[38;5;241;43m*\u001b[39;49m\u001b[43m \u001b[49m\u001b[43mnp\u001b[49m\u001b[38;5;241;43m.\u001b[39;49m\u001b[43mlog2\u001b[49m\u001b[43m(\u001b[49m\u001b[43mjoint_distribution\u001b[49m\u001b[43m[\u001b[49m\u001b[43mjoint_distribution\u001b[49m\u001b[43m \u001b[49m\u001b[38;5;241;43m>\u001b[39;49m\u001b[43m \u001b[49m\u001b[38;5;241;43m0\u001b[39;49m\u001b[43m]\u001b[49m\u001b[43m)\u001b[49m)\n\u001b[1;32m      9\u001b[0m \u001b[38;5;28mprint\u001b[39m(\u001b[38;5;124mf\u001b[39m\u001b[38;5;124m\"\u001b[39m\u001b[38;5;124mJoint Entropy: \u001b[39m\u001b[38;5;132;01m{\u001b[39;00mjoint_entropy\u001b[38;5;132;01m:\u001b[39;00m\u001b[38;5;124m.4f\u001b[39m\u001b[38;5;132;01m}\u001b[39;00m\u001b[38;5;124m bits\u001b[39m\u001b[38;5;124m\"\u001b[39m)\n",
      "\u001b[0;31mValueError\u001b[0m: operands could not be broadcast together with shapes (2,2) (4,) "
     ]
    }
   ],
   "source": [
    "\n",
    "# Joint distribution of two events\n",
    "joint_distribution = np.array([\n",
    "    [0.1, 0.2],  # P(X=0, Y=0) and P(X=0, Y=1)\n",
    "    [0.3, 0.4]   # P(X=1, Y=0) and P(X=1, Y=1)\n",
    "])\n",
    "\n",
    "# Calculate joint entropy\n",
    "joint_entropy = -np.sum(joint_distribution * np.log2(joint_distribution[joint_distribution > 0]))\n",
    "print(f\"Joint Entropy: {joint_entropy:.4f} bits\")\n",
    "\n"
   ]
  },
  {
   "cell_type": "markdown",
   "id": "9c178a97-231f-48fb-b6d5-ff998e05d44d",
   "metadata": {},
   "source": [
    "\n",
    "## Conditional Entropy\n"
   ]
  },
  {
   "cell_type": "code",
   "execution_count": 18,
   "id": "cfa24a40-e49a-4b43-8c92-68670718f49b",
   "metadata": {},
   "outputs": [
    {
     "name": "stdout",
     "output_type": "stream",
     "text": [
      "Conditional Entropy H(X|Y): 0.8755 bits\n"
     ]
    }
   ],
   "source": [
    "\n",
    "# P(X|Y) = P(X and Y) / P(Y)\n",
    "marginal_y = np.sum(joint_distribution, axis=0)  # Marginal distribution of Y\n",
    "conditional_entropy = -np.sum(\n",
    "    joint_distribution * np.log2(joint_distribution / marginal_y[np.newaxis, :])\n",
    ")\n",
    "\n",
    "print(f\"Conditional Entropy H(X|Y): {conditional_entropy:.4f} bits\")\n",
    "\n"
   ]
  },
  {
   "cell_type": "code",
   "execution_count": null,
   "id": "1203adab-3010-44fa-ba82-3192dd56b501",
   "metadata": {},
   "outputs": [],
   "source": [
    "\n",
    "\n"
   ]
  },
  {
   "cell_type": "code",
   "execution_count": 19,
   "id": "5f6842c3-c250-48d2-a8aa-be04a03cf394",
   "metadata": {},
   "outputs": [
    {
     "name": "stdout",
     "output_type": "stream",
     "text": [
      "[0.97521973 0.02478027]\n",
      "Entropy: 0.1675\n",
      "Is the binary packed malware? True\n"
     ]
    }
   ],
   "source": [
    "\n",
    "def calculate_file_entropy(file_data):\n",
    "    \"\"\"Calculate Shannon entropy of a binary file.\"\"\"\n",
    "    byte_counts = np.bincount(np.frombuffer(file_data, dtype=np.uint8), minlength=256)\n",
    "    probabilities = byte_counts / len(file_data)\n",
    "    probabilities = probabilities[probabilities > 0]  # Filter non-zero probabilities\n",
    "    print( probabilities )\n",
    "    return -np.sum(probabilities * np.log2(probabilities))\n",
    "\n",
    "# Simulated packed malware data (low entropy binary)\n",
    "\n",
    "packed_binary = np.random.choice([0, 1], size=1024, p=[0.8, 0.2])\n",
    "entropy       = calculate_file_entropy(packed_binary.tobytes())\n",
    "\n",
    "# Threshold for detecting packed binaries\n",
    "threshold = 4.0\n",
    "is_packed = entropy < threshold\n",
    "print(f\"Entropy: {entropy:.4f}\")\n",
    "print(f\"Is the binary packed malware? {is_packed}\")\n",
    "\n"
   ]
  },
  {
   "cell_type": "code",
   "execution_count": 20,
   "id": "e489c1b2-e0f0-4786-a17b-5997c6dc5a75",
   "metadata": {},
   "outputs": [
    {
     "name": "stdout",
     "output_type": "stream",
     "text": [
      "Conditional Entropy H(Actions|IP): 0.0000 bits\n"
     ]
    }
   ],
   "source": [
    "\n",
    "# Simulated IP addresses (categorical data)\n",
    "ip_addresses = [\"192.168.1.1\", \"192.168.1.2\", \"10.0.0.1\", \"192.168.1.1\", \"10.0.0.1\"]\n",
    "actions = [\"LOGIN\", \"LOGOUT\", \"UPLOAD\", \"LOGIN\", \"UPLOAD\"]\n",
    "\n",
    "# Calculate conditional entropy H(Actions|IP)\n",
    "joint_probs = {}\n",
    "for ip, action in zip(ip_addresses, actions):\n",
    "    joint_probs[(ip, action)] = joint_probs.get((ip, action), 0) + 1\n",
    "    \n",
    "joint_probs = {k: v / len(actions) for k, v in joint_probs.items()}\n",
    "\n",
    "# Marginal probabilities of IP\n",
    "marginal_probs = {}\n",
    "for ip in ip_addresses:\n",
    "    marginal_probs[ip] = marginal_probs.get(ip, 0) + 1\n",
    "marginal_probs = {k: v / len(ip_addresses) for k, v in marginal_probs.items()}\n",
    "\n",
    "conditional_entropy = 0\n",
    "for (ip, action), p_joint in joint_probs.items():\n",
    "    conditional_entropy -= p_joint * np.log2(p_joint / marginal_probs[ip])\n",
    "\n",
    "print(f\"Conditional Entropy H(Actions|IP): {conditional_entropy:.4f} bits\")\n",
    "\n"
   ]
  },
  {
   "cell_type": "code",
   "execution_count": null,
   "id": "8eced27b-f828-443d-86f1-8006fdbb8113",
   "metadata": {},
   "outputs": [],
   "source": []
  },
  {
   "cell_type": "markdown",
   "id": "dce760ab-47d0-45c9-8342-114a03b54619",
   "metadata": {},
   "source": [
    "\n",
    "## Sliding window and Entropy\n"
   ]
  },
  {
   "cell_type": "code",
   "execution_count": 21,
   "id": "4b93677f-7857-4818-99ef-c3ad232e46bb",
   "metadata": {},
   "outputs": [
    {
     "name": "stdout",
     "output_type": "stream",
     "text": [
      "Window Entropies: [3.121928094887362, 3.121928094887362, 2.9219280948873623, 2.9219280948873623, 2.9219280948873623]...\n"
     ]
    }
   ],
   "source": [
    "\n",
    "# Simulated traffic packet counts per second\n",
    "normal_traffic    = np.random.randint(40, 60, 100)  # Normal range\n",
    "anomalous_traffic = np.append(normal_traffic, np.random.randint(500, 600, 5))  # Spike anomaly\n",
    "\n",
    "# Sliding window entropy detection\n",
    "def sliding_window_entropy(data, window_size):\n",
    "    entropies = []\n",
    "    for i in range(len(data) - window_size + 1):\n",
    "        window = data[i:i + window_size]\n",
    "        values, counts = np.unique(window, return_counts=True)\n",
    "        probabilities = counts / len(window)\n",
    "        entropies.append(-np.sum(probabilities * np.log2(probabilities)))\n",
    "    return entropies\n",
    "\n",
    "window_entropies = sliding_window_entropy(anomalous_traffic, window_size=10)\n",
    "print(f\"Window Entropies: {window_entropies[:5]}...\")  # Display first few entropies\n",
    "\n"
   ]
  },
  {
   "cell_type": "code",
   "execution_count": 22,
   "id": "dcada776-3f20-4ff7-946a-2dddda5a2b7e",
   "metadata": {},
   "outputs": [
    {
     "data": {
      "image/png": "[encoded data removed]",
      "text/plain": [
       "<Figure size 640x480 with 1 Axes>"
      ]
     },
     "metadata": {},
     "output_type": "display_data"
    }
   ],
   "source": [
    "\n",
    "# Simulate network traffic\n",
    "traffic = np.random.randint(1, 100, size=200)\n",
    "\n",
    "# Calculate entropy over time\n",
    "entropies = sliding_window_entropy(traffic, window_size=20)\n",
    "\n",
    "# Visualize\n",
    "plt.plot(entropies)\n",
    "plt.title(\"Traffic Entropy Over Time\")\n",
    "plt.xlabel(\"Time\")\n",
    "plt.ylabel(\"Entropy\")\n",
    "plt.show()\n",
    "\n"
   ]
  },
  {
   "cell_type": "code",
   "execution_count": 23,
   "id": "cc2e741a-e96c-48b8-a5e3-f4edc47258b0",
   "metadata": {},
   "outputs": [
    {
     "data": {
      "image/png": "[encoded data removed]",
      "text/plain": [
       "<Figure size 640x480 with 1 Axes>"
      ]
     },
     "metadata": {},
     "output_type": "display_data"
    }
   ],
   "source": [
    "\n",
    "# Calculate entropy\n",
    "def calculate_entropy(data):\n",
    "    values, counts = np.unique(data, return_counts=True)\n",
    "    probabilities = counts / len(data)\n",
    "    return -np.sum(probabilities * np.log2(probabilities))\n",
    "\n",
    "\n",
    "# Generate random data and calculate entropy over a sliding window\n",
    "data = np.random.randint(1, 100, 100)\n",
    "window_size = 10\n",
    "entropies = [calculate_entropy(data[i:i+window_size]) for i in range(len(data) - window_size + 1)]\n",
    "\n",
    "# Plot entropy over time\n",
    "plt.plot(entropies)\n",
    "plt.title(\"Entropy Over Time\")\n",
    "plt.xlabel(\"Time\")\n",
    "plt.ylabel(\"Entropy\")\n",
    "plt.show()\n"
   ]
  },
  {
   "cell_type": "code",
   "execution_count": null,
   "id": "b185c191-c731-46cf-93c4-3af258d8c600",
   "metadata": {},
   "outputs": [],
   "source": []
  },
  {
   "cell_type": "code",
   "execution_count": null,
   "id": "5da8e91b-246e-47db-b87a-95fec7055c84",
   "metadata": {},
   "outputs": [],
   "source": []
  },
  {
   "cell_type": "code",
   "execution_count": null,
   "id": "a353d932-d3a0-409a-b6f3-60767cfa6135",
   "metadata": {},
   "outputs": [],
   "source": []
  },
  {
   "cell_type": "code",
   "execution_count": null,
   "id": "99bd2491-0f59-4b6d-b30f-96c786909492",
   "metadata": {},
   "outputs": [],
   "source": []
  },
  {
   "cell_type": "code",
   "execution_count": null,
   "id": "f393fd31-1449-42e1-bf04-ea9dcdd920da",
   "metadata": {},
   "outputs": [],
   "source": []
  },
  {
   "cell_type": "code",
   "execution_count": null,
   "id": "b1857fd5-5be4-4c3e-9880-f5baa3a0b277",
   "metadata": {},
   "outputs": [],
   "source": []
  },
  {
   "cell_type": "code",
   "execution_count": null,
   "id": "bfe6be41-f336-4b18-a174-51afde4c39bf",
   "metadata": {},
   "outputs": [],
   "source": []
  }
 ],
 "metadata": {
  "kernelspec": {
   "display_name": "Python 3 (ipykernel)",
   "language": "python",
   "name": "python3"
  },
  "language_info": {
   "codemirror_mode": {
    "name": "ipython",
    "version": 3
   },
   "file_extension": ".py",
   "mimetype": "text/x-python",
   "name": "python",
   "nbconvert_exporter": "python",
   "pygments_lexer": "ipython3",
   "version": "3.8.20"
  }
 },
 "nbformat": 4,
 "nbformat_minor": 5
}
