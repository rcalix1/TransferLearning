{
 "cells": [
  {
   "cell_type": "code",
   "execution_count": 1,
   "id": "557891ec",
   "metadata": {},
   "outputs": [],
   "source": [
    "\n",
    "## !pip install numpy\n",
    "## !pip install gym\n"
   ]
  },
  {
   "cell_type": "code",
   "execution_count": 11,
   "id": "d2b9ea34",
   "metadata": {},
   "outputs": [],
   "source": [
    "\n",
    "\n",
    "import numpy as np\n",
    "import gym\n"
   ]
  },
  {
   "cell_type": "code",
   "execution_count": 12,
   "id": "03262f1a",
   "metadata": {},
   "outputs": [],
   "source": [
    "\n",
    "env = gym.make('FrozenLake-v1')\n"
   ]
  },
  {
   "cell_type": "code",
   "execution_count": 13,
   "id": "259b9cb2",
   "metadata": {},
   "outputs": [
    {
     "data": {
      "text/plain": [
       "16"
      ]
     },
     "execution_count": 13,
     "metadata": {},
     "output_type": "execute_result"
    }
   ],
   "source": [
    "\n",
    "env.observation_space.n\n"
   ]
  },
  {
   "cell_type": "code",
   "execution_count": 14,
   "id": "4412b299",
   "metadata": {},
   "outputs": [
    {
     "data": {
      "text/plain": [
       "4"
      ]
     },
     "execution_count": 14,
     "metadata": {},
     "output_type": "execute_result"
    }
   ],
   "source": [
    "\n",
    "env.action_space.n\n"
   ]
  },
  {
   "cell_type": "code",
   "execution_count": 15,
   "id": "67c0fac0",
   "metadata": {},
   "outputs": [],
   "source": [
    "\n",
    "lr           = 0.8\n",
    "y            = 0.95\n",
    "num_episodes = 2000\n",
    "j = 0\n"
   ]
  },
  {
   "cell_type": "code",
   "execution_count": 16,
   "id": "c4938e31",
   "metadata": {},
   "outputs": [],
   "source": [
    "\n",
    "jList = []\n",
    "rList = []\n"
   ]
  },
  {
   "cell_type": "code",
   "execution_count": 19,
   "id": "5dc9322a",
   "metadata": {},
   "outputs": [
    {
     "data": {
      "text/plain": [
       "(16, 4)"
      ]
     },
     "execution_count": 19,
     "metadata": {},
     "output_type": "execute_result"
    }
   ],
   "source": [
    "\n",
    "Q = np.zeros( [env.observation_space.n, env.action_space.n] )\n",
    "Q.shape\n",
    "\n"
   ]
  },
  {
   "cell_type": "code",
   "execution_count": 20,
   "id": "9e2c77e0",
   "metadata": {},
   "outputs": [],
   "source": [
    "\n",
    "for i in range(num_episodes):\n",
    "    s    = env.reset()\n",
    "    s    = s[0]\n",
    "    rAll = 0\n",
    "    d    = False \n",
    "    j    = 0\n",
    "    while j < 99:\n",
    "        j+=1\n",
    "        zz = env.action_space.n \n",
    "        \n",
    "        randomness_val = np.random.randn(1,zz)*(1.0/(i+1))\n",
    "        randomness_val = randomness_val[0] \n",
    "        \n",
    "                \n",
    "        a = np.argmax(  Q[s,:]  +  randomness_val  )\n",
    "        \n",
    "        s1,r,d,_,_ = env.step( a )\n",
    "        \n",
    "        ## Bellman Equation\n",
    "        Q[s,a] = Q[s,a] + lr*(r + y*np.max(  Q[s1,:]  ) - Q[s,a]) \n",
    "        \n",
    "        rAll += r\n",
    "        \n",
    "        s = s1\n",
    "        if d == True:\n",
    "            break\n",
    "    #jList.append(j)\n",
    "    rList.append(rAll)\n"
   ]
  },
  {
   "cell_type": "markdown",
   "id": "ad67cfe6",
   "metadata": {},
   "source": [
    "\n",
    "## Now test trained model\n"
   ]
  },
  {
   "cell_type": "code",
   "execution_count": 26,
   "id": "91438621",
   "metadata": {},
   "outputs": [],
   "source": [
    "\n",
    "stepsList    = [0.0005]\n",
    "success_list = [0.0005]\n",
    "\n",
    "\n",
    "test_games = 100\n",
    "\n",
    "for i in range(test_games):\n",
    "    s = env.reset()\n",
    "    s = s[0]\n",
    "    j = 0\n",
    "    while j < 1000:\n",
    "                    \n",
    "       \n",
    "        a = np.argmax(  Q[s,:]  )\n",
    "        \n",
    "  \n",
    "        s1, r, d, _, _ = env.step(a)\n",
    "    \n",
    "        if d == True and r == 0: \n",
    "             r = -1\n",
    "                \n",
    "        s = s1\n",
    "        j = j + 1\n",
    "            \n",
    "        if d == True: \n",
    "            break\n",
    "            \n",
    "    if d == True and r > 0:\n",
    "        success_list.append(1)\n",
    "    else:\n",
    "        success_list.append(0)\n",
    "    stepsList.append(j)\n"
   ]
  },
  {
   "cell_type": "code",
   "execution_count": 27,
   "id": "aa1f2d39",
   "metadata": {},
   "outputs": [
    {
     "data": {
      "text/plain": [
       "0.8000050000000001"
      ]
     },
     "execution_count": 27,
     "metadata": {},
     "output_type": "execute_result"
    }
   ],
   "source": [
    "\n",
    "sum( success_list ) / 100\n"
   ]
  },
  {
   "cell_type": "code",
   "execution_count": 29,
   "id": "b99ab785",
   "metadata": {},
   "outputs": [
    {
     "data": {
      "text/plain": [
       "40.960005"
      ]
     },
     "execution_count": 29,
     "metadata": {},
     "output_type": "execute_result"
    }
   ],
   "source": [
    "\n",
    "sum( stepsList ) / 100\n"
   ]
  },
  {
   "cell_type": "code",
   "execution_count": null,
   "id": "55570f1b",
   "metadata": {},
   "outputs": [],
   "source": []
  },
  {
   "cell_type": "code",
   "execution_count": null,
   "id": "6fa23dc4",
   "metadata": {},
   "outputs": [],
   "source": []
  },
  {
   "cell_type": "code",
   "execution_count": null,
   "id": "fdf585bb",
   "metadata": {},
   "outputs": [],
   "source": []
  },
  {
   "cell_type": "code",
   "execution_count": null,
   "id": "9f7a7a9e",
   "metadata": {},
   "outputs": [],
   "source": []
  },
  {
   "cell_type": "code",
   "execution_count": null,
   "id": "ece5a59e",
   "metadata": {},
   "outputs": [],
   "source": []
  },
  {
   "cell_type": "code",
   "execution_count": null,
   "id": "af6a6aa1",
   "metadata": {},
   "outputs": [],
   "source": []
  }
 ],
 "metadata": {
  "kernelspec": {
   "display_name": "Python 3 (ipykernel)",
   "language": "python",
   "name": "python3"
  },
  "language_info": {
   "codemirror_mode": {
    "name": "ipython",
    "version": 3
   },
   "file_extension": ".py",
   "mimetype": "text/x-python",
   "name": "python",
   "nbconvert_exporter": "python",
   "pygments_lexer": "ipython3",
   "version": "3.7.16"
  }
 },
 "nbformat": 4,
 "nbformat_minor": 5
}
