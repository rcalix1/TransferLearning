{
 "cells": [
  {
   "cell_type": "markdown",
   "id": "9f8e39c8",
   "metadata": {},
   "source": [
    "\n",
    "## DQN\n"
   ]
  },
  {
   "cell_type": "code",
   "execution_count": 6,
   "id": "25a217a6",
   "metadata": {},
   "outputs": [],
   "source": [
    "\n",
    "## !pip install torch\n",
    "## !pip install matplotlib\n"
   ]
  },
  {
   "cell_type": "code",
   "execution_count": 7,
   "id": "e3e3b579",
   "metadata": {},
   "outputs": [],
   "source": [
    "\n",
    "import gym\n",
    "import numpy as np\n",
    "import random\n",
    "\n",
    "import torch\n",
    "import matplotlib.pyplot as plt\n",
    "import torch.nn as nn\n",
    "import torch.nn.functional as F\n",
    "import torch.optim as optim\n"
   ]
  },
  {
   "cell_type": "code",
   "execution_count": 8,
   "id": "0580115a",
   "metadata": {},
   "outputs": [],
   "source": [
    "\n",
    "stepsList        = []\n",
    "rewardsList      = []\n",
    "success_list     = [0.0005]\n"
   ]
  },
  {
   "cell_type": "code",
   "execution_count": 9,
   "id": "d351e72b",
   "metadata": {},
   "outputs": [],
   "source": [
    "\n",
    "learning_rate = 0.001       ## Adam default learning rate\n",
    "y             = 0.99\n",
    "num_episodes  = 4000\n",
    "\n",
    "epsilon       = 0.1       ## 0.2    , 0.01\n"
   ]
  },
  {
   "cell_type": "code",
   "execution_count": 10,
   "id": "0f52015a",
   "metadata": {},
   "outputs": [],
   "source": [
    "\n",
    "def gen_state_vector(s):\n",
    "    \n",
    "    states_np = np.identity(16)[s:s+1]\n",
    "    \n",
    "    \n",
    "    states_np = states_np.astype(   np.float32  )\n",
    "    ## print(states_np.dtype )\n",
    "    inputs1 = torch.from_numpy( states_np )\n",
    "    return inputs1\n"
   ]
  },
  {
   "cell_type": "code",
   "execution_count": 13,
   "id": "ee64af48",
   "metadata": {},
   "outputs": [
    {
     "data": {
      "text/plain": [
       "tensor([[0., 0., 0., 0., 0., 0., 0., 0., 0., 0., 0., 0., 1., 0., 0., 0.]])"
      ]
     },
     "execution_count": 13,
     "metadata": {},
     "output_type": "execute_result"
    }
   ],
   "source": [
    "\n",
    "s = 12\n",
    "\n",
    "gen_state_vector(s)\n"
   ]
  },
  {
   "cell_type": "code",
   "execution_count": 14,
   "id": "ad5e0e8b",
   "metadata": {},
   "outputs": [],
   "source": [
    "\n",
    "class Q_NN_Net(nn.Module):\n",
    "    \n",
    "    def __init__(self):\n",
    "        super().__init__()\n",
    "        \n",
    "        self.linear1    = nn.Linear(16, 4)\n",
    "        self.act1       = nn.Softmax(dim=1)\n",
    "\n",
    "    def forward(self, s):\n",
    "        \n",
    "        x          = gen_state_vector(s)\n",
    "        \n",
    "        x          = self.linear1( x )\n",
    "        Qout       = self.act1( x )\n",
    "        \n",
    "        Qout       = torch.squeeze(Qout, 0)\n",
    "\n",
    "        return Qout\n"
   ]
  },
  {
   "cell_type": "code",
   "execution_count": 16,
   "id": "5cb7e096",
   "metadata": {},
   "outputs": [],
   "source": [
    "\n",
    "class Q_NN_MLP_Net(nn.Module):\n",
    "    \n",
    "    def __init__(self):\n",
    "        \n",
    "        super().__init__()\n",
    "        \n",
    "        self.linear1    = nn.Linear(16, 10)\n",
    "        self.act1       = nn.ReLU()          ## Tanh()              ## nn.Sigmoid()\n",
    "        self.linear2    = nn.Linear(10, 4)\n",
    "        self.act2       = nn.Softmax(dim=1)\n",
    "\n",
    "    def forward(self, s):\n",
    "        \n",
    "        x    = gen_state_vector(s)\n",
    "        \n",
    "        x    = self.linear1( x )\n",
    "        x    = self.act1(    x )\n",
    "        x    = self.linear2( x )\n",
    "        Qout = self.act2(    x )\n",
    "        \n",
    "        Qout = torch.squeeze(Qout, 0)\n",
    "        \n",
    "        return Qout\n",
    "    \n"
   ]
  },
  {
   "cell_type": "code",
   "execution_count": 17,
   "id": "b60041a0",
   "metadata": {},
   "outputs": [],
   "source": [
    "\n",
    "env = gym.make('FrozenLake-v1')\n"
   ]
  },
  {
   "cell_type": "code",
   "execution_count": 18,
   "id": "593acd62",
   "metadata": {},
   "outputs": [],
   "source": [
    "\n",
    "## model = Q_NN_Net()\n",
    "\n",
    "model = Q_NN_MLP_Net()\n",
    "\n",
    "\n",
    "opt = torch.optim.Adam( model.parameters(), lr=learning_rate )\n"
   ]
  },
  {
   "cell_type": "markdown",
   "id": "7167f836",
   "metadata": {},
   "source": [
    "\n",
    "## Main Loop\n"
   ]
  },
  {
   "cell_type": "code",
   "execution_count": 19,
   "id": "8c1b5198",
   "metadata": {},
   "outputs": [
    {
     "name": "stdout",
     "output_type": "stream",
     "text": [
      "Game  0  of  4000\n",
      "Game  200  of  4000\n",
      "Game  400  of  4000\n",
      "Game  600  of  4000\n",
      "Game  800  of  4000\n",
      "Game  1000  of  4000\n",
      "Game  1200  of  4000\n",
      "Game  1400  of  4000\n",
      "Game  1600  of  4000\n",
      "Game  1800  of  4000\n",
      "Game  2000  of  4000\n",
      "Game  2200  of  4000\n",
      "Game  2400  of  4000\n",
      "Game  2600  of  4000\n",
      "Game  2800  of  4000\n",
      "Game  3000  of  4000\n",
      "Game  3200  of  4000\n",
      "Game  3400  of  4000\n",
      "Game  3600  of  4000\n",
      "Game  3800  of  4000\n"
     ]
    }
   ],
   "source": [
    "\n",
    "epsilon_delta = -(epsilon / num_episodes)\n",
    "\n",
    "\n",
    "for i in range(num_episodes):\n",
    "    \n",
    "    s = env.reset()\n",
    "    s    = s[0]  ## env returns tuple so select first of tuple\n",
    "    rAll = 0  \n",
    "    d    = False \n",
    "    j = 0\n",
    "    \n",
    "    if i % 200 == 0:\n",
    "         print(\"Game \", i, \" of \", num_episodes)\n",
    "    \n",
    "    while j < 1000:\n",
    "        \n",
    "        if (np.random.rand(1) < epsilon): \n",
    "            a = env.action_space.sample()\n",
    "        else:\n",
    "            Q_s          = model(  s  ).detach()\n",
    "            _, max_index = torch.max(Q_s, 0) \n",
    "            a            = max_index.item()\n",
    "    \n",
    "                     \n",
    "        s1, r, d, _, _ = env.step(a)\n",
    "              \n",
    "        if d == True and r == 0: \n",
    "             r = -1\n",
    "        \n",
    "        \n",
    "        ############################################\n",
    "        Q_s1      = model(  s1 ).detach()     # detach from graph\n",
    "        maxQ_s1   = torch.max( Q_s1 )  \n",
    "        target_q  = r + 0.99 * maxQ_s1\n",
    "        \n",
    "        ############################################\n",
    "        q_pred = model(  s  )[a]   \n",
    "      \n",
    "        ############################################\n",
    "        ## loss = loss_fn(  q_pred, target_q )\n",
    "        loss = F.smooth_l1_loss( q_pred, target_q )\n",
    "                \n",
    "        opt.zero_grad()\n",
    "        loss.backward()\n",
    "        opt.step()\n",
    "        \n",
    "        rAll = rAll + r\n",
    "        j = j + 1\n",
    "      \n",
    "        s = s1\n",
    "        if d == True: \n",
    "            break\n",
    "                    \n",
    "    epsilon = epsilon + epsilon_delta\n",
    "            \n",
    "    if d == True and r > 0:\n",
    "        success_list.append(1)     \n",
    "        stepsList.append(j)          ##  steps taken per game\n",
    "    else:\n",
    "        success_list.append(0)\n",
    "                \n",
    "           \n",
    "    ## stepsList.append(j)           ##  steps taken per game\n",
    "    rewardsList.append(rAll)         ## reward total per game\n",
    "    \n",
    "    \n"
   ]
  },
  {
   "cell_type": "code",
   "execution_count": 20,
   "id": "ea4e0718",
   "metadata": {},
   "outputs": [
    {
     "name": "stdout",
     "output_type": "stream",
     "text": [
      "last 100 epochs of success: 68%\n"
     ]
    }
   ],
   "source": [
    "\n",
    "print(\"last 100 epochs of success: \" + str(sum(success_list[-100:])) + \"%\")\n"
   ]
  },
  {
   "cell_type": "code",
   "execution_count": 21,
   "id": "fc06e107",
   "metadata": {},
   "outputs": [
    {
     "name": "stdout",
     "output_type": "stream",
     "text": [
      "[-0.88, -0.66, -0.7, -0.84, -0.22, -0.36, -0.34, -0.34, -0.36, -0.3, -0.28, -0.36, -0.06, -0.18, -0.2, -0.28, -0.36, -0.12, -0.22, -0.08, -0.16, -0.14, -0.08, 0.16, -0.02, 0.0, -0.06, 0.12, 0.12, 0.24, 0.24, 0.1, 0.3, 0.32, 0.28, 0.42, 0.26, 0.58, 0.42, 0.36]\n",
      "{-0.88, -0.66, -0.7, -0.84, -0.36, -0.34, -0.3, -0.28, -0.06, -0.12, 0.0, 0.42, 0.26, -0.08, -0.02, -0.14, 0.36, 0.28, 0.12, -0.22, -0.16, 0.16, 0.1, -0.2, 0.3, -0.18, 0.32, 0.24, 0.58}\n",
      "40\n",
      "-3.6799999999999993\n",
      "4000\n"
     ]
    },
    {
     "data": {
      "image/png": "[encoded data removed]",
      "text/plain": [
       "<Figure size 640x480 with 1 Axes>"
      ]
     },
     "metadata": {},
     "output_type": "display_data"
    }
   ],
   "source": [
    "\n",
    "## rewardsList = rewardsList[-20:]\n",
    "\n",
    "step_size = 100\n",
    "\n",
    "## new_avg_per_n_entries\n",
    "r_rc = [  sum(rewardsList[i:i+step_size])/step_size for i in range(0, len(rewardsList), step_size )  ]\n",
    "\n",
    "rewardsList = r_rc \n",
    "\n",
    "print(rewardsList)\n",
    "print(set(rewardsList))\n",
    "print(len(rewardsList))\n",
    "print(sum(rewardsList))\n",
    "print( num_episodes )\n",
    "\n",
    "\n",
    "ind_rew = [i for i in range(len(rewardsList))]\n",
    "plt.scatter(ind_rew, rewardsList)\n",
    "## plt.plot(rewardsList)\n",
    "plt.title(\"Rewards during training\")\n",
    "plt.show()\n"
   ]
  },
  {
   "cell_type": "code",
   "execution_count": 22,
   "id": "9206ec8c",
   "metadata": {},
   "outputs": [],
   "source": [
    "\n",
    "stepsList    = [0.0005]\n",
    "success_list = [0.0005]\n",
    "\n",
    "\n",
    "test_games = 100\n",
    "\n",
    "for i in range(test_games):\n",
    "    s = env.reset()\n",
    "    s = s[0]\n",
    "    j = 0\n",
    "    while j < 1000:\n",
    "                    \n",
    "        agent_out = model(s).detach()\n",
    "        _, max_index = torch.max(agent_out, 0)   \n",
    "        a = max_index.data.cpu().numpy()[()]\n",
    "\n",
    "\n",
    "        s1, r, d, _, _ = env.step(a)\n",
    "        if d == True and r == 0: \n",
    "            r = -1\n",
    "                \n",
    "        s = s1\n",
    "        j = j + 1\n",
    "            \n",
    "        if d == True: \n",
    "            break\n",
    "            \n",
    "    if d == True and r > 0:\n",
    "        success_list.append(1)\n",
    "    else:\n",
    "        success_list.append(0)\n",
    "    stepsList.append(j)\n",
    "    \n"
   ]
  },
  {
   "cell_type": "code",
   "execution_count": 23,
   "id": "1187cb0b",
   "metadata": {},
   "outputs": [
    {
     "name": "stdout",
     "output_type": "stream",
     "text": [
      "{0, 1, 0.0005}\n",
      "101\n",
      "71.0005\n",
      "Percent of won games(test):  0.7029752475247525\n"
     ]
    }
   ],
   "source": [
    "\n",
    "print(set(success_list))\n",
    "print(len(success_list))\n",
    "print(sum(success_list))\n",
    "print(\"Percent of won games(test): \" , str( sum(success_list)/ len(success_list) ) )\n"
   ]
  },
  {
   "cell_type": "code",
   "execution_count": null,
   "id": "9242e9ea",
   "metadata": {},
   "outputs": [],
   "source": []
  },
  {
   "cell_type": "code",
   "execution_count": null,
   "id": "85a09b31",
   "metadata": {},
   "outputs": [],
   "source": []
  },
  {
   "cell_type": "code",
   "execution_count": null,
   "id": "c59a2f05",
   "metadata": {},
   "outputs": [],
   "source": []
  },
  {
   "cell_type": "code",
   "execution_count": null,
   "id": "1f401ea4",
   "metadata": {},
   "outputs": [],
   "source": []
  },
  {
   "cell_type": "code",
   "execution_count": null,
   "id": "8c1cd8bc",
   "metadata": {},
   "outputs": [],
   "source": []
  },
  {
   "cell_type": "code",
   "execution_count": null,
   "id": "820c94c1",
   "metadata": {},
   "outputs": [],
   "source": []
  },
  {
   "cell_type": "code",
   "execution_count": null,
   "id": "bec176fe",
   "metadata": {},
   "outputs": [],
   "source": []
  },
  {
   "cell_type": "code",
   "execution_count": null,
   "id": "fd901497",
   "metadata": {},
   "outputs": [],
   "source": []
  },
  {
   "cell_type": "code",
   "execution_count": null,
   "id": "ae099216",
   "metadata": {},
   "outputs": [],
   "source": []
  },
  {
   "cell_type": "code",
   "execution_count": null,
   "id": "0e3871d4",
   "metadata": {},
   "outputs": [],
   "source": []
  },
  {
   "cell_type": "code",
   "execution_count": null,
   "id": "e5849013",
   "metadata": {},
   "outputs": [],
   "source": []
  },
  {
   "cell_type": "code",
   "execution_count": null,
   "id": "8611543f",
   "metadata": {},
   "outputs": [],
   "source": []
  },
  {
   "cell_type": "code",
   "execution_count": null,
   "id": "9e240041",
   "metadata": {},
   "outputs": [],
   "source": []
  },
  {
   "cell_type": "code",
   "execution_count": null,
   "id": "3ec9fb9b",
   "metadata": {},
   "outputs": [],
   "source": []
  }
 ],
 "metadata": {
  "kernelspec": {
   "display_name": "Python 3 (ipykernel)",
   "language": "python",
   "name": "python3"
  },
  "language_info": {
   "codemirror_mode": {
    "name": "ipython",
    "version": 3
   },
   "file_extension": ".py",
   "mimetype": "text/x-python",
   "name": "python",
   "nbconvert_exporter": "python",
   "pygments_lexer": "ipython3",
   "version": "3.7.16"
  }
 },
 "nbformat": 4,
 "nbformat_minor": 5
}
