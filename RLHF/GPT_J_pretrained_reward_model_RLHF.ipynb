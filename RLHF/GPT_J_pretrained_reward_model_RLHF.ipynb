{
 "cells": [
  {
   "cell_type": "markdown",
   "id": "a26927d5",
   "metadata": {},
   "source": [
    "\n",
    "## RLHF\n",
    "\n",
    "* Ref: OpenAI, CarperAI, HF\n",
    "* GPT-J with pre-trained reward model\n"
   ]
  },
  {
   "cell_type": "code",
   "execution_count": 2,
   "id": "dce321de",
   "metadata": {},
   "outputs": [],
   "source": [
    "\n",
    "import os\n",
    "\n",
    "import torch\n",
    "from torch import nn\n",
    "from datasets import load_dataset\n",
    "from torch.utils.data import Dataset\n",
    "from torch.utils.data import DataLoader\n",
    "from tqdm import tqdm\n",
    "from transformers import AutoTokenizer, Trainer, TrainingArguments\n",
    "from transformers import AutoModelForCausalLM\n",
    "\n",
    "import random\n",
    "import numpy as np\n",
    "\n"
   ]
  },
  {
   "cell_type": "markdown",
   "id": "26a9e018",
   "metadata": {},
   "source": [
    "\n",
    "## Utility Functions\n"
   ]
  },
  {
   "cell_type": "code",
   "execution_count": 3,
   "id": "f616e295",
   "metadata": {},
   "outputs": [],
   "source": [
    "\n",
    "def create_comparison_dataset(path=\"CarperAI/openai_summarize_comparisons\", split=\"train\"):\n",
    "\n",
    "    dataset = load_dataset(path, split=split)\n",
    "    if split == \"test\":\n",
    "        dataset = dataset.select(range(5000))\n",
    " \n",
    "    pairs = []\n",
    "    for sample in tqdm(dataset):\n",
    "        pair = {}\n",
    "        prompt = sample[\"prompt\"]\n",
    "        chosen_summary = sample[\"chosen\"]\n",
    "        rejected_summary = sample[\"rejected\"]\n",
    "        if chosen_summary == rejected_summary:\n",
    "            continue\n",
    "        if len(chosen_summary.split()) < 5 or len(rejected_summary.split()) < 5:\n",
    "            continue\n",
    "        pair[\"chosen\"] = prompt + \"\\n\" + chosen_summary\n",
    "        pair[\"rejected\"] = prompt + \"\\n\" + rejected_summary\n",
    "        pairs.append(pair)\n",
    "    return pairs\n"
   ]
  },
  {
   "cell_type": "code",
   "execution_count": 4,
   "id": "2798a0f3",
   "metadata": {},
   "outputs": [],
   "source": [
    "\n",
    "def compute_metrics(eval_preds):\n",
    "    chosen_end_scores = eval_preds.predictions[0]  # chosen scores\n",
    "    rejected_end_scores = eval_preds.predictions[1]  # rejected scores\n",
    "\n",
    "    result = {}\n",
    "    acc = sum(chosen_end_scores > rejected_end_scores) / len(rejected_end_scores)\n",
    "    result[\"accuracy\"] = acc\n",
    "\n",
    "    return result\n"
   ]
  },
  {
   "cell_type": "code",
   "execution_count": 5,
   "id": "778d39d1",
   "metadata": {},
   "outputs": [],
   "source": [
    "\n",
    "def set_seed(seed_val=42):\n",
    "    random.seed(seed_val)\n",
    "    np.random.seed(seed_val)\n",
    "    torch.manual_seed(seed_val)\n",
    "    ## torch.cuda.manual_seed_all(seed_val) for GPU\n"
   ]
  },
  {
   "cell_type": "markdown",
   "id": "753dc5f9",
   "metadata": {},
   "source": [
    "\n",
    "## Classes\n"
   ]
  },
  {
   "cell_type": "code",
   "execution_count": 6,
   "id": "edf013f7",
   "metadata": {},
   "outputs": [],
   "source": [
    "\n",
    "\n",
    "\n",
    "class GPTRewardModel(nn.Module):\n",
    "    def __init__(self, model_path):\n",
    "        super().__init__()\n",
    "        model = AutoModelForCausalLM.from_pretrained(model_path)\n",
    "        self.config = model.config\n",
    "        # `gpt-neo(x)` models use `hidden_size` attribute names instead of `n_embd``\n",
    "        self.config.n_embd = self.config.hidden_size if hasattr(self.config, \"hidden_size\") else self.config.n_embd\n",
    "        self.transformer = model.transformer\n",
    "        self.v_head = nn.Linear(self.config.n_embd, 1, bias=False)\n",
    "        self.tokenizer = AutoTokenizer.from_pretrained(\"EleutherAI/gpt-j-6B\")\n",
    "        self.tokenizer.pad_token = self.tokenizer.eos_token\n",
    "        self.PAD_ID = self.tokenizer(self.tokenizer.pad_token)[\"input_ids\"][0]\n",
    "\n",
    "    def forward(\n",
    "        self,\n",
    "        input_ids=None,\n",
    "        past_key_values=None,\n",
    "        attention_mask=None,\n",
    "        token_type_ids=None,\n",
    "        position_ids=None,\n",
    "        head_mask=None,\n",
    "        inputs_embeds=None,\n",
    "        mc_token_ids=None,\n",
    "        labels=None,\n",
    "        return_dict=False,\n",
    "        output_attentions=False,\n",
    "        output_hidden_states=False,\n",
    "    ):\n",
    "        loss = None\n",
    "        transformer_outputs = self.transformer(\n",
    "            input_ids,\n",
    "            past_key_values=past_key_values,\n",
    "            attention_mask=attention_mask,\n",
    "            token_type_ids=token_type_ids,\n",
    "            position_ids=position_ids,\n",
    "            head_mask=head_mask,\n",
    "            inputs_embeds=inputs_embeds,\n",
    "        )\n",
    "\n",
    "        hidden_states = transformer_outputs[0]\n",
    "\n",
    "        rewards = self.v_head(hidden_states).squeeze(-1)\n",
    "        chosen_end_scores = []\n",
    "        rejected_end_scores = []\n",
    "\n",
    "        # Split the inputs and rewards into two parts, chosen and rejected\n",
    "        assert len(input_ids.shape) == 2\n",
    "        bs = input_ids.shape[0] // 2\n",
    "        chosen = input_ids[:bs]\n",
    "        rejected = input_ids[bs:]\n",
    "        chosen_rewards = rewards[:bs]\n",
    "        rejected_rewards = rewards[bs:]\n",
    "\n",
    "        loss = 0\n",
    "        inference = False\n",
    "        for i in range(bs):\n",
    "            if torch.all(torch.eq(chosen[i], rejected[i])).item():\n",
    "                c_inds = (chosen[i] == self.PAD_ID).nonzero()\n",
    "                c_ind = c_inds[0].item() if len(c_inds) > 0 else chosen.shape[1]\n",
    "                chosen_end_scores.append(chosen_rewards[i, c_ind - 1])\n",
    "                inference = True\n",
    "                continue\n",
    "\n",
    "            # Check if there is any padding otherwise take length of sequence\n",
    "            c_inds = (chosen[i] == self.PAD_ID).nonzero()\n",
    "            c_ind = c_inds[0].item() if len(c_inds) > 0 else chosen.shape[1]\n",
    "            r_inds = (rejected[i] == self.PAD_ID).nonzero()\n",
    "            r_ind = r_inds[0].item() if len(r_inds) > 0 else rejected.shape[1]\n",
    "            end_ind = max(c_ind, r_ind)\n",
    "\n",
    "            # Retrieve first index where trajectories diverge\n",
    "            divergence_ind = (chosen[i] != rejected[i]).nonzero()[0]\n",
    "            assert divergence_ind > 0\n",
    "\n",
    "            # Index into the correct rewards\n",
    "            c_truncated_reward = chosen_rewards[i][divergence_ind:end_ind]\n",
    "            r_truncated_reward = rejected_rewards[i][divergence_ind:end_ind]\n",
    "\n",
    "            # Append the last rewards to the list of end scores\n",
    "            chosen_end_scores.append(c_truncated_reward[-1])\n",
    "            rejected_end_scores.append(r_truncated_reward[-1])\n",
    "\n",
    "            # Compute loss based on truncated rewards (ignore padding)\n",
    "            loss += -torch.log(torch.sigmoid(c_truncated_reward - r_truncated_reward)).mean()\n",
    "        loss = loss / bs\n",
    "\n",
    "        if not inference:\n",
    "            chosen_end_scores = torch.stack(chosen_end_scores)\n",
    "            rejected_end_scores = torch.stack(rejected_end_scores)\n",
    "\n",
    "        if inference:\n",
    "            chosen_end_scores = torch.stack(chosen_end_scores)\n",
    "            return {\"chosen_end_scores\": chosen_end_scores}\n",
    "\n",
    "        return {\n",
    "            \"loss\": loss,\n",
    "            \"chosen_end_scores\": chosen_end_scores,\n",
    "            \"rejected_end_scores\": rejected_end_scores,\n",
    "        }\n"
   ]
  },
  {
   "cell_type": "code",
   "execution_count": 7,
   "id": "d5cd0703",
   "metadata": {},
   "outputs": [],
   "source": [
    "\n",
    "class DataCollatorReward:\n",
    "    def __call__(self, data):\n",
    "        batch = {}\n",
    "        batch[\"input_ids\"] = torch.cat([f[0] for f in data] + [f[2] for f in data])\n",
    "        batch[\"attention_mask\"] = torch.cat([f[1] for f in data] + [f[3] for f in data])\n",
    "        batch[\"labels\"] = torch.tensor([0] * len(data) + [1] * len(data))\n",
    "        return batch\n",
    "    \n"
   ]
  },
  {
   "cell_type": "code",
   "execution_count": 8,
   "id": "f7feeca6",
   "metadata": {},
   "outputs": [],
   "source": [
    "\n",
    "\n",
    "\n",
    "class PairwiseDataset(Dataset):\n",
    "    def __init__(self, pairs, tokenizer, max_length):\n",
    "        self.chosen_input_ids = []\n",
    "        self.chosen_attn_masks = []\n",
    "        self.rejected_input_ids = []\n",
    "        self.rejected_attn_masks = []\n",
    "        for pair in tqdm(pairs):\n",
    "            ## for pair in pairs:\n",
    "            chosen, rejected = pair[\"chosen\"], pair[\"rejected\"]\n",
    "            chosen_encodings_dict = tokenizer(\n",
    "                \"<|startoftext|>\" + chosen + \"<|endoftext|>\",\n",
    "                truncation=True,\n",
    "                max_length=max_length,\n",
    "                padding=\"max_length\",\n",
    "                return_tensors=\"pt\",\n",
    "            )\n",
    "            rejected_encodings_dict = tokenizer(\n",
    "                \"<|startoftext|>\" + rejected + \"<|endoftext|>\",\n",
    "                truncation=True,\n",
    "                max_length=max_length,\n",
    "                padding=\"max_length\",\n",
    "                return_tensors=\"pt\",\n",
    "            )\n",
    "            if not torch.all(torch.eq(chosen_encodings_dict[\"input_ids\"], rejected_encodings_dict[\"input_ids\"])).item():\n",
    "                self.chosen_input_ids.append(chosen_encodings_dict[\"input_ids\"])\n",
    "                self.chosen_attn_masks.append(chosen_encodings_dict[\"attention_mask\"])\n",
    "                self.rejected_input_ids.append(rejected_encodings_dict[\"input_ids\"])\n",
    "                self.rejected_attn_masks.append(rejected_encodings_dict[\"attention_mask\"])\n",
    "\n",
    "    def __len__(self):\n",
    "        return len(self.chosen_input_ids)\n",
    "\n",
    "    def __getitem__(self, idx):\n",
    "        return (\n",
    "            self.chosen_input_ids[idx],\n",
    "            self.chosen_attn_masks[idx],\n",
    "            self.rejected_input_ids[idx],\n",
    "            self.rejected_attn_masks[idx],\n",
    "        )\n",
    "\n",
    "\n"
   ]
  },
  {
   "cell_type": "markdown",
   "id": "ada89927",
   "metadata": {},
   "source": [
    "\n",
    "## Tokenizers\n"
   ]
  },
  {
   "cell_type": "code",
   "execution_count": 9,
   "id": "b4b357a0",
   "metadata": {},
   "outputs": [],
   "source": [
    "\n",
    "tokenizer           = AutoTokenizer.from_pretrained(\"EleutherAI/gpt-j-6B\")\n",
    "tokenizer.pad_token = tokenizer.eos_token\n"
   ]
  },
  {
   "cell_type": "code",
   "execution_count": 10,
   "id": "13bf683d",
   "metadata": {},
   "outputs": [],
   "source": [
    "\n",
    "if not os.path.exists(\"reward_model_checkpoint\"):\n",
    "    os.mkdir(\"reward_model_checkpoint\")\n"
   ]
  },
  {
   "cell_type": "markdown",
   "id": "383e4001",
   "metadata": {},
   "source": [
    "\n",
    "## Training Arguments\n"
   ]
  },
  {
   "cell_type": "code",
   "execution_count": 11,
   "id": "50acf688",
   "metadata": {},
   "outputs": [],
   "source": [
    "\n",
    "\n",
    "training_args = TrainingArguments(\n",
    "    output_dir                    =\"reward_model_checkpoint/\",\n",
    "    num_train_epochs              = 1,\n",
    "    logging_steps                 = 10,\n",
    "    gradient_accumulation_steps   = 4,\n",
    "    save_strategy                 = \"steps\",\n",
    "    evaluation_strategy           = \"steps\",\n",
    "    per_device_train_batch_size   = 1,\n",
    "    per_device_eval_batch_size    = 1,\n",
    "    eval_accumulation_steps       = 1,\n",
    "    eval_steps                    = 500,\n",
    "    save_steps                    = 500,\n",
    "    warmup_steps                  = 100,\n",
    "    logging_dir                   = \"./logs\",\n",
    "    ## fp16                       = True,\n",
    "    ## bf16                       = False,\n",
    "    learning_rate                 = 1e-5,\n",
    "    ## deepspeed                  = \"ds_config_gpt_j.json\",\n",
    "    ## save_total_limit           = 1,\n",
    "    no_cuda                       = True\n",
    ")\n"
   ]
  },
  {
   "cell_type": "markdown",
   "id": "57242d78",
   "metadata": {},
   "source": [
    "\n",
    "## Reward Model\n"
   ]
  },
  {
   "cell_type": "code",
   "execution_count": 12,
   "id": "27f7fcf8",
   "metadata": {},
   "outputs": [
    {
     "data": {
      "application/vnd.jupyter.widget-view+json": {
       "model_id": "32b2094199aa4d32b6713c3a2775fdfd",
       "version_major": 2,
       "version_minor": 0
      },
      "text/plain": [
       "Loading checkpoint shards:   0%|          | 0/3 [00:00<?, ?it/s]"
      ]
     },
     "metadata": {},
     "output_type": "display_data"
    }
   ],
   "source": [
    "\n",
    "# Initialize the reward model from the (supervised) fine-tuned GPT-J\n",
    "\n",
    "model = GPTRewardModel(\"CarperAI/openai_summarize_tldr_sft\")\n"
   ]
  },
  {
   "cell_type": "markdown",
   "id": "fb11e1f9",
   "metadata": {},
   "source": [
    "\n",
    "## Freeze the first 70% of the hidden layers of the reward model \n"
   ]
  },
  {
   "cell_type": "code",
   "execution_count": 14,
   "id": "45527001",
   "metadata": {},
   "outputs": [
    {
     "data": {
      "text/plain": [
       "28"
      ]
     },
     "execution_count": 14,
     "metadata": {},
     "output_type": "execute_result"
    }
   ],
   "source": [
    "\n",
    "layers       = model.transformer.h\n",
    "num_layers   = len( layers )\n",
    "\n",
    "num_layers \n"
   ]
  },
  {
   "cell_type": "code",
   "execution_count": 15,
   "id": "742d1624",
   "metadata": {},
   "outputs": [],
   "source": [
    "\n",
    "num_unfrozen = int(0.3 * num_layers)\n",
    "\n",
    "for layer in layers[:-num_unfrozen]:\n",
    "    layer.requires_grad_(False)\n"
   ]
  },
  {
   "cell_type": "markdown",
   "id": "0f3df9d5",
   "metadata": {},
   "source": [
    "\n",
    "## Create the comparisons datasets\n"
   ]
  },
  {
   "cell_type": "code",
   "execution_count": 16,
   "id": "93c15afd",
   "metadata": {},
   "outputs": [
    {
     "name": "stderr",
     "output_type": "stream",
     "text": [
      "Found cached dataset parquet (/Users/user/.cache/huggingface/datasets/CarperAI___parquet/CarperAI--openai_summarize_comparisons-be6a3808a629348d/0.0.0/14a00e99c0d15a23649d0db8944380ac81082d4b021f398733dd84f3a6c569a7)\n",
      "100%|██████████████████████████████████████████████████████████| 92534/92534 [00:03<00:00, 28733.43it/s]\n",
      "Found cached dataset parquet (/Users/user/.cache/huggingface/datasets/CarperAI___parquet/CarperAI--openai_summarize_comparisons-be6a3808a629348d/0.0.0/14a00e99c0d15a23649d0db8944380ac81082d4b021f398733dd84f3a6c569a7)\n",
      "100%|████████████████████████████████████████████████████████████| 5000/5000 [00:00<00:00, 29029.94it/s]\n"
     ]
    }
   ],
   "source": [
    "\n",
    "    \n",
    "data_path   = \"CarperAI/openai_summarize_comparisons\"\n",
    "\n",
    "train_pairs = create_comparison_dataset(data_path, \"train\" )\n",
    "val_pairs   = create_comparison_dataset(data_path, \"test\"  )\n",
    "\n"
   ]
  },
  {
   "cell_type": "markdown",
   "id": "a16d11be",
   "metadata": {},
   "source": [
    "\n",
    "## Make pairwise datasets for training\n"
   ]
  },
  {
   "cell_type": "code",
   "execution_count": 17,
   "id": "9491d093",
   "metadata": {},
   "outputs": [
    {
     "name": "stderr",
     "output_type": "stream",
     "text": [
      "100%|████████████████████████████████████████████████████████████| 92534/92534 [02:47<00:00, 553.72it/s]\n",
      "100%|██████████████████████████████████████████████████████████████| 5000/5000 [00:08<00:00, 565.27it/s]\n"
     ]
    }
   ],
   "source": [
    "\n",
    "max_length    = 550\n",
    "\n",
    "train_dataset = PairwiseDataset(train_pairs, tokenizer, max_length=max_length)\n",
    "val_dataset   = PairwiseDataset(val_pairs,   tokenizer, max_length=max_length)\n"
   ]
  },
  {
   "cell_type": "markdown",
   "id": "1060982e",
   "metadata": {},
   "source": [
    "\n",
    "## Create the collator to gather batches of pairwise comparisons\n"
   ]
  },
  {
   "cell_type": "code",
   "execution_count": 18,
   "id": "4837527d",
   "metadata": {},
   "outputs": [],
   "source": [
    "\n",
    "   \n",
    "data_collator = DataCollatorReward()\n"
   ]
  },
  {
   "cell_type": "markdown",
   "id": "99979b70",
   "metadata": {},
   "source": [
    "\n",
    "## Train with pure PyTorch and HF trainer\n"
   ]
  },
  {
   "cell_type": "code",
   "execution_count": 19,
   "id": "58b49a6f",
   "metadata": {},
   "outputs": [],
   "source": [
    "\n",
    "trainer_rc = Trainer(\n",
    "    model              = model,\n",
    "    args               = training_args,\n",
    "    train_dataset      = train_dataset,\n",
    "    compute_metrics    = compute_metrics,\n",
    "    eval_dataset       = val_dataset,\n",
    "    data_collator      = data_collator,\n",
    ")\n"
   ]
  },
  {
   "cell_type": "code",
   "execution_count": null,
   "id": "37ffc7f3",
   "metadata": {},
   "outputs": [],
   "source": [
    "\n",
    "trainer_rc.train()\n"
   ]
  },
  {
   "cell_type": "markdown",
   "id": "1644b1da",
   "metadata": {},
   "source": [
    "\n",
    "## Inference\n"
   ]
  },
  {
   "cell_type": "code",
   "execution_count": null,
   "id": "6d2580a3",
   "metadata": {},
   "outputs": [],
   "source": [
    "\n",
    "tokenizer           = AutoTokenizer.from_pretrained(\"EleutherAI/gpt-j-6B\")\n",
    "tokenizer.pad_token = tokenizer.eos_token\n",
    "PAD_ID              = tokenizer(tokenizer.pad_token)[\"input_ids\"][0]\n"
   ]
  },
  {
   "cell_type": "code",
   "execution_count": null,
   "id": "552e9e3a",
   "metadata": {},
   "outputs": [],
   "source": [
    "\n",
    "model = GPTRewardModel(\"CarperAI/openai_summarize_tldr_sft\")\n",
    "model.load_state_dict( torch.load(\"rm_checkpoint/pytorch_model.bin\") )\n"
   ]
  },
  {
   "cell_type": "code",
   "execution_count": null,
   "id": "3aa1843b",
   "metadata": {},
   "outputs": [],
   "source": [
    "\n",
    "max_length = 550\n",
    "\n",
    "val_pairs   = create_comparison_dataset(\"CarperAI/openai_summarize_comparisons\", \"test\")\n",
    "\n",
    "dev_dataset = PairwiseDataset(val_pairs, tokenizer, max_length=max_length)\n",
    "\n"
   ]
  },
  {
   "cell_type": "code",
   "execution_count": null,
   "id": "89b54693",
   "metadata": {},
   "outputs": [],
   "source": [
    "\n",
    "dev_dataloader = DataLoader(dev_dataset, shuffle=False, batch_size=6, collate_fn=DataCollatorReward())\n"
   ]
  },
  {
   "cell_type": "code",
   "execution_count": null,
   "id": "e0190b9a",
   "metadata": {},
   "outputs": [],
   "source": [
    "\n",
    "## model.cuda()\n",
    "\n",
    "model.eval()\n",
    "model.half()\n"
   ]
  },
  {
   "cell_type": "code",
   "execution_count": null,
   "id": "bc437a3b",
   "metadata": {},
   "outputs": [],
   "source": [
    "\n",
    "correct     = 0\n",
    "chosen_list = []\n",
    "reject_list = []\n"
   ]
  },
  {
   "cell_type": "code",
   "execution_count": null,
   "id": "3d6e6a77",
   "metadata": {},
   "outputs": [],
   "source": [
    "\n",
    "\n",
    "with torch.no_grad():\n",
    "    for step, batch in tqdm(enumerate(dev_dataloader), total=len(dev_dataloader)):\n",
    "        for x in batch:\n",
    "            batch[x] = batch[x]           ## .cuda()\n",
    "        outputs = model(**batch)\n",
    "        correct += sum(outputs[\"chosen_end_scores\"] > outputs[\"rejected_end_scores\"])\n",
    "        chosen_list.append(outputs[\"chosen_end_scores\"].cpu())\n",
    "        reject_list.append(outputs[\"rejected_end_scores\"].cpu())\n",
    "\n"
   ]
  },
  {
   "cell_type": "code",
   "execution_count": null,
   "id": "39ffecc4",
   "metadata": {},
   "outputs": [],
   "source": [
    "\n",
    "print(\"Total accuracy: \", correct / len(dev_dataset))\n"
   ]
  },
  {
   "cell_type": "code",
   "execution_count": null,
   "id": "e97d65d2",
   "metadata": {},
   "outputs": [],
   "source": []
  },
  {
   "cell_type": "code",
   "execution_count": null,
   "id": "8f2f133d",
   "metadata": {},
   "outputs": [],
   "source": []
  },
  {
   "cell_type": "code",
   "execution_count": null,
   "id": "4b758e7f",
   "metadata": {},
   "outputs": [],
   "source": []
  },
  {
   "cell_type": "code",
   "execution_count": null,
   "id": "f1c77c05",
   "metadata": {},
   "outputs": [],
   "source": []
  },
  {
   "cell_type": "code",
   "execution_count": null,
   "id": "85a8668e",
   "metadata": {},
   "outputs": [],
   "source": []
  },
  {
   "cell_type": "code",
   "execution_count": null,
   "id": "b08e8279",
   "metadata": {},
   "outputs": [],
   "source": []
  },
  {
   "cell_type": "code",
   "execution_count": null,
   "id": "ae10cf10",
   "metadata": {},
   "outputs": [],
   "source": []
  },
  {
   "cell_type": "code",
   "execution_count": null,
   "id": "12098352",
   "metadata": {},
   "outputs": [],
   "source": []
  },
  {
   "cell_type": "code",
   "execution_count": null,
   "id": "1c2c2b80",
   "metadata": {},
   "outputs": [],
   "source": []
  },
  {
   "cell_type": "code",
   "execution_count": null,
   "id": "16430d65",
   "metadata": {},
   "outputs": [],
   "source": []
  },
  {
   "cell_type": "code",
   "execution_count": null,
   "id": "b9bcccb7",
   "metadata": {},
   "outputs": [],
   "source": []
  }
 ],
 "metadata": {
  "kernelspec": {
   "display_name": "Python 3 (ipykernel)",
   "language": "python",
   "name": "python3"
  },
  "language_info": {
   "codemirror_mode": {
    "name": "ipython",
    "version": 3
   },
   "file_extension": ".py",
   "mimetype": "text/x-python",
   "name": "python",
   "nbconvert_exporter": "python",
   "pygments_lexer": "ipython3",
   "version": "3.7.16"
  }
 },
 "nbformat": 4,
 "nbformat_minor": 5
}
